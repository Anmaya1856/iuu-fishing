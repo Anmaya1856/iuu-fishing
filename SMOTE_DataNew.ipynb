{
  "cells": [
    {
      "cell_type": "markdown",
      "metadata": {
        "id": "j3dKmFb1fDL-"
      },
      "source": [
        "# Importing Dataset and pre processing"
      ]
    },
    {
      "cell_type": "code",
      "execution_count": 1,
      "metadata": {
        "colab": {
          "base_uri": "https://localhost:8080/",
          "height": 267
        },
        "id": "W0XR2-q8fDMD",
        "outputId": "c7cdc046-a8c2-49a4-cf02-b371c8343844"
      },
      "outputs": [
        {
          "output_type": "execute_result",
          "data": {
            "text/plain": [
              "   gap_hours  iuu_caught  spherical_distances  eez_check  \\\n",
              "0  13.016667           0           207.942845          0   \n",
              "1  13.850000           0             9.704232          0   \n",
              "2  33.733333           0            10.789069          1   \n",
              "3  30.650000           0            11.695860          1   \n",
              "4  50.283333           0            93.113335          1   \n",
              "\n",
              "  exact _name new from diff Oceans      gear type      speed  \\\n",
              "0             North Atlantic Ocean  pole_and_line  15.975123   \n",
              "1             South Atlantic Ocean        fishing   0.700667   \n",
              "2             North Atlantic Ocean  pole_and_line   0.319834   \n",
              "3             North Atlantic Ocean  pole_and_line   0.381594   \n",
              "4             North Atlantic Ocean  pole_and_line   1.851773   \n",
              "\n",
              "  ais_disable_time_division  \n",
              "0                   Morning  \n",
              "1                      Dawn  \n",
              "2                      Dawn  \n",
              "3                 Afternoon  \n",
              "4                 Afternoon  "
            ],
            "text/html": [
              "\n",
              "  <div id=\"df-84a4be4d-dff0-4663-a3c6-c092eb1cad66\">\n",
              "    <div class=\"colab-df-container\">\n",
              "      <div>\n",
              "<style scoped>\n",
              "    .dataframe tbody tr th:only-of-type {\n",
              "        vertical-align: middle;\n",
              "    }\n",
              "\n",
              "    .dataframe tbody tr th {\n",
              "        vertical-align: top;\n",
              "    }\n",
              "\n",
              "    .dataframe thead th {\n",
              "        text-align: right;\n",
              "    }\n",
              "</style>\n",
              "<table border=\"1\" class=\"dataframe\">\n",
              "  <thead>\n",
              "    <tr style=\"text-align: right;\">\n",
              "      <th></th>\n",
              "      <th>gap_hours</th>\n",
              "      <th>iuu_caught</th>\n",
              "      <th>spherical_distances</th>\n",
              "      <th>eez_check</th>\n",
              "      <th>exact _name new from diff Oceans</th>\n",
              "      <th>gear type</th>\n",
              "      <th>speed</th>\n",
              "      <th>ais_disable_time_division</th>\n",
              "    </tr>\n",
              "  </thead>\n",
              "  <tbody>\n",
              "    <tr>\n",
              "      <th>0</th>\n",
              "      <td>13.016667</td>\n",
              "      <td>0</td>\n",
              "      <td>207.942845</td>\n",
              "      <td>0</td>\n",
              "      <td>North Atlantic Ocean</td>\n",
              "      <td>pole_and_line</td>\n",
              "      <td>15.975123</td>\n",
              "      <td>Morning</td>\n",
              "    </tr>\n",
              "    <tr>\n",
              "      <th>1</th>\n",
              "      <td>13.850000</td>\n",
              "      <td>0</td>\n",
              "      <td>9.704232</td>\n",
              "      <td>0</td>\n",
              "      <td>South Atlantic Ocean</td>\n",
              "      <td>fishing</td>\n",
              "      <td>0.700667</td>\n",
              "      <td>Dawn</td>\n",
              "    </tr>\n",
              "    <tr>\n",
              "      <th>2</th>\n",
              "      <td>33.733333</td>\n",
              "      <td>0</td>\n",
              "      <td>10.789069</td>\n",
              "      <td>1</td>\n",
              "      <td>North Atlantic Ocean</td>\n",
              "      <td>pole_and_line</td>\n",
              "      <td>0.319834</td>\n",
              "      <td>Dawn</td>\n",
              "    </tr>\n",
              "    <tr>\n",
              "      <th>3</th>\n",
              "      <td>30.650000</td>\n",
              "      <td>0</td>\n",
              "      <td>11.695860</td>\n",
              "      <td>1</td>\n",
              "      <td>North Atlantic Ocean</td>\n",
              "      <td>pole_and_line</td>\n",
              "      <td>0.381594</td>\n",
              "      <td>Afternoon</td>\n",
              "    </tr>\n",
              "    <tr>\n",
              "      <th>4</th>\n",
              "      <td>50.283333</td>\n",
              "      <td>0</td>\n",
              "      <td>93.113335</td>\n",
              "      <td>1</td>\n",
              "      <td>North Atlantic Ocean</td>\n",
              "      <td>pole_and_line</td>\n",
              "      <td>1.851773</td>\n",
              "      <td>Afternoon</td>\n",
              "    </tr>\n",
              "  </tbody>\n",
              "</table>\n",
              "</div>\n",
              "      <button class=\"colab-df-convert\" onclick=\"convertToInteractive('df-84a4be4d-dff0-4663-a3c6-c092eb1cad66')\"\n",
              "              title=\"Convert this dataframe to an interactive table.\"\n",
              "              style=\"display:none;\">\n",
              "        \n",
              "  <svg xmlns=\"http://www.w3.org/2000/svg\" height=\"24px\"viewBox=\"0 0 24 24\"\n",
              "       width=\"24px\">\n",
              "    <path d=\"M0 0h24v24H0V0z\" fill=\"none\"/>\n",
              "    <path d=\"M18.56 5.44l.94 2.06.94-2.06 2.06-.94-2.06-.94-.94-2.06-.94 2.06-2.06.94zm-11 1L8.5 8.5l.94-2.06 2.06-.94-2.06-.94L8.5 2.5l-.94 2.06-2.06.94zm10 10l.94 2.06.94-2.06 2.06-.94-2.06-.94-.94-2.06-.94 2.06-2.06.94z\"/><path d=\"M17.41 7.96l-1.37-1.37c-.4-.4-.92-.59-1.43-.59-.52 0-1.04.2-1.43.59L10.3 9.45l-7.72 7.72c-.78.78-.78 2.05 0 2.83L4 21.41c.39.39.9.59 1.41.59.51 0 1.02-.2 1.41-.59l7.78-7.78 2.81-2.81c.8-.78.8-2.07 0-2.86zM5.41 20L4 18.59l7.72-7.72 1.47 1.35L5.41 20z\"/>\n",
              "  </svg>\n",
              "      </button>\n",
              "      \n",
              "  <style>\n",
              "    .colab-df-container {\n",
              "      display:flex;\n",
              "      flex-wrap:wrap;\n",
              "      gap: 12px;\n",
              "    }\n",
              "\n",
              "    .colab-df-convert {\n",
              "      background-color: #E8F0FE;\n",
              "      border: none;\n",
              "      border-radius: 50%;\n",
              "      cursor: pointer;\n",
              "      display: none;\n",
              "      fill: #1967D2;\n",
              "      height: 32px;\n",
              "      padding: 0 0 0 0;\n",
              "      width: 32px;\n",
              "    }\n",
              "\n",
              "    .colab-df-convert:hover {\n",
              "      background-color: #E2EBFA;\n",
              "      box-shadow: 0px 1px 2px rgba(60, 64, 67, 0.3), 0px 1px 3px 1px rgba(60, 64, 67, 0.15);\n",
              "      fill: #174EA6;\n",
              "    }\n",
              "\n",
              "    [theme=dark] .colab-df-convert {\n",
              "      background-color: #3B4455;\n",
              "      fill: #D2E3FC;\n",
              "    }\n",
              "\n",
              "    [theme=dark] .colab-df-convert:hover {\n",
              "      background-color: #434B5C;\n",
              "      box-shadow: 0px 1px 3px 1px rgba(0, 0, 0, 0.15);\n",
              "      filter: drop-shadow(0px 1px 2px rgba(0, 0, 0, 0.3));\n",
              "      fill: #FFFFFF;\n",
              "    }\n",
              "  </style>\n",
              "\n",
              "      <script>\n",
              "        const buttonEl =\n",
              "          document.querySelector('#df-84a4be4d-dff0-4663-a3c6-c092eb1cad66 button.colab-df-convert');\n",
              "        buttonEl.style.display =\n",
              "          google.colab.kernel.accessAllowed ? 'block' : 'none';\n",
              "\n",
              "        async function convertToInteractive(key) {\n",
              "          const element = document.querySelector('#df-84a4be4d-dff0-4663-a3c6-c092eb1cad66');\n",
              "          const dataTable =\n",
              "            await google.colab.kernel.invokeFunction('convertToInteractive',\n",
              "                                                     [key], {});\n",
              "          if (!dataTable) return;\n",
              "\n",
              "          const docLinkHtml = 'Like what you see? Visit the ' +\n",
              "            '<a target=\"_blank\" href=https://colab.research.google.com/notebooks/data_table.ipynb>data table notebook</a>'\n",
              "            + ' to learn more about interactive tables.';\n",
              "          element.innerHTML = '';\n",
              "          dataTable['output_type'] = 'display_data';\n",
              "          await google.colab.output.renderOutput(dataTable, element);\n",
              "          const docLink = document.createElement('div');\n",
              "          docLink.innerHTML = docLinkHtml;\n",
              "          element.appendChild(docLink);\n",
              "        }\n",
              "      </script>\n",
              "    </div>\n",
              "  </div>\n",
              "  "
            ]
          },
          "metadata": {},
          "execution_count": 1
        }
      ],
      "source": [
        "import pandas as pd\n",
        "df=pd.read_csv('ais_disabling_events_final.csv')\n",
        "df = df.drop('score', axis=1)\n",
        "df.head()"
      ]
    },
    {
      "cell_type": "code",
      "execution_count": 2,
      "metadata": {
        "colab": {
          "base_uri": "https://localhost:8080/"
        },
        "id": "LV4xM8xNfDMF",
        "outputId": "d4571fbb-1efe-4138-8e8e-e4632fd63f34"
      },
      "outputs": [
        {
          "output_type": "execute_result",
          "data": {
            "text/plain": [
              "(55368, 8)"
            ]
          },
          "metadata": {},
          "execution_count": 2
        }
      ],
      "source": [
        "df.shape"
      ]
    },
    {
      "cell_type": "code",
      "execution_count": 3,
      "metadata": {
        "colab": {
          "base_uri": "https://localhost:8080/"
        },
        "id": "u57ZoDMefDMG",
        "outputId": "58256d76-6dbd-4a1d-c6d2-a42507ab299d"
      },
      "outputs": [
        {
          "output_type": "execute_result",
          "data": {
            "text/plain": [
              "0    55129\n",
              "1      239\n",
              "Name: iuu_caught, dtype: int64"
            ]
          },
          "metadata": {},
          "execution_count": 3
        }
      ],
      "source": [
        "df['iuu_caught'].value_counts()"
      ]
    },
    {
      "cell_type": "code",
      "source": [
        "import seaborn as sns\n",
        "\n",
        "sns.lmplot(x='gap_hours', y='spherical_distances', hue='iuu_caught', \n",
        "           markers=['x', 'o'],\n",
        "           fit_reg=False, data=df)"
      ],
      "metadata": {
        "colab": {
          "base_uri": "https://localhost:8080/",
          "height": 386
        },
        "id": "AIugNCCN1Zxz",
        "outputId": "a9b20c3c-856b-4915-aaae-e796468645bb"
      },
      "execution_count": 4,
      "outputs": [
        {
          "output_type": "execute_result",
          "data": {
            "text/plain": [
              "<seaborn.axisgrid.FacetGrid at 0x7f6441ac1250>"
            ]
          },
          "metadata": {},
          "execution_count": 4
        },
        {
          "output_type": "display_data",
          "data": {
            "text/plain": [
              "<Figure size 423.25x360 with 1 Axes>"
            ],
            "image/png": "[encoded data removed]"
          },
          "metadata": {
            "needs_background": "light"
          }
        }
      ]
    },
    {
      "cell_type": "code",
      "source": [
        "index_names = df[df['gap_hours'] >= 5000].index\n",
        "df.drop(index_names, inplace = True)\n",
        "\n",
        "index_names = df[df['spherical_distances'] >= 7000].index\n",
        "df.drop(index_names, inplace = True)"
      ],
      "metadata": {
        "id": "_lPooqKfCSqZ"
      },
      "execution_count": 5,
      "outputs": []
    },
    {
      "cell_type": "code",
      "source": [
        "import seaborn as sns\n",
        "\n",
        "sns.lmplot(x='gap_hours', y='spherical_distances', hue='iuu_caught', \n",
        "           markers=['x', 'o'],\n",
        "           fit_reg=False, data=df)"
      ],
      "metadata": {
        "colab": {
          "base_uri": "https://localhost:8080/",
          "height": 386
        },
        "id": "OhSSdRauCqaU",
        "outputId": "acd6b46a-b0bc-486b-9b02-b4f20a22aa87"
      },
      "execution_count": 6,
      "outputs": [
        {
          "output_type": "execute_result",
          "data": {
            "text/plain": [
              "<seaborn.axisgrid.FacetGrid at 0x7f6437c83d00>"
            ]
          },
          "metadata": {},
          "execution_count": 6
        },
        {
          "output_type": "display_data",
          "data": {
            "text/plain": [
              "<Figure size 423.25x360 with 1 Axes>"
            ],
            "image/png": "[encoded data removed]"
          },
          "metadata": {
            "needs_background": "light"
          }
        }
      ]
    },
    {
      "cell_type": "code",
      "source": [
        "import pandas as pd\n",
        "import numpy as np\n",
        "import matplotlib.pyplot as plt\n",
        "import seaborn as sns\n",
        "\n",
        "# run correlation matrix and plot\n",
        "f, ax = plt.subplots(figsize=(10, 8))\n",
        "corr = df.corr()\n",
        "sns.heatmap(corr, mask=np.zeros_like(corr, dtype=np.bool),\n",
        "            cmap=sns.diverging_palette(220, 10, as_cmap=True),\n",
        "            square=True, ax=ax)\n",
        "\n",
        "\n",
        "matrix = df.corr()\n",
        "print(\"Correlation matrix is : \")\n",
        "print(matrix)"
      ],
      "metadata": {
        "colab": {
          "base_uri": "https://localhost:8080/",
          "height": 803
        },
        "id": "xWst-loT9bUO",
        "outputId": "7295b48e-b417-4f6f-c3e3-f7b2ec38e531"
      },
      "execution_count": 7,
      "outputs": [
        {
          "output_type": "stream",
          "name": "stderr",
          "text": [
            "<ipython-input-7-d755c1f20fae>:9: DeprecationWarning: `np.bool` is a deprecated alias for the builtin `bool`. To silence this warning, use `bool` by itself. Doing this will not modify any behavior and is safe. If you specifically wanted the numpy scalar type, use `np.bool_` here.\n",
            "Deprecated in NumPy 1.20; for more details and guidance: https://numpy.org/devdocs/release/1.20.0-notes.html#deprecations\n",
            "  sns.heatmap(corr, mask=np.zeros_like(corr, dtype=np.bool),\n"
          ]
        },
        {
          "output_type": "stream",
          "name": "stdout",
          "text": [
            "Correlation matrix is : \n",
            "                     gap_hours  iuu_caught  spherical_distances  eez_check  \\\n",
            "gap_hours             1.000000    0.026771             0.432375   0.036147   \n",
            "iuu_caught            0.026771    1.000000             0.021905  -0.013338   \n",
            "spherical_distances   0.432375    0.021905             1.000000   0.065051   \n",
            "eez_check             0.036147   -0.013338             0.065051   1.000000   \n",
            "speed                -0.124339   -0.003477             0.357743   0.083598   \n",
            "\n",
            "                        speed  \n",
            "gap_hours           -0.124339  \n",
            "iuu_caught          -0.003477  \n",
            "spherical_distances  0.357743  \n",
            "eez_check            0.083598  \n",
            "speed                1.000000  \n"
          ]
        },
        {
          "output_type": "display_data",
          "data": {
            "text/plain": [
              "<Figure size 720x576 with 2 Axes>"
            ],
            "image/png": "[encoded data removed]"
          },
          "metadata": {
            "needs_background": "light"
          }
        }
      ]
    },
    {
      "cell_type": "markdown",
      "source": [
        "## One Hot Encoding\n"
      ],
      "metadata": {
        "id": "vbqkc3pmydxl"
      }
    },
    {
      "cell_type": "code",
      "source": [
        "print(df['gear type'].unique())\n",
        "print(df['exact _name new from diff Oceans'].unique())\n",
        "print(df['ais_disable_time_division'].unique())"
      ],
      "metadata": {
        "colab": {
          "base_uri": "https://localhost:8080/"
        },
        "id": "yyMFweZYi5-T",
        "outputId": "49f351bc-0ff9-459e-d0f0-bb9f85aeaae9"
      },
      "execution_count": 8,
      "outputs": [
        {
          "output_type": "stream",
          "name": "stdout",
          "text": [
            "['pole_and_line' 'fishing' 'set_longlines' 'fixed_gear' 'set_gillnets'\n",
            " 'pots_and_traps' 'seiners' 'other_purse_seines' 'purse_seines' 'trollers'\n",
            " 'dredge_fishing' 'drifting_longlines' 'other' 'trawlers' 'other_seines'\n",
            " 'squid_jigger' 'tuna_purse_seines']\n",
            "['North Atlantic Ocean' 'South Atlantic Ocean' 'Celtic Sea'\n",
            " 'Southern Ocean' 'Mediterranean Sea - Eastern Basin' 'Norwegian Sea'\n",
            " 'Barentsz Sea' 'Sea of Okhotsk' 'Japan Sea' 'Bering Sea' 'Gulf of Alaska'\n",
            " 'Labrador Sea' 'Davis Strait' 'North Pacific Ocean' 'South Pacific Ocean'\n",
            " 'Arafura Sea' 'Arabian Sea' 'Indian Ocean' 'Tasman Sea' 'Bismarck Sea'\n",
            " 'Gulf of Guinea' 'Coral Sea' 'Bay of Bengal' 'Great Australian Bight'\n",
            " 'Mozambique Channel' 'Caribbean Sea' 'Philippine Sea' 'Timor Sea'\n",
            " 'Greenland Sea' 'North Sea' 'Laccadive Sea' 'Bass Strait'\n",
            " 'Gulf of St. Lawrence' 'Baffin Bay' 'Gulf of Mexico' 'Solomon Sea']\n",
            "['Morning' 'Dawn' 'Afternoon' 'Night' 'Twilight' 'Evening']\n"
          ]
        }
      ]
    },
    {
      "cell_type": "code",
      "source": [
        "print(df['gear type'].value_counts())\n",
        "print(df['exact _name new from diff Oceans'].value_counts())\n",
        "print(df['ais_disable_time_division'].value_counts())"
      ],
      "metadata": {
        "colab": {
          "base_uri": "https://localhost:8080/"
        },
        "id": "NMZkweLBkgix",
        "outputId": "33470c24-9535-4d5d-cc6c-f507adf82428"
      },
      "execution_count": 9,
      "outputs": [
        {
          "output_type": "stream",
          "name": "stdout",
          "text": [
            "drifting_longlines    18602\n",
            "squid_jigger          15450\n",
            "tuna_purse_seines      8596\n",
            "trawlers               7887\n",
            "fishing                1906\n",
            "set_longlines          1317\n",
            "pole_and_line           597\n",
            "pots_and_traps          386\n",
            "fixed_gear              180\n",
            "set_gillnets             81\n",
            "purse_seines             75\n",
            "trollers                 72\n",
            "other                    34\n",
            "other_purse_seines       30\n",
            "dredge_fishing           24\n",
            "seiners                   2\n",
            "other_seines              2\n",
            "Name: gear type, dtype: int64\n",
            "North Pacific Ocean                  16068\n",
            "South Pacific Ocean                  13352\n",
            "South Atlantic Ocean                 11070\n",
            "Indian Ocean                          5737\n",
            "North Atlantic Ocean                  4741\n",
            "Bering Sea                            1169\n",
            "Coral Sea                              398\n",
            "Sea of Okhotsk                         374\n",
            "Barentsz Sea                           331\n",
            "Gulf of Guinea                         287\n",
            "Celtic Sea                             276\n",
            "Arabian Sea                            225\n",
            "Philippine Sea                         208\n",
            "Tasman Sea                             146\n",
            "Solomon Sea                            120\n",
            "Norwegian Sea                          119\n",
            "Southern Ocean                         114\n",
            "Gulf of Alaska                          95\n",
            "Great Australian Bight                  79\n",
            "Mozambique Channel                      78\n",
            "Japan Sea                               55\n",
            "Bismarck Sea                            48\n",
            "Davis Strait                            40\n",
            "Labrador Sea                            27\n",
            "Arafura Sea                             20\n",
            "Caribbean Sea                           16\n",
            "Timor Sea                               15\n",
            "Mediterranean Sea - Eastern Basin       11\n",
            "Greenland Sea                            8\n",
            "North Sea                                5\n",
            "Bass Strait                              3\n",
            "Gulf of Mexico                           2\n",
            "Bay of Bengal                            1\n",
            "Laccadive Sea                            1\n",
            "Gulf of St. Lawrence                     1\n",
            "Baffin Bay                               1\n",
            "Name: exact _name new from diff Oceans, dtype: int64\n",
            "Dawn         12123\n",
            "Twilight     10956\n",
            "Night         8855\n",
            "Evening       8689\n",
            "Morning       7568\n",
            "Afternoon     7050\n",
            "Name: ais_disable_time_division, dtype: int64\n"
          ]
        }
      ]
    },
    {
      "cell_type": "code",
      "source": [
        "one_hot_encoded_data = pd.get_dummies(df, columns = ['gear type', 'exact _name new from diff Oceans','ais_disable_time_division'])\n",
        "print(one_hot_encoded_data.head())"
      ],
      "metadata": {
        "colab": {
          "base_uri": "https://localhost:8080/"
        },
        "id": "-65OpmWAkvdY",
        "outputId": "da1a1d86-4d81-4c02-a7e6-fd91bba488dc"
      },
      "execution_count": 10,
      "outputs": [
        {
          "output_type": "stream",
          "name": "stdout",
          "text": [
            "   gap_hours  iuu_caught  spherical_distances  eez_check      speed  \\\n",
            "0  13.016667           0           207.942845          0  15.975123   \n",
            "1  13.850000           0             9.704232          0   0.700667   \n",
            "2  33.733333           0            10.789069          1   0.319834   \n",
            "3  30.650000           0            11.695860          1   0.381594   \n",
            "4  50.283333           0            93.113335          1   1.851773   \n",
            "\n",
            "   gear type_dredge_fishing  gear type_drifting_longlines  gear type_fishing  \\\n",
            "0                         0                             0                  0   \n",
            "1                         0                             0                  1   \n",
            "2                         0                             0                  0   \n",
            "3                         0                             0                  0   \n",
            "4                         0                             0                  0   \n",
            "\n",
            "   gear type_fixed_gear  gear type_other  ...  \\\n",
            "0                     0                0  ...   \n",
            "1                     0                0  ...   \n",
            "2                     0                0  ...   \n",
            "3                     0                0  ...   \n",
            "4                     0                0  ...   \n",
            "\n",
            "   exact _name new from diff Oceans_South Pacific Ocean  \\\n",
            "0                                                  0      \n",
            "1                                                  0      \n",
            "2                                                  0      \n",
            "3                                                  0      \n",
            "4                                                  0      \n",
            "\n",
            "   exact _name new from diff Oceans_Southern Ocean  \\\n",
            "0                                                0   \n",
            "1                                                0   \n",
            "2                                                0   \n",
            "3                                                0   \n",
            "4                                                0   \n",
            "\n",
            "   exact _name new from diff Oceans_Tasman Sea  \\\n",
            "0                                            0   \n",
            "1                                            0   \n",
            "2                                            0   \n",
            "3                                            0   \n",
            "4                                            0   \n",
            "\n",
            "   exact _name new from diff Oceans_Timor Sea  \\\n",
            "0                                           0   \n",
            "1                                           0   \n",
            "2                                           0   \n",
            "3                                           0   \n",
            "4                                           0   \n",
            "\n",
            "   ais_disable_time_division_Afternoon  ais_disable_time_division_Dawn  \\\n",
            "0                                    0                               0   \n",
            "1                                    0                               1   \n",
            "2                                    0                               1   \n",
            "3                                    1                               0   \n",
            "4                                    1                               0   \n",
            "\n",
            "   ais_disable_time_division_Evening  ais_disable_time_division_Morning  \\\n",
            "0                                  0                                  1   \n",
            "1                                  0                                  0   \n",
            "2                                  0                                  0   \n",
            "3                                  0                                  0   \n",
            "4                                  0                                  0   \n",
            "\n",
            "   ais_disable_time_division_Night  ais_disable_time_division_Twilight  \n",
            "0                                0                                   0  \n",
            "1                                0                                   0  \n",
            "2                                0                                   0  \n",
            "3                                0                                   0  \n",
            "4                                0                                   0  \n",
            "\n",
            "[5 rows x 64 columns]\n"
          ]
        }
      ]
    },
    {
      "cell_type": "code",
      "source": [
        "import seaborn as sns\n",
        "\n",
        "sns.lmplot(x='gap_hours', y='exact _name new from diff Oceans_South Atlantic Ocean', hue='iuu_caught', \n",
        "           markers=['x', 'o'],\n",
        "           fit_reg=False, data=one_hot_encoded_data)"
      ],
      "metadata": {
        "colab": {
          "base_uri": "https://localhost:8080/",
          "height": 386
        },
        "id": "GzxkG9jM11UG",
        "outputId": "8e78e99f-e247-4c4c-dc8e-f95fb407ad5a"
      },
      "execution_count": 11,
      "outputs": [
        {
          "output_type": "execute_result",
          "data": {
            "text/plain": [
              "<seaborn.axisgrid.FacetGrid at 0x7f643a54ee20>"
            ]
          },
          "metadata": {},
          "execution_count": 11
        },
        {
          "output_type": "display_data",
          "data": {
            "text/plain": [
              "<Figure size 423.25x360 with 1 Axes>"
            ],
            "image/png": "[encoded data removed]"
          },
          "metadata": {
            "needs_background": "light"
          }
        }
      ]
    },
    {
      "cell_type": "markdown",
      "source": [
        "## Test Train Split after One Hot Encoding"
      ],
      "metadata": {
        "id": "EC73sw2Xywmf"
      }
    },
    {
      "cell_type": "code",
      "source": [
        "#### Independent and Dependent Features\n",
        "X=one_hot_encoded_data.drop(\"iuu_caught\",axis=1)\n",
        "y=one_hot_encoded_data.iuu_caught"
      ],
      "metadata": {
        "id": "pMpzCAHKlyKv"
      },
      "execution_count": 12,
      "outputs": []
    },
    {
      "cell_type": "code",
      "source": [
        "from sklearn.model_selection import train_test_split\n",
        "X_train, X_test, y_train, y_test = train_test_split(X, y, test_size=0.4, random_state=15, stratify=y)"
      ],
      "metadata": {
        "id": "B0ezzV76WDHT"
      },
      "execution_count": 13,
      "outputs": []
    },
    {
      "cell_type": "code",
      "source": [
        "y_train.value_counts()"
      ],
      "metadata": {
        "colab": {
          "base_uri": "https://localhost:8080/"
        },
        "id": "HVfhw2PdWIa9",
        "outputId": "bc0d59db-b0fd-4d16-b359-e49697f1952b"
      },
      "execution_count": 14,
      "outputs": [
        {
          "output_type": "execute_result",
          "data": {
            "text/plain": [
              "0    33001\n",
              "1      143\n",
              "Name: iuu_caught, dtype: int64"
            ]
          },
          "metadata": {},
          "execution_count": 14
        }
      ]
    },
    {
      "cell_type": "code",
      "source": [
        "from imblearn.over_sampling import SMOTE, ADASYN\n",
        "\n",
        "smote = SMOTE(sampling_strategy='minority')\n",
        "# adasyn = ADASYN(sampling_strategy='minority')\n",
        "X_train, y_train = smote.fit_resample(X_train,y_train)\n",
        "\n",
        "# y_sm.value_counts()"
      ],
      "metadata": {
        "id": "ITt_7btVbQ7h"
      },
      "execution_count": 15,
      "outputs": []
    },
    {
      "cell_type": "code",
      "source": [
        "y_train.value_counts()"
      ],
      "metadata": {
        "colab": {
          "base_uri": "https://localhost:8080/"
        },
        "id": "uKM6o0CNbSfl",
        "outputId": "9d930cd1-f77e-4494-a58e-c0713ca0a443"
      },
      "execution_count": 16,
      "outputs": [
        {
          "output_type": "execute_result",
          "data": {
            "text/plain": [
              "0    33001\n",
              "1    33001\n",
              "Name: iuu_caught, dtype: int64"
            ]
          },
          "metadata": {},
          "execution_count": 16
        }
      ]
    },
    {
      "cell_type": "code",
      "source": [
        "y_test.value_counts()"
      ],
      "metadata": {
        "colab": {
          "base_uri": "https://localhost:8080/"
        },
        "id": "qXkqkx6NbUfk",
        "outputId": "0ed69c5e-5d54-4e71-8d5b-a78963fd1af2"
      },
      "execution_count": 17,
      "outputs": [
        {
          "output_type": "execute_result",
          "data": {
            "text/plain": [
              "0    22001\n",
              "1       96\n",
              "Name: iuu_caught, dtype: int64"
            ]
          },
          "metadata": {},
          "execution_count": 17
        }
      ]
    },
    {
      "cell_type": "markdown",
      "source": [
        "# Normal ANN"
      ],
      "metadata": {
        "id": "UgjboMmxy12d"
      }
    },
    {
      "cell_type": "code",
      "source": [
        "print(len(X.columns))\n",
        "n_inputs=len(X.columns)"
      ],
      "metadata": {
        "colab": {
          "base_uri": "https://localhost:8080/"
        },
        "id": "Fdsdny-FWiPD",
        "outputId": "2f651156-8e7b-43c9-aeef-7415e8e4a54b"
      },
      "execution_count": 18,
      "outputs": [
        {
          "output_type": "stream",
          "name": "stdout",
          "text": [
            "63\n"
          ]
        }
      ]
    },
    {
      "cell_type": "code",
      "source": [
        "# define model and set random seed as 42\n",
        "\n",
        "import tensorflow as tf\n",
        "import numpy as np\n",
        "from tensorflow import keras\n",
        "from sklearn.metrics import confusion_matrix , classification_report\n",
        "import numpy as np\n",
        "import tensorflow as tf\n",
        "\n",
        "np.random.seed(42)\n",
        "tf.random.set_seed(42)\n",
        "\n",
        "model_normal = keras.Sequential([\n",
        "        keras.layers.Dense(50, input_dim=n_inputs, activation='relu', kernel_initializer='he_uniform'),\n",
        "        keras.layers.Dense(15, activation='relu'),\n",
        "        keras.layers.Dense(1, activation='sigmoid')\n",
        "    ])\n",
        "\n",
        "# define loss and optimizer\n",
        "model_normal.compile(loss='binary_crossentropy', optimizer='adam')\n",
        "model_normal.fit(X_train,y_train,epochs=50)"
      ],
      "metadata": {
        "colab": {
          "base_uri": "https://localhost:8080/"
        },
        "id": "j9CEcXWhWkr4",
        "outputId": "b7353f5c-f272-41d5-9b95-aaa0b1c217e0"
      },
      "execution_count": 19,
      "outputs": [
        {
          "output_type": "stream",
          "name": "stdout",
          "text": [
            "Epoch 1/50\n",
            "2063/2063 [==============================] - 4s 1ms/step - loss: 0.6912\n",
            "Epoch 2/50\n",
            "2063/2063 [==============================] - 3s 1ms/step - loss: 0.3220\n",
            "Epoch 3/50\n",
            "2063/2063 [==============================] - 3s 1ms/step - loss: 0.2505\n",
            "Epoch 4/50\n",
            "2063/2063 [==============================] - 3s 2ms/step - loss: 0.2502\n",
            "Epoch 5/50\n",
            "2063/2063 [==============================] - 3s 1ms/step - loss: 0.2000\n",
            "Epoch 6/50\n",
            "2063/2063 [==============================] - 3s 1ms/step - loss: 0.1588\n",
            "Epoch 7/50\n",
            "2063/2063 [==============================] - 3s 1ms/step - loss: 0.1401\n",
            "Epoch 8/50\n",
            "2063/2063 [==============================] - 3s 1ms/step - loss: 0.1329\n",
            "Epoch 9/50\n",
            "2063/2063 [==============================] - 3s 1ms/step - loss: 0.1242\n",
            "Epoch 10/50\n",
            "2063/2063 [==============================] - 3s 1ms/step - loss: 0.1074\n",
            "Epoch 11/50\n",
            "2063/2063 [==============================] - 3s 1ms/step - loss: 0.0993\n",
            "Epoch 12/50\n",
            "2063/2063 [==============================] - 3s 1ms/step - loss: 0.0938\n",
            "Epoch 13/50\n",
            "2063/2063 [==============================] - 3s 2ms/step - loss: 0.0831\n",
            "Epoch 14/50\n",
            "2063/2063 [==============================] - 3s 1ms/step - loss: 0.0796\n",
            "Epoch 15/50\n",
            "2063/2063 [==============================] - 3s 1ms/step - loss: 0.0746\n",
            "Epoch 16/50\n",
            "2063/2063 [==============================] - 3s 1ms/step - loss: 0.0765\n",
            "Epoch 17/50\n",
            "2063/2063 [==============================] - 3s 2ms/step - loss: 0.0677\n",
            "Epoch 18/50\n",
            "2063/2063 [==============================] - 3s 1ms/step - loss: 0.0607\n",
            "Epoch 19/50\n",
            "2063/2063 [==============================] - 3s 1ms/step - loss: 0.0617\n",
            "Epoch 20/50\n",
            "2063/2063 [==============================] - 3s 1ms/step - loss: 0.0632\n",
            "Epoch 21/50\n",
            "2063/2063 [==============================] - 3s 2ms/step - loss: 0.0565\n",
            "Epoch 22/50\n",
            "2063/2063 [==============================] - 3s 1ms/step - loss: 0.0626\n",
            "Epoch 23/50\n",
            "2063/2063 [==============================] - 3s 1ms/step - loss: 0.0559\n",
            "Epoch 24/50\n",
            "2063/2063 [==============================] - 3s 1ms/step - loss: 0.0522\n",
            "Epoch 25/50\n",
            "2063/2063 [==============================] - 3s 1ms/step - loss: 0.0534\n",
            "Epoch 26/50\n",
            "2063/2063 [==============================] - 3s 1ms/step - loss: 0.0516\n",
            "Epoch 27/50\n",
            "2063/2063 [==============================] - 3s 1ms/step - loss: 0.0504\n",
            "Epoch 28/50\n",
            "2063/2063 [==============================] - 3s 1ms/step - loss: 0.0469\n",
            "Epoch 29/50\n",
            "2063/2063 [==============================] - 3s 1ms/step - loss: 0.0512\n",
            "Epoch 30/50\n",
            "2063/2063 [==============================] - 3s 2ms/step - loss: 0.0504\n",
            "Epoch 31/50\n",
            "2063/2063 [==============================] - 3s 1ms/step - loss: 0.0466\n",
            "Epoch 32/50\n",
            "2063/2063 [==============================] - 4s 2ms/step - loss: 0.0485\n",
            "Epoch 33/50\n",
            "2063/2063 [==============================] - 3s 2ms/step - loss: 0.0479\n",
            "Epoch 34/50\n",
            "2063/2063 [==============================] - 3s 1ms/step - loss: 0.0452\n",
            "Epoch 35/50\n",
            "2063/2063 [==============================] - 3s 1ms/step - loss: 0.0439\n",
            "Epoch 36/50\n",
            "2063/2063 [==============================] - 3s 1ms/step - loss: 0.0446\n",
            "Epoch 37/50\n",
            "2063/2063 [==============================] - 3s 1ms/step - loss: 0.0432\n",
            "Epoch 38/50\n",
            "2063/2063 [==============================] - 3s 1ms/step - loss: 0.0440\n",
            "Epoch 39/50\n",
            "2063/2063 [==============================] - 3s 1ms/step - loss: 0.0426\n",
            "Epoch 40/50\n",
            "2063/2063 [==============================] - 3s 1ms/step - loss: 0.0414\n",
            "Epoch 41/50\n",
            "2063/2063 [==============================] - 3s 1ms/step - loss: 0.0417\n",
            "Epoch 42/50\n",
            "2063/2063 [==============================] - 3s 2ms/step - loss: 0.0435\n",
            "Epoch 43/50\n",
            "2063/2063 [==============================] - 3s 1ms/step - loss: 0.0408\n",
            "Epoch 44/50\n",
            "2063/2063 [==============================] - 3s 1ms/step - loss: 0.0403\n",
            "Epoch 45/50\n",
            "2063/2063 [==============================] - 3s 1ms/step - loss: 0.0394\n",
            "Epoch 46/50\n",
            "2063/2063 [==============================] - 3s 2ms/step - loss: 0.0386\n",
            "Epoch 47/50\n",
            "2063/2063 [==============================] - 3s 1ms/step - loss: 0.0393\n",
            "Epoch 48/50\n",
            "2063/2063 [==============================] - 3s 1ms/step - loss: 0.0414\n",
            "Epoch 49/50\n",
            "2063/2063 [==============================] - 3s 1ms/step - loss: 0.0392\n",
            "Epoch 50/50\n",
            "2063/2063 [==============================] - 3s 2ms/step - loss: 0.0411\n"
          ]
        },
        {
          "output_type": "execute_result",
          "data": {
            "text/plain": [
              "<keras.callbacks.History at 0x7f63d0521730>"
            ]
          },
          "metadata": {},
          "execution_count": 19
        }
      ]
    },
    {
      "cell_type": "code",
      "source": [
        "# predict the y_test and find the roc_auc score\n",
        "\n",
        "from sklearn.metrics import roc_auc_score\n",
        "y_pred1=model_normal.predict(X_test)\n",
        "\n",
        "print(roc_auc_score(y_test,y_pred1))"
      ],
      "metadata": {
        "colab": {
          "base_uri": "https://localhost:8080/"
        },
        "id": "wYVyaTSFWr75",
        "outputId": "726c31a6-d04a-4f18-dd99-baf678c3729f"
      },
      "execution_count": 20,
      "outputs": [
        {
          "output_type": "stream",
          "name": "stdout",
          "text": [
            "691/691 [==============================] - 1s 897us/step\n",
            "0.7779622706543643\n"
          ]
        }
      ]
    },
    {
      "cell_type": "code",
      "source": [
        "# print y_pred1 which gives the probabilities of the likliehood of IUU fishing \n",
        "\n",
        "print(y_pred1)"
      ],
      "metadata": {
        "colab": {
          "base_uri": "https://localhost:8080/"
        },
        "id": "oKJUvxklcE9d",
        "outputId": "955a8053-9f83-4c2a-f96b-47d0fb75e0a8"
      },
      "execution_count": 21,
      "outputs": [
        {
          "output_type": "stream",
          "name": "stdout",
          "text": [
            "[[9.0527628e-06]\n",
            " [1.1304008e-02]\n",
            " [5.9553455e-05]\n",
            " ...\n",
            " [3.0034073e-06]\n",
            " [2.9369356e-04]\n",
            " [1.0630269e-04]]\n"
          ]
        }
      ]
    },
    {
      "cell_type": "code",
      "source": [
        "# plot the ROC-AUC curve, find the nearest point to the top left of the graph that would be the optimal thereshold for y_pred1\n",
        "\n",
        "import matplotlib.pyplot as plt\n",
        "from sklearn.metrics import roc_curve, auc\n",
        "\n",
        "# Compute false positive rate (FPR) and true positive rate (TPR)\n",
        "fpr, tpr, thresholds = roc_curve(y_test, y_pred1)\n",
        "\n",
        "# Compute the area under the curve (AUC)\n",
        "roc_auc = auc(fpr, tpr)\n",
        "\n",
        "# Plot the ROC curve\n",
        "plt.figure()\n",
        "plt.plot(fpr, tpr, label='ROC curve (area = %0.2f)' % roc_auc)\n",
        "plt.plot([0, 1], [0, 1], 'k--')\n",
        "plt.xlim([0.0, 1.0])\n",
        "plt.ylim([0.0, 1.05])\n",
        "plt.xlabel('False Positive Rate')\n",
        "plt.ylabel('True Positive Rate')\n",
        "plt.title('Receiver Operating Characteristic')\n",
        "plt.legend(loc=\"lower right\")\n",
        "plt.show()\n",
        "\n",
        "\n",
        "import numpy as np\n",
        "\n",
        "# Find the index of the threshold that minimizes the Euclidean distance from (0,1)\n",
        "idx = np.argmin((1-tpr)**2 + fpr**2)\n",
        "\n",
        "# Retrieve the optimal threshold\n",
        "optimal_threshold1 = thresholds[idx]\n",
        "\n",
        "print(optimal_threshold1)"
      ],
      "metadata": {
        "id": "ensosqWs5fYh",
        "colab": {
          "base_uri": "https://localhost:8080/",
          "height": 312
        },
        "outputId": "193efbc6-a1e9-4ea4-99e8-3db3e4dbfeea"
      },
      "execution_count": 22,
      "outputs": [
        {
          "output_type": "display_data",
          "data": {
            "text/plain": [
              "<Figure size 432x288 with 1 Axes>"
            ],
            "image/png": "[encoded data removed]"
          },
          "metadata": {
            "needs_background": "light"
          }
        },
        {
          "output_type": "stream",
          "name": "stdout",
          "text": [
            "0.0002917734\n"
          ]
        }
      ]
    },
    {
      "cell_type": "code",
      "source": [
        "# find y_pred_rounded by using the threshold obtained above and then print the classification report and confusion matrix\n",
        "\n",
        "from sklearn.metrics import classification_report\n",
        "from sklearn.metrics import confusion_matrix\n",
        "\n",
        "y_pred1_rounded = np.where(y_pred1 > optimal_threshold1, 1, 0)\n",
        "print(classification_report(y_test, y_pred1_rounded))\n",
        "\n",
        "# Print the confusion matrix\n",
        "cm = confusion_matrix(y_test, y_pred1_rounded)\n",
        "print(cm)"
      ],
      "metadata": {
        "id": "KtHrme5y5iv-",
        "colab": {
          "base_uri": "https://localhost:8080/"
        },
        "outputId": "88d70930-8fce-440d-d15c-7dde0fbd3085"
      },
      "execution_count": 23,
      "outputs": [
        {
          "output_type": "stream",
          "name": "stdout",
          "text": [
            "              precision    recall  f1-score   support\n",
            "\n",
            "           0       1.00      0.75      0.86     22001\n",
            "           1       0.01      0.71      0.02        96\n",
            "\n",
            "    accuracy                           0.75     22097\n",
            "   macro avg       0.51      0.73      0.44     22097\n",
            "weighted avg       0.99      0.75      0.85     22097\n",
            "\n",
            "[[16524  5477]\n",
            " [   28    68]]\n"
          ]
        }
      ]
    },
    {
      "cell_type": "markdown",
      "source": [
        "# XGBoost"
      ],
      "metadata": {
        "id": "Tk4ZOzw-O7oS"
      }
    },
    {
      "cell_type": "code",
      "source": [
        "# fit balanced xgboost on an imbalanced classification dataset\n",
        "from numpy import mean\n",
        "from sklearn.datasets import make_classification\n",
        "from sklearn.model_selection import cross_val_score\n",
        "from sklearn.model_selection import RepeatedStratifiedKFold\n",
        "from xgboost import XGBClassifier\n",
        "# define model\n",
        "# xgb = XGBClassifier(scale_pos_weight=1000)\n",
        "# xgb = XGBClassifier(reg_lambda=20)\n",
        "xgb = XGBClassifier(gamma=3000, max_depth=1)\n",
        "# define evaluation procedure\n",
        "cv = RepeatedStratifiedKFold(n_splits=10, n_repeats=3, random_state=1)\n",
        "# evaluate model\n",
        "scores = cross_val_score(xgb, X_train, y_train, scoring='roc_auc', cv=cv, n_jobs=-1)\n",
        "# summarize performance\n",
        "print('Mean ROC AUC: %.5f' % mean(scores))"
      ],
      "metadata": {
        "colab": {
          "base_uri": "https://localhost:8080/"
        },
        "id": "MYdXi-HzO-GZ",
        "outputId": "408ed6dd-cc6f-4e00-ca27-176478e58c19"
      },
      "execution_count": 24,
      "outputs": [
        {
          "output_type": "stream",
          "name": "stdout",
          "text": [
            "Mean ROC AUC: 0.93364\n"
          ]
        }
      ]
    },
    {
      "cell_type": "code",
      "source": [
        "from numpy import mean\n",
        "from sklearn.datasets import make_classification\n",
        "from sklearn.model_selection import cross_val_score\n",
        "from sklearn.model_selection import RepeatedStratifiedKFold\n",
        "from xgboost import XGBClassifier\n",
        "# xgb = XGBClassifier(reg_lambda=15000)\n",
        "# xgb = XGBClassifier(gamma=3000, max_depth=1)\n",
        "# Fitting the classifier on training data\n",
        "xgb.fit(X_train, y_train)\n",
        "\n",
        "# Making predictions on test data\n",
        "y_pred_xgb = xgb.predict(X_test)\n",
        "\n",
        "# plot the ROC-AUC curve, find the nearest point to the top left of the graph that would be the optimal thereshold for y_pred1\n",
        "\n",
        "import matplotlib.pyplot as plt\n",
        "from sklearn.metrics import roc_curve, auc\n",
        "\n",
        "# Compute false positive rate (FPR) and true positive rate (TPR)\n",
        "fpr, tpr, thresholds = roc_curve(y_test, y_pred_xgb)\n",
        "\n",
        "# Compute the area under the curve (AUC)\n",
        "roc_auc = auc(fpr, tpr)\n",
        "\n",
        "# Plot the ROC curve\n",
        "plt.figure()\n",
        "plt.plot(fpr, tpr, label='ROC curve (area = %0.2f)' % roc_auc)\n",
        "plt.plot([0, 1], [0, 1], 'k--')\n",
        "plt.xlim([0.0, 1.0])\n",
        "plt.ylim([0.0, 1.05])\n",
        "plt.xlabel('False Positive Rate')\n",
        "plt.ylabel('True Positive Rate')\n",
        "plt.title('Receiver Operating Characteristic')\n",
        "plt.legend(loc=\"lower right\")\n",
        "plt.show()\n",
        "\n",
        "\n",
        "import numpy as np\n",
        "\n",
        "# Find the index of the threshold that minimizes the Euclidean distance from (0,1)\n",
        "idx = np.argmin((1-tpr)**2 + fpr**2)\n",
        "\n",
        "# Retrieve the optimal threshold\n",
        "optimal_threshold1 = thresholds[idx]\n",
        "\n",
        "print(optimal_threshold1)\n",
        "\n",
        "from sklearn.metrics import classification_report\n",
        "\n",
        "print(classification_report(y_test, y_pred_xgb))\n",
        "\n",
        "from sklearn.metrics import confusion_matrix\n",
        "\n",
        "# Print the confusion matrix\n",
        "cm = confusion_matrix(y_test, y_pred_xgb)\n",
        "print(cm)"
      ],
      "metadata": {
        "colab": {
          "base_uri": "https://localhost:8080/",
          "height": 503
        },
        "id": "3bOMRyfjPb0e",
        "outputId": "498c6ca8-108f-4089-9035-3bf692eab44a"
      },
      "execution_count": 25,
      "outputs": [
        {
          "output_type": "display_data",
          "data": {
            "text/plain": [
              "<Figure size 432x288 with 1 Axes>"
            ],
            "image/png": "[encoded data removed]"
          },
          "metadata": {
            "needs_background": "light"
          }
        },
        {
          "output_type": "stream",
          "name": "stdout",
          "text": [
            "1\n",
            "              precision    recall  f1-score   support\n",
            "\n",
            "           0       1.00      0.78      0.87     22001\n",
            "           1       0.01      0.67      0.03        96\n",
            "\n",
            "    accuracy                           0.78     22097\n",
            "   macro avg       0.51      0.72      0.45     22097\n",
            "weighted avg       0.99      0.78      0.87     22097\n",
            "\n",
            "[[17134  4867]\n",
            " [   32    64]]\n"
          ]
        }
      ]
    },
    {
      "cell_type": "markdown",
      "source": [
        "# Logistic Regression"
      ],
      "metadata": {
        "id": "F9UmHIQvf6YG"
      }
    },
    {
      "cell_type": "code",
      "source": [
        "# weighted logistic regression for class imbalance with heuristic weights\n",
        "from numpy import mean\n",
        "from sklearn.datasets import make_classification\n",
        "from sklearn.model_selection import cross_val_score\n",
        "from sklearn.model_selection import RepeatedStratifiedKFold\n",
        "from sklearn.linear_model import LogisticRegression\n",
        "# define model\n",
        "weights_assigned_lr={0:1,1:230}\n",
        "# model_lr = LogisticRegression(solver='lbfgs', class_weight=weights_assigned_lr)\n",
        "model_lr = LogisticRegression(solver='lbfgs')\n",
        "# define evaluation procedure\n",
        "cv = RepeatedStratifiedKFold(n_splits=10, n_repeats=3, random_state=1)\n",
        "# evaluate model\n",
        "scores = cross_val_score(model_lr, X_train, y_train, scoring='roc_auc', cv=cv, n_jobs=-1)\n",
        "# summarize performance\n",
        "print('Mean ROC AUC: %.3f' % mean(scores))"
      ],
      "metadata": {
        "colab": {
          "base_uri": "https://localhost:8080/"
        },
        "id": "3Ks15oGSf9Oo",
        "outputId": "224b4cde-fa56-4204-c30b-17460c98c06b"
      },
      "execution_count": 26,
      "outputs": [
        {
          "output_type": "stream",
          "name": "stdout",
          "text": [
            "Mean ROC AUC: 0.984\n"
          ]
        }
      ]
    },
    {
      "cell_type": "code",
      "source": [
        "# Fitting the classifier on training data\n",
        "model_lr.fit(X_train, y_train)\n",
        "\n",
        "# Making predictions on test data\n",
        "y_pred_lr = model_lr.predict(X_test)\n",
        "\n",
        "# plot the ROC-AUC curve, find the nearest point to the top left of the graph that would be the optimal thereshold for y_pred1\n",
        "\n",
        "import matplotlib.pyplot as plt\n",
        "from sklearn.metrics import roc_curve, auc\n",
        "\n",
        "# Compute false positive rate (FPR) and true positive rate (TPR)\n",
        "fpr, tpr, thresholds = roc_curve(y_test, y_pred_lr)\n",
        "\n",
        "# Compute the area under the curve (AUC)\n",
        "roc_auc = auc(fpr, tpr)\n",
        "\n",
        "# Plot the ROC curve\n",
        "plt.figure()\n",
        "plt.plot(fpr, tpr, label='ROC curve (area = %0.2f)' % roc_auc)\n",
        "plt.plot([0, 1], [0, 1], 'k--')\n",
        "plt.xlim([0.0, 1.0])\n",
        "plt.ylim([0.0, 1.05])\n",
        "plt.xlabel('False Positive Rate')\n",
        "plt.ylabel('True Positive Rate')\n",
        "plt.title('Receiver Operating Characteristic')\n",
        "plt.legend(loc=\"lower right\")\n",
        "plt.show()\n",
        "\n",
        "\n",
        "\n",
        "\n",
        "from sklearn.metrics import classification_report\n",
        "\n",
        "print(classification_report(y_test, y_pred_lr))\n",
        "\n",
        "from sklearn.metrics import confusion_matrix\n",
        "\n",
        "# Print the confusion matrix\n",
        "cm = confusion_matrix(y_test, y_pred_lr)\n",
        "print(cm)"
      ],
      "metadata": {
        "colab": {
          "base_uri": "https://localhost:8080/",
          "height": 645
        },
        "id": "hJouARTIgCuz",
        "outputId": "265ea555-b34d-4bd1-d72e-3bbc6e81609b"
      },
      "execution_count": 27,
      "outputs": [
        {
          "output_type": "stream",
          "name": "stderr",
          "text": [
            "/usr/local/lib/python3.8/dist-packages/sklearn/linear_model/_logistic.py:814: ConvergenceWarning: lbfgs failed to converge (status=1):\n",
            "STOP: TOTAL NO. of ITERATIONS REACHED LIMIT.\n",
            "\n",
            "Increase the number of iterations (max_iter) or scale the data as shown in:\n",
            "    https://scikit-learn.org/stable/modules/preprocessing.html\n",
            "Please also refer to the documentation for alternative solver options:\n",
            "    https://scikit-learn.org/stable/modules/linear_model.html#logistic-regression\n",
            "  n_iter_i = _check_optimize_result(\n"
          ]
        },
        {
          "output_type": "display_data",
          "data": {
            "text/plain": [
              "<Figure size 432x288 with 1 Axes>"
            ],
            "image/png": "[encoded data removed]"
          },
          "metadata": {
            "needs_background": "light"
          }
        },
        {
          "output_type": "stream",
          "name": "stdout",
          "text": [
            "              precision    recall  f1-score   support\n",
            "\n",
            "           0       1.00      0.91      0.95     22001\n",
            "           1       0.02      0.40      0.04        96\n",
            "\n",
            "    accuracy                           0.91     22097\n",
            "   macro avg       0.51      0.65      0.49     22097\n",
            "weighted avg       0.99      0.91      0.95     22097\n",
            "\n",
            "[[20073  1928]\n",
            " [   58    38]]\n"
          ]
        }
      ]
    },
    {
      "cell_type": "markdown",
      "source": [
        "# Ensemble with LR and XGboost"
      ],
      "metadata": {
        "id": "aSzzkMktlI7r"
      }
    },
    {
      "cell_type": "code",
      "source": [
        "from sklearn.ensemble import VotingClassifier\n",
        "from xgboost import XGBClassifier\n",
        "from sklearn.ensemble import RandomForestClassifier\n",
        "\n",
        "# Define the ensemble model\n",
        "ensemble = VotingClassifier(estimators=[('xgb', xgb), ('lr', model_lr)], voting='soft')\n",
        "\n",
        "# Fit the ensemble model on the training data\n",
        "ensemble.fit(X_train, y_train)\n",
        "\n",
        "# Making predictions on test data\n",
        "y_pred_ensemble = ensemble.predict(X_test)\n",
        "\n",
        "from sklearn.metrics import classification_report\n",
        "\n",
        "print(classification_report(y_test, y_pred_ensemble))\n",
        "\n",
        "from sklearn.metrics import confusion_matrix\n",
        "\n",
        "# Print the confusion matrix\n",
        "cm = confusion_matrix(y_test, y_pred_ensemble)\n",
        "print(cm)"
      ],
      "metadata": {
        "colab": {
          "base_uri": "https://localhost:8080/"
        },
        "id": "kFC57SQ_lHxf",
        "outputId": "8f20a122-675d-488f-dc55-69c2114fbe74"
      },
      "execution_count": 28,
      "outputs": [
        {
          "output_type": "stream",
          "name": "stdout",
          "text": [
            "              precision    recall  f1-score   support\n",
            "\n",
            "           0       1.00      0.90      0.95     22001\n",
            "           1       0.02      0.47      0.04        96\n",
            "\n",
            "    accuracy                           0.90     22097\n",
            "   macro avg       0.51      0.68      0.49     22097\n",
            "weighted avg       0.99      0.90      0.94     22097\n",
            "\n",
            "[[19773  2228]\n",
            " [   51    45]]\n"
          ]
        },
        {
          "output_type": "stream",
          "name": "stderr",
          "text": [
            "/usr/local/lib/python3.8/dist-packages/sklearn/linear_model/_logistic.py:814: ConvergenceWarning: lbfgs failed to converge (status=1):\n",
            "STOP: TOTAL NO. of ITERATIONS REACHED LIMIT.\n",
            "\n",
            "Increase the number of iterations (max_iter) or scale the data as shown in:\n",
            "    https://scikit-learn.org/stable/modules/preprocessing.html\n",
            "Please also refer to the documentation for alternative solver options:\n",
            "    https://scikit-learn.org/stable/modules/linear_model.html#logistic-regression\n",
            "  n_iter_i = _check_optimize_result(\n"
          ]
        }
      ]
    },
    {
      "cell_type": "markdown",
      "source": [
        "# Stacking base models - cost ANN, LR ; meta model - XGBoost"
      ],
      "metadata": {
        "id": "6P--HzJX4cNY"
      }
    },
    {
      "cell_type": "markdown",
      "source": [
        "#### Prepare the dataset for the meta model"
      ],
      "metadata": {
        "id": "zcd0N_w5dOso"
      }
    },
    {
      "cell_type": "markdown",
      "source": [
        "First we find the predicted values for X_train and X_test of the base models Cost sensitive ANN and LR. After that, we add them as atttributes to the X_train and X_test datasets which will then be used to train the meta model XGBoost"
      ],
      "metadata": {
        "id": "IYxIgWXfdV_4"
      }
    },
    {
      "cell_type": "code",
      "source": [
        "y_pred_ann_stacking=model_normal.predict(X_train)\n",
        "y_pred_ann_stacking_rounded = np.where(y_pred_ann_stacking > optimal_threshold1, 1, 0)\n",
        "\n",
        "y_pred_lr_stacking = model_lr.predict(X_train)"
      ],
      "metadata": {
        "colab": {
          "base_uri": "https://localhost:8080/"
        },
        "id": "hkMDMhYP4eER",
        "outputId": "9bbe1554-631a-4672-fe81-7d342820615e"
      },
      "execution_count": 29,
      "outputs": [
        {
          "output_type": "stream",
          "name": "stdout",
          "text": [
            "2063/2063 [==============================] - 5s 3ms/step\n"
          ]
        }
      ]
    },
    {
      "cell_type": "code",
      "source": [
        "print(y_pred_ann_stacking_rounded)\n",
        "import numpy as np\n",
        "\n",
        "y_pred_ann_stacking_rounded = y_pred_ann_stacking_rounded.flatten()\n",
        "print(y_pred_ann_stacking_rounded)\n",
        "\n",
        "print(y_pred_lr_stacking)"
      ],
      "metadata": {
        "colab": {
          "base_uri": "https://localhost:8080/"
        },
        "id": "F7r87vKtTc_2",
        "outputId": "fb9e06ac-06bb-421d-908b-941f71f65ec3"
      },
      "execution_count": 30,
      "outputs": [
        {
          "output_type": "stream",
          "name": "stdout",
          "text": [
            "[[0]\n",
            " [0]\n",
            " [0]\n",
            " ...\n",
            " [0]\n",
            " [0]\n",
            " [0]]\n",
            "[0 0 0 ... 0 0 0]\n",
            "[0 0 1 ... 1 1 1]\n"
          ]
        }
      ]
    },
    {
      "cell_type": "code",
      "source": [
        "X_train_stacking = X_train.copy()\n",
        "\n",
        "X_train_stacking['ann_train'] = y_pred_ann_stacking_rounded.tolist()\n",
        "X_train_stacking['lr_train'] = y_pred_lr_stacking.tolist()\n",
        "\n",
        "print(X_train_stacking)"
      ],
      "metadata": {
        "colab": {
          "base_uri": "https://localhost:8080/"
        },
        "id": "J1QkJ1OFT5OM",
        "outputId": "3d78809c-6216-4ce0-ba96-965dc508023e"
      },
      "execution_count": 31,
      "outputs": [
        {
          "output_type": "stream",
          "name": "stdout",
          "text": [
            "        gap_hours  spherical_distances  eez_check     speed  \\\n",
            "0      461.750000           308.923179          1  0.669027   \n",
            "1       13.716667             2.480992          0  0.180874   \n",
            "2       98.700000           783.791911          0  7.941154   \n",
            "3       12.850000            28.226168          0  2.196589   \n",
            "4       12.983333            58.975136          1  4.542372   \n",
            "...           ...                  ...        ...       ...   \n",
            "65997  201.897608            41.993639          0  0.220849   \n",
            "65998   43.574891           399.633975          1  9.170134   \n",
            "65999   14.663726            62.147807          0  4.234453   \n",
            "66000   37.126510           201.089075          0  5.484245   \n",
            "66001  159.302908          1336.836226          1  8.425591   \n",
            "\n",
            "       gear type_dredge_fishing  gear type_drifting_longlines  \\\n",
            "0                             0                             0   \n",
            "1                             0                             0   \n",
            "2                             0                             0   \n",
            "3                             0                             0   \n",
            "4                             0                             1   \n",
            "...                         ...                           ...   \n",
            "65997                         0                             0   \n",
            "65998                         0                             0   \n",
            "65999                         0                             0   \n",
            "66000                         0                             0   \n",
            "66001                         0                             0   \n",
            "\n",
            "       gear type_fishing  gear type_fixed_gear  gear type_other  \\\n",
            "0                      0                     0                0   \n",
            "1                      0                     0                0   \n",
            "2                      0                     0                0   \n",
            "3                      0                     0                0   \n",
            "4                      0                     0                0   \n",
            "...                  ...                   ...              ...   \n",
            "65997                  0                     0                0   \n",
            "65998                  0                     0                0   \n",
            "65999                  0                     0                0   \n",
            "66000                  0                     0                0   \n",
            "66001                  0                     0                0   \n",
            "\n",
            "       gear type_other_purse_seines  ...  \\\n",
            "0                                 0  ...   \n",
            "1                                 0  ...   \n",
            "2                                 0  ...   \n",
            "3                                 0  ...   \n",
            "4                                 0  ...   \n",
            "...                             ...  ...   \n",
            "65997                             0  ...   \n",
            "65998                             0  ...   \n",
            "65999                             0  ...   \n",
            "66000                             0  ...   \n",
            "66001                             0  ...   \n",
            "\n",
            "       exact _name new from diff Oceans_Tasman Sea  \\\n",
            "0                                                0   \n",
            "1                                                0   \n",
            "2                                                0   \n",
            "3                                                0   \n",
            "4                                                0   \n",
            "...                                            ...   \n",
            "65997                                            0   \n",
            "65998                                            0   \n",
            "65999                                            0   \n",
            "66000                                            0   \n",
            "66001                                            0   \n",
            "\n",
            "       exact _name new from diff Oceans_Timor Sea  \\\n",
            "0                                               0   \n",
            "1                                               0   \n",
            "2                                               0   \n",
            "3                                               0   \n",
            "4                                               0   \n",
            "...                                           ...   \n",
            "65997                                           0   \n",
            "65998                                           0   \n",
            "65999                                           0   \n",
            "66000                                           0   \n",
            "66001                                           0   \n",
            "\n",
            "       ais_disable_time_division_Afternoon  ais_disable_time_division_Dawn  \\\n",
            "0                                        1                               0   \n",
            "1                                        0                               1   \n",
            "2                                        0                               0   \n",
            "3                                        0                               1   \n",
            "4                                        1                               0   \n",
            "...                                    ...                             ...   \n",
            "65997                                    0                               0   \n",
            "65998                                    1                               0   \n",
            "65999                                    0                               0   \n",
            "66000                                    0                               0   \n",
            "66001                                    0                               0   \n",
            "\n",
            "       ais_disable_time_division_Evening  ais_disable_time_division_Morning  \\\n",
            "0                                      0                                  0   \n",
            "1                                      0                                  0   \n",
            "2                                      0                                  1   \n",
            "3                                      0                                  0   \n",
            "4                                      0                                  0   \n",
            "...                                  ...                                ...   \n",
            "65997                                  0                                  1   \n",
            "65998                                  0                                  0   \n",
            "65999                                  0                                  0   \n",
            "66000                                  0                                  1   \n",
            "66001                                  0                                  0   \n",
            "\n",
            "       ais_disable_time_division_Night  ais_disable_time_division_Twilight  \\\n",
            "0                                    0                                   0   \n",
            "1                                    0                                   0   \n",
            "2                                    0                                   0   \n",
            "3                                    0                                   0   \n",
            "4                                    0                                   0   \n",
            "...                                ...                                 ...   \n",
            "65997                                0                                   0   \n",
            "65998                                0                                   0   \n",
            "65999                                0                                   0   \n",
            "66000                                0                                   0   \n",
            "66001                                0                                   0   \n",
            "\n",
            "       ann_train  lr_train  \n",
            "0              0         0  \n",
            "1              0         0  \n",
            "2              0         1  \n",
            "3              0         0  \n",
            "4              0         0  \n",
            "...          ...       ...  \n",
            "65997          0         1  \n",
            "65998          0         0  \n",
            "65999          0         1  \n",
            "66000          0         1  \n",
            "66001          0         1  \n",
            "\n",
            "[66002 rows x 65 columns]\n"
          ]
        }
      ]
    },
    {
      "cell_type": "code",
      "source": [
        "y_pred_ann_stacking_test=model_normal.predict(X_test)\n",
        "y_pred_ann_stacking_rounded_test = np.where(y_pred_ann_stacking_test > optimal_threshold1, 1, 0)\n",
        "\n",
        "y_pred_lr_stacking_test = model_lr.predict(X_test)\n",
        "\n",
        "print(y_pred_ann_stacking_rounded_test)\n",
        "import numpy as np\n",
        "\n",
        "y_pred_ann_stacking_rounded_test = y_pred_ann_stacking_rounded_test.flatten()\n",
        "print(y_pred_ann_stacking_rounded_test)\n",
        "\n",
        "print(y_pred_lr_stacking_test)\n",
        "\n",
        "X_test_stacking = X_test.copy()\n",
        "\n",
        "X_test_stacking['ann_train'] = y_pred_ann_stacking_rounded_test.tolist()\n",
        "X_test_stacking['lr_train'] = y_pred_lr_stacking_test.tolist()\n",
        "\n",
        "print(X_test_stacking)"
      ],
      "metadata": {
        "colab": {
          "base_uri": "https://localhost:8080/"
        },
        "id": "6gyzY65AV9Gq",
        "outputId": "c46ddd2d-ff88-4446-ba51-a9249f1a4b74"
      },
      "execution_count": 32,
      "outputs": [
        {
          "output_type": "stream",
          "name": "stdout",
          "text": [
            "691/691 [==============================] - 1s 905us/step\n",
            "[[0]\n",
            " [0]\n",
            " [0]\n",
            " ...\n",
            " [0]\n",
            " [0]\n",
            " [0]]\n",
            "[0 0 0 ... 0 0 0]\n",
            "[0 0 0 ... 0 0 0]\n",
            "         gap_hours  spherical_distances  eez_check      speed  \\\n",
            "33203   203.266667           509.004605          1   2.504122   \n",
            "35764  1316.066667          2494.276343          0   1.895251   \n",
            "15886    21.433333           135.912913          0   6.341193   \n",
            "32832    49.850000           649.387351          1  13.026828   \n",
            "51070    21.400000            55.797219          0   2.607347   \n",
            "...            ...                  ...        ...        ...   \n",
            "54470    13.283333             6.685679          0   0.503313   \n",
            "47139    12.850000            16.522841          0   1.285824   \n",
            "45884    67.566667           381.437143          0   5.645345   \n",
            "31057   498.350000          1500.626299          1   3.011190   \n",
            "18760    43.266667           499.088933          0  11.535183   \n",
            "\n",
            "       gear type_dredge_fishing  gear type_drifting_longlines  \\\n",
            "33203                         0                             0   \n",
            "35764                         0                             0   \n",
            "15886                         0                             0   \n",
            "32832                         0                             0   \n",
            "51070                         0                             1   \n",
            "...                         ...                           ...   \n",
            "54470                         0                             1   \n",
            "47139                         0                             1   \n",
            "45884                         0                             1   \n",
            "31057                         0                             0   \n",
            "18760                         0                             0   \n",
            "\n",
            "       gear type_fishing  gear type_fixed_gear  gear type_other  \\\n",
            "33203                  0                     0                0   \n",
            "35764                  0                     0                0   \n",
            "15886                  0                     0                0   \n",
            "32832                  0                     0                0   \n",
            "51070                  0                     0                0   \n",
            "...                  ...                   ...              ...   \n",
            "54470                  0                     0                0   \n",
            "47139                  0                     0                0   \n",
            "45884                  0                     0                0   \n",
            "31057                  0                     0                0   \n",
            "18760                  0                     0                0   \n",
            "\n",
            "       gear type_other_purse_seines  ...  \\\n",
            "33203                             0  ...   \n",
            "35764                             0  ...   \n",
            "15886                             0  ...   \n",
            "32832                             0  ...   \n",
            "51070                             0  ...   \n",
            "...                             ...  ...   \n",
            "54470                             0  ...   \n",
            "47139                             0  ...   \n",
            "45884                             0  ...   \n",
            "31057                             0  ...   \n",
            "18760                             0  ...   \n",
            "\n",
            "       exact _name new from diff Oceans_Tasman Sea  \\\n",
            "33203                                            0   \n",
            "35764                                            0   \n",
            "15886                                            0   \n",
            "32832                                            0   \n",
            "51070                                            0   \n",
            "...                                            ...   \n",
            "54470                                            0   \n",
            "47139                                            0   \n",
            "45884                                            0   \n",
            "31057                                            0   \n",
            "18760                                            0   \n",
            "\n",
            "       exact _name new from diff Oceans_Timor Sea  \\\n",
            "33203                                           0   \n",
            "35764                                           0   \n",
            "15886                                           0   \n",
            "32832                                           0   \n",
            "51070                                           0   \n",
            "...                                           ...   \n",
            "54470                                           0   \n",
            "47139                                           0   \n",
            "45884                                           0   \n",
            "31057                                           0   \n",
            "18760                                           0   \n",
            "\n",
            "       ais_disable_time_division_Afternoon  ais_disable_time_division_Dawn  \\\n",
            "33203                                    0                               0   \n",
            "35764                                    0                               0   \n",
            "15886                                    0                               1   \n",
            "32832                                    0                               0   \n",
            "51070                                    0                               0   \n",
            "...                                    ...                             ...   \n",
            "54470                                    0                               0   \n",
            "47139                                    0                               0   \n",
            "45884                                    0                               0   \n",
            "31057                                    1                               0   \n",
            "18760                                    0                               1   \n",
            "\n",
            "       ais_disable_time_division_Evening  ais_disable_time_division_Morning  \\\n",
            "33203                                  0                                  0   \n",
            "35764                                  1                                  0   \n",
            "15886                                  0                                  0   \n",
            "32832                                  0                                  0   \n",
            "51070                                  0                                  1   \n",
            "...                                  ...                                ...   \n",
            "54470                                  0                                  0   \n",
            "47139                                  0                                  0   \n",
            "45884                                  0                                  0   \n",
            "31057                                  0                                  0   \n",
            "18760                                  0                                  0   \n",
            "\n",
            "       ais_disable_time_division_Night  ais_disable_time_division_Twilight  \\\n",
            "33203                                0                                   1   \n",
            "35764                                0                                   0   \n",
            "15886                                0                                   0   \n",
            "32832                                1                                   0   \n",
            "51070                                0                                   0   \n",
            "...                                ...                                 ...   \n",
            "54470                                1                                   0   \n",
            "47139                                0                                   1   \n",
            "45884                                0                                   1   \n",
            "31057                                0                                   0   \n",
            "18760                                0                                   0   \n",
            "\n",
            "       ann_train  lr_train  \n",
            "33203          0         0  \n",
            "35764          0         0  \n",
            "15886          0         0  \n",
            "32832          0         0  \n",
            "51070          0         0  \n",
            "...          ...       ...  \n",
            "54470          0         0  \n",
            "47139          0         0  \n",
            "45884          0         0  \n",
            "31057          0         0  \n",
            "18760          0         0  \n",
            "\n",
            "[22097 rows x 65 columns]\n"
          ]
        }
      ]
    },
    {
      "cell_type": "markdown",
      "source": [
        "#### Train the meta model"
      ],
      "metadata": {
        "id": "HiQInmURduNY"
      }
    },
    {
      "cell_type": "code",
      "source": [
        "# fit balanced xgboost on an imbalanced classification dataset\n",
        "from numpy import mean\n",
        "from sklearn.datasets import make_classification\n",
        "from sklearn.model_selection import cross_val_score\n",
        "from sklearn.model_selection import RepeatedStratifiedKFold\n",
        "from xgboost import XGBClassifier\n",
        "# define model\n",
        "# xgb_stacking = XGBClassifier(scale_pos_weight=1000)\n",
        "xgb_stacking = XGBClassifier(gamma=3000, max_depth=1)\n",
        "# define evaluation procedure\n",
        "cv_stacking = RepeatedStratifiedKFold(n_splits=10, n_repeats=3, random_state=1)\n",
        "# evaluate model\n",
        "scores_stacking = cross_val_score(xgb_stacking, X_train_stacking, y_train, scoring='roc_auc', cv=cv_stacking, n_jobs=-1)\n",
        "# summarize performance\n",
        "print('Mean ROC AUC: %.5f' % mean(scores_stacking))"
      ],
      "metadata": {
        "colab": {
          "base_uri": "https://localhost:8080/"
        },
        "id": "TAVs_CZXU1jj",
        "outputId": "2154d469-5218-4488-d2ce-1f6a038855f5"
      },
      "execution_count": 35,
      "outputs": [
        {
          "output_type": "stream",
          "name": "stdout",
          "text": [
            "Mean ROC AUC: 0.92550\n"
          ]
        }
      ]
    },
    {
      "cell_type": "code",
      "source": [
        "# Fitting the classifier on training data\n",
        "xgb_stacking.fit(X_train_stacking, y_train)\n",
        "\n",
        "# Making predictions on test data\n",
        "y_pred_xgb_stacking = xgb_stacking.predict(X_test_stacking)\n",
        "\n",
        "from sklearn.metrics import classification_report\n",
        "\n",
        "print(classification_report(y_test, y_pred_xgb_stacking))\n",
        "\n",
        "from sklearn.metrics import confusion_matrix\n",
        "\n",
        "# Print the confusion matrix\n",
        "cm = confusion_matrix(y_test, y_pred_xgb_stacking)\n",
        "print(cm)"
      ],
      "metadata": {
        "colab": {
          "base_uri": "https://localhost:8080/"
        },
        "id": "_WJuKZPUU41e",
        "outputId": "5008e69b-5dc0-411a-caa5-fefa2425bdd2"
      },
      "execution_count": 36,
      "outputs": [
        {
          "output_type": "stream",
          "name": "stdout",
          "text": [
            "              precision    recall  f1-score   support\n",
            "\n",
            "           0       1.00      0.91      0.95     22001\n",
            "           1       0.02      0.40      0.04        96\n",
            "\n",
            "    accuracy                           0.91     22097\n",
            "   macro avg       0.51      0.65      0.49     22097\n",
            "weighted avg       0.99      0.91      0.95     22097\n",
            "\n",
            "[[20073  1928]\n",
            " [   58    38]]\n"
          ]
        }
      ]
    },
    {
      "cell_type": "markdown",
      "source": [
        "# Random Forest very bad"
      ],
      "metadata": {
        "id": "_z59aOcTAEhK"
      }
    },
    {
      "cell_type": "code",
      "source": [
        "from sklearn.ensemble import RandomForestClassifier\n",
        "from sklearn.datasets import make_classification\n",
        "from sklearn.model_selection import train_test_split\n",
        "\n",
        "weights_assigned1={0:1,1:2}\n",
        "# Initializing Random Forest classifier with class weights\n",
        "clf = RandomForestClassifier(class_weight='balanced')\n",
        "\n",
        "# Fitting the classifier on training data\n",
        "clf.fit(X_train, y_train)\n",
        "\n",
        "# Making predictions on test data\n",
        "y_pred_clf = clf.predict(X_test)\n",
        "\n",
        "from sklearn.metrics import classification_report\n",
        "\n",
        "print(classification_report(y_test, y_pred_clf))\n",
        "\n",
        "from sklearn.metrics import confusion_matrix\n",
        "\n",
        "# Print the confusion matrix\n",
        "cm = confusion_matrix(y_test, y_pred_clf)\n",
        "print(cm)\n"
      ],
      "metadata": {
        "colab": {
          "base_uri": "https://localhost:8080/"
        },
        "id": "I_Ig7hCRC_ez",
        "outputId": "2c32bca9-73c9-4bfe-b8c1-f996ffce8d9a"
      },
      "execution_count": null,
      "outputs": [
        {
          "output_type": "stream",
          "name": "stdout",
          "text": [
            "              precision    recall  f1-score   support\n",
            "\n",
            "           0       1.00      1.00      1.00     22001\n",
            "           1       0.00      0.00      0.00        96\n",
            "\n",
            "    accuracy                           1.00     22097\n",
            "   macro avg       0.50      0.50      0.50     22097\n",
            "weighted avg       0.99      1.00      0.99     22097\n",
            "\n",
            "[[21998     3]\n",
            " [   96     0]]\n"
          ]
        }
      ]
    },
    {
      "cell_type": "markdown",
      "source": [
        "# Weighted SVM very bad"
      ],
      "metadata": {
        "id": "6pbIG57lOYmm"
      }
    },
    {
      "cell_type": "code",
      "source": [
        "# svm with class weight on an imbalanced classification dataset\n",
        "from numpy import mean\n",
        "from sklearn.datasets import make_classification\n",
        "from sklearn.model_selection import cross_val_score\n",
        "from sklearn.model_selection import RepeatedStratifiedKFold\n",
        "from sklearn.svm import SVC\n",
        "# define model\n",
        "model_svm = SVC(gamma='scale', class_weight='balanced')\n",
        "# define evaluation procedure\n",
        "cv = RepeatedStratifiedKFold(n_splits=10, n_repeats=3, random_state=1)\n",
        "# evaluate model\n",
        "scores = cross_val_score(model_svm, X_train, y_train, scoring='roc_auc', cv=cv, n_jobs=-1)\n",
        "# summarize performance\n",
        "print('Mean ROC AUC: %.3f' % mean(scores))"
      ],
      "metadata": {
        "colab": {
          "base_uri": "https://localhost:8080/",
          "height": 381
        },
        "id": "oknnNcb_ObG1",
        "outputId": "3c0013ce-500c-41c8-e62d-e14d2afced59"
      },
      "execution_count": null,
      "outputs": [
        {
          "output_type": "error",
          "ename": "KeyboardInterrupt",
          "evalue": "ignored",
          "traceback": [
            "\u001b[0;31m---------------------------------------------------------------------------\u001b[0m",
            "\u001b[0;31mKeyboardInterrupt\u001b[0m                         Traceback (most recent call last)",
            "\u001b[0;32m<ipython-input-35-785811abb30e>\u001b[0m in \u001b[0;36m<module>\u001b[0;34m\u001b[0m\n\u001b[1;32m     10\u001b[0m \u001b[0mcv\u001b[0m \u001b[0;34m=\u001b[0m \u001b[0mRepeatedStratifiedKFold\u001b[0m\u001b[0;34m(\u001b[0m\u001b[0mn_splits\u001b[0m\u001b[0;34m=\u001b[0m\u001b[0;36m10\u001b[0m\u001b[0;34m,\u001b[0m \u001b[0mn_repeats\u001b[0m\u001b[0;34m=\u001b[0m\u001b[0;36m3\u001b[0m\u001b[0;34m,\u001b[0m \u001b[0mrandom_state\u001b[0m\u001b[0;34m=\u001b[0m\u001b[0;36m1\u001b[0m\u001b[0;34m)\u001b[0m\u001b[0;34m\u001b[0m\u001b[0;34m\u001b[0m\u001b[0m\n\u001b[1;32m     11\u001b[0m \u001b[0;31m# evaluate model\u001b[0m\u001b[0;34m\u001b[0m\u001b[0;34m\u001b[0m\u001b[0;34m\u001b[0m\u001b[0m\n\u001b[0;32m---> 12\u001b[0;31m \u001b[0mscores\u001b[0m \u001b[0;34m=\u001b[0m \u001b[0mcross_val_score\u001b[0m\u001b[0;34m(\u001b[0m\u001b[0mmodel_svm\u001b[0m\u001b[0;34m,\u001b[0m \u001b[0mX_train\u001b[0m\u001b[0;34m,\u001b[0m \u001b[0my_train\u001b[0m\u001b[0;34m,\u001b[0m \u001b[0mscoring\u001b[0m\u001b[0;34m=\u001b[0m\u001b[0;34m'roc_auc'\u001b[0m\u001b[0;34m,\u001b[0m \u001b[0mcv\u001b[0m\u001b[0;34m=\u001b[0m\u001b[0mcv\u001b[0m\u001b[0;34m,\u001b[0m \u001b[0mn_jobs\u001b[0m\u001b[0;34m=\u001b[0m\u001b[0;34m-\u001b[0m\u001b[0;36m1\u001b[0m\u001b[0;34m)\u001b[0m\u001b[0;34m\u001b[0m\u001b[0;34m\u001b[0m\u001b[0m\n\u001b[0m\u001b[1;32m     13\u001b[0m \u001b[0;31m# summarize performance\u001b[0m\u001b[0;34m\u001b[0m\u001b[0;34m\u001b[0m\u001b[0;34m\u001b[0m\u001b[0m\n\u001b[1;32m     14\u001b[0m \u001b[0mprint\u001b[0m\u001b[0;34m(\u001b[0m\u001b[0;34m'Mean ROC AUC: %.3f'\u001b[0m \u001b[0;34m%\u001b[0m \u001b[0mmean\u001b[0m\u001b[0;34m(\u001b[0m\u001b[0mscores\u001b[0m\u001b[0;34m)\u001b[0m\u001b[0;34m)\u001b[0m\u001b[0;34m\u001b[0m\u001b[0;34m\u001b[0m\u001b[0m\n",
            "\u001b[0;32m/usr/local/lib/python3.8/dist-packages/sklearn/model_selection/_validation.py\u001b[0m in \u001b[0;36mcross_val_score\u001b[0;34m(estimator, X, y, groups, scoring, cv, n_jobs, verbose, fit_params, pre_dispatch, error_score)\u001b[0m\n\u001b[1;32m    507\u001b[0m     \u001b[0mscorer\u001b[0m \u001b[0;34m=\u001b[0m \u001b[0mcheck_scoring\u001b[0m\u001b[0;34m(\u001b[0m\u001b[0mestimator\u001b[0m\u001b[0;34m,\u001b[0m \u001b[0mscoring\u001b[0m\u001b[0;34m=\u001b[0m\u001b[0mscoring\u001b[0m\u001b[0;34m)\u001b[0m\u001b[0;34m\u001b[0m\u001b[0;34m\u001b[0m\u001b[0m\n\u001b[1;32m    508\u001b[0m \u001b[0;34m\u001b[0m\u001b[0m\n\u001b[0;32m--> 509\u001b[0;31m     cv_results = cross_validate(\n\u001b[0m\u001b[1;32m    510\u001b[0m         \u001b[0mestimator\u001b[0m\u001b[0;34m=\u001b[0m\u001b[0mestimator\u001b[0m\u001b[0;34m,\u001b[0m\u001b[0;34m\u001b[0m\u001b[0;34m\u001b[0m\u001b[0m\n\u001b[1;32m    511\u001b[0m         \u001b[0mX\u001b[0m\u001b[0;34m=\u001b[0m\u001b[0mX\u001b[0m\u001b[0;34m,\u001b[0m\u001b[0;34m\u001b[0m\u001b[0;34m\u001b[0m\u001b[0m\n",
            "\u001b[0;32m/usr/local/lib/python3.8/dist-packages/sklearn/model_selection/_validation.py\u001b[0m in \u001b[0;36mcross_validate\u001b[0;34m(estimator, X, y, groups, scoring, cv, n_jobs, verbose, fit_params, pre_dispatch, return_train_score, return_estimator, error_score)\u001b[0m\n\u001b[1;32m    265\u001b[0m     \u001b[0;31m# independent, and that it is pickle-able.\u001b[0m\u001b[0;34m\u001b[0m\u001b[0;34m\u001b[0m\u001b[0;34m\u001b[0m\u001b[0m\n\u001b[1;32m    266\u001b[0m     \u001b[0mparallel\u001b[0m \u001b[0;34m=\u001b[0m \u001b[0mParallel\u001b[0m\u001b[0;34m(\u001b[0m\u001b[0mn_jobs\u001b[0m\u001b[0;34m=\u001b[0m\u001b[0mn_jobs\u001b[0m\u001b[0;34m,\u001b[0m \u001b[0mverbose\u001b[0m\u001b[0;34m=\u001b[0m\u001b[0mverbose\u001b[0m\u001b[0;34m,\u001b[0m \u001b[0mpre_dispatch\u001b[0m\u001b[0;34m=\u001b[0m\u001b[0mpre_dispatch\u001b[0m\u001b[0;34m)\u001b[0m\u001b[0;34m\u001b[0m\u001b[0;34m\u001b[0m\u001b[0m\n\u001b[0;32m--> 267\u001b[0;31m     results = parallel(\n\u001b[0m\u001b[1;32m    268\u001b[0m         delayed(_fit_and_score)(\n\u001b[1;32m    269\u001b[0m             \u001b[0mclone\u001b[0m\u001b[0;34m(\u001b[0m\u001b[0mestimator\u001b[0m\u001b[0;34m)\u001b[0m\u001b[0;34m,\u001b[0m\u001b[0;34m\u001b[0m\u001b[0;34m\u001b[0m\u001b[0m\n",
            "\u001b[0;32m/usr/local/lib/python3.8/dist-packages/joblib/parallel.py\u001b[0m in \u001b[0;36m__call__\u001b[0;34m(self, iterable)\u001b[0m\n\u001b[1;32m   1096\u001b[0m \u001b[0;34m\u001b[0m\u001b[0m\n\u001b[1;32m   1097\u001b[0m             \u001b[0;32mwith\u001b[0m \u001b[0mself\u001b[0m\u001b[0;34m.\u001b[0m\u001b[0m_backend\u001b[0m\u001b[0;34m.\u001b[0m\u001b[0mretrieval_context\u001b[0m\u001b[0;34m(\u001b[0m\u001b[0;34m)\u001b[0m\u001b[0;34m:\u001b[0m\u001b[0;34m\u001b[0m\u001b[0;34m\u001b[0m\u001b[0m\n\u001b[0;32m-> 1098\u001b[0;31m                 \u001b[0mself\u001b[0m\u001b[0;34m.\u001b[0m\u001b[0mretrieve\u001b[0m\u001b[0;34m(\u001b[0m\u001b[0;34m)\u001b[0m\u001b[0;34m\u001b[0m\u001b[0;34m\u001b[0m\u001b[0m\n\u001b[0m\u001b[1;32m   1099\u001b[0m             \u001b[0;31m# Make sure that we get a last message telling us we are done\u001b[0m\u001b[0;34m\u001b[0m\u001b[0;34m\u001b[0m\u001b[0;34m\u001b[0m\u001b[0m\n\u001b[1;32m   1100\u001b[0m             \u001b[0melapsed_time\u001b[0m \u001b[0;34m=\u001b[0m \u001b[0mtime\u001b[0m\u001b[0;34m.\u001b[0m\u001b[0mtime\u001b[0m\u001b[0;34m(\u001b[0m\u001b[0;34m)\u001b[0m \u001b[0;34m-\u001b[0m \u001b[0mself\u001b[0m\u001b[0;34m.\u001b[0m\u001b[0m_start_time\u001b[0m\u001b[0;34m\u001b[0m\u001b[0;34m\u001b[0m\u001b[0m\n",
            "\u001b[0;32m/usr/local/lib/python3.8/dist-packages/joblib/parallel.py\u001b[0m in \u001b[0;36mretrieve\u001b[0;34m(self)\u001b[0m\n\u001b[1;32m    973\u001b[0m             \u001b[0;32mtry\u001b[0m\u001b[0;34m:\u001b[0m\u001b[0;34m\u001b[0m\u001b[0;34m\u001b[0m\u001b[0m\n\u001b[1;32m    974\u001b[0m                 \u001b[0;32mif\u001b[0m \u001b[0mgetattr\u001b[0m\u001b[0;34m(\u001b[0m\u001b[0mself\u001b[0m\u001b[0;34m.\u001b[0m\u001b[0m_backend\u001b[0m\u001b[0;34m,\u001b[0m \u001b[0;34m'supports_timeout'\u001b[0m\u001b[0;34m,\u001b[0m \u001b[0;32mFalse\u001b[0m\u001b[0;34m)\u001b[0m\u001b[0;34m:\u001b[0m\u001b[0;34m\u001b[0m\u001b[0;34m\u001b[0m\u001b[0m\n\u001b[0;32m--> 975\u001b[0;31m                     \u001b[0mself\u001b[0m\u001b[0;34m.\u001b[0m\u001b[0m_output\u001b[0m\u001b[0;34m.\u001b[0m\u001b[0mextend\u001b[0m\u001b[0;34m(\u001b[0m\u001b[0mjob\u001b[0m\u001b[0;34m.\u001b[0m\u001b[0mget\u001b[0m\u001b[0;34m(\u001b[0m\u001b[0mtimeout\u001b[0m\u001b[0;34m=\u001b[0m\u001b[0mself\u001b[0m\u001b[0;34m.\u001b[0m\u001b[0mtimeout\u001b[0m\u001b[0;34m)\u001b[0m\u001b[0;34m)\u001b[0m\u001b[0;34m\u001b[0m\u001b[0;34m\u001b[0m\u001b[0m\n\u001b[0m\u001b[1;32m    976\u001b[0m                 \u001b[0;32melse\u001b[0m\u001b[0;34m:\u001b[0m\u001b[0;34m\u001b[0m\u001b[0;34m\u001b[0m\u001b[0m\n\u001b[1;32m    977\u001b[0m                     \u001b[0mself\u001b[0m\u001b[0;34m.\u001b[0m\u001b[0m_output\u001b[0m\u001b[0;34m.\u001b[0m\u001b[0mextend\u001b[0m\u001b[0;34m(\u001b[0m\u001b[0mjob\u001b[0m\u001b[0;34m.\u001b[0m\u001b[0mget\u001b[0m\u001b[0;34m(\u001b[0m\u001b[0;34m)\u001b[0m\u001b[0;34m)\u001b[0m\u001b[0;34m\u001b[0m\u001b[0;34m\u001b[0m\u001b[0m\n",
            "\u001b[0;32m/usr/local/lib/python3.8/dist-packages/joblib/_parallel_backends.py\u001b[0m in \u001b[0;36mwrap_future_result\u001b[0;34m(future, timeout)\u001b[0m\n\u001b[1;32m    565\u001b[0m         AsyncResults.get from multiprocessing.\"\"\"\n\u001b[1;32m    566\u001b[0m         \u001b[0;32mtry\u001b[0m\u001b[0;34m:\u001b[0m\u001b[0;34m\u001b[0m\u001b[0;34m\u001b[0m\u001b[0m\n\u001b[0;32m--> 567\u001b[0;31m             \u001b[0;32mreturn\u001b[0m \u001b[0mfuture\u001b[0m\u001b[0;34m.\u001b[0m\u001b[0mresult\u001b[0m\u001b[0;34m(\u001b[0m\u001b[0mtimeout\u001b[0m\u001b[0;34m=\u001b[0m\u001b[0mtimeout\u001b[0m\u001b[0;34m)\u001b[0m\u001b[0;34m\u001b[0m\u001b[0;34m\u001b[0m\u001b[0m\n\u001b[0m\u001b[1;32m    568\u001b[0m         \u001b[0;32mexcept\u001b[0m \u001b[0mCfTimeoutError\u001b[0m \u001b[0;32mas\u001b[0m \u001b[0me\u001b[0m\u001b[0;34m:\u001b[0m\u001b[0;34m\u001b[0m\u001b[0;34m\u001b[0m\u001b[0m\n\u001b[1;32m    569\u001b[0m             \u001b[0;32mraise\u001b[0m \u001b[0mTimeoutError\u001b[0m \u001b[0;32mfrom\u001b[0m \u001b[0me\u001b[0m\u001b[0;34m\u001b[0m\u001b[0;34m\u001b[0m\u001b[0m\n",
            "\u001b[0;32m/usr/lib/python3.8/concurrent/futures/_base.py\u001b[0m in \u001b[0;36mresult\u001b[0;34m(self, timeout)\u001b[0m\n\u001b[1;32m    437\u001b[0m                     \u001b[0;32mreturn\u001b[0m \u001b[0mself\u001b[0m\u001b[0;34m.\u001b[0m\u001b[0m__get_result\u001b[0m\u001b[0;34m(\u001b[0m\u001b[0;34m)\u001b[0m\u001b[0;34m\u001b[0m\u001b[0;34m\u001b[0m\u001b[0m\n\u001b[1;32m    438\u001b[0m \u001b[0;34m\u001b[0m\u001b[0m\n\u001b[0;32m--> 439\u001b[0;31m                 \u001b[0mself\u001b[0m\u001b[0;34m.\u001b[0m\u001b[0m_condition\u001b[0m\u001b[0;34m.\u001b[0m\u001b[0mwait\u001b[0m\u001b[0;34m(\u001b[0m\u001b[0mtimeout\u001b[0m\u001b[0;34m)\u001b[0m\u001b[0;34m\u001b[0m\u001b[0;34m\u001b[0m\u001b[0m\n\u001b[0m\u001b[1;32m    440\u001b[0m \u001b[0;34m\u001b[0m\u001b[0m\n\u001b[1;32m    441\u001b[0m                 \u001b[0;32mif\u001b[0m \u001b[0mself\u001b[0m\u001b[0;34m.\u001b[0m\u001b[0m_state\u001b[0m \u001b[0;32min\u001b[0m \u001b[0;34m[\u001b[0m\u001b[0mCANCELLED\u001b[0m\u001b[0;34m,\u001b[0m \u001b[0mCANCELLED_AND_NOTIFIED\u001b[0m\u001b[0;34m]\u001b[0m\u001b[0;34m:\u001b[0m\u001b[0;34m\u001b[0m\u001b[0;34m\u001b[0m\u001b[0m\n",
            "\u001b[0;32m/usr/lib/python3.8/threading.py\u001b[0m in \u001b[0;36mwait\u001b[0;34m(self, timeout)\u001b[0m\n\u001b[1;32m    300\u001b[0m         \u001b[0;32mtry\u001b[0m\u001b[0;34m:\u001b[0m    \u001b[0;31m# restore state no matter what (e.g., KeyboardInterrupt)\u001b[0m\u001b[0;34m\u001b[0m\u001b[0;34m\u001b[0m\u001b[0m\n\u001b[1;32m    301\u001b[0m             \u001b[0;32mif\u001b[0m \u001b[0mtimeout\u001b[0m \u001b[0;32mis\u001b[0m \u001b[0;32mNone\u001b[0m\u001b[0;34m:\u001b[0m\u001b[0;34m\u001b[0m\u001b[0;34m\u001b[0m\u001b[0m\n\u001b[0;32m--> 302\u001b[0;31m                 \u001b[0mwaiter\u001b[0m\u001b[0;34m.\u001b[0m\u001b[0macquire\u001b[0m\u001b[0;34m(\u001b[0m\u001b[0;34m)\u001b[0m\u001b[0;34m\u001b[0m\u001b[0;34m\u001b[0m\u001b[0m\n\u001b[0m\u001b[1;32m    303\u001b[0m                 \u001b[0mgotit\u001b[0m \u001b[0;34m=\u001b[0m \u001b[0;32mTrue\u001b[0m\u001b[0;34m\u001b[0m\u001b[0;34m\u001b[0m\u001b[0m\n\u001b[1;32m    304\u001b[0m             \u001b[0;32melse\u001b[0m\u001b[0;34m:\u001b[0m\u001b[0;34m\u001b[0m\u001b[0;34m\u001b[0m\u001b[0m\n",
            "\u001b[0;31mKeyboardInterrupt\u001b[0m: "
          ]
        }
      ]
    },
    {
      "cell_type": "code",
      "source": [
        "# svm with class weight on an imbalanced classification dataset\n",
        "from numpy import mean\n",
        "from sklearn.datasets import make_classification\n",
        "from sklearn.model_selection import cross_val_score\n",
        "from sklearn.model_selection import RepeatedStratifiedKFold\n",
        "from sklearn.svm import SVC\n",
        "# define model\n",
        "weights_assigned_svm={0:1,1:230}\n",
        "model_svm = SVC(gamma='scale', class_weight=weights_assigned_svm)\n",
        "\n",
        "# Fitting the classifier on training data\n",
        "model_svm.fit(X_train, y_train)\n",
        "\n",
        "# Making predictions on test data\n",
        "y_pred_svm = model_svm.predict(X_test)\n",
        "\n",
        "from sklearn.metrics import classification_report\n",
        "\n",
        "print(classification_report(y_test, y_pred_svm))\n",
        "\n",
        "from sklearn.metrics import confusion_matrix\n",
        "\n",
        "# Print the confusion matrix\n",
        "cm = confusion_matrix(y_test, y_pred_svm)\n",
        "print(cm)"
      ],
      "metadata": {
        "colab": {
          "base_uri": "https://localhost:8080/"
        },
        "id": "BQubmk0WOlq2",
        "outputId": "974aa4f8-1d34-4b25-d752-f5ee9f393a02"
      },
      "execution_count": null,
      "outputs": [
        {
          "output_type": "stream",
          "name": "stdout",
          "text": [
            "              precision    recall  f1-score   support\n",
            "\n",
            "           0       1.00      0.81      0.89     22001\n",
            "           1       0.01      0.32      0.01        96\n",
            "\n",
            "    accuracy                           0.80     22097\n",
            "   macro avg       0.50      0.56      0.45     22097\n",
            "weighted avg       0.99      0.80      0.89     22097\n",
            "\n",
            "[[17713  4288]\n",
            " [   65    31]]\n"
          ]
        }
      ]
    },
    {
      "cell_type": "markdown",
      "source": [
        "# Decision Trees very bad"
      ],
      "metadata": {
        "id": "8iB41mW-dNvN"
      }
    },
    {
      "cell_type": "code",
      "source": [
        "# decision tree with class weight on an imbalanced classification dataset\n",
        "from numpy import mean\n",
        "from sklearn.datasets import make_classification\n",
        "from sklearn.model_selection import cross_val_score\n",
        "from sklearn.model_selection import RepeatedStratifiedKFold\n",
        "from sklearn.tree import DecisionTreeClassifier\n",
        "# define model\n",
        "weights_assigned_dt={0:1,1:300}\n",
        "model_dt = DecisionTreeClassifier(class_weight=weights_assigned_dt)\n",
        "# define evaluation procedure\n",
        "cv = RepeatedStratifiedKFold(n_splits=10, n_repeats=3, random_state=1)\n",
        "# evaluate model\n",
        "scores = cross_val_score(model_dt, X_train, y_train, scoring='roc_auc', cv=cv, n_jobs=-1)\n",
        "# summarize performance\n",
        "print('Mean ROC AUC: %.3f' % mean(scores))"
      ],
      "metadata": {
        "colab": {
          "base_uri": "https://localhost:8080/"
        },
        "id": "p_i3PJm3dTFd",
        "outputId": "0a51fd95-b018-44cf-83cf-99ff068664e0"
      },
      "execution_count": null,
      "outputs": [
        {
          "output_type": "stream",
          "name": "stdout",
          "text": [
            "Mean ROC AUC: 0.516\n"
          ]
        }
      ]
    },
    {
      "cell_type": "code",
      "source": [
        "# Fitting the classifier on training data\n",
        "model_dt.fit(X_train, y_train)\n",
        "\n",
        "# Making predictions on test data\n",
        "y_pred_dt = model_dt.predict(X_test)\n",
        "\n",
        "from sklearn.metrics import classification_report\n",
        "\n",
        "print(classification_report(y_test, y_pred_dt))\n",
        "\n",
        "from sklearn.metrics import confusion_matrix\n",
        "\n",
        "# Print the confusion matrix\n",
        "cm = confusion_matrix(y_test, y_pred_dt)\n",
        "print(cm)"
      ],
      "metadata": {
        "colab": {
          "base_uri": "https://localhost:8080/"
        },
        "id": "MGVPz2o7dZOU",
        "outputId": "7536a445-9d34-47c3-afe3-3bfe7af97155"
      },
      "execution_count": null,
      "outputs": [
        {
          "output_type": "stream",
          "name": "stdout",
          "text": [
            "              precision    recall  f1-score   support\n",
            "\n",
            "           0       1.00      1.00      1.00     22001\n",
            "           1       0.01      0.01      0.01        96\n",
            "\n",
            "    accuracy                           0.99     22097\n",
            "   macro avg       0.50      0.50      0.50     22097\n",
            "weighted avg       0.99      0.99      0.99     22097\n",
            "\n",
            "[[21897   104]\n",
            " [   95     1]]\n"
          ]
        }
      ]
    }
  ],
  "metadata": {
    "kernelspec": {
      "display_name": "Python 3",
      "language": "python",
      "name": "python3"
    },
    "language_info": {
      "codemirror_mode": {
        "name": "ipython",
        "version": 3
      },
      "file_extension": ".py",
      "mimetype": "text/x-python",
      "name": "python",
      "nbconvert_exporter": "python",
      "pygments_lexer": "ipython3",
      "version": "3.7.7"
    },
    "colab": {
      "provenance": [],
      "collapsed_sections": [
        "Tk4ZOzw-O7oS",
        "F9UmHIQvf6YG",
        "aSzzkMktlI7r",
        "6P--HzJX4cNY",
        "zcd0N_w5dOso",
        "HiQInmURduNY",
        "_z59aOcTAEhK",
        "6pbIG57lOYmm",
        "8iB41mW-dNvN"
      ]
    },
    "gpuClass": "standard"
  },
  "nbformat": 4,
  "nbformat_minor": 0
}
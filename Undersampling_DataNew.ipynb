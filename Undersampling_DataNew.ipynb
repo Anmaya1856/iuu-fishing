{
  "cells": [
    {
      "cell_type": "markdown",
      "metadata": {
        "id": "j3dKmFb1fDL-"
      },
      "source": [
        "# Importing Dataset and pre processing"
      ]
    },
    {
      "cell_type": "code",
      "execution_count": null,
      "metadata": {
        "colab": {
          "base_uri": "https://localhost:8080/",
          "height": 250
        },
        "id": "W0XR2-q8fDMD",
        "outputId": "858aa0c8-6254-402b-cf72-29ae26255efe"
      },
      "outputs": [
        {
          "output_type": "execute_result",
          "data": {
            "text/plain": [
              "   gap_hours  iuu_caught  spherical_distances  eez_check  \\\n",
              "0  13.016667           0           207.942845          0   \n",
              "1  13.850000           0             9.704232          0   \n",
              "2  33.733333           0            10.789069          1   \n",
              "3  30.650000           0            11.695860          1   \n",
              "4  50.283333           0            93.113335          1   \n",
              "\n",
              "  exact _name new from diff Oceans      gear type      speed  \\\n",
              "0             North Atlantic Ocean  pole_and_line  15.975123   \n",
              "1             South Atlantic Ocean        fishing   0.700667   \n",
              "2             North Atlantic Ocean  pole_and_line   0.319834   \n",
              "3             North Atlantic Ocean  pole_and_line   0.381594   \n",
              "4             North Atlantic Ocean  pole_and_line   1.851773   \n",
              "\n",
              "  ais_disable_time_division  \n",
              "0                   Morning  \n",
              "1                      Dawn  \n",
              "2                      Dawn  \n",
              "3                 Afternoon  \n",
              "4                 Afternoon  "
            ],
            "text/html": [
              "\n",
              "  <div id=\"df-97b73220-9e25-4fa1-92d3-207167b66a43\">\n",
              "    <div class=\"colab-df-container\">\n",
              "      <div>\n",
              "<style scoped>\n",
              "    .dataframe tbody tr th:only-of-type {\n",
              "        vertical-align: middle;\n",
              "    }\n",
              "\n",
              "    .dataframe tbody tr th {\n",
              "        vertical-align: top;\n",
              "    }\n",
              "\n",
              "    .dataframe thead th {\n",
              "        text-align: right;\n",
              "    }\n",
              "</style>\n",
              "<table border=\"1\" class=\"dataframe\">\n",
              "  <thead>\n",
              "    <tr style=\"text-align: right;\">\n",
              "      <th></th>\n",
              "      <th>gap_hours</th>\n",
              "      <th>iuu_caught</th>\n",
              "      <th>spherical_distances</th>\n",
              "      <th>eez_check</th>\n",
              "      <th>exact _name new from diff Oceans</th>\n",
              "      <th>gear type</th>\n",
              "      <th>speed</th>\n",
              "      <th>ais_disable_time_division</th>\n",
              "    </tr>\n",
              "  </thead>\n",
              "  <tbody>\n",
              "    <tr>\n",
              "      <th>0</th>\n",
              "      <td>13.016667</td>\n",
              "      <td>0</td>\n",
              "      <td>207.942845</td>\n",
              "      <td>0</td>\n",
              "      <td>North Atlantic Ocean</td>\n",
              "      <td>pole_and_line</td>\n",
              "      <td>15.975123</td>\n",
              "      <td>Morning</td>\n",
              "    </tr>\n",
              "    <tr>\n",
              "      <th>1</th>\n",
              "      <td>13.850000</td>\n",
              "      <td>0</td>\n",
              "      <td>9.704232</td>\n",
              "      <td>0</td>\n",
              "      <td>South Atlantic Ocean</td>\n",
              "      <td>fishing</td>\n",
              "      <td>0.700667</td>\n",
              "      <td>Dawn</td>\n",
              "    </tr>\n",
              "    <tr>\n",
              "      <th>2</th>\n",
              "      <td>33.733333</td>\n",
              "      <td>0</td>\n",
              "      <td>10.789069</td>\n",
              "      <td>1</td>\n",
              "      <td>North Atlantic Ocean</td>\n",
              "      <td>pole_and_line</td>\n",
              "      <td>0.319834</td>\n",
              "      <td>Dawn</td>\n",
              "    </tr>\n",
              "    <tr>\n",
              "      <th>3</th>\n",
              "      <td>30.650000</td>\n",
              "      <td>0</td>\n",
              "      <td>11.695860</td>\n",
              "      <td>1</td>\n",
              "      <td>North Atlantic Ocean</td>\n",
              "      <td>pole_and_line</td>\n",
              "      <td>0.381594</td>\n",
              "      <td>Afternoon</td>\n",
              "    </tr>\n",
              "    <tr>\n",
              "      <th>4</th>\n",
              "      <td>50.283333</td>\n",
              "      <td>0</td>\n",
              "      <td>93.113335</td>\n",
              "      <td>1</td>\n",
              "      <td>North Atlantic Ocean</td>\n",
              "      <td>pole_and_line</td>\n",
              "      <td>1.851773</td>\n",
              "      <td>Afternoon</td>\n",
              "    </tr>\n",
              "  </tbody>\n",
              "</table>\n",
              "</div>\n",
              "      <button class=\"colab-df-convert\" onclick=\"convertToInteractive('df-97b73220-9e25-4fa1-92d3-207167b66a43')\"\n",
              "              title=\"Convert this dataframe to an interactive table.\"\n",
              "              style=\"display:none;\">\n",
              "        \n",
              "  <svg xmlns=\"http://www.w3.org/2000/svg\" height=\"24px\"viewBox=\"0 0 24 24\"\n",
              "       width=\"24px\">\n",
              "    <path d=\"M0 0h24v24H0V0z\" fill=\"none\"/>\n",
              "    <path d=\"M18.56 5.44l.94 2.06.94-2.06 2.06-.94-2.06-.94-.94-2.06-.94 2.06-2.06.94zm-11 1L8.5 8.5l.94-2.06 2.06-.94-2.06-.94L8.5 2.5l-.94 2.06-2.06.94zm10 10l.94 2.06.94-2.06 2.06-.94-2.06-.94-.94-2.06-.94 2.06-2.06.94z\"/><path d=\"M17.41 7.96l-1.37-1.37c-.4-.4-.92-.59-1.43-.59-.52 0-1.04.2-1.43.59L10.3 9.45l-7.72 7.72c-.78.78-.78 2.05 0 2.83L4 21.41c.39.39.9.59 1.41.59.51 0 1.02-.2 1.41-.59l7.78-7.78 2.81-2.81c.8-.78.8-2.07 0-2.86zM5.41 20L4 18.59l7.72-7.72 1.47 1.35L5.41 20z\"/>\n",
              "  </svg>\n",
              "      </button>\n",
              "      \n",
              "  <style>\n",
              "    .colab-df-container {\n",
              "      display:flex;\n",
              "      flex-wrap:wrap;\n",
              "      gap: 12px;\n",
              "    }\n",
              "\n",
              "    .colab-df-convert {\n",
              "      background-color: #E8F0FE;\n",
              "      border: none;\n",
              "      border-radius: 50%;\n",
              "      cursor: pointer;\n",
              "      display: none;\n",
              "      fill: #1967D2;\n",
              "      height: 32px;\n",
              "      padding: 0 0 0 0;\n",
              "      width: 32px;\n",
              "    }\n",
              "\n",
              "    .colab-df-convert:hover {\n",
              "      background-color: #E2EBFA;\n",
              "      box-shadow: 0px 1px 2px rgba(60, 64, 67, 0.3), 0px 1px 3px 1px rgba(60, 64, 67, 0.15);\n",
              "      fill: #174EA6;\n",
              "    }\n",
              "\n",
              "    [theme=dark] .colab-df-convert {\n",
              "      background-color: #3B4455;\n",
              "      fill: #D2E3FC;\n",
              "    }\n",
              "\n",
              "    [theme=dark] .colab-df-convert:hover {\n",
              "      background-color: #434B5C;\n",
              "      box-shadow: 0px 1px 3px 1px rgba(0, 0, 0, 0.15);\n",
              "      filter: drop-shadow(0px 1px 2px rgba(0, 0, 0, 0.3));\n",
              "      fill: #FFFFFF;\n",
              "    }\n",
              "  </style>\n",
              "\n",
              "      <script>\n",
              "        const buttonEl =\n",
              "          document.querySelector('#df-97b73220-9e25-4fa1-92d3-207167b66a43 button.colab-df-convert');\n",
              "        buttonEl.style.display =\n",
              "          google.colab.kernel.accessAllowed ? 'block' : 'none';\n",
              "\n",
              "        async function convertToInteractive(key) {\n",
              "          const element = document.querySelector('#df-97b73220-9e25-4fa1-92d3-207167b66a43');\n",
              "          const dataTable =\n",
              "            await google.colab.kernel.invokeFunction('convertToInteractive',\n",
              "                                                     [key], {});\n",
              "          if (!dataTable) return;\n",
              "\n",
              "          const docLinkHtml = 'Like what you see? Visit the ' +\n",
              "            '<a target=\"_blank\" href=https://colab.research.google.com/notebooks/data_table.ipynb>data table notebook</a>'\n",
              "            + ' to learn more about interactive tables.';\n",
              "          element.innerHTML = '';\n",
              "          dataTable['output_type'] = 'display_data';\n",
              "          await google.colab.output.renderOutput(dataTable, element);\n",
              "          const docLink = document.createElement('div');\n",
              "          docLink.innerHTML = docLinkHtml;\n",
              "          element.appendChild(docLink);\n",
              "        }\n",
              "      </script>\n",
              "    </div>\n",
              "  </div>\n",
              "  "
            ]
          },
          "metadata": {},
          "execution_count": 43
        }
      ],
      "source": [
        "import pandas as pd\n",
        "df=pd.read_csv('ais_disabling_events_final.csv')\n",
        "df = df.drop('score', axis=1)\n",
        "df.head()"
      ]
    },
    {
      "cell_type": "code",
      "execution_count": null,
      "metadata": {
        "colab": {
          "base_uri": "https://localhost:8080/"
        },
        "id": "LV4xM8xNfDMF",
        "outputId": "b0dd2e35-6e0d-4063-fc12-3e70aeed5735"
      },
      "outputs": [
        {
          "output_type": "execute_result",
          "data": {
            "text/plain": [
              "(55368, 8)"
            ]
          },
          "metadata": {},
          "execution_count": 44
        }
      ],
      "source": [
        "df.shape"
      ]
    },
    {
      "cell_type": "code",
      "execution_count": null,
      "metadata": {
        "colab": {
          "base_uri": "https://localhost:8080/"
        },
        "id": "u57ZoDMefDMG",
        "outputId": "3dc7c26d-8f2c-4bd6-9e61-6d0a355d8424"
      },
      "outputs": [
        {
          "output_type": "execute_result",
          "data": {
            "text/plain": [
              "0    55129\n",
              "1      239\n",
              "Name: iuu_caught, dtype: int64"
            ]
          },
          "metadata": {},
          "execution_count": 45
        }
      ],
      "source": [
        "df['iuu_caught'].value_counts()"
      ]
    },
    {
      "cell_type": "code",
      "source": [
        "import seaborn as sns\n",
        "\n",
        "sns.lmplot(x='gap_hours', y='spherical_distances', hue='iuu_caught', \n",
        "           markers=['x', 'o'],\n",
        "           fit_reg=False, data=df)"
      ],
      "metadata": {
        "colab": {
          "base_uri": "https://localhost:8080/",
          "height": 386
        },
        "id": "AIugNCCN1Zxz",
        "outputId": "cfa09bae-5d78-41ca-b390-8d2caa351c32"
      },
      "execution_count": null,
      "outputs": [
        {
          "output_type": "execute_result",
          "data": {
            "text/plain": [
              "<seaborn.axisgrid.FacetGrid at 0x7fd7066797c0>"
            ]
          },
          "metadata": {},
          "execution_count": 46
        },
        {
          "output_type": "display_data",
          "data": {
            "text/plain": [
              "<Figure size 423.25x360 with 1 Axes>"
            ],
            "image/png": "[encoded data removed]"
          },
          "metadata": {
            "needs_background": "light"
          }
        }
      ]
    },
    {
      "cell_type": "code",
      "source": [
        "index_names = df[df['gap_hours'] >= 5000].index\n",
        "df.drop(index_names, inplace = True)\n",
        "\n",
        "index_names = df[df['spherical_distances'] >= 7000].index\n",
        "df.drop(index_names, inplace = True)"
      ],
      "metadata": {
        "id": "_lPooqKfCSqZ"
      },
      "execution_count": null,
      "outputs": []
    },
    {
      "cell_type": "code",
      "source": [
        "import seaborn as sns\n",
        "\n",
        "sns.lmplot(x='gap_hours', y='spherical_distances', hue='iuu_caught', \n",
        "           markers=['x', 'o'],\n",
        "           fit_reg=False, data=df)"
      ],
      "metadata": {
        "colab": {
          "base_uri": "https://localhost:8080/",
          "height": 386
        },
        "id": "OhSSdRauCqaU",
        "outputId": "6f6bdab9-8ace-4836-91ad-996993e59c69"
      },
      "execution_count": null,
      "outputs": [
        {
          "output_type": "execute_result",
          "data": {
            "text/plain": [
              "<seaborn.axisgrid.FacetGrid at 0x7fd706670760>"
            ]
          },
          "metadata": {},
          "execution_count": 48
        },
        {
          "output_type": "display_data",
          "data": {
            "text/plain": [
              "<Figure size 423.25x360 with 1 Axes>"
            ],
            "image/png": "[encoded data removed]"
          },
          "metadata": {
            "needs_background": "light"
          }
        }
      ]
    },
    {
      "cell_type": "code",
      "source": [
        "import pandas as pd\n",
        "import numpy as np\n",
        "import matplotlib.pyplot as plt\n",
        "import seaborn as sns\n",
        "\n",
        "# run correlation matrix and plot\n",
        "f, ax = plt.subplots(figsize=(10, 8))\n",
        "corr = df.corr()\n",
        "sns.heatmap(corr, mask=np.zeros_like(corr, dtype=np.bool),\n",
        "            cmap=sns.diverging_palette(220, 10, as_cmap=True),\n",
        "            square=True, ax=ax)\n",
        "\n",
        "\n",
        "matrix = df.corr()\n",
        "print(\"Correlation matrix is : \")\n",
        "print(matrix)"
      ],
      "metadata": {
        "colab": {
          "base_uri": "https://localhost:8080/",
          "height": 803
        },
        "id": "xWst-loT9bUO",
        "outputId": "48323363-f9c5-481e-b800-40502a45acc3"
      },
      "execution_count": null,
      "outputs": [
        {
          "output_type": "stream",
          "name": "stderr",
          "text": [
            "<ipython-input-49-d755c1f20fae>:9: DeprecationWarning: `np.bool` is a deprecated alias for the builtin `bool`. To silence this warning, use `bool` by itself. Doing this will not modify any behavior and is safe. If you specifically wanted the numpy scalar type, use `np.bool_` here.\n",
            "Deprecated in NumPy 1.20; for more details and guidance: https://numpy.org/devdocs/release/1.20.0-notes.html#deprecations\n",
            "  sns.heatmap(corr, mask=np.zeros_like(corr, dtype=np.bool),\n"
          ]
        },
        {
          "output_type": "stream",
          "name": "stdout",
          "text": [
            "Correlation matrix is : \n",
            "                     gap_hours  iuu_caught  spherical_distances  eez_check  \\\n",
            "gap_hours             1.000000    0.026771             0.432375   0.036147   \n",
            "iuu_caught            0.026771    1.000000             0.021905  -0.013338   \n",
            "spherical_distances   0.432375    0.021905             1.000000   0.065051   \n",
            "eez_check             0.036147   -0.013338             0.065051   1.000000   \n",
            "speed                -0.124339   -0.003477             0.357743   0.083598   \n",
            "\n",
            "                        speed  \n",
            "gap_hours           -0.124339  \n",
            "iuu_caught          -0.003477  \n",
            "spherical_distances  0.357743  \n",
            "eez_check            0.083598  \n",
            "speed                1.000000  \n"
          ]
        },
        {
          "output_type": "display_data",
          "data": {
            "text/plain": [
              "<Figure size 720x576 with 2 Axes>"
            ],
            "image/png": "[encoded data removed]"
          },
          "metadata": {
            "needs_background": "light"
          }
        }
      ]
    },
    {
      "cell_type": "markdown",
      "source": [
        "## One Hot Encoding\n"
      ],
      "metadata": {
        "id": "vbqkc3pmydxl"
      }
    },
    {
      "cell_type": "code",
      "source": [
        "print(df['gear type'].unique())\n",
        "print(df['exact _name new from diff Oceans'].unique())\n",
        "print(df['ais_disable_time_division'].unique())"
      ],
      "metadata": {
        "colab": {
          "base_uri": "https://localhost:8080/"
        },
        "id": "yyMFweZYi5-T",
        "outputId": "cc2a8873-b610-487c-a788-d01194fd5ca7"
      },
      "execution_count": null,
      "outputs": [
        {
          "output_type": "stream",
          "name": "stdout",
          "text": [
            "['pole_and_line' 'fishing' 'set_longlines' 'fixed_gear' 'set_gillnets'\n",
            " 'pots_and_traps' 'seiners' 'other_purse_seines' 'purse_seines' 'trollers'\n",
            " 'dredge_fishing' 'drifting_longlines' 'other' 'trawlers' 'other_seines'\n",
            " 'squid_jigger' 'tuna_purse_seines']\n",
            "['North Atlantic Ocean' 'South Atlantic Ocean' 'Celtic Sea'\n",
            " 'Southern Ocean' 'Mediterranean Sea - Eastern Basin' 'Norwegian Sea'\n",
            " 'Barentsz Sea' 'Sea of Okhotsk' 'Japan Sea' 'Bering Sea' 'Gulf of Alaska'\n",
            " 'Labrador Sea' 'Davis Strait' 'North Pacific Ocean' 'South Pacific Ocean'\n",
            " 'Arafura Sea' 'Arabian Sea' 'Indian Ocean' 'Tasman Sea' 'Bismarck Sea'\n",
            " 'Gulf of Guinea' 'Coral Sea' 'Bay of Bengal' 'Great Australian Bight'\n",
            " 'Mozambique Channel' 'Caribbean Sea' 'Philippine Sea' 'Timor Sea'\n",
            " 'Greenland Sea' 'North Sea' 'Laccadive Sea' 'Bass Strait'\n",
            " 'Gulf of St. Lawrence' 'Baffin Bay' 'Gulf of Mexico' 'Solomon Sea']\n",
            "['Morning' 'Dawn' 'Afternoon' 'Night' 'Twilight' 'Evening']\n"
          ]
        }
      ]
    },
    {
      "cell_type": "code",
      "source": [
        "print(df['gear type'].value_counts())\n",
        "print(df['exact _name new from diff Oceans'].value_counts())\n",
        "print(df['ais_disable_time_division'].value_counts())"
      ],
      "metadata": {
        "colab": {
          "base_uri": "https://localhost:8080/"
        },
        "id": "NMZkweLBkgix",
        "outputId": "2b44fabb-fcec-45d3-d5b6-65506331afc3"
      },
      "execution_count": null,
      "outputs": [
        {
          "output_type": "stream",
          "name": "stdout",
          "text": [
            "drifting_longlines    18602\n",
            "squid_jigger          15450\n",
            "tuna_purse_seines      8596\n",
            "trawlers               7887\n",
            "fishing                1906\n",
            "set_longlines          1317\n",
            "pole_and_line           597\n",
            "pots_and_traps          386\n",
            "fixed_gear              180\n",
            "set_gillnets             81\n",
            "purse_seines             75\n",
            "trollers                 72\n",
            "other                    34\n",
            "other_purse_seines       30\n",
            "dredge_fishing           24\n",
            "seiners                   2\n",
            "other_seines              2\n",
            "Name: gear type, dtype: int64\n",
            "North Pacific Ocean                  16068\n",
            "South Pacific Ocean                  13352\n",
            "South Atlantic Ocean                 11070\n",
            "Indian Ocean                          5737\n",
            "North Atlantic Ocean                  4741\n",
            "Bering Sea                            1169\n",
            "Coral Sea                              398\n",
            "Sea of Okhotsk                         374\n",
            "Barentsz Sea                           331\n",
            "Gulf of Guinea                         287\n",
            "Celtic Sea                             276\n",
            "Arabian Sea                            225\n",
            "Philippine Sea                         208\n",
            "Tasman Sea                             146\n",
            "Solomon Sea                            120\n",
            "Norwegian Sea                          119\n",
            "Southern Ocean                         114\n",
            "Gulf of Alaska                          95\n",
            "Great Australian Bight                  79\n",
            "Mozambique Channel                      78\n",
            "Japan Sea                               55\n",
            "Bismarck Sea                            48\n",
            "Davis Strait                            40\n",
            "Labrador Sea                            27\n",
            "Arafura Sea                             20\n",
            "Caribbean Sea                           16\n",
            "Timor Sea                               15\n",
            "Mediterranean Sea - Eastern Basin       11\n",
            "Greenland Sea                            8\n",
            "North Sea                                5\n",
            "Bass Strait                              3\n",
            "Gulf of Mexico                           2\n",
            "Bay of Bengal                            1\n",
            "Laccadive Sea                            1\n",
            "Gulf of St. Lawrence                     1\n",
            "Baffin Bay                               1\n",
            "Name: exact _name new from diff Oceans, dtype: int64\n",
            "Dawn         12123\n",
            "Twilight     10956\n",
            "Night         8855\n",
            "Evening       8689\n",
            "Morning       7568\n",
            "Afternoon     7050\n",
            "Name: ais_disable_time_division, dtype: int64\n"
          ]
        }
      ]
    },
    {
      "cell_type": "code",
      "source": [
        "one_hot_encoded_data = pd.get_dummies(df, columns = ['gear type', 'exact _name new from diff Oceans','ais_disable_time_division'])\n",
        "print(one_hot_encoded_data.head())"
      ],
      "metadata": {
        "colab": {
          "base_uri": "https://localhost:8080/"
        },
        "id": "-65OpmWAkvdY",
        "outputId": "65d14695-2b2d-4a17-ce85-0cc9611b208e"
      },
      "execution_count": null,
      "outputs": [
        {
          "output_type": "stream",
          "name": "stdout",
          "text": [
            "   gap_hours  iuu_caught  spherical_distances  eez_check      speed  \\\n",
            "0  13.016667           0           207.942845          0  15.975123   \n",
            "1  13.850000           0             9.704232          0   0.700667   \n",
            "2  33.733333           0            10.789069          1   0.319834   \n",
            "3  30.650000           0            11.695860          1   0.381594   \n",
            "4  50.283333           0            93.113335          1   1.851773   \n",
            "\n",
            "   gear type_dredge_fishing  gear type_drifting_longlines  gear type_fishing  \\\n",
            "0                         0                             0                  0   \n",
            "1                         0                             0                  1   \n",
            "2                         0                             0                  0   \n",
            "3                         0                             0                  0   \n",
            "4                         0                             0                  0   \n",
            "\n",
            "   gear type_fixed_gear  gear type_other  ...  \\\n",
            "0                     0                0  ...   \n",
            "1                     0                0  ...   \n",
            "2                     0                0  ...   \n",
            "3                     0                0  ...   \n",
            "4                     0                0  ...   \n",
            "\n",
            "   exact _name new from diff Oceans_South Pacific Ocean  \\\n",
            "0                                                  0      \n",
            "1                                                  0      \n",
            "2                                                  0      \n",
            "3                                                  0      \n",
            "4                                                  0      \n",
            "\n",
            "   exact _name new from diff Oceans_Southern Ocean  \\\n",
            "0                                                0   \n",
            "1                                                0   \n",
            "2                                                0   \n",
            "3                                                0   \n",
            "4                                                0   \n",
            "\n",
            "   exact _name new from diff Oceans_Tasman Sea  \\\n",
            "0                                            0   \n",
            "1                                            0   \n",
            "2                                            0   \n",
            "3                                            0   \n",
            "4                                            0   \n",
            "\n",
            "   exact _name new from diff Oceans_Timor Sea  \\\n",
            "0                                           0   \n",
            "1                                           0   \n",
            "2                                           0   \n",
            "3                                           0   \n",
            "4                                           0   \n",
            "\n",
            "   ais_disable_time_division_Afternoon  ais_disable_time_division_Dawn  \\\n",
            "0                                    0                               0   \n",
            "1                                    0                               1   \n",
            "2                                    0                               1   \n",
            "3                                    1                               0   \n",
            "4                                    1                               0   \n",
            "\n",
            "   ais_disable_time_division_Evening  ais_disable_time_division_Morning  \\\n",
            "0                                  0                                  1   \n",
            "1                                  0                                  0   \n",
            "2                                  0                                  0   \n",
            "3                                  0                                  0   \n",
            "4                                  0                                  0   \n",
            "\n",
            "   ais_disable_time_division_Night  ais_disable_time_division_Twilight  \n",
            "0                                0                                   0  \n",
            "1                                0                                   0  \n",
            "2                                0                                   0  \n",
            "3                                0                                   0  \n",
            "4                                0                                   0  \n",
            "\n",
            "[5 rows x 64 columns]\n"
          ]
        }
      ]
    },
    {
      "cell_type": "code",
      "source": [
        "import seaborn as sns\n",
        "\n",
        "sns.lmplot(x='gap_hours', y='exact _name new from diff Oceans_South Atlantic Ocean', hue='iuu_caught', \n",
        "           markers=['x', 'o'],\n",
        "           fit_reg=False, data=one_hot_encoded_data)"
      ],
      "metadata": {
        "colab": {
          "base_uri": "https://localhost:8080/",
          "height": 386
        },
        "id": "GzxkG9jM11UG",
        "outputId": "ad40838d-b7cb-40a0-c375-32d9c9aa75eb"
      },
      "execution_count": null,
      "outputs": [
        {
          "output_type": "execute_result",
          "data": {
            "text/plain": [
              "<seaborn.axisgrid.FacetGrid at 0x7fd715bb3d60>"
            ]
          },
          "metadata": {},
          "execution_count": 54
        },
        {
          "output_type": "display_data",
          "data": {
            "text/plain": [
              "<Figure size 423.25x360 with 1 Axes>"
            ],
            "image/png": "[encoded data removed]"
          },
          "metadata": {
            "needs_background": "light"
          }
        }
      ]
    },
    {
      "cell_type": "markdown",
      "source": [
        "## Test Train Split after One Hot Encoding"
      ],
      "metadata": {
        "id": "EC73sw2Xywmf"
      }
    },
    {
      "cell_type": "code",
      "source": [
        "#### Independent and Dependent Features\n",
        "X=one_hot_encoded_data.drop(\"iuu_caught\",axis=1)\n",
        "y=one_hot_encoded_data.iuu_caught"
      ],
      "metadata": {
        "id": "pMpzCAHKlyKv"
      },
      "execution_count": null,
      "outputs": []
    },
    {
      "cell_type": "code",
      "source": [
        "from sklearn.model_selection import train_test_split\n",
        "X_train, X_test, y_train, y_test = train_test_split(X, y, test_size=0.4, random_state=15, stratify=y)"
      ],
      "metadata": {
        "id": "B0ezzV76WDHT"
      },
      "execution_count": null,
      "outputs": []
    },
    {
      "cell_type": "code",
      "source": [
        "y_train.value_counts()"
      ],
      "metadata": {
        "colab": {
          "base_uri": "https://localhost:8080/"
        },
        "id": "HVfhw2PdWIa9",
        "outputId": "09389a79-a8ce-4e0a-ad5d-a28c01e2d51c"
      },
      "execution_count": null,
      "outputs": [
        {
          "output_type": "execute_result",
          "data": {
            "text/plain": [
              "0    33001\n",
              "1      143\n",
              "Name: iuu_caught, dtype: int64"
            ]
          },
          "metadata": {},
          "execution_count": 61
        }
      ]
    },
    {
      "cell_type": "code",
      "source": [
        "from imblearn.under_sampling import RandomUnderSampler\n",
        "# Instantiate the undersampler\n",
        "under_sampler = RandomUnderSampler()\n",
        "\n",
        "# Fit and transform the training data\n",
        "X_train, y_train = under_sampler.fit_resample(X_train, y_train)"
      ],
      "metadata": {
        "id": "ITt_7btVbQ7h"
      },
      "execution_count": null,
      "outputs": []
    },
    {
      "cell_type": "code",
      "source": [
        "y_train.value_counts()"
      ],
      "metadata": {
        "colab": {
          "base_uri": "https://localhost:8080/"
        },
        "id": "uKM6o0CNbSfl",
        "outputId": "f6f2ce2e-e6b9-4a69-f994-994e64335603"
      },
      "execution_count": null,
      "outputs": [
        {
          "output_type": "execute_result",
          "data": {
            "text/plain": [
              "0    143\n",
              "1    143\n",
              "Name: iuu_caught, dtype: int64"
            ]
          },
          "metadata": {},
          "execution_count": 63
        }
      ]
    },
    {
      "cell_type": "code",
      "source": [
        "y_test.value_counts()"
      ],
      "metadata": {
        "colab": {
          "base_uri": "https://localhost:8080/"
        },
        "id": "qXkqkx6NbUfk",
        "outputId": "efab87e3-d32d-42a4-a7ad-a12138a471f3"
      },
      "execution_count": null,
      "outputs": [
        {
          "output_type": "execute_result",
          "data": {
            "text/plain": [
              "0    22001\n",
              "1       96\n",
              "Name: iuu_caught, dtype: int64"
            ]
          },
          "metadata": {},
          "execution_count": 64
        }
      ]
    },
    {
      "cell_type": "markdown",
      "source": [
        "# Normal ANN"
      ],
      "metadata": {
        "id": "UgjboMmxy12d"
      }
    },
    {
      "cell_type": "code",
      "source": [
        "print(len(X.columns))\n",
        "n_inputs=len(X.columns)"
      ],
      "metadata": {
        "colab": {
          "base_uri": "https://localhost:8080/"
        },
        "id": "Fdsdny-FWiPD",
        "outputId": "48b9326f-4d18-4052-ee56-3e7452d54e0d"
      },
      "execution_count": null,
      "outputs": [
        {
          "output_type": "stream",
          "name": "stdout",
          "text": [
            "63\n"
          ]
        }
      ]
    },
    {
      "cell_type": "code",
      "source": [
        "# define model and set random seed as 42\n",
        "\n",
        "import tensorflow as tf\n",
        "import numpy as np\n",
        "from tensorflow import keras\n",
        "from sklearn.metrics import confusion_matrix , classification_report\n",
        "import numpy as np\n",
        "import tensorflow as tf\n",
        "\n",
        "np.random.seed(42)\n",
        "tf.random.set_seed(42)\n",
        "\n",
        "model_normal = keras.Sequential([\n",
        "        keras.layers.Dense(50, input_dim=n_inputs, activation='relu', kernel_initializer='he_uniform'),\n",
        "        keras.layers.Dense(15, activation='relu'),\n",
        "        keras.layers.Dense(1, activation='sigmoid')\n",
        "    ])\n",
        "\n",
        "# define loss and optimizer\n",
        "model_normal.compile(loss='binary_crossentropy', optimizer='adam')\n",
        "model_normal.fit(X_train,y_train,epochs=50)"
      ],
      "metadata": {
        "colab": {
          "base_uri": "https://localhost:8080/"
        },
        "id": "j9CEcXWhWkr4",
        "outputId": "ea198302-db88-4e21-d173-6b60fe54afc3"
      },
      "execution_count": null,
      "outputs": [
        {
          "output_type": "stream",
          "name": "stdout",
          "text": [
            "Epoch 1/50\n",
            "9/9 [==============================] - 1s 4ms/step - loss: 4.2766\n",
            "Epoch 2/50\n",
            "9/9 [==============================] - 0s 3ms/step - loss: 1.9978\n",
            "Epoch 3/50\n",
            "9/9 [==============================] - 0s 3ms/step - loss: 1.2833\n",
            "Epoch 4/50\n",
            "9/9 [==============================] - 0s 3ms/step - loss: 0.9926\n",
            "Epoch 5/50\n",
            "9/9 [==============================] - 0s 3ms/step - loss: 0.8316\n",
            "Epoch 6/50\n",
            "9/9 [==============================] - 0s 4ms/step - loss: 0.8294\n",
            "Epoch 7/50\n",
            "9/9 [==============================] - 0s 3ms/step - loss: 0.7124\n",
            "Epoch 8/50\n",
            "9/9 [==============================] - 0s 3ms/step - loss: 0.7489\n",
            "Epoch 9/50\n",
            "9/9 [==============================] - 0s 3ms/step - loss: 0.6944\n",
            "Epoch 10/50\n",
            "9/9 [==============================] - 0s 2ms/step - loss: 0.6627\n",
            "Epoch 11/50\n",
            "9/9 [==============================] - 0s 3ms/step - loss: 0.6567\n",
            "Epoch 12/50\n",
            "9/9 [==============================] - 0s 3ms/step - loss: 0.6690\n",
            "Epoch 13/50\n",
            "9/9 [==============================] - 0s 2ms/step - loss: 0.6641\n",
            "Epoch 14/50\n",
            "9/9 [==============================] - 0s 2ms/step - loss: 0.6302\n",
            "Epoch 15/50\n",
            "9/9 [==============================] - 0s 2ms/step - loss: 0.7453\n",
            "Epoch 16/50\n",
            "9/9 [==============================] - 0s 2ms/step - loss: 0.7377\n",
            "Epoch 17/50\n",
            "9/9 [==============================] - 0s 2ms/step - loss: 0.6237\n",
            "Epoch 18/50\n",
            "9/9 [==============================] - 0s 3ms/step - loss: 0.6083\n",
            "Epoch 19/50\n",
            "9/9 [==============================] - 0s 2ms/step - loss: 0.6025\n",
            "Epoch 20/50\n",
            "9/9 [==============================] - 0s 2ms/step - loss: 0.5978\n",
            "Epoch 21/50\n",
            "9/9 [==============================] - 0s 2ms/step - loss: 0.6035\n",
            "Epoch 22/50\n",
            "9/9 [==============================] - 0s 3ms/step - loss: 0.6303\n",
            "Epoch 23/50\n",
            "9/9 [==============================] - 0s 2ms/step - loss: 0.6801\n",
            "Epoch 24/50\n",
            "9/9 [==============================] - 0s 2ms/step - loss: 0.5905\n",
            "Epoch 25/50\n",
            "9/9 [==============================] - 0s 2ms/step - loss: 0.6641\n",
            "Epoch 26/50\n",
            "9/9 [==============================] - 0s 2ms/step - loss: 0.6556\n",
            "Epoch 27/50\n",
            "9/9 [==============================] - 0s 2ms/step - loss: 0.5847\n",
            "Epoch 28/50\n",
            "9/9 [==============================] - 0s 2ms/step - loss: 0.5869\n",
            "Epoch 29/50\n",
            "9/9 [==============================] - 0s 3ms/step - loss: 0.5600\n",
            "Epoch 30/50\n",
            "9/9 [==============================] - 0s 3ms/step - loss: 0.5768\n",
            "Epoch 31/50\n",
            "9/9 [==============================] - 0s 3ms/step - loss: 0.6151\n",
            "Epoch 32/50\n",
            "9/9 [==============================] - 0s 2ms/step - loss: 0.6285\n",
            "Epoch 33/50\n",
            "9/9 [==============================] - 0s 2ms/step - loss: 0.5608\n",
            "Epoch 34/50\n",
            "9/9 [==============================] - 0s 3ms/step - loss: 0.6052\n",
            "Epoch 35/50\n",
            "9/9 [==============================] - 0s 2ms/step - loss: 0.6689\n",
            "Epoch 36/50\n",
            "9/9 [==============================] - 0s 2ms/step - loss: 0.6770\n",
            "Epoch 37/50\n",
            "9/9 [==============================] - 0s 2ms/step - loss: 0.6284\n",
            "Epoch 38/50\n",
            "9/9 [==============================] - 0s 2ms/step - loss: 0.6024\n",
            "Epoch 39/50\n",
            "9/9 [==============================] - 0s 2ms/step - loss: 0.6023\n",
            "Epoch 40/50\n",
            "9/9 [==============================] - 0s 2ms/step - loss: 0.6058\n",
            "Epoch 41/50\n",
            "9/9 [==============================] - 0s 3ms/step - loss: 0.5565\n",
            "Epoch 42/50\n",
            "9/9 [==============================] - 0s 2ms/step - loss: 0.5824\n",
            "Epoch 43/50\n",
            "9/9 [==============================] - 0s 2ms/step - loss: 0.6191\n",
            "Epoch 44/50\n",
            "9/9 [==============================] - 0s 2ms/step - loss: 0.5439\n",
            "Epoch 45/50\n",
            "9/9 [==============================] - 0s 2ms/step - loss: 0.5464\n",
            "Epoch 46/50\n",
            "9/9 [==============================] - 0s 2ms/step - loss: 0.5820\n",
            "Epoch 47/50\n",
            "9/9 [==============================] - 0s 2ms/step - loss: 0.5851\n",
            "Epoch 48/50\n",
            "9/9 [==============================] - 0s 2ms/step - loss: 0.5472\n",
            "Epoch 49/50\n",
            "9/9 [==============================] - 0s 2ms/step - loss: 0.5997\n",
            "Epoch 50/50\n",
            "9/9 [==============================] - 0s 2ms/step - loss: 0.5372\n"
          ]
        },
        {
          "output_type": "execute_result",
          "data": {
            "text/plain": [
              "<keras.callbacks.History at 0x7fd715ac96d0>"
            ]
          },
          "metadata": {},
          "execution_count": 66
        }
      ]
    },
    {
      "cell_type": "code",
      "source": [
        "# predict the y_test and find the roc_auc score\n",
        "\n",
        "from sklearn.metrics import roc_auc_score\n",
        "y_pred1=model_normal.predict(X_test)\n",
        "\n",
        "print(roc_auc_score(y_test,y_pred1))"
      ],
      "metadata": {
        "colab": {
          "base_uri": "https://localhost:8080/"
        },
        "id": "wYVyaTSFWr75",
        "outputId": "2cead6c8-3964-403b-d6d8-e2a8cb57a67c"
      },
      "execution_count": null,
      "outputs": [
        {
          "output_type": "stream",
          "name": "stdout",
          "text": [
            "691/691 [==============================] - 1s 1ms/step\n",
            "0.7406640133781797\n"
          ]
        }
      ]
    },
    {
      "cell_type": "code",
      "source": [
        "# print y_pred1 which gives the probabilities of the likliehood of IUU fishing \n",
        "\n",
        "print(y_pred1)"
      ],
      "metadata": {
        "colab": {
          "base_uri": "https://localhost:8080/"
        },
        "id": "oKJUvxklcE9d",
        "outputId": "a76cc897-b92d-48af-f8c9-1d135640e102"
      },
      "execution_count": null,
      "outputs": [
        {
          "output_type": "stream",
          "name": "stdout",
          "text": [
            "[[0.78221506]\n",
            " [0.9999732 ]\n",
            " [0.3484243 ]\n",
            " ...\n",
            " [0.6415772 ]\n",
            " [0.95930445]\n",
            " [0.7084452 ]]\n"
          ]
        }
      ]
    },
    {
      "cell_type": "code",
      "source": [
        "# plot the ROC-AUC curve, find the nearest point to the top left of the graph that would be the optimal thereshold for y_pred1\n",
        "\n",
        "import matplotlib.pyplot as plt\n",
        "from sklearn.metrics import roc_curve, auc\n",
        "\n",
        "# Compute false positive rate (FPR) and true positive rate (TPR)\n",
        "fpr, tpr, thresholds = roc_curve(y_test, y_pred1)\n",
        "\n",
        "# Compute the area under the curve (AUC)\n",
        "roc_auc = auc(fpr, tpr)\n",
        "\n",
        "# Plot the ROC curve\n",
        "plt.figure()\n",
        "plt.plot(fpr, tpr, label='ROC curve (area = %0.2f)' % roc_auc)\n",
        "plt.plot([0, 1], [0, 1], 'k--')\n",
        "plt.xlim([0.0, 1.0])\n",
        "plt.ylim([0.0, 1.05])\n",
        "plt.xlabel('False Positive Rate')\n",
        "plt.ylabel('True Positive Rate')\n",
        "plt.title('Receiver Operating Characteristic')\n",
        "plt.legend(loc=\"lower right\")\n",
        "plt.show()\n",
        "\n",
        "\n",
        "import numpy as np\n",
        "\n",
        "# Find the index of the threshold that minimizes the Euclidean distance from (0,1)\n",
        "idx = np.argmin((1-tpr)**2 + fpr**2)\n",
        "\n",
        "# Retrieve the optimal threshold\n",
        "optimal_threshold1 = thresholds[idx]\n",
        "\n",
        "print(optimal_threshold1)"
      ],
      "metadata": {
        "id": "ensosqWs5fYh",
        "colab": {
          "base_uri": "https://localhost:8080/",
          "height": 312
        },
        "outputId": "1962e788-1581-45ce-bb10-54cb23cb755d"
      },
      "execution_count": null,
      "outputs": [
        {
          "output_type": "display_data",
          "data": {
            "text/plain": [
              "<Figure size 432x288 with 1 Axes>"
            ],
            "image/png": "[encoded data removed]"
          },
          "metadata": {
            "needs_background": "light"
          }
        },
        {
          "output_type": "stream",
          "name": "stdout",
          "text": [
            "0.5349197\n"
          ]
        }
      ]
    },
    {
      "cell_type": "code",
      "source": [
        "# find y_pred_rounded by using the threshold obtained above and then print the classification report and confusion matrix\n",
        "\n",
        "from sklearn.metrics import classification_report\n",
        "from sklearn.metrics import confusion_matrix\n",
        "\n",
        "y_pred1_rounded = np.where(y_pred1 > optimal_threshold1, 1, 0)\n",
        "print(classification_report(y_test, y_pred1_rounded))\n",
        "\n",
        "# Print the confusion matrix\n",
        "cm = confusion_matrix(y_test, y_pred1_rounded)\n",
        "print(cm)"
      ],
      "metadata": {
        "id": "KtHrme5y5iv-",
        "colab": {
          "base_uri": "https://localhost:8080/"
        },
        "outputId": "350b6fb5-67b0-4cb9-f740-37df63efadc8"
      },
      "execution_count": null,
      "outputs": [
        {
          "output_type": "stream",
          "name": "stdout",
          "text": [
            "              precision    recall  f1-score   support\n",
            "\n",
            "           0       1.00      0.64      0.78     22001\n",
            "           1       0.01      0.74      0.02        96\n",
            "\n",
            "    accuracy                           0.64     22097\n",
            "   macro avg       0.50      0.69      0.40     22097\n",
            "weighted avg       0.99      0.64      0.78     22097\n",
            "\n",
            "[[14033  7968]\n",
            " [   25    71]]\n"
          ]
        }
      ]
    },
    {
      "cell_type": "markdown",
      "source": [
        "# XGBoost"
      ],
      "metadata": {
        "id": "Tk4ZOzw-O7oS"
      }
    },
    {
      "cell_type": "code",
      "source": [
        "# fit balanced xgboost on an imbalanced classification dataset\n",
        "from numpy import mean\n",
        "from sklearn.datasets import make_classification\n",
        "from sklearn.model_selection import cross_val_score\n",
        "from sklearn.model_selection import RepeatedStratifiedKFold\n",
        "from xgboost import XGBClassifier\n",
        "# define model\n",
        "# xgb = XGBClassifier(scale_pos_weight=1000)\n",
        "# xgb = XGBClassifier(reg_lambda=20)\n",
        "xgb = XGBClassifier()\n",
        "# define evaluation procedure\n",
        "cv = RepeatedStratifiedKFold(n_splits=10, n_repeats=3, random_state=1)\n",
        "# evaluate model\n",
        "scores = cross_val_score(xgb, X_train, y_train, scoring='roc_auc', cv=cv, n_jobs=-1)\n",
        "# summarize performance\n",
        "print('Mean ROC AUC: %.5f' % mean(scores))"
      ],
      "metadata": {
        "colab": {
          "base_uri": "https://localhost:8080/"
        },
        "id": "MYdXi-HzO-GZ",
        "outputId": "c850041b-8bfa-4d9c-846f-12ae4d415af3"
      },
      "execution_count": null,
      "outputs": [
        {
          "output_type": "stream",
          "name": "stdout",
          "text": [
            "Mean ROC AUC: 0.85929\n"
          ]
        }
      ]
    },
    {
      "cell_type": "code",
      "source": [
        "from numpy import mean\n",
        "from sklearn.datasets import make_classification\n",
        "from sklearn.model_selection import cross_val_score\n",
        "from sklearn.model_selection import RepeatedStratifiedKFold\n",
        "from xgboost import XGBClassifier\n",
        "# xgb = XGBClassifier(reg_lambda=15000)\n",
        "# xgb = XGBClassifier(gamma=3000, max_depth=1)\n",
        "# Fitting the classifier on training data\n",
        "xgb.fit(X_train, y_train)\n",
        "\n",
        "# Making predictions on test data\n",
        "y_pred_xgb = xgb.predict(X_test)\n",
        "\n",
        "# plot the ROC-AUC curve, find the nearest point to the top left of the graph that would be the optimal thereshold for y_pred1\n",
        "\n",
        "import matplotlib.pyplot as plt\n",
        "from sklearn.metrics import roc_curve, auc\n",
        "\n",
        "# Compute false positive rate (FPR) and true positive rate (TPR)\n",
        "fpr, tpr, thresholds = roc_curve(y_test, y_pred_xgb)\n",
        "\n",
        "# Compute the area under the curve (AUC)\n",
        "roc_auc = auc(fpr, tpr)\n",
        "\n",
        "# Plot the ROC curve\n",
        "plt.figure()\n",
        "plt.plot(fpr, tpr, label='ROC curve (area = %0.2f)' % roc_auc)\n",
        "plt.plot([0, 1], [0, 1], 'k--')\n",
        "plt.xlim([0.0, 1.0])\n",
        "plt.ylim([0.0, 1.05])\n",
        "plt.xlabel('False Positive Rate')\n",
        "plt.ylabel('True Positive Rate')\n",
        "plt.title('Receiver Operating Characteristic')\n",
        "plt.legend(loc=\"lower right\")\n",
        "plt.show()\n",
        "\n",
        "\n",
        "import numpy as np\n",
        "\n",
        "# Find the index of the threshold that minimizes the Euclidean distance from (0,1)\n",
        "idx = np.argmin((1-tpr)**2 + fpr**2)\n",
        "\n",
        "# Retrieve the optimal threshold\n",
        "optimal_threshold1 = thresholds[idx]\n",
        "\n",
        "print(optimal_threshold1)\n",
        "\n",
        "from sklearn.metrics import classification_report\n",
        "\n",
        "print(classification_report(y_test, y_pred_xgb))\n",
        "\n",
        "from sklearn.metrics import confusion_matrix\n",
        "\n",
        "# Print the confusion matrix\n",
        "cm = confusion_matrix(y_test, y_pred_xgb)\n",
        "print(cm)"
      ],
      "metadata": {
        "colab": {
          "base_uri": "https://localhost:8080/",
          "height": 503
        },
        "id": "3bOMRyfjPb0e",
        "outputId": "0d8bab53-b297-4e75-d9ef-33c2fa6e175c"
      },
      "execution_count": null,
      "outputs": [
        {
          "output_type": "display_data",
          "data": {
            "text/plain": [
              "<Figure size 432x288 with 1 Axes>"
            ],
            "image/png": "[encoded data removed]"
          },
          "metadata": {
            "needs_background": "light"
          }
        },
        {
          "output_type": "stream",
          "name": "stdout",
          "text": [
            "1\n",
            "              precision    recall  f1-score   support\n",
            "\n",
            "           0       1.00      0.77      0.87     22001\n",
            "           1       0.01      0.77      0.03        96\n",
            "\n",
            "    accuracy                           0.77     22097\n",
            "   macro avg       0.51      0.77      0.45     22097\n",
            "weighted avg       0.99      0.77      0.87     22097\n",
            "\n",
            "[[16938  5063]\n",
            " [   22    74]]\n"
          ]
        }
      ]
    },
    {
      "cell_type": "code",
      "source": [
        "# grid search positive class weights with xgboost for imbalance classification\n",
        "from numpy import mean\n",
        "from sklearn.datasets import make_classification\n",
        "from sklearn.model_selection import GridSearchCV\n",
        "from sklearn.model_selection import RepeatedStratifiedKFold\n",
        "from xgboost import XGBClassifier\n",
        "\n",
        "# define model\n",
        "model_temp = XGBClassifier()\n",
        "# define grid\n",
        "weights = [1, 10, 25, 50, 75, 100, 230, 250, 500, 750, 1000]\n",
        "param_grid = dict(scale_pos_weight=weights)\n",
        "# define evaluation procedure\n",
        "cv = RepeatedStratifiedKFold(n_splits=10, n_repeats=3, random_state=1)\n",
        "# define grid search\n",
        "grid = GridSearchCV(estimator=model_temp, param_grid=param_grid, n_jobs=-1, cv=cv, scoring='recall')\n",
        "# execute the grid search\n",
        "grid_result = grid.fit(X_train, y_train)\n",
        "# report the best configuration\n",
        "print(\"Best: %f using %s\" % (grid_result.best_score_, grid_result.best_params_))\n",
        "# report all configurations\n",
        "means = grid_result.cv_results_['mean_test_score']\n",
        "stds = grid_result.cv_results_['std_test_score']\n",
        "params = grid_result.cv_results_['params']\n",
        "for mean, stdev, param in zip(means, stds, params):\n",
        "    print(\"%f (%f) with: %r\" % (mean, stdev, param))"
      ],
      "metadata": {
        "colab": {
          "base_uri": "https://localhost:8080/"
        },
        "id": "fyZvOE0Mcvw3",
        "outputId": "9de3ab0f-ed54-4ff0-d482-dc6dec6aa5c5"
      },
      "execution_count": null,
      "outputs": [
        {
          "output_type": "stream",
          "name": "stdout",
          "text": [
            "Best: 0.969524 using {'scale_pos_weight': 100}\n",
            "0.810159 (0.089373) with: {'scale_pos_weight': 1}\n",
            "0.953333 (0.045482) with: {'scale_pos_weight': 10}\n",
            "0.962540 (0.043204) with: {'scale_pos_weight': 25}\n",
            "0.962540 (0.046976) with: {'scale_pos_weight': 50}\n",
            "0.964762 (0.043861) with: {'scale_pos_weight': 75}\n",
            "0.969524 (0.043044) with: {'scale_pos_weight': 100}\n",
            "0.969365 (0.046959) with: {'scale_pos_weight': 230}\n",
            "0.969365 (0.046959) with: {'scale_pos_weight': 250}\n",
            "0.960317 (0.050235) with: {'scale_pos_weight': 500}\n",
            "0.960317 (0.050235) with: {'scale_pos_weight': 750}\n",
            "0.960317 (0.050235) with: {'scale_pos_weight': 1000}\n"
          ]
        }
      ]
    },
    {
      "cell_type": "markdown",
      "source": [
        "# Logistic Regression"
      ],
      "metadata": {
        "id": "F9UmHIQvf6YG"
      }
    },
    {
      "cell_type": "code",
      "source": [
        "# weighted logistic regression for class imbalance with heuristic weights\n",
        "from numpy import mean\n",
        "from sklearn.datasets import make_classification\n",
        "from sklearn.model_selection import cross_val_score\n",
        "from sklearn.model_selection import RepeatedStratifiedKFold\n",
        "from sklearn.linear_model import LogisticRegression\n",
        "# define model\n",
        "weights_assigned_lr={0:1,1:230}\n",
        "# model_lr = LogisticRegression(solver='lbfgs', class_weight=weights_assigned_lr)\n",
        "model_lr = LogisticRegression(solver='lbfgs')\n",
        "# define evaluation procedure\n",
        "cv = RepeatedStratifiedKFold(n_splits=10, n_repeats=3, random_state=1)\n",
        "# evaluate model\n",
        "scores = cross_val_score(model_lr, X_train, y_train, scoring='roc_auc', cv=cv, n_jobs=-1)\n",
        "# summarize performance\n",
        "print('Mean ROC AUC: %.3f' % mean(scores))"
      ],
      "metadata": {
        "colab": {
          "base_uri": "https://localhost:8080/"
        },
        "id": "3Ks15oGSf9Oo",
        "outputId": "e5b45871-65b2-4d89-9a75-76d026015923"
      },
      "execution_count": null,
      "outputs": [
        {
          "output_type": "stream",
          "name": "stdout",
          "text": [
            "Mean ROC AUC: 0.829\n"
          ]
        }
      ]
    },
    {
      "cell_type": "code",
      "source": [
        "# Fitting the classifier on training data\n",
        "model_lr.fit(X_train, y_train)\n",
        "\n",
        "# Making predictions on test data\n",
        "y_pred_lr = model_lr.predict(X_test)\n",
        "\n",
        "# plot the ROC-AUC curve, find the nearest point to the top left of the graph that would be the optimal thereshold for y_pred1\n",
        "\n",
        "import matplotlib.pyplot as plt\n",
        "from sklearn.metrics import roc_curve, auc\n",
        "\n",
        "# Compute false positive rate (FPR) and true positive rate (TPR)\n",
        "fpr, tpr, thresholds = roc_curve(y_test, y_pred_lr)\n",
        "\n",
        "# Compute the area under the curve (AUC)\n",
        "roc_auc = auc(fpr, tpr)\n",
        "\n",
        "# Plot the ROC curve\n",
        "plt.figure()\n",
        "plt.plot(fpr, tpr, label='ROC curve (area = %0.2f)' % roc_auc)\n",
        "plt.plot([0, 1], [0, 1], 'k--')\n",
        "plt.xlim([0.0, 1.0])\n",
        "plt.ylim([0.0, 1.05])\n",
        "plt.xlabel('False Positive Rate')\n",
        "plt.ylabel('True Positive Rate')\n",
        "plt.title('Receiver Operating Characteristic')\n",
        "plt.legend(loc=\"lower right\")\n",
        "plt.show()\n",
        "\n",
        "\n",
        "\n",
        "\n",
        "from sklearn.metrics import classification_report\n",
        "\n",
        "print(classification_report(y_test, y_pred_lr))\n",
        "\n",
        "from sklearn.metrics import confusion_matrix\n",
        "\n",
        "# Print the confusion matrix\n",
        "cm = confusion_matrix(y_test, y_pred_lr)\n",
        "print(cm)"
      ],
      "metadata": {
        "colab": {
          "base_uri": "https://localhost:8080/",
          "height": 625
        },
        "id": "hJouARTIgCuz",
        "outputId": "b93cb8c5-924e-4c15-9f9b-8363bb2178cb"
      },
      "execution_count": null,
      "outputs": [
        {
          "output_type": "stream",
          "name": "stderr",
          "text": [
            "/usr/local/lib/python3.8/dist-packages/sklearn/linear_model/_logistic.py:814: ConvergenceWarning: lbfgs failed to converge (status=1):\n",
            "STOP: TOTAL NO. of ITERATIONS REACHED LIMIT.\n",
            "\n",
            "Increase the number of iterations (max_iter) or scale the data as shown in:\n",
            "    https://scikit-learn.org/stable/modules/preprocessing.html\n",
            "Please also refer to the documentation for alternative solver options:\n",
            "    https://scikit-learn.org/stable/modules/linear_model.html#logistic-regression\n",
            "  n_iter_i = _check_optimize_result(\n"
          ]
        },
        {
          "output_type": "display_data",
          "data": {
            "text/plain": [
              "<Figure size 432x288 with 1 Axes>"
            ],
            "image/png": "[encoded data removed]"
          },
          "metadata": {
            "needs_background": "light"
          }
        },
        {
          "output_type": "stream",
          "name": "stdout",
          "text": [
            "              precision    recall  f1-score   support\n",
            "\n",
            "           0       1.00      0.72      0.84     22001\n",
            "           1       0.01      0.72      0.02        96\n",
            "\n",
            "    accuracy                           0.72     22097\n",
            "   macro avg       0.50      0.72      0.43     22097\n",
            "weighted avg       0.99      0.72      0.84     22097\n",
            "\n",
            "[[15942  6059]\n",
            " [   27    69]]\n"
          ]
        }
      ]
    },
    {
      "cell_type": "code",
      "source": [
        "# grid search class weights with logistic regression for imbalance classification\n",
        "from numpy import mean\n",
        "from sklearn.datasets import make_classification\n",
        "from sklearn.model_selection import GridSearchCV\n",
        "from sklearn.model_selection import RepeatedStratifiedKFold\n",
        "from sklearn.linear_model import LogisticRegression\n",
        "# define model\n",
        "model_lr_gs = LogisticRegression(solver='lbfgs')\n",
        "# define grid\n",
        "balance = [{0:1,1:2}, {0:1,1:10}, {0:1,1:100}, {0:1,1:200}, {0:1,1:230}, {0:1,1:250}, {0:1,1:500}, {0:1,1:750}, {0:1,1:1000}]\n",
        "param_grid = dict(class_weight=balance)\n",
        "# define evaluation procedure\n",
        "cv = RepeatedStratifiedKFold(n_splits=10, n_repeats=3, random_state=1)\n",
        "# define grid search\n",
        "grid = GridSearchCV(estimator=model_lr_gs, param_grid=param_grid, n_jobs=-1, cv=cv, scoring='recall')\n",
        "# execute the grid search\n",
        "grid_result = grid.fit(X_train, y_train)\n",
        "# report the best configuration\n",
        "print(\"Best: %f using %s\" % (grid_result.best_score_, grid_result.best_params_))\n",
        "# report all configurations\n",
        "means = grid_result.cv_results_['mean_test_score']\n",
        "stds = grid_result.cv_results_['std_test_score']\n",
        "params = grid_result.cv_results_['params']\n",
        "for mean, stdev, param in zip(means, stds, params):\n",
        "    print(\"%f (%f) with: %r\" % (mean, stdev, param))"
      ],
      "metadata": {
        "colab": {
          "base_uri": "https://localhost:8080/"
        },
        "id": "M0TS56onggbS",
        "outputId": "dd6f8f96-ad35-4229-d225-fbb204156e84"
      },
      "execution_count": null,
      "outputs": [
        {
          "output_type": "stream",
          "name": "stdout",
          "text": [
            "Best: 1.000000 using {'class_weight': {0: 1, 1: 1000}}\n",
            "0.861746 (0.076007) with: {'class_weight': {0: 1, 1: 2}}\n",
            "0.981270 (0.040029) with: {'class_weight': {0: 1, 1: 10}}\n",
            "0.993016 (0.020964) with: {'class_weight': {0: 1, 1: 100}}\n",
            "0.990635 (0.030179) with: {'class_weight': {0: 1, 1: 200}}\n",
            "0.990635 (0.030179) with: {'class_weight': {0: 1, 1: 230}}\n",
            "0.993016 (0.027922) with: {'class_weight': {0: 1, 1: 250}}\n",
            "0.997619 (0.012822) with: {'class_weight': {0: 1, 1: 500}}\n",
            "0.997619 (0.012822) with: {'class_weight': {0: 1, 1: 750}}\n",
            "1.000000 (0.000000) with: {'class_weight': {0: 1, 1: 1000}}\n"
          ]
        },
        {
          "output_type": "stream",
          "name": "stderr",
          "text": [
            "/usr/local/lib/python3.8/dist-packages/sklearn/linear_model/_logistic.py:814: ConvergenceWarning: lbfgs failed to converge (status=1):\n",
            "STOP: TOTAL NO. of ITERATIONS REACHED LIMIT.\n",
            "\n",
            "Increase the number of iterations (max_iter) or scale the data as shown in:\n",
            "    https://scikit-learn.org/stable/modules/preprocessing.html\n",
            "Please also refer to the documentation for alternative solver options:\n",
            "    https://scikit-learn.org/stable/modules/linear_model.html#logistic-regression\n",
            "  n_iter_i = _check_optimize_result(\n"
          ]
        }
      ]
    },
    {
      "cell_type": "code",
      "source": [
        "# grid search class weights with logistic regression for imbalance classification\n",
        "from numpy import mean\n",
        "from sklearn.datasets import make_classification\n",
        "from sklearn.model_selection import GridSearchCV\n",
        "from sklearn.model_selection import RepeatedStratifiedKFold\n",
        "from sklearn.linear_model import LogisticRegression\n",
        "# define model\n",
        "model_lr_gs = LogisticRegression(solver='lbfgs')\n",
        "# define grid\n",
        "balance = [{0:1,1:2}, {0:1,1:10}, {0:1,1:100}, {0:1,1:200}, {0:1,1:230}, {0:1,1:250}, {0:1,1:500}, {0:1,1:750}, {0:1,1:1000}]\n",
        "param_grid = dict(class_weight=balance)\n",
        "# define evaluation procedure\n",
        "cv = RepeatedStratifiedKFold(n_splits=10, n_repeats=3, random_state=1)\n",
        "# define grid search\n",
        "grid = GridSearchCV(estimator=model_lr_gs, param_grid=param_grid, n_jobs=-1, cv=cv, scoring='roc_auc')\n",
        "# execute the grid search\n",
        "grid_result = grid.fit(X_train, y_train)\n",
        "# report the best configuration\n",
        "print(\"Best: %f using %s\" % (grid_result.best_score_, grid_result.best_params_))\n",
        "# report all configurations\n",
        "means = grid_result.cv_results_['mean_test_score']\n",
        "stds = grid_result.cv_results_['std_test_score']\n",
        "params = grid_result.cv_results_['params']\n",
        "for mean, stdev, param in zip(means, stds, params):\n",
        "    print(\"%f (%f) with: %r\" % (mean, stdev, param))"
      ],
      "metadata": {
        "colab": {
          "base_uri": "https://localhost:8080/"
        },
        "id": "zfCKHzU_iQOM",
        "outputId": "c0e6d176-7e3b-49e1-c563-446959631495"
      },
      "execution_count": null,
      "outputs": [
        {
          "output_type": "stream",
          "name": "stdout",
          "text": [
            "Best: 0.828447 using {'class_weight': {0: 1, 1: 2}}\n",
            "0.828447 (0.083207) with: {'class_weight': {0: 1, 1: 2}}\n",
            "0.820068 (0.085321) with: {'class_weight': {0: 1, 1: 10}}\n",
            "0.818311 (0.085602) with: {'class_weight': {0: 1, 1: 100}}\n",
            "0.812211 (0.086008) with: {'class_weight': {0: 1, 1: 200}}\n",
            "0.810975 (0.083515) with: {'class_weight': {0: 1, 1: 230}}\n",
            "0.812086 (0.086153) with: {'class_weight': {0: 1, 1: 250}}\n",
            "0.797029 (0.086880) with: {'class_weight': {0: 1, 1: 500}}\n",
            "0.791043 (0.090846) with: {'class_weight': {0: 1, 1: 750}}\n",
            "0.792313 (0.083798) with: {'class_weight': {0: 1, 1: 1000}}\n"
          ]
        },
        {
          "output_type": "stream",
          "name": "stderr",
          "text": [
            "/usr/local/lib/python3.8/dist-packages/sklearn/linear_model/_logistic.py:814: ConvergenceWarning: lbfgs failed to converge (status=1):\n",
            "STOP: TOTAL NO. of ITERATIONS REACHED LIMIT.\n",
            "\n",
            "Increase the number of iterations (max_iter) or scale the data as shown in:\n",
            "    https://scikit-learn.org/stable/modules/preprocessing.html\n",
            "Please also refer to the documentation for alternative solver options:\n",
            "    https://scikit-learn.org/stable/modules/linear_model.html#logistic-regression\n",
            "  n_iter_i = _check_optimize_result(\n"
          ]
        }
      ]
    },
    {
      "cell_type": "markdown",
      "source": [
        "# Ensemble with LR and XGboost"
      ],
      "metadata": {
        "id": "aSzzkMktlI7r"
      }
    },
    {
      "cell_type": "code",
      "source": [
        "from sklearn.ensemble import VotingClassifier\n",
        "from xgboost import XGBClassifier\n",
        "from sklearn.ensemble import RandomForestClassifier\n",
        "\n",
        "# Define the ensemble model\n",
        "ensemble = VotingClassifier(estimators=[('xgb', xgb), ('lr', model_lr)], voting='soft')\n",
        "\n",
        "# Fit the ensemble model on the training data\n",
        "ensemble.fit(X_train, y_train)\n",
        "\n",
        "# Making predictions on test data\n",
        "y_pred_ensemble = ensemble.predict(X_test)\n",
        "\n",
        "from sklearn.metrics import classification_report\n",
        "\n",
        "print(classification_report(y_test, y_pred_ensemble))\n",
        "\n",
        "from sklearn.metrics import confusion_matrix\n",
        "\n",
        "# Print the confusion matrix\n",
        "cm = confusion_matrix(y_test, y_pred_ensemble)\n",
        "print(cm)"
      ],
      "metadata": {
        "colab": {
          "base_uri": "https://localhost:8080/"
        },
        "id": "kFC57SQ_lHxf",
        "outputId": "a9001b41-0896-4400-e4f5-ad888e97393b"
      },
      "execution_count": null,
      "outputs": [
        {
          "output_type": "stream",
          "name": "stdout",
          "text": [
            "              precision    recall  f1-score   support\n",
            "\n",
            "           0       1.00      0.78      0.87     22001\n",
            "           1       0.01      0.75      0.03        96\n",
            "\n",
            "    accuracy                           0.78     22097\n",
            "   macro avg       0.51      0.76      0.45     22097\n",
            "weighted avg       0.99      0.78      0.87     22097\n",
            "\n",
            "[[17126  4875]\n",
            " [   24    72]]\n"
          ]
        },
        {
          "output_type": "stream",
          "name": "stderr",
          "text": [
            "/usr/local/lib/python3.8/dist-packages/sklearn/linear_model/_logistic.py:814: ConvergenceWarning: lbfgs failed to converge (status=1):\n",
            "STOP: TOTAL NO. of ITERATIONS REACHED LIMIT.\n",
            "\n",
            "Increase the number of iterations (max_iter) or scale the data as shown in:\n",
            "    https://scikit-learn.org/stable/modules/preprocessing.html\n",
            "Please also refer to the documentation for alternative solver options:\n",
            "    https://scikit-learn.org/stable/modules/linear_model.html#logistic-regression\n",
            "  n_iter_i = _check_optimize_result(\n"
          ]
        }
      ]
    },
    {
      "cell_type": "markdown",
      "source": [
        "# Stacking base models - cost ANN, LR ; meta model - XGBoost"
      ],
      "metadata": {
        "id": "6P--HzJX4cNY"
      }
    },
    {
      "cell_type": "markdown",
      "source": [
        "#### Prepare the dataset for the meta model"
      ],
      "metadata": {
        "id": "zcd0N_w5dOso"
      }
    },
    {
      "cell_type": "markdown",
      "source": [
        "First we find the predicted values for X_train and X_test of the base models Cost sensitive ANN and LR. After that, we add them as atttributes to the X_train and X_test datasets which will then be used to train the meta model XGBoost"
      ],
      "metadata": {
        "id": "IYxIgWXfdV_4"
      }
    },
    {
      "cell_type": "code",
      "source": [
        "y_pred_ann_stacking=model_normal.predict(X_train)\n",
        "y_pred_ann_stacking_rounded = np.where(y_pred_ann_stacking > optimal_threshold1, 1, 0)\n",
        "\n",
        "y_pred_lr_stacking = model_lr.predict(X_train)"
      ],
      "metadata": {
        "colab": {
          "base_uri": "https://localhost:8080/"
        },
        "id": "hkMDMhYP4eER",
        "outputId": "4edacd63-eb9a-45e3-d304-70b532aacdbc"
      },
      "execution_count": null,
      "outputs": [
        {
          "output_type": "stream",
          "name": "stdout",
          "text": [
            "9/9 [==============================] - 0s 2ms/step\n"
          ]
        }
      ]
    },
    {
      "cell_type": "code",
      "source": [
        "print(y_pred_ann_stacking_rounded)\n",
        "import numpy as np\n",
        "\n",
        "y_pred_ann_stacking_rounded = y_pred_ann_stacking_rounded.flatten()\n",
        "print(y_pred_ann_stacking_rounded)\n",
        "\n",
        "print(y_pred_lr_stacking)"
      ],
      "metadata": {
        "colab": {
          "base_uri": "https://localhost:8080/"
        },
        "id": "F7r87vKtTc_2",
        "outputId": "f469c9f3-f0a3-4880-c46a-ec828c030661"
      },
      "execution_count": null,
      "outputs": [
        {
          "output_type": "stream",
          "name": "stdout",
          "text": [
            "[[0]\n",
            " [0]\n",
            " [0]\n",
            " [0]\n",
            " [0]\n",
            " [0]\n",
            " [0]\n",
            " [0]\n",
            " [0]\n",
            " [0]\n",
            " [0]\n",
            " [0]\n",
            " [0]\n",
            " [0]\n",
            " [0]\n",
            " [0]\n",
            " [0]\n",
            " [0]\n",
            " [0]\n",
            " [0]\n",
            " [0]\n",
            " [0]\n",
            " [0]\n",
            " [0]\n",
            " [0]\n",
            " [0]\n",
            " [0]\n",
            " [0]\n",
            " [0]\n",
            " [0]\n",
            " [0]\n",
            " [0]\n",
            " [0]\n",
            " [0]\n",
            " [0]\n",
            " [0]\n",
            " [0]\n",
            " [0]\n",
            " [0]\n",
            " [0]\n",
            " [0]\n",
            " [0]\n",
            " [0]\n",
            " [0]\n",
            " [0]\n",
            " [0]\n",
            " [0]\n",
            " [0]\n",
            " [0]\n",
            " [0]\n",
            " [0]\n",
            " [0]\n",
            " [0]\n",
            " [0]\n",
            " [0]\n",
            " [0]\n",
            " [0]\n",
            " [0]\n",
            " [0]\n",
            " [0]\n",
            " [0]\n",
            " [0]\n",
            " [0]\n",
            " [0]\n",
            " [0]\n",
            " [0]\n",
            " [0]\n",
            " [0]\n",
            " [0]\n",
            " [0]\n",
            " [0]\n",
            " [0]\n",
            " [0]\n",
            " [0]\n",
            " [0]\n",
            " [0]\n",
            " [0]\n",
            " [0]\n",
            " [0]\n",
            " [0]\n",
            " [0]\n",
            " [0]\n",
            " [0]\n",
            " [0]\n",
            " [0]\n",
            " [0]\n",
            " [0]\n",
            " [0]\n",
            " [0]\n",
            " [0]\n",
            " [0]\n",
            " [0]\n",
            " [0]\n",
            " [0]\n",
            " [0]\n",
            " [0]\n",
            " [0]\n",
            " [0]\n",
            " [0]\n",
            " [0]\n",
            " [0]\n",
            " [0]\n",
            " [0]\n",
            " [0]\n",
            " [0]\n",
            " [0]\n",
            " [0]\n",
            " [0]\n",
            " [0]\n",
            " [0]\n",
            " [0]\n",
            " [0]\n",
            " [0]\n",
            " [0]\n",
            " [0]\n",
            " [0]\n",
            " [0]\n",
            " [0]\n",
            " [0]\n",
            " [0]\n",
            " [0]\n",
            " [0]\n",
            " [0]\n",
            " [0]\n",
            " [0]\n",
            " [0]\n",
            " [0]\n",
            " [0]\n",
            " [0]\n",
            " [0]\n",
            " [0]\n",
            " [0]\n",
            " [0]\n",
            " [0]\n",
            " [0]\n",
            " [0]\n",
            " [0]\n",
            " [0]\n",
            " [0]\n",
            " [0]\n",
            " [0]\n",
            " [0]\n",
            " [0]\n",
            " [0]\n",
            " [0]\n",
            " [0]\n",
            " [0]\n",
            " [0]\n",
            " [0]\n",
            " [0]\n",
            " [0]\n",
            " [0]\n",
            " [0]\n",
            " [0]\n",
            " [0]\n",
            " [0]\n",
            " [0]\n",
            " [0]\n",
            " [0]\n",
            " [0]\n",
            " [0]\n",
            " [0]\n",
            " [0]\n",
            " [0]\n",
            " [0]\n",
            " [0]\n",
            " [0]\n",
            " [0]\n",
            " [0]\n",
            " [0]\n",
            " [0]\n",
            " [0]\n",
            " [0]\n",
            " [0]\n",
            " [0]\n",
            " [0]\n",
            " [0]\n",
            " [0]\n",
            " [0]\n",
            " [0]\n",
            " [0]\n",
            " [0]\n",
            " [0]\n",
            " [0]\n",
            " [0]\n",
            " [0]\n",
            " [0]\n",
            " [0]\n",
            " [0]\n",
            " [0]\n",
            " [0]\n",
            " [0]\n",
            " [0]\n",
            " [0]\n",
            " [0]\n",
            " [0]\n",
            " [0]\n",
            " [0]\n",
            " [0]\n",
            " [0]\n",
            " [0]\n",
            " [0]\n",
            " [0]\n",
            " [0]\n",
            " [0]\n",
            " [0]\n",
            " [0]\n",
            " [0]\n",
            " [0]\n",
            " [0]\n",
            " [0]\n",
            " [0]\n",
            " [0]\n",
            " [0]\n",
            " [0]\n",
            " [0]\n",
            " [0]\n",
            " [0]\n",
            " [0]\n",
            " [0]\n",
            " [0]\n",
            " [0]\n",
            " [0]\n",
            " [0]\n",
            " [0]\n",
            " [0]\n",
            " [0]\n",
            " [0]\n",
            " [0]\n",
            " [0]\n",
            " [0]\n",
            " [0]\n",
            " [0]\n",
            " [0]\n",
            " [0]\n",
            " [0]\n",
            " [0]\n",
            " [0]\n",
            " [0]\n",
            " [0]\n",
            " [0]\n",
            " [0]\n",
            " [0]\n",
            " [0]\n",
            " [0]\n",
            " [0]\n",
            " [0]\n",
            " [0]\n",
            " [0]\n",
            " [0]\n",
            " [0]\n",
            " [0]\n",
            " [0]\n",
            " [0]\n",
            " [0]\n",
            " [0]\n",
            " [0]\n",
            " [0]\n",
            " [0]\n",
            " [0]\n",
            " [0]\n",
            " [0]\n",
            " [0]\n",
            " [0]\n",
            " [0]\n",
            " [0]\n",
            " [0]\n",
            " [0]\n",
            " [0]\n",
            " [0]\n",
            " [0]\n",
            " [0]\n",
            " [0]\n",
            " [0]\n",
            " [0]\n",
            " [0]\n",
            " [0]\n",
            " [0]\n",
            " [0]\n",
            " [0]\n",
            " [0]\n",
            " [0]\n",
            " [0]\n",
            " [0]\n",
            " [0]\n",
            " [0]]\n",
            "[0 0 0 0 0 0 0 0 0 0 0 0 0 0 0 0 0 0 0 0 0 0 0 0 0 0 0 0 0 0 0 0 0 0 0 0 0\n",
            " 0 0 0 0 0 0 0 0 0 0 0 0 0 0 0 0 0 0 0 0 0 0 0 0 0 0 0 0 0 0 0 0 0 0 0 0 0\n",
            " 0 0 0 0 0 0 0 0 0 0 0 0 0 0 0 0 0 0 0 0 0 0 0 0 0 0 0 0 0 0 0 0 0 0 0 0 0\n",
            " 0 0 0 0 0 0 0 0 0 0 0 0 0 0 0 0 0 0 0 0 0 0 0 0 0 0 0 0 0 0 0 0 0 0 0 0 0\n",
            " 0 0 0 0 0 0 0 0 0 0 0 0 0 0 0 0 0 0 0 0 0 0 0 0 0 0 0 0 0 0 0 0 0 0 0 0 0\n",
            " 0 0 0 0 0 0 0 0 0 0 0 0 0 0 0 0 0 0 0 0 0 0 0 0 0 0 0 0 0 0 0 0 0 0 0 0 0\n",
            " 0 0 0 0 0 0 0 0 0 0 0 0 0 0 0 0 0 0 0 0 0 0 0 0 0 0 0 0 0 0 0 0 0 0 0 0 0\n",
            " 0 0 0 0 0 0 0 0 0 0 0 0 0 0 0 0 0 0 0 0 0 0 0 0 0 0 0]\n",
            "[1 1 0 0 0 0 0 1 0 1 1 1 0 0 0 0 0 0 1 0 0 0 1 0 0 0 0 0 0 0 1 0 0 0 1 0 0\n",
            " 1 0 0 0 0 0 0 0 0 1 0 0 1 0 0 0 1 0 0 0 0 0 0 0 1 0 0 0 0 0 0 0 0 0 0 0 0\n",
            " 0 0 0 0 0 0 1 1 0 0 0 0 0 0 1 0 0 0 0 0 0 0 0 0 0 1 0 0 0 1 0 0 0 0 0 0 0\n",
            " 1 1 0 1 0 1 1 0 0 0 1 0 1 0 0 0 0 1 1 0 1 0 0 0 1 0 0 0 0 0 0 0 1 1 1 1 1\n",
            " 0 0 1 0 0 1 1 0 1 1 1 1 0 0 1 0 0 1 1 1 1 1 1 1 1 1 1 0 1 1 1 0 1 0 0 1 1\n",
            " 1 1 1 1 1 1 1 1 1 1 0 1 1 1 1 0 1 1 1 1 0 0 0 1 1 1 1 0 0 1 0 1 1 1 1 0 1\n",
            " 1 1 1 1 0 1 1 1 1 1 1 0 1 1 1 1 1 1 1 1 1 1 1 1 1 1 0 1 1 1 0 1 1 1 1 0 1\n",
            " 1 1 1 1 1 1 1 1 1 0 1 1 1 0 1 1 1 1 0 1 1 1 1 1 1 1 1]\n"
          ]
        }
      ]
    },
    {
      "cell_type": "code",
      "source": [
        "X_train_stacking = X_train.copy()\n",
        "\n",
        "X_train_stacking['ann_train'] = y_pred_ann_stacking_rounded.tolist()\n",
        "X_train_stacking['lr_train'] = y_pred_lr_stacking.tolist()\n",
        "\n",
        "print(X_train_stacking)"
      ],
      "metadata": {
        "colab": {
          "base_uri": "https://localhost:8080/"
        },
        "id": "J1QkJ1OFT5OM",
        "outputId": "6b68706e-2963-4f3d-9720-ebcd9495d361"
      },
      "execution_count": null,
      "outputs": [
        {
          "output_type": "stream",
          "name": "stdout",
          "text": [
            "       gap_hours  spherical_distances  eez_check      speed  \\\n",
            "0      12.233333            48.338185          0   3.951350   \n",
            "1     111.416667          1537.372559          0  13.798407   \n",
            "2      44.150000            49.300071          0   1.116649   \n",
            "3      13.150000             0.010049          0   0.000764   \n",
            "4      12.033333            27.737855          0   2.305085   \n",
            "..           ...                  ...        ...        ...   \n",
            "281   213.833333            80.517152          0   0.376542   \n",
            "282   241.466667            19.297124          0   0.079916   \n",
            "283   179.600000           175.937504          0   0.979607   \n",
            "284    75.700000           624.212964          1   8.245878   \n",
            "285  4034.783333          2051.092341          0   0.508353   \n",
            "\n",
            "     gear type_dredge_fishing  gear type_drifting_longlines  \\\n",
            "0                           0                             0   \n",
            "1                           0                             0   \n",
            "2                           0                             0   \n",
            "3                           0                             1   \n",
            "4                           0                             0   \n",
            "..                        ...                           ...   \n",
            "281                         0                             0   \n",
            "282                         0                             0   \n",
            "283                         0                             0   \n",
            "284                         0                             0   \n",
            "285                         0                             0   \n",
            "\n",
            "     gear type_fishing  gear type_fixed_gear  gear type_other  \\\n",
            "0                    0                     0                0   \n",
            "1                    0                     0                0   \n",
            "2                    0                     0                0   \n",
            "3                    0                     0                0   \n",
            "4                    0                     0                0   \n",
            "..                 ...                   ...              ...   \n",
            "281                  0                     0                0   \n",
            "282                  0                     0                0   \n",
            "283                  0                     0                0   \n",
            "284                  0                     0                0   \n",
            "285                  0                     0                0   \n",
            "\n",
            "     gear type_other_purse_seines  ...  \\\n",
            "0                               0  ...   \n",
            "1                               0  ...   \n",
            "2                               0  ...   \n",
            "3                               0  ...   \n",
            "4                               0  ...   \n",
            "..                            ...  ...   \n",
            "281                             0  ...   \n",
            "282                             0  ...   \n",
            "283                             0  ...   \n",
            "284                             0  ...   \n",
            "285                             0  ...   \n",
            "\n",
            "     exact _name new from diff Oceans_Tasman Sea  \\\n",
            "0                                              0   \n",
            "1                                              0   \n",
            "2                                              0   \n",
            "3                                              0   \n",
            "4                                              0   \n",
            "..                                           ...   \n",
            "281                                            0   \n",
            "282                                            0   \n",
            "283                                            0   \n",
            "284                                            0   \n",
            "285                                            0   \n",
            "\n",
            "     exact _name new from diff Oceans_Timor Sea  \\\n",
            "0                                             0   \n",
            "1                                             0   \n",
            "2                                             0   \n",
            "3                                             0   \n",
            "4                                             0   \n",
            "..                                          ...   \n",
            "281                                           0   \n",
            "282                                           0   \n",
            "283                                           0   \n",
            "284                                           0   \n",
            "285                                           0   \n",
            "\n",
            "     ais_disable_time_division_Afternoon  ais_disable_time_division_Dawn  \\\n",
            "0                                      0                               0   \n",
            "1                                      0                               0   \n",
            "2                                      0                               0   \n",
            "3                                      0                               0   \n",
            "4                                      0                               1   \n",
            "..                                   ...                             ...   \n",
            "281                                    0                               0   \n",
            "282                                    0                               0   \n",
            "283                                    0                               0   \n",
            "284                                    0                               0   \n",
            "285                                    1                               0   \n",
            "\n",
            "     ais_disable_time_division_Evening  ais_disable_time_division_Morning  \\\n",
            "0                                    0                                  0   \n",
            "1                                    1                                  0   \n",
            "2                                    1                                  0   \n",
            "3                                    1                                  0   \n",
            "4                                    0                                  0   \n",
            "..                                 ...                                ...   \n",
            "281                                  0                                  0   \n",
            "282                                  0                                  1   \n",
            "283                                  0                                  0   \n",
            "284                                  0                                  1   \n",
            "285                                  0                                  0   \n",
            "\n",
            "     ais_disable_time_division_Night  ais_disable_time_division_Twilight  \\\n",
            "0                                  1                                   0   \n",
            "1                                  0                                   0   \n",
            "2                                  0                                   0   \n",
            "3                                  0                                   0   \n",
            "4                                  0                                   0   \n",
            "..                               ...                                 ...   \n",
            "281                                1                                   0   \n",
            "282                                0                                   0   \n",
            "283                                0                                   1   \n",
            "284                                0                                   0   \n",
            "285                                0                                   0   \n",
            "\n",
            "     ann_train  lr_train  \n",
            "0            0         1  \n",
            "1            0         1  \n",
            "2            0         0  \n",
            "3            0         0  \n",
            "4            0         0  \n",
            "..         ...       ...  \n",
            "281          0         1  \n",
            "282          0         1  \n",
            "283          0         1  \n",
            "284          0         1  \n",
            "285          0         1  \n",
            "\n",
            "[286 rows x 65 columns]\n"
          ]
        }
      ]
    },
    {
      "cell_type": "code",
      "source": [
        "y_pred_ann_stacking_test=model_normal.predict(X_test)\n",
        "y_pred_ann_stacking_rounded_test = np.where(y_pred_ann_stacking_test > optimal_threshold1, 1, 0)\n",
        "\n",
        "y_pred_lr_stacking_test = model_lr.predict(X_test)\n",
        "\n",
        "print(y_pred_ann_stacking_rounded_test)\n",
        "import numpy as np\n",
        "\n",
        "y_pred_ann_stacking_rounded_test = y_pred_ann_stacking_rounded_test.flatten()\n",
        "print(y_pred_ann_stacking_rounded_test)\n",
        "\n",
        "print(y_pred_lr_stacking_test)\n",
        "\n",
        "X_test_stacking = X_test.copy()\n",
        "\n",
        "X_test_stacking['ann_train'] = y_pred_ann_stacking_rounded_test.tolist()\n",
        "X_test_stacking['lr_train'] = y_pred_lr_stacking_test.tolist()\n",
        "\n",
        "print(X_test_stacking)"
      ],
      "metadata": {
        "colab": {
          "base_uri": "https://localhost:8080/"
        },
        "id": "6gyzY65AV9Gq",
        "outputId": "ae334e38-90fe-412a-ed7e-add8d29d419d"
      },
      "execution_count": null,
      "outputs": [
        {
          "output_type": "stream",
          "name": "stdout",
          "text": [
            "691/691 [==============================] - 2s 3ms/step\n",
            "[[0]\n",
            " [0]\n",
            " [0]\n",
            " ...\n",
            " [0]\n",
            " [0]\n",
            " [0]]\n",
            "[0 0 0 ... 0 0 0]\n",
            "[1 1 0 ... 0 1 0]\n",
            "         gap_hours  spherical_distances  eez_check      speed  \\\n",
            "33203   203.266667           509.004605          1   2.504122   \n",
            "35764  1316.066667          2494.276343          0   1.895251   \n",
            "15886    21.433333           135.912913          0   6.341193   \n",
            "32832    49.850000           649.387351          1  13.026828   \n",
            "51070    21.400000            55.797219          0   2.607347   \n",
            "...            ...                  ...        ...        ...   \n",
            "54470    13.283333             6.685679          0   0.503313   \n",
            "47139    12.850000            16.522841          0   1.285824   \n",
            "45884    67.566667           381.437143          0   5.645345   \n",
            "31057   498.350000          1500.626299          1   3.011190   \n",
            "18760    43.266667           499.088933          0  11.535183   \n",
            "\n",
            "       gear type_dredge_fishing  gear type_drifting_longlines  \\\n",
            "33203                         0                             0   \n",
            "35764                         0                             0   \n",
            "15886                         0                             0   \n",
            "32832                         0                             0   \n",
            "51070                         0                             1   \n",
            "...                         ...                           ...   \n",
            "54470                         0                             1   \n",
            "47139                         0                             1   \n",
            "45884                         0                             1   \n",
            "31057                         0                             0   \n",
            "18760                         0                             0   \n",
            "\n",
            "       gear type_fishing  gear type_fixed_gear  gear type_other  \\\n",
            "33203                  0                     0                0   \n",
            "35764                  0                     0                0   \n",
            "15886                  0                     0                0   \n",
            "32832                  0                     0                0   \n",
            "51070                  0                     0                0   \n",
            "...                  ...                   ...              ...   \n",
            "54470                  0                     0                0   \n",
            "47139                  0                     0                0   \n",
            "45884                  0                     0                0   \n",
            "31057                  0                     0                0   \n",
            "18760                  0                     0                0   \n",
            "\n",
            "       gear type_other_purse_seines  ...  \\\n",
            "33203                             0  ...   \n",
            "35764                             0  ...   \n",
            "15886                             0  ...   \n",
            "32832                             0  ...   \n",
            "51070                             0  ...   \n",
            "...                             ...  ...   \n",
            "54470                             0  ...   \n",
            "47139                             0  ...   \n",
            "45884                             0  ...   \n",
            "31057                             0  ...   \n",
            "18760                             0  ...   \n",
            "\n",
            "       exact _name new from diff Oceans_Tasman Sea  \\\n",
            "33203                                            0   \n",
            "35764                                            0   \n",
            "15886                                            0   \n",
            "32832                                            0   \n",
            "51070                                            0   \n",
            "...                                            ...   \n",
            "54470                                            0   \n",
            "47139                                            0   \n",
            "45884                                            0   \n",
            "31057                                            0   \n",
            "18760                                            0   \n",
            "\n",
            "       exact _name new from diff Oceans_Timor Sea  \\\n",
            "33203                                           0   \n",
            "35764                                           0   \n",
            "15886                                           0   \n",
            "32832                                           0   \n",
            "51070                                           0   \n",
            "...                                           ...   \n",
            "54470                                           0   \n",
            "47139                                           0   \n",
            "45884                                           0   \n",
            "31057                                           0   \n",
            "18760                                           0   \n",
            "\n",
            "       ais_disable_time_division_Afternoon  ais_disable_time_division_Dawn  \\\n",
            "33203                                    0                               0   \n",
            "35764                                    0                               0   \n",
            "15886                                    0                               1   \n",
            "32832                                    0                               0   \n",
            "51070                                    0                               0   \n",
            "...                                    ...                             ...   \n",
            "54470                                    0                               0   \n",
            "47139                                    0                               0   \n",
            "45884                                    0                               0   \n",
            "31057                                    1                               0   \n",
            "18760                                    0                               1   \n",
            "\n",
            "       ais_disable_time_division_Evening  ais_disable_time_division_Morning  \\\n",
            "33203                                  0                                  0   \n",
            "35764                                  1                                  0   \n",
            "15886                                  0                                  0   \n",
            "32832                                  0                                  0   \n",
            "51070                                  0                                  1   \n",
            "...                                  ...                                ...   \n",
            "54470                                  0                                  0   \n",
            "47139                                  0                                  0   \n",
            "45884                                  0                                  0   \n",
            "31057                                  0                                  0   \n",
            "18760                                  0                                  0   \n",
            "\n",
            "       ais_disable_time_division_Night  ais_disable_time_division_Twilight  \\\n",
            "33203                                0                                   1   \n",
            "35764                                0                                   0   \n",
            "15886                                0                                   0   \n",
            "32832                                1                                   0   \n",
            "51070                                0                                   0   \n",
            "...                                ...                                 ...   \n",
            "54470                                1                                   0   \n",
            "47139                                0                                   1   \n",
            "45884                                0                                   1   \n",
            "31057                                0                                   0   \n",
            "18760                                0                                   0   \n",
            "\n",
            "       ann_train  lr_train  \n",
            "33203          0         1  \n",
            "35764          0         1  \n",
            "15886          0         0  \n",
            "32832          0         0  \n",
            "51070          0         1  \n",
            "...          ...       ...  \n",
            "54470          0         0  \n",
            "47139          0         0  \n",
            "45884          0         0  \n",
            "31057          0         1  \n",
            "18760          0         0  \n",
            "\n",
            "[22097 rows x 65 columns]\n"
          ]
        }
      ]
    },
    {
      "cell_type": "markdown",
      "source": [
        "#### Train the meta model"
      ],
      "metadata": {
        "id": "HiQInmURduNY"
      }
    },
    {
      "cell_type": "code",
      "source": [
        "# fit balanced xgboost on an imbalanced classification dataset\n",
        "from numpy import mean\n",
        "from sklearn.datasets import make_classification\n",
        "from sklearn.model_selection import cross_val_score\n",
        "from sklearn.model_selection import RepeatedStratifiedKFold\n",
        "from xgboost import XGBClassifier\n",
        "# define model\n",
        "xgb_stacking = XGBClassifier(scale_pos_weight=1000)\n",
        "# define evaluation procedure\n",
        "cv_stacking = RepeatedStratifiedKFold(n_splits=10, n_repeats=3, random_state=1)\n",
        "# evaluate model\n",
        "scores_stacking = cross_val_score(xgb_stacking, X_train_stacking, y_train, scoring='roc_auc', cv=cv_stacking, n_jobs=-1)\n",
        "# summarize performance\n",
        "print('Mean ROC AUC: %.5f' % mean(scores_stacking))"
      ],
      "metadata": {
        "colab": {
          "base_uri": "https://localhost:8080/"
        },
        "id": "TAVs_CZXU1jj",
        "outputId": "d83ad265-a596-4249-e351-2d43b226b37a"
      },
      "execution_count": null,
      "outputs": [
        {
          "output_type": "stream",
          "name": "stdout",
          "text": [
            "Mean ROC AUC: 0.85116\n"
          ]
        }
      ]
    },
    {
      "cell_type": "code",
      "source": [
        "# Fitting the classifier on training data\n",
        "xgb_stacking.fit(X_train_stacking, y_train)\n",
        "\n",
        "# Making predictions on test data\n",
        "y_pred_xgb_stacking = xgb_stacking.predict(X_test_stacking)\n",
        "\n",
        "from sklearn.metrics import classification_report\n",
        "\n",
        "print(classification_report(y_test, y_pred_xgb_stacking))\n",
        "\n",
        "from sklearn.metrics import confusion_matrix\n",
        "\n",
        "# Print the confusion matrix\n",
        "cm = confusion_matrix(y_test, y_pred_xgb_stacking)\n",
        "print(cm)"
      ],
      "metadata": {
        "colab": {
          "base_uri": "https://localhost:8080/"
        },
        "id": "_WJuKZPUU41e",
        "outputId": "bdf41053-2948-4167-9ee3-cf50d5a3e952"
      },
      "execution_count": null,
      "outputs": [
        {
          "output_type": "stream",
          "name": "stdout",
          "text": [
            "              precision    recall  f1-score   support\n",
            "\n",
            "           0       1.00      0.29      0.45     22001\n",
            "           1       0.01      0.96      0.01        96\n",
            "\n",
            "    accuracy                           0.29     22097\n",
            "   macro avg       0.50      0.62      0.23     22097\n",
            "weighted avg       1.00      0.29      0.44     22097\n",
            "\n",
            "[[ 6315 15686]\n",
            " [    4    92]]\n"
          ]
        }
      ]
    },
    {
      "cell_type": "markdown",
      "source": [
        "# Random Forest very bad"
      ],
      "metadata": {
        "id": "_z59aOcTAEhK"
      }
    },
    {
      "cell_type": "code",
      "source": [
        "from sklearn.ensemble import RandomForestClassifier\n",
        "from sklearn.datasets import make_classification\n",
        "from sklearn.model_selection import train_test_split\n",
        "\n",
        "weights_assigned1={0:1,1:2}\n",
        "# Initializing Random Forest classifier with class weights\n",
        "clf = RandomForestClassifier(class_weight='balanced')\n",
        "\n",
        "# Fitting the classifier on training data\n",
        "clf.fit(X_train, y_train)\n",
        "\n",
        "# Making predictions on test data\n",
        "y_pred_clf = clf.predict(X_test)\n",
        "\n",
        "from sklearn.metrics import classification_report\n",
        "\n",
        "print(classification_report(y_test, y_pred_clf))\n",
        "\n",
        "from sklearn.metrics import confusion_matrix\n",
        "\n",
        "# Print the confusion matrix\n",
        "cm = confusion_matrix(y_test, y_pred_clf)\n",
        "print(cm)\n"
      ],
      "metadata": {
        "colab": {
          "base_uri": "https://localhost:8080/"
        },
        "id": "I_Ig7hCRC_ez",
        "outputId": "9b06e684-9ca1-4cf0-cb63-268b375ca404"
      },
      "execution_count": null,
      "outputs": [
        {
          "output_type": "stream",
          "name": "stdout",
          "text": [
            "              precision    recall  f1-score   support\n",
            "\n",
            "           0       1.00      0.81      0.89     22001\n",
            "           1       0.02      0.76      0.03        96\n",
            "\n",
            "    accuracy                           0.81     22097\n",
            "   macro avg       0.51      0.79      0.46     22097\n",
            "weighted avg       0.99      0.81      0.89     22097\n",
            "\n",
            "[[17831  4170]\n",
            " [   23    73]]\n"
          ]
        }
      ]
    },
    {
      "cell_type": "markdown",
      "source": [
        "# Weighted SVM very bad"
      ],
      "metadata": {
        "id": "6pbIG57lOYmm"
      }
    },
    {
      "cell_type": "code",
      "source": [
        "# svm with class weight on an imbalanced classification dataset\n",
        "from numpy import mean\n",
        "from sklearn.datasets import make_classification\n",
        "from sklearn.model_selection import cross_val_score\n",
        "from sklearn.model_selection import RepeatedStratifiedKFold\n",
        "from sklearn.svm import SVC\n",
        "# define model\n",
        "model_svm = SVC(gamma='scale', class_weight='balanced')\n",
        "# define evaluation procedure\n",
        "cv = RepeatedStratifiedKFold(n_splits=10, n_repeats=3, random_state=1)\n",
        "# evaluate model\n",
        "scores = cross_val_score(model_svm, X_train, y_train, scoring='roc_auc', cv=cv, n_jobs=-1)\n",
        "# summarize performance\n",
        "print('Mean ROC AUC: %.3f' % mean(scores))"
      ],
      "metadata": {
        "colab": {
          "base_uri": "https://localhost:8080/"
        },
        "id": "oknnNcb_ObG1",
        "outputId": "d57bff27-b2ea-443b-a48e-17f6816ea068"
      },
      "execution_count": null,
      "outputs": [
        {
          "output_type": "stream",
          "name": "stdout",
          "text": [
            "Mean ROC AUC: 0.648\n"
          ]
        }
      ]
    },
    {
      "cell_type": "code",
      "source": [
        "# svm with class weight on an imbalanced classification dataset\n",
        "from numpy import mean\n",
        "from sklearn.datasets import make_classification\n",
        "from sklearn.model_selection import cross_val_score\n",
        "from sklearn.model_selection import RepeatedStratifiedKFold\n",
        "from sklearn.svm import SVC\n",
        "# define model\n",
        "weights_assigned_svm={0:1,1:230}\n",
        "model_svm = SVC(gamma='scale', class_weight=weights_assigned_svm)\n",
        "\n",
        "# Fitting the classifier on training data\n",
        "model_svm.fit(X_train, y_train)\n",
        "\n",
        "# Making predictions on test data\n",
        "y_pred_svm = model_svm.predict(X_test)\n",
        "\n",
        "from sklearn.metrics import classification_report\n",
        "\n",
        "print(classification_report(y_test, y_pred_svm))\n",
        "\n",
        "from sklearn.metrics import confusion_matrix\n",
        "\n",
        "# Print the confusion matrix\n",
        "cm = confusion_matrix(y_test, y_pred_svm)\n",
        "print(cm)"
      ],
      "metadata": {
        "colab": {
          "base_uri": "https://localhost:8080/"
        },
        "id": "BQubmk0WOlq2",
        "outputId": "6eb47ba9-9346-4e9d-8cee-7bac85b784e5"
      },
      "execution_count": null,
      "outputs": [
        {
          "output_type": "stream",
          "name": "stdout",
          "text": [
            "              precision    recall  f1-score   support\n",
            "\n",
            "           0       0.00      0.00      0.00     22001\n",
            "           1       0.00      1.00      0.01        96\n",
            "\n",
            "    accuracy                           0.00     22097\n",
            "   macro avg       0.00      0.50      0.00     22097\n",
            "weighted avg       0.00      0.00      0.00     22097\n",
            "\n",
            "[[    0 22001]\n",
            " [    0    96]]\n"
          ]
        },
        {
          "output_type": "stream",
          "name": "stderr",
          "text": [
            "/usr/local/lib/python3.8/dist-packages/sklearn/metrics/_classification.py:1318: UndefinedMetricWarning: Precision and F-score are ill-defined and being set to 0.0 in labels with no predicted samples. Use `zero_division` parameter to control this behavior.\n",
            "  _warn_prf(average, modifier, msg_start, len(result))\n",
            "/usr/local/lib/python3.8/dist-packages/sklearn/metrics/_classification.py:1318: UndefinedMetricWarning: Precision and F-score are ill-defined and being set to 0.0 in labels with no predicted samples. Use `zero_division` parameter to control this behavior.\n",
            "  _warn_prf(average, modifier, msg_start, len(result))\n",
            "/usr/local/lib/python3.8/dist-packages/sklearn/metrics/_classification.py:1318: UndefinedMetricWarning: Precision and F-score are ill-defined and being set to 0.0 in labels with no predicted samples. Use `zero_division` parameter to control this behavior.\n",
            "  _warn_prf(average, modifier, msg_start, len(result))\n"
          ]
        }
      ]
    },
    {
      "cell_type": "markdown",
      "source": [
        "# Decision Trees very bad"
      ],
      "metadata": {
        "id": "8iB41mW-dNvN"
      }
    },
    {
      "cell_type": "code",
      "source": [
        "# decision tree with class weight on an imbalanced classification dataset\n",
        "from numpy import mean\n",
        "from sklearn.datasets import make_classification\n",
        "from sklearn.model_selection import cross_val_score\n",
        "from sklearn.model_selection import RepeatedStratifiedKFold\n",
        "from sklearn.tree import DecisionTreeClassifier\n",
        "# define model\n",
        "weights_assigned_dt={0:1,1:300}\n",
        "model_dt = DecisionTreeClassifier(class_weight=weights_assigned_dt)\n",
        "# define evaluation procedure\n",
        "cv = RepeatedStratifiedKFold(n_splits=10, n_repeats=3, random_state=1)\n",
        "# evaluate model\n",
        "scores = cross_val_score(model_dt, X_train, y_train, scoring='roc_auc', cv=cv, n_jobs=-1)\n",
        "# summarize performance\n",
        "print('Mean ROC AUC: %.3f' % mean(scores))"
      ],
      "metadata": {
        "colab": {
          "base_uri": "https://localhost:8080/"
        },
        "id": "p_i3PJm3dTFd",
        "outputId": "e50bd2f7-f68b-4daf-a665-dd544b3a28f9"
      },
      "execution_count": null,
      "outputs": [
        {
          "output_type": "stream",
          "name": "stdout",
          "text": [
            "Mean ROC AUC: 0.749\n"
          ]
        }
      ]
    },
    {
      "cell_type": "code",
      "source": [
        "# Fitting the classifier on training data\n",
        "model_dt.fit(X_train, y_train)\n",
        "\n",
        "# Making predictions on test data\n",
        "y_pred_dt = model_dt.predict(X_test)\n",
        "\n",
        "from sklearn.metrics import classification_report\n",
        "\n",
        "print(classification_report(y_test, y_pred_dt))\n",
        "\n",
        "from sklearn.metrics import confusion_matrix\n",
        "\n",
        "# Print the confusion matrix\n",
        "cm = confusion_matrix(y_test, y_pred_dt)\n",
        "print(cm)"
      ],
      "metadata": {
        "colab": {
          "base_uri": "https://localhost:8080/"
        },
        "id": "MGVPz2o7dZOU",
        "outputId": "5f513670-dbd1-4c64-d5a9-66bff42cbdb8"
      },
      "execution_count": null,
      "outputs": [
        {
          "output_type": "stream",
          "name": "stdout",
          "text": [
            "              precision    recall  f1-score   support\n",
            "\n",
            "           0       1.00      0.76      0.86     22001\n",
            "           1       0.01      0.76      0.03        96\n",
            "\n",
            "    accuracy                           0.76     22097\n",
            "   macro avg       0.51      0.76      0.44     22097\n",
            "weighted avg       0.99      0.76      0.86     22097\n",
            "\n",
            "[[16683  5318]\n",
            " [   23    73]]\n"
          ]
        }
      ]
    }
  ],
  "metadata": {
    "kernelspec": {
      "display_name": "Python 3",
      "language": "python",
      "name": "python3"
    },
    "language_info": {
      "codemirror_mode": {
        "name": "ipython",
        "version": 3
      },
      "file_extension": ".py",
      "mimetype": "text/x-python",
      "name": "python",
      "nbconvert_exporter": "python",
      "pygments_lexer": "ipython3",
      "version": "3.7.7"
    },
    "colab": {
      "provenance": [],
      "collapsed_sections": [
        "aSzzkMktlI7r",
        "6P--HzJX4cNY",
        "zcd0N_w5dOso",
        "HiQInmURduNY",
        "_z59aOcTAEhK",
        "6pbIG57lOYmm",
        "8iB41mW-dNvN"
      ]
    },
    "gpuClass": "standard"
  },
  "nbformat": 4,
  "nbformat_minor": 0
}
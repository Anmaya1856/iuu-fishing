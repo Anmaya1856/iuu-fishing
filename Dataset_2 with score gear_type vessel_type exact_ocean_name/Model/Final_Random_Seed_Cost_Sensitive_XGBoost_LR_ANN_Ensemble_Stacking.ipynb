{
  "cells": [
    {
      "cell_type": "markdown",
      "metadata": {
        "id": "j3dKmFb1fDL-"
      },
      "source": [
        "# Importing Dataset and pre processing"
      ]
    },
    {
      "cell_type": "code",
      "execution_count": 46,
      "metadata": {
        "colab": {
          "base_uri": "https://localhost:8080/",
          "height": 0
        },
        "id": "W0XR2-q8fDMD",
        "outputId": "0934dbac-84ef-4750-ec99-086710e22060"
      },
      "outputs": [
        {
          "output_type": "execute_result",
          "data": {
            "text/plain": [
              "   gap_hours  iuu_caught  spherical_distances  eez_check  \\\n",
              "0  13.016667           0           207.942845          0   \n",
              "1  13.850000           0             9.704232          0   \n",
              "2  33.733333           0            10.789069          1   \n",
              "3  30.650000           0            11.695860          1   \n",
              "4  50.283333           0            93.113335          1   \n",
              "\n",
              "  exact _name new from diff Oceans      gear type      speed  \\\n",
              "0             North Atlantic Ocean  pole_and_line  15.975123   \n",
              "1             South Atlantic Ocean        fishing   0.700667   \n",
              "2             North Atlantic Ocean  pole_and_line   0.319834   \n",
              "3             North Atlantic Ocean  pole_and_line   0.381594   \n",
              "4             North Atlantic Ocean  pole_and_line   1.851773   \n",
              "\n",
              "  ais_disable_time_division  \n",
              "0                   Morning  \n",
              "1                      Dawn  \n",
              "2                      Dawn  \n",
              "3                 Afternoon  \n",
              "4                 Afternoon  "
            ],
            "text/html": [
              "\n",
              "  <div id=\"df-5d090575-008e-4f00-bfee-7b9a3250f05f\">\n",
              "    <div class=\"colab-df-container\">\n",
              "      <div>\n",
              "<style scoped>\n",
              "    .dataframe tbody tr th:only-of-type {\n",
              "        vertical-align: middle;\n",
              "    }\n",
              "\n",
              "    .dataframe tbody tr th {\n",
              "        vertical-align: top;\n",
              "    }\n",
              "\n",
              "    .dataframe thead th {\n",
              "        text-align: right;\n",
              "    }\n",
              "</style>\n",
              "<table border=\"1\" class=\"dataframe\">\n",
              "  <thead>\n",
              "    <tr style=\"text-align: right;\">\n",
              "      <th></th>\n",
              "      <th>gap_hours</th>\n",
              "      <th>iuu_caught</th>\n",
              "      <th>spherical_distances</th>\n",
              "      <th>eez_check</th>\n",
              "      <th>exact _name new from diff Oceans</th>\n",
              "      <th>gear type</th>\n",
              "      <th>speed</th>\n",
              "      <th>ais_disable_time_division</th>\n",
              "    </tr>\n",
              "  </thead>\n",
              "  <tbody>\n",
              "    <tr>\n",
              "      <th>0</th>\n",
              "      <td>13.016667</td>\n",
              "      <td>0</td>\n",
              "      <td>207.942845</td>\n",
              "      <td>0</td>\n",
              "      <td>North Atlantic Ocean</td>\n",
              "      <td>pole_and_line</td>\n",
              "      <td>15.975123</td>\n",
              "      <td>Morning</td>\n",
              "    </tr>\n",
              "    <tr>\n",
              "      <th>1</th>\n",
              "      <td>13.850000</td>\n",
              "      <td>0</td>\n",
              "      <td>9.704232</td>\n",
              "      <td>0</td>\n",
              "      <td>South Atlantic Ocean</td>\n",
              "      <td>fishing</td>\n",
              "      <td>0.700667</td>\n",
              "      <td>Dawn</td>\n",
              "    </tr>\n",
              "    <tr>\n",
              "      <th>2</th>\n",
              "      <td>33.733333</td>\n",
              "      <td>0</td>\n",
              "      <td>10.789069</td>\n",
              "      <td>1</td>\n",
              "      <td>North Atlantic Ocean</td>\n",
              "      <td>pole_and_line</td>\n",
              "      <td>0.319834</td>\n",
              "      <td>Dawn</td>\n",
              "    </tr>\n",
              "    <tr>\n",
              "      <th>3</th>\n",
              "      <td>30.650000</td>\n",
              "      <td>0</td>\n",
              "      <td>11.695860</td>\n",
              "      <td>1</td>\n",
              "      <td>North Atlantic Ocean</td>\n",
              "      <td>pole_and_line</td>\n",
              "      <td>0.381594</td>\n",
              "      <td>Afternoon</td>\n",
              "    </tr>\n",
              "    <tr>\n",
              "      <th>4</th>\n",
              "      <td>50.283333</td>\n",
              "      <td>0</td>\n",
              "      <td>93.113335</td>\n",
              "      <td>1</td>\n",
              "      <td>North Atlantic Ocean</td>\n",
              "      <td>pole_and_line</td>\n",
              "      <td>1.851773</td>\n",
              "      <td>Afternoon</td>\n",
              "    </tr>\n",
              "  </tbody>\n",
              "</table>\n",
              "</div>\n",
              "      <button class=\"colab-df-convert\" onclick=\"convertToInteractive('df-5d090575-008e-4f00-bfee-7b9a3250f05f')\"\n",
              "              title=\"Convert this dataframe to an interactive table.\"\n",
              "              style=\"display:none;\">\n",
              "        \n",
              "  <svg xmlns=\"http://www.w3.org/2000/svg\" height=\"24px\"viewBox=\"0 0 24 24\"\n",
              "       width=\"24px\">\n",
              "    <path d=\"M0 0h24v24H0V0z\" fill=\"none\"/>\n",
              "    <path d=\"M18.56 5.44l.94 2.06.94-2.06 2.06-.94-2.06-.94-.94-2.06-.94 2.06-2.06.94zm-11 1L8.5 8.5l.94-2.06 2.06-.94-2.06-.94L8.5 2.5l-.94 2.06-2.06.94zm10 10l.94 2.06.94-2.06 2.06-.94-2.06-.94-.94-2.06-.94 2.06-2.06.94z\"/><path d=\"M17.41 7.96l-1.37-1.37c-.4-.4-.92-.59-1.43-.59-.52 0-1.04.2-1.43.59L10.3 9.45l-7.72 7.72c-.78.78-.78 2.05 0 2.83L4 21.41c.39.39.9.59 1.41.59.51 0 1.02-.2 1.41-.59l7.78-7.78 2.81-2.81c.8-.78.8-2.07 0-2.86zM5.41 20L4 18.59l7.72-7.72 1.47 1.35L5.41 20z\"/>\n",
              "  </svg>\n",
              "      </button>\n",
              "      \n",
              "  <style>\n",
              "    .colab-df-container {\n",
              "      display:flex;\n",
              "      flex-wrap:wrap;\n",
              "      gap: 12px;\n",
              "    }\n",
              "\n",
              "    .colab-df-convert {\n",
              "      background-color: #E8F0FE;\n",
              "      border: none;\n",
              "      border-radius: 50%;\n",
              "      cursor: pointer;\n",
              "      display: none;\n",
              "      fill: #1967D2;\n",
              "      height: 32px;\n",
              "      padding: 0 0 0 0;\n",
              "      width: 32px;\n",
              "    }\n",
              "\n",
              "    .colab-df-convert:hover {\n",
              "      background-color: #E2EBFA;\n",
              "      box-shadow: 0px 1px 2px rgba(60, 64, 67, 0.3), 0px 1px 3px 1px rgba(60, 64, 67, 0.15);\n",
              "      fill: #174EA6;\n",
              "    }\n",
              "\n",
              "    [theme=dark] .colab-df-convert {\n",
              "      background-color: #3B4455;\n",
              "      fill: #D2E3FC;\n",
              "    }\n",
              "\n",
              "    [theme=dark] .colab-df-convert:hover {\n",
              "      background-color: #434B5C;\n",
              "      box-shadow: 0px 1px 3px 1px rgba(0, 0, 0, 0.15);\n",
              "      filter: drop-shadow(0px 1px 2px rgba(0, 0, 0, 0.3));\n",
              "      fill: #FFFFFF;\n",
              "    }\n",
              "  </style>\n",
              "\n",
              "      <script>\n",
              "        const buttonEl =\n",
              "          document.querySelector('#df-5d090575-008e-4f00-bfee-7b9a3250f05f button.colab-df-convert');\n",
              "        buttonEl.style.display =\n",
              "          google.colab.kernel.accessAllowed ? 'block' : 'none';\n",
              "\n",
              "        async function convertToInteractive(key) {\n",
              "          const element = document.querySelector('#df-5d090575-008e-4f00-bfee-7b9a3250f05f');\n",
              "          const dataTable =\n",
              "            await google.colab.kernel.invokeFunction('convertToInteractive',\n",
              "                                                     [key], {});\n",
              "          if (!dataTable) return;\n",
              "\n",
              "          const docLinkHtml = 'Like what you see? Visit the ' +\n",
              "            '<a target=\"_blank\" href=https://colab.research.google.com/notebooks/data_table.ipynb>data table notebook</a>'\n",
              "            + ' to learn more about interactive tables.';\n",
              "          element.innerHTML = '';\n",
              "          dataTable['output_type'] = 'display_data';\n",
              "          await google.colab.output.renderOutput(dataTable, element);\n",
              "          const docLink = document.createElement('div');\n",
              "          docLink.innerHTML = docLinkHtml;\n",
              "          element.appendChild(docLink);\n",
              "        }\n",
              "      </script>\n",
              "    </div>\n",
              "  </div>\n",
              "  "
            ]
          },
          "metadata": {},
          "execution_count": 46
        }
      ],
      "source": [
        "import pandas as pd\n",
        "df=pd.read_csv('ais_disabling_events_final.csv')\n",
        "df = df.drop('score', axis=1)\n",
        "df.head()"
      ]
    },
    {
      "cell_type": "code",
      "execution_count": 47,
      "metadata": {
        "colab": {
          "base_uri": "https://localhost:8080/"
        },
        "id": "LV4xM8xNfDMF",
        "outputId": "d266bbbe-21a2-4edf-ced1-f0379d29c718"
      },
      "outputs": [
        {
          "output_type": "execute_result",
          "data": {
            "text/plain": [
              "(55368, 8)"
            ]
          },
          "metadata": {},
          "execution_count": 47
        }
      ],
      "source": [
        "df.shape"
      ]
    },
    {
      "cell_type": "code",
      "execution_count": 48,
      "metadata": {
        "colab": {
          "base_uri": "https://localhost:8080/"
        },
        "id": "u57ZoDMefDMG",
        "outputId": "81317b33-434a-4ede-b92d-cae3691bcbba"
      },
      "outputs": [
        {
          "output_type": "execute_result",
          "data": {
            "text/plain": [
              "0    55129\n",
              "1      239\n",
              "Name: iuu_caught, dtype: int64"
            ]
          },
          "metadata": {},
          "execution_count": 48
        }
      ],
      "source": [
        "df['iuu_caught'].value_counts()"
      ]
    },
    {
      "cell_type": "code",
      "source": [
        "import seaborn as sns\n",
        "\n",
        "sns.lmplot(x='gap_hours', y='spherical_distances', hue='iuu_caught', \n",
        "           markers=['x', 'o'],\n",
        "           fit_reg=False, data=df)"
      ],
      "metadata": {
        "colab": {
          "base_uri": "https://localhost:8080/",
          "height": 0
        },
        "id": "AIugNCCN1Zxz",
        "outputId": "196c5661-78d0-4357-cd59-3bf3d2cf7649"
      },
      "execution_count": 49,
      "outputs": [
        {
          "output_type": "execute_result",
          "data": {
            "text/plain": [
              "<seaborn.axisgrid.FacetGrid at 0x7fb167f19a00>"
            ]
          },
          "metadata": {},
          "execution_count": 49
        },
        {
          "output_type": "display_data",
          "data": {
            "text/plain": [
              "<Figure size 423.25x360 with 1 Axes>"
            ],
            "image/png": "[encoded data removed]"
          },
          "metadata": {
            "needs_background": "light"
          }
        }
      ]
    },
    {
      "cell_type": "code",
      "source": [
        "index_names = df[df['gap_hours'] >= 5000].index\n",
        "df.drop(index_names, inplace = True)\n",
        "\n",
        "index_names = df[df['spherical_distances'] >= 7000].index\n",
        "df.drop(index_names, inplace = True)"
      ],
      "metadata": {
        "id": "_lPooqKfCSqZ"
      },
      "execution_count": 50,
      "outputs": []
    },
    {
      "cell_type": "code",
      "source": [
        "import seaborn as sns\n",
        "\n",
        "sns.lmplot(x='gap_hours', y='spherical_distances', hue='iuu_caught', \n",
        "           markers=['x', 'o'],\n",
        "           fit_reg=False, data=df)"
      ],
      "metadata": {
        "colab": {
          "base_uri": "https://localhost:8080/",
          "height": 0
        },
        "id": "OhSSdRauCqaU",
        "outputId": "b1f51a97-3a32-4eed-c81c-55853aa0c036"
      },
      "execution_count": 51,
      "outputs": [
        {
          "output_type": "execute_result",
          "data": {
            "text/plain": [
              "<seaborn.axisgrid.FacetGrid at 0x7fb167cca430>"
            ]
          },
          "metadata": {},
          "execution_count": 51
        },
        {
          "output_type": "display_data",
          "data": {
            "text/plain": [
              "<Figure size 423.25x360 with 1 Axes>"
            ],
            "image/png": "[encoded data removed]"
          },
          "metadata": {
            "needs_background": "light"
          }
        }
      ]
    },
    {
      "cell_type": "code",
      "source": [
        "import pandas as pd\n",
        "import numpy as np\n",
        "import matplotlib.pyplot as plt\n",
        "import seaborn as sns\n",
        "\n",
        "# run correlation matrix and plot\n",
        "f, ax = plt.subplots(figsize=(10, 8))\n",
        "corr = df.corr()\n",
        "sns.heatmap(corr, mask=np.zeros_like(corr, dtype=np.bool),\n",
        "            cmap=sns.diverging_palette(220, 10, as_cmap=True),\n",
        "            square=True, ax=ax)\n",
        "\n",
        "\n",
        "matrix = df.corr()\n",
        "print(\"Correlation matrix is : \")\n",
        "print(matrix)"
      ],
      "metadata": {
        "colab": {
          "base_uri": "https://localhost:8080/",
          "height": 0
        },
        "id": "xWst-loT9bUO",
        "outputId": "e25dc0a3-f425-4e88-93b5-dcfa6bbe5069"
      },
      "execution_count": 52,
      "outputs": [
        {
          "output_type": "stream",
          "name": "stderr",
          "text": [
            "<ipython-input-52-d755c1f20fae>:9: DeprecationWarning: `np.bool` is a deprecated alias for the builtin `bool`. To silence this warning, use `bool` by itself. Doing this will not modify any behavior and is safe. If you specifically wanted the numpy scalar type, use `np.bool_` here.\n",
            "Deprecated in NumPy 1.20; for more details and guidance: https://numpy.org/devdocs/release/1.20.0-notes.html#deprecations\n",
            "  sns.heatmap(corr, mask=np.zeros_like(corr, dtype=np.bool),\n"
          ]
        },
        {
          "output_type": "stream",
          "name": "stdout",
          "text": [
            "Correlation matrix is : \n",
            "                     gap_hours  iuu_caught  spherical_distances  eez_check  \\\n",
            "gap_hours             1.000000    0.026771             0.432375   0.036147   \n",
            "iuu_caught            0.026771    1.000000             0.021905  -0.013338   \n",
            "spherical_distances   0.432375    0.021905             1.000000   0.065051   \n",
            "eez_check             0.036147   -0.013338             0.065051   1.000000   \n",
            "speed                -0.124339   -0.003477             0.357743   0.083598   \n",
            "\n",
            "                        speed  \n",
            "gap_hours           -0.124339  \n",
            "iuu_caught          -0.003477  \n",
            "spherical_distances  0.357743  \n",
            "eez_check            0.083598  \n",
            "speed                1.000000  \n"
          ]
        },
        {
          "output_type": "display_data",
          "data": {
            "text/plain": [
              "<Figure size 720x576 with 2 Axes>"
            ],
            "image/png": "[encoded data removed]"
          },
          "metadata": {
            "needs_background": "light"
          }
        }
      ]
    },
    {
      "cell_type": "markdown",
      "source": [
        "## One Hot Encoding\n"
      ],
      "metadata": {
        "id": "vbqkc3pmydxl"
      }
    },
    {
      "cell_type": "code",
      "source": [
        "print(df['gear type'].unique())\n",
        "print(df['exact _name new from diff Oceans'].unique())\n",
        "print(df['ais_disable_time_division'].unique())"
      ],
      "metadata": {
        "colab": {
          "base_uri": "https://localhost:8080/"
        },
        "id": "yyMFweZYi5-T",
        "outputId": "75c3633d-36d1-4b42-9dcc-ca4e81178026"
      },
      "execution_count": 53,
      "outputs": [
        {
          "output_type": "stream",
          "name": "stdout",
          "text": [
            "['pole_and_line' 'fishing' 'set_longlines' 'fixed_gear' 'set_gillnets'\n",
            " 'pots_and_traps' 'seiners' 'other_purse_seines' 'purse_seines' 'trollers'\n",
            " 'dredge_fishing' 'drifting_longlines' 'other' 'trawlers' 'other_seines'\n",
            " 'squid_jigger' 'tuna_purse_seines']\n",
            "['North Atlantic Ocean' 'South Atlantic Ocean' 'Celtic Sea'\n",
            " 'Southern Ocean' 'Mediterranean Sea - Eastern Basin' 'Norwegian Sea'\n",
            " 'Barentsz Sea' 'Sea of Okhotsk' 'Japan Sea' 'Bering Sea' 'Gulf of Alaska'\n",
            " 'Labrador Sea' 'Davis Strait' 'North Pacific Ocean' 'South Pacific Ocean'\n",
            " 'Arafura Sea' 'Arabian Sea' 'Indian Ocean' 'Tasman Sea' 'Bismarck Sea'\n",
            " 'Gulf of Guinea' 'Coral Sea' 'Bay of Bengal' 'Great Australian Bight'\n",
            " 'Mozambique Channel' 'Caribbean Sea' 'Philippine Sea' 'Timor Sea'\n",
            " 'Greenland Sea' 'North Sea' 'Laccadive Sea' 'Bass Strait'\n",
            " 'Gulf of St. Lawrence' 'Baffin Bay' 'Gulf of Mexico' 'Solomon Sea']\n",
            "['Morning' 'Dawn' 'Afternoon' 'Night' 'Twilight' 'Evening']\n"
          ]
        }
      ]
    },
    {
      "cell_type": "code",
      "source": [
        "print(df['gear type'].value_counts())\n",
        "print(df['exact _name new from diff Oceans'].value_counts())\n",
        "print(df['ais_disable_time_division'].value_counts())"
      ],
      "metadata": {
        "colab": {
          "base_uri": "https://localhost:8080/"
        },
        "id": "NMZkweLBkgix",
        "outputId": "9e2040a7-07ac-47ee-f6b8-a73d732126be"
      },
      "execution_count": 54,
      "outputs": [
        {
          "output_type": "stream",
          "name": "stdout",
          "text": [
            "drifting_longlines    18602\n",
            "squid_jigger          15450\n",
            "tuna_purse_seines      8596\n",
            "trawlers               7887\n",
            "fishing                1906\n",
            "set_longlines          1317\n",
            "pole_and_line           597\n",
            "pots_and_traps          386\n",
            "fixed_gear              180\n",
            "set_gillnets             81\n",
            "purse_seines             75\n",
            "trollers                 72\n",
            "other                    34\n",
            "other_purse_seines       30\n",
            "dredge_fishing           24\n",
            "seiners                   2\n",
            "other_seines              2\n",
            "Name: gear type, dtype: int64\n",
            "North Pacific Ocean                  16068\n",
            "South Pacific Ocean                  13352\n",
            "South Atlantic Ocean                 11070\n",
            "Indian Ocean                          5737\n",
            "North Atlantic Ocean                  4741\n",
            "Bering Sea                            1169\n",
            "Coral Sea                              398\n",
            "Sea of Okhotsk                         374\n",
            "Barentsz Sea                           331\n",
            "Gulf of Guinea                         287\n",
            "Celtic Sea                             276\n",
            "Arabian Sea                            225\n",
            "Philippine Sea                         208\n",
            "Tasman Sea                             146\n",
            "Solomon Sea                            120\n",
            "Norwegian Sea                          119\n",
            "Southern Ocean                         114\n",
            "Gulf of Alaska                          95\n",
            "Great Australian Bight                  79\n",
            "Mozambique Channel                      78\n",
            "Japan Sea                               55\n",
            "Bismarck Sea                            48\n",
            "Davis Strait                            40\n",
            "Labrador Sea                            27\n",
            "Arafura Sea                             20\n",
            "Caribbean Sea                           16\n",
            "Timor Sea                               15\n",
            "Mediterranean Sea - Eastern Basin       11\n",
            "Greenland Sea                            8\n",
            "North Sea                                5\n",
            "Bass Strait                              3\n",
            "Gulf of Mexico                           2\n",
            "Bay of Bengal                            1\n",
            "Laccadive Sea                            1\n",
            "Gulf of St. Lawrence                     1\n",
            "Baffin Bay                               1\n",
            "Name: exact _name new from diff Oceans, dtype: int64\n",
            "Dawn         12123\n",
            "Twilight     10956\n",
            "Night         8855\n",
            "Evening       8689\n",
            "Morning       7568\n",
            "Afternoon     7050\n",
            "Name: ais_disable_time_division, dtype: int64\n"
          ]
        }
      ]
    },
    {
      "cell_type": "code",
      "source": [
        "one_hot_encoded_data = pd.get_dummies(df, columns = ['gear type', 'exact _name new from diff Oceans','ais_disable_time_division'])\n",
        "print(one_hot_encoded_data.head())"
      ],
      "metadata": {
        "colab": {
          "base_uri": "https://localhost:8080/"
        },
        "id": "-65OpmWAkvdY",
        "outputId": "29b2a0e4-f588-4364-f535-e8b3cda0b15f"
      },
      "execution_count": 55,
      "outputs": [
        {
          "output_type": "stream",
          "name": "stdout",
          "text": [
            "   gap_hours  iuu_caught  spherical_distances  eez_check      speed  \\\n",
            "0  13.016667           0           207.942845          0  15.975123   \n",
            "1  13.850000           0             9.704232          0   0.700667   \n",
            "2  33.733333           0            10.789069          1   0.319834   \n",
            "3  30.650000           0            11.695860          1   0.381594   \n",
            "4  50.283333           0            93.113335          1   1.851773   \n",
            "\n",
            "   gear type_dredge_fishing  gear type_drifting_longlines  gear type_fishing  \\\n",
            "0                         0                             0                  0   \n",
            "1                         0                             0                  1   \n",
            "2                         0                             0                  0   \n",
            "3                         0                             0                  0   \n",
            "4                         0                             0                  0   \n",
            "\n",
            "   gear type_fixed_gear  gear type_other  ...  \\\n",
            "0                     0                0  ...   \n",
            "1                     0                0  ...   \n",
            "2                     0                0  ...   \n",
            "3                     0                0  ...   \n",
            "4                     0                0  ...   \n",
            "\n",
            "   exact _name new from diff Oceans_South Pacific Ocean  \\\n",
            "0                                                  0      \n",
            "1                                                  0      \n",
            "2                                                  0      \n",
            "3                                                  0      \n",
            "4                                                  0      \n",
            "\n",
            "   exact _name new from diff Oceans_Southern Ocean  \\\n",
            "0                                                0   \n",
            "1                                                0   \n",
            "2                                                0   \n",
            "3                                                0   \n",
            "4                                                0   \n",
            "\n",
            "   exact _name new from diff Oceans_Tasman Sea  \\\n",
            "0                                            0   \n",
            "1                                            0   \n",
            "2                                            0   \n",
            "3                                            0   \n",
            "4                                            0   \n",
            "\n",
            "   exact _name new from diff Oceans_Timor Sea  \\\n",
            "0                                           0   \n",
            "1                                           0   \n",
            "2                                           0   \n",
            "3                                           0   \n",
            "4                                           0   \n",
            "\n",
            "   ais_disable_time_division_Afternoon  ais_disable_time_division_Dawn  \\\n",
            "0                                    0                               0   \n",
            "1                                    0                               1   \n",
            "2                                    0                               1   \n",
            "3                                    1                               0   \n",
            "4                                    1                               0   \n",
            "\n",
            "   ais_disable_time_division_Evening  ais_disable_time_division_Morning  \\\n",
            "0                                  0                                  1   \n",
            "1                                  0                                  0   \n",
            "2                                  0                                  0   \n",
            "3                                  0                                  0   \n",
            "4                                  0                                  0   \n",
            "\n",
            "   ais_disable_time_division_Night  ais_disable_time_division_Twilight  \n",
            "0                                0                                   0  \n",
            "1                                0                                   0  \n",
            "2                                0                                   0  \n",
            "3                                0                                   0  \n",
            "4                                0                                   0  \n",
            "\n",
            "[5 rows x 64 columns]\n"
          ]
        }
      ]
    },
    {
      "cell_type": "code",
      "source": [
        "import seaborn as sns\n",
        "\n",
        "sns.lmplot(x='gap_hours', y='exact _name new from diff Oceans_South Atlantic Ocean', hue='iuu_caught', \n",
        "           markers=['x', 'o'],\n",
        "           fit_reg=False, data=one_hot_encoded_data)"
      ],
      "metadata": {
        "colab": {
          "base_uri": "https://localhost:8080/",
          "height": 0
        },
        "id": "GzxkG9jM11UG",
        "outputId": "3d75f9c1-beb5-41d1-9ff6-66f1d1b54cf3"
      },
      "execution_count": 56,
      "outputs": [
        {
          "output_type": "execute_result",
          "data": {
            "text/plain": [
              "<seaborn.axisgrid.FacetGrid at 0x7fb166da26d0>"
            ]
          },
          "metadata": {},
          "execution_count": 56
        },
        {
          "output_type": "display_data",
          "data": {
            "text/plain": [
              "<Figure size 423.25x360 with 1 Axes>"
            ],
            "image/png": "[encoded data removed]"
          },
          "metadata": {
            "needs_background": "light"
          }
        }
      ]
    },
    {
      "cell_type": "markdown",
      "source": [
        "## Test Train Split after One Hot Encoding"
      ],
      "metadata": {
        "id": "EC73sw2Xywmf"
      }
    },
    {
      "cell_type": "code",
      "source": [
        "#### Independent and Dependent Features\n",
        "X=one_hot_encoded_data.drop(\"iuu_caught\",axis=1)\n",
        "y=one_hot_encoded_data.iuu_caught"
      ],
      "metadata": {
        "id": "pMpzCAHKlyKv"
      },
      "execution_count": 57,
      "outputs": []
    },
    {
      "cell_type": "code",
      "source": [
        "from sklearn.model_selection import train_test_split\n",
        "X_train, X_test, y_train, y_test = train_test_split(X, y, test_size=0.4, random_state=15, stratify=y)"
      ],
      "metadata": {
        "id": "B0ezzV76WDHT"
      },
      "execution_count": 58,
      "outputs": []
    },
    {
      "cell_type": "code",
      "source": [
        "y_train.value_counts()"
      ],
      "metadata": {
        "colab": {
          "base_uri": "https://localhost:8080/"
        },
        "id": "HVfhw2PdWIa9",
        "outputId": "0f10be84-7398-4a31-a585-f22fd8546a9e"
      },
      "execution_count": 59,
      "outputs": [
        {
          "output_type": "execute_result",
          "data": {
            "text/plain": [
              "0    33001\n",
              "1      143\n",
              "Name: iuu_caught, dtype: int64"
            ]
          },
          "metadata": {},
          "execution_count": 59
        }
      ]
    },
    {
      "cell_type": "markdown",
      "source": [
        "# Normal ANN"
      ],
      "metadata": {
        "id": "UgjboMmxy12d"
      }
    },
    {
      "cell_type": "code",
      "source": [
        "print(len(X.columns))\n",
        "n_inputs=len(X.columns)"
      ],
      "metadata": {
        "colab": {
          "base_uri": "https://localhost:8080/"
        },
        "id": "Fdsdny-FWiPD",
        "outputId": "b91b542e-70c4-4870-c4fc-223037b99232"
      },
      "execution_count": 60,
      "outputs": [
        {
          "output_type": "stream",
          "name": "stdout",
          "text": [
            "63\n"
          ]
        }
      ]
    },
    {
      "cell_type": "code",
      "source": [
        "# define model and set random seed as 42\n",
        "\n",
        "import tensorflow as tf\n",
        "import numpy as np\n",
        "from tensorflow import keras\n",
        "from sklearn.metrics import confusion_matrix , classification_report\n",
        "import numpy as np\n",
        "import tensorflow as tf\n",
        "\n",
        "np.random.seed(42)\n",
        "tf.random.set_seed(42)\n",
        "\n",
        "model_normal = keras.Sequential([\n",
        "        keras.layers.Dense(50, input_dim=n_inputs, activation='relu', kernel_initializer='he_uniform'),\n",
        "        keras.layers.Dense(15, activation='relu'),\n",
        "        keras.layers.Dense(1, activation='sigmoid')\n",
        "    ])\n",
        "\n",
        "# define loss and optimizer\n",
        "model_normal.compile(loss='binary_crossentropy', optimizer='adam')\n",
        "model_normal.fit(X_train,y_train,epochs=10)"
      ],
      "metadata": {
        "colab": {
          "base_uri": "https://localhost:8080/"
        },
        "id": "j9CEcXWhWkr4",
        "outputId": "6dd2489b-b6da-49ad-e83d-f01ee79d868e"
      },
      "execution_count": 61,
      "outputs": [
        {
          "output_type": "stream",
          "name": "stdout",
          "text": [
            "Epoch 1/10\n",
            "1036/1036 [==============================] - 54s 52ms/step - loss: 0.1720\n",
            "Epoch 2/10\n",
            "1036/1036 [==============================] - 2s 2ms/step - loss: 0.0862\n",
            "Epoch 3/10\n",
            "1036/1036 [==============================] - 5s 4ms/step - loss: 0.0609\n",
            "Epoch 4/10\n",
            "1036/1036 [==============================] - 2s 2ms/step - loss: 0.0840\n",
            "Epoch 5/10\n",
            "1036/1036 [==============================] - 5s 5ms/step - loss: 0.0494\n",
            "Epoch 6/10\n",
            "1036/1036 [==============================] - 4s 4ms/step - loss: 0.0464\n",
            "Epoch 7/10\n",
            "1036/1036 [==============================] - 4s 4ms/step - loss: 0.0447\n",
            "Epoch 8/10\n",
            "1036/1036 [==============================] - 5s 5ms/step - loss: 0.0468\n",
            "Epoch 9/10\n",
            "1036/1036 [==============================] - 3s 3ms/step - loss: 0.0429\n",
            "Epoch 10/10\n",
            "1036/1036 [==============================] - 4s 4ms/step - loss: 0.0411\n"
          ]
        },
        {
          "output_type": "execute_result",
          "data": {
            "text/plain": [
              "<keras.callbacks.History at 0x7fb1d17e7a60>"
            ]
          },
          "metadata": {},
          "execution_count": 61
        }
      ]
    },
    {
      "cell_type": "code",
      "source": [
        "# predict the y_test and find the roc_auc score\n",
        "\n",
        "from sklearn.metrics import roc_auc_score\n",
        "y_pred1=model_normal.predict(X_test)\n",
        "\n",
        "print(roc_auc_score(y_test,y_pred1))"
      ],
      "metadata": {
        "colab": {
          "base_uri": "https://localhost:8080/"
        },
        "id": "wYVyaTSFWr75",
        "outputId": "2499f87b-f0b4-45c3-fec7-7535439fbbed"
      },
      "execution_count": 62,
      "outputs": [
        {
          "output_type": "stream",
          "name": "stdout",
          "text": [
            "691/691 [==============================] - 1s 2ms/step\n",
            "0.6471711039649712\n"
          ]
        }
      ]
    },
    {
      "cell_type": "code",
      "source": [
        "# print y_pred1 which gives the probabilities of the likliehood of IUU fishing \n",
        "\n",
        "print(y_pred1)"
      ],
      "metadata": {
        "colab": {
          "base_uri": "https://localhost:8080/"
        },
        "id": "oKJUvxklcE9d",
        "outputId": "a6299cf2-9c5b-4439-90c9-346fa0bd8dc6"
      },
      "execution_count": 63,
      "outputs": [
        {
          "output_type": "stream",
          "name": "stdout",
          "text": [
            "[[1.1508156e-03]\n",
            " [2.8635763e-10]\n",
            " [3.2704074e-03]\n",
            " ...\n",
            " [1.4029673e-03]\n",
            " [2.0799787e-06]\n",
            " [1.2569346e-03]]\n"
          ]
        }
      ]
    },
    {
      "cell_type": "code",
      "source": [
        "# plot the ROC-AUC curve, find the nearest point to the top left of the graph that would be the optimal thereshold for y_pred1\n",
        "\n",
        "import matplotlib.pyplot as plt\n",
        "from sklearn.metrics import roc_curve, auc\n",
        "\n",
        "# Compute false positive rate (FPR) and true positive rate (TPR)\n",
        "fpr, tpr, thresholds = roc_curve(y_test, y_pred1)\n",
        "\n",
        "# Compute the area under the curve (AUC)\n",
        "roc_auc = auc(fpr, tpr)\n",
        "\n",
        "# Plot the ROC curve\n",
        "plt.figure()\n",
        "plt.plot(fpr, tpr, label='ROC curve (area = %0.2f)' % roc_auc)\n",
        "plt.plot([0, 1], [0, 1], 'k--')\n",
        "plt.xlim([0.0, 1.0])\n",
        "plt.ylim([0.0, 1.05])\n",
        "plt.xlabel('False Positive Rate')\n",
        "plt.ylabel('True Positive Rate')\n",
        "plt.title('Receiver Operating Characteristic')\n",
        "plt.legend(loc=\"lower right\")\n",
        "plt.show()\n",
        "\n",
        "\n",
        "import numpy as np\n",
        "\n",
        "# Find the index of the threshold that minimizes the Euclidean distance from (0,1)\n",
        "idx = np.argmin((1-tpr)**2 + fpr**2)\n",
        "\n",
        "# Retrieve the optimal threshold\n",
        "optimal_threshold1 = thresholds[idx]\n",
        "\n",
        "print(optimal_threshold1)"
      ],
      "metadata": {
        "id": "ensosqWs5fYh",
        "colab": {
          "base_uri": "https://localhost:8080/",
          "height": 312
        },
        "outputId": "25ef888e-bf8d-41bf-8f68-6a8639a23c9b"
      },
      "execution_count": 64,
      "outputs": [
        {
          "output_type": "display_data",
          "data": {
            "text/plain": [
              "<Figure size 432x288 with 1 Axes>"
            ],
            "image/png": "[encoded data removed]"
          },
          "metadata": {
            "needs_background": "light"
          }
        },
        {
          "output_type": "stream",
          "name": "stdout",
          "text": [
            "0.0045484323\n"
          ]
        }
      ]
    },
    {
      "cell_type": "code",
      "source": [
        "# find y_pred_rounded by using the threshold obtained above and then print the classification report and confusion matrix\n",
        "\n",
        "from sklearn.metrics import classification_report\n",
        "from sklearn.metrics import confusion_matrix\n",
        "\n",
        "y_pred1_rounded = np.where(y_pred1 > optimal_threshold1, 1, 0)\n",
        "print(classification_report(y_test, y_pred1_rounded))\n",
        "\n",
        "# Print the confusion matrix\n",
        "cm = confusion_matrix(y_test, y_pred1_rounded)\n",
        "print(cm)"
      ],
      "metadata": {
        "id": "KtHrme5y5iv-",
        "colab": {
          "base_uri": "https://localhost:8080/"
        },
        "outputId": "dc9e928b-9444-4496-e94e-6b9a308f084c"
      },
      "execution_count": 65,
      "outputs": [
        {
          "output_type": "stream",
          "name": "stdout",
          "text": [
            "              precision    recall  f1-score   support\n",
            "\n",
            "           0       1.00      0.75      0.85     22001\n",
            "           1       0.01      0.56      0.02        96\n",
            "\n",
            "    accuracy                           0.75     22097\n",
            "   macro avg       0.50      0.65      0.44     22097\n",
            "weighted avg       0.99      0.75      0.85     22097\n",
            "\n",
            "[[16430  5571]\n",
            " [   42    54]]\n"
          ]
        }
      ]
    },
    {
      "cell_type": "markdown",
      "source": [
        "# Cost Sensitive Learning "
      ],
      "metadata": {
        "id": "v6R_6hPIXQSm"
      }
    },
    {
      "cell_type": "code",
      "source": [
        "# assign weights to class, here we assigned weight 1 to class 0 the majority class and \n",
        "# weight of 750 to class 1 the minority class, the vessels engaged in IUU\n",
        "\n",
        "weights_assigned={0:1,1:750}"
      ],
      "metadata": {
        "id": "tujfYHLBXQoo"
      },
      "execution_count": 66,
      "outputs": []
    },
    {
      "cell_type": "code",
      "source": [
        "# make the model and set the random seed as 41, this is the best one found using extensive grid search\n",
        "\n",
        "import tensorflow as tf\n",
        "import numpy as np\n",
        "from tensorflow import keras\n",
        "from keras.models import Sequential\n",
        "from keras.layers import Dense, Dropout, Activation\n",
        "from keras.optimizers import SGD\n",
        "from sklearn.metrics import confusion_matrix , classification_report\n",
        "import numpy as np\n",
        "import tensorflow as tf\n",
        "\n",
        "np.random.seed(41)\n",
        "tf.random.set_seed(41)\n",
        "# define model\n",
        "model = Sequential()\n",
        "# define first hidden layer and visible layer\n",
        "model.add(Dense(n_inputs, input_dim=n_inputs, activation='relu', kernel_initializer='he_uniform'))\n",
        "model.add(Dense(30, input_dim=n_inputs, activation='relu', kernel_initializer='he_uniform'))\n",
        "model.add(Dense(10, input_dim=n_inputs, activation='relu', kernel_initializer='he_uniform'))\n",
        "# define output layer\n",
        "model.add(Dense(1, activation='sigmoid'))\n",
        "# define loss and optimizer\n",
        "model.compile(loss='binary_crossentropy', optimizer='adam')\n",
        "model.fit(X_train,y_train,class_weight=weights_assigned,epochs=50)"
      ],
      "metadata": {
        "colab": {
          "base_uri": "https://localhost:8080/"
        },
        "id": "_jbHM0lmXVWJ",
        "outputId": "137c436d-eb70-4d5a-d370-2095e5104879"
      },
      "execution_count": 67,
      "outputs": [
        {
          "output_type": "stream",
          "name": "stdout",
          "text": [
            "Epoch 1/50\n",
            "1036/1036 [==============================] - 4s 4ms/step - loss: 14.2158\n",
            "Epoch 2/50\n",
            "1036/1036 [==============================] - 4s 4ms/step - loss: 9.7634\n",
            "Epoch 3/50\n",
            "1036/1036 [==============================] - 6s 6ms/step - loss: 8.0489\n",
            "Epoch 4/50\n",
            "1036/1036 [==============================] - 6s 5ms/step - loss: 10.8680\n",
            "Epoch 5/50\n",
            "1036/1036 [==============================] - 4s 4ms/step - loss: 9.3073\n",
            "Epoch 6/50\n",
            "1036/1036 [==============================] - 4s 4ms/step - loss: 7.6166\n",
            "Epoch 7/50\n",
            "1036/1036 [==============================] - 5s 5ms/step - loss: 3.1099\n",
            "Epoch 8/50\n",
            "1036/1036 [==============================] - 3s 3ms/step - loss: 4.9572\n",
            "Epoch 9/50\n",
            "1036/1036 [==============================] - 4s 4ms/step - loss: 4.0441\n",
            "Epoch 10/50\n",
            "1036/1036 [==============================] - 6s 5ms/step - loss: 2.7993\n",
            "Epoch 11/50\n",
            "1036/1036 [==============================] - 4s 4ms/step - loss: 4.8228\n",
            "Epoch 12/50\n",
            "1036/1036 [==============================] - 4s 4ms/step - loss: 5.6377\n",
            "Epoch 13/50\n",
            "1036/1036 [==============================] - 7s 7ms/step - loss: 7.9097\n",
            "Epoch 14/50\n",
            "1036/1036 [==============================] - 3s 3ms/step - loss: 5.0909\n",
            "Epoch 15/50\n",
            "1036/1036 [==============================] - 2s 2ms/step - loss: 5.8622\n",
            "Epoch 16/50\n",
            "1036/1036 [==============================] - 2s 2ms/step - loss: 4.3781\n",
            "Epoch 17/50\n",
            "1036/1036 [==============================] - 5s 5ms/step - loss: 4.2999\n",
            "Epoch 18/50\n",
            "1036/1036 [==============================] - 4s 4ms/step - loss: 4.8756\n",
            "Epoch 19/50\n",
            "1036/1036 [==============================] - 6s 6ms/step - loss: 3.6314\n",
            "Epoch 20/50\n",
            "1036/1036 [==============================] - 5s 5ms/step - loss: 2.2139\n",
            "Epoch 21/50\n",
            "1036/1036 [==============================] - 4s 4ms/step - loss: 2.9935\n",
            "Epoch 22/50\n",
            "1036/1036 [==============================] - 3s 3ms/step - loss: 2.0660\n",
            "Epoch 23/50\n",
            "1036/1036 [==============================] - 4s 4ms/step - loss: 1.8396\n",
            "Epoch 24/50\n",
            "1036/1036 [==============================] - 2s 2ms/step - loss: 1.7361\n",
            "Epoch 25/50\n",
            "1036/1036 [==============================] - 2s 2ms/step - loss: 1.6373\n",
            "Epoch 26/50\n",
            "1036/1036 [==============================] - 6s 5ms/step - loss: 2.0578\n",
            "Epoch 27/50\n",
            "1036/1036 [==============================] - 5s 5ms/step - loss: 1.7257\n",
            "Epoch 28/50\n",
            "1036/1036 [==============================] - 2s 2ms/step - loss: 2.3498\n",
            "Epoch 29/50\n",
            "1036/1036 [==============================] - 2s 2ms/step - loss: 1.7443\n",
            "Epoch 30/50\n",
            "1036/1036 [==============================] - 3s 3ms/step - loss: 1.6833\n",
            "Epoch 31/50\n",
            "1036/1036 [==============================] - 3s 3ms/step - loss: 1.6007\n",
            "Epoch 32/50\n",
            "1036/1036 [==============================] - 2s 2ms/step - loss: 1.6109\n",
            "Epoch 33/50\n",
            "1036/1036 [==============================] - 2s 2ms/step - loss: 1.5845\n",
            "Epoch 34/50\n",
            "1036/1036 [==============================] - 2s 2ms/step - loss: 1.8169\n",
            "Epoch 35/50\n",
            "1036/1036 [==============================] - 3s 3ms/step - loss: 1.6063\n",
            "Epoch 36/50\n",
            "1036/1036 [==============================] - 3s 3ms/step - loss: 1.6897\n",
            "Epoch 37/50\n",
            "1036/1036 [==============================] - 2s 2ms/step - loss: 1.6038\n",
            "Epoch 38/50\n",
            "1036/1036 [==============================] - 2s 2ms/step - loss: 1.6192\n",
            "Epoch 39/50\n",
            "1036/1036 [==============================] - 2s 2ms/step - loss: 1.5262\n",
            "Epoch 40/50\n",
            "1036/1036 [==============================] - 4s 3ms/step - loss: 1.5590\n",
            "Epoch 41/50\n",
            "1036/1036 [==============================] - 3s 3ms/step - loss: 1.6195\n",
            "Epoch 42/50\n",
            "1036/1036 [==============================] - 2s 2ms/step - loss: 1.6594\n",
            "Epoch 43/50\n",
            "1036/1036 [==============================] - 2s 2ms/step - loss: 1.5767\n",
            "Epoch 44/50\n",
            "1036/1036 [==============================] - 2s 2ms/step - loss: 1.5059\n",
            "Epoch 45/50\n",
            "1036/1036 [==============================] - 5s 5ms/step - loss: 1.6001\n",
            "Epoch 46/50\n",
            "1036/1036 [==============================] - 2s 2ms/step - loss: 1.4306\n",
            "Epoch 47/50\n",
            "1036/1036 [==============================] - 2s 2ms/step - loss: 1.7767\n",
            "Epoch 48/50\n",
            "1036/1036 [==============================] - 5s 5ms/step - loss: 1.5808\n",
            "Epoch 49/50\n",
            "1036/1036 [==============================] - 5s 5ms/step - loss: 1.4619\n",
            "Epoch 50/50\n",
            "1036/1036 [==============================] - 2s 2ms/step - loss: 1.7615\n"
          ]
        },
        {
          "output_type": "execute_result",
          "data": {
            "text/plain": [
              "<keras.callbacks.History at 0x7fb1d17f63a0>"
            ]
          },
          "metadata": {},
          "execution_count": 67
        }
      ]
    },
    {
      "cell_type": "code",
      "source": [
        "# predict the values based on the model\n",
        "\n",
        "y_pred=model.predict(X_test)"
      ],
      "metadata": {
        "colab": {
          "base_uri": "https://localhost:8080/"
        },
        "id": "zI-IHreEXWv-",
        "outputId": "ba2e266b-28f7-4d1e-962b-4855a31a9a31"
      },
      "execution_count": 68,
      "outputs": [
        {
          "output_type": "stream",
          "name": "stdout",
          "text": [
            "691/691 [==============================] - 1s 2ms/step\n"
          ]
        }
      ]
    },
    {
      "cell_type": "code",
      "source": [
        "# find the roc_auc score and then plot the graph and then find the optimal threshold by finding the point closest to the top left of the graph\n",
        "\n",
        "print(np.mean(y_pred))\n",
        "\n",
        "from sklearn.metrics import roc_auc_score\n",
        "\n",
        "print(roc_auc_score(y_test,y_pred))\n",
        "\n",
        "import matplotlib.pyplot as plt\n",
        "from sklearn.metrics import roc_curve, auc\n",
        "\n",
        "# Compute false positive rate (FPR) and true positive rate (TPR)\n",
        "fpr, tpr, thresholds = roc_curve(y_test, y_pred)\n",
        "\n",
        "# Compute the area under the curve (AUC)\n",
        "roc_auc = auc(fpr, tpr)\n",
        "\n",
        "# Plot the ROC curve\n",
        "plt.figure()\n",
        "plt.plot(fpr, tpr, label='ROC curve (area = %0.2f)' % roc_auc)\n",
        "plt.plot([0, 1], [0, 1], 'k--')\n",
        "plt.xlim([0.0, 1.0])\n",
        "plt.ylim([0.0, 1.05])\n",
        "plt.xlabel('False Positive Rate')\n",
        "plt.ylabel('True Positive Rate')\n",
        "plt.title('Receiver Operating Characteristic')\n",
        "plt.legend(loc=\"lower right\")\n",
        "plt.show()\n",
        "\n",
        "import numpy as np\n",
        "\n",
        "# Find the index of the threshold that minimizes the Euclidean distance from (0,1)\n",
        "idx = np.argmin((1-tpr)**2 + fpr**2)\n",
        "\n",
        "# Retrieve the optimal threshold\n",
        "optimal_threshold = thresholds[idx]\n",
        "\n",
        "print(optimal_threshold)\n",
        "\n",
        "y_pred_rounded = np.where(y_pred > optimal_threshold, 1, 0)\n",
        "\n",
        "from sklearn.metrics import classification_report\n",
        "\n",
        "print(classification_report(y_test, y_pred_rounded))\n",
        "\n",
        "from sklearn.metrics import confusion_matrix\n",
        "\n",
        "# Print the confusion matrix\n",
        "cm = confusion_matrix(y_test, y_pred_rounded)\n",
        "print(cm)"
      ],
      "metadata": {
        "colab": {
          "base_uri": "https://localhost:8080/",
          "height": 538
        },
        "id": "xgusAwUJ9qYl",
        "outputId": "114fb1fd-d4dd-4b85-9652-aad0bca38413"
      },
      "execution_count": 69,
      "outputs": [
        {
          "output_type": "stream",
          "name": "stdout",
          "text": [
            "0.47577235\n",
            "0.8007888845961546\n"
          ]
        },
        {
          "output_type": "display_data",
          "data": {
            "text/plain": [
              "<Figure size 432x288 with 1 Axes>"
            ],
            "image/png": "[encoded data removed]"
          },
          "metadata": {
            "needs_background": "light"
          }
        },
        {
          "output_type": "stream",
          "name": "stdout",
          "text": [
            "0.8199972\n",
            "              precision    recall  f1-score   support\n",
            "\n",
            "           0       1.00      0.81      0.90     22001\n",
            "           1       0.02      0.69      0.03        96\n",
            "\n",
            "    accuracy                           0.81     22097\n",
            "   macro avg       0.51      0.75      0.46     22097\n",
            "weighted avg       0.99      0.81      0.89     22097\n",
            "\n",
            "[[17889  4112]\n",
            " [   30    66]]\n"
          ]
        }
      ]
    },
    {
      "cell_type": "markdown",
      "source": [
        "#### Search for the best seed"
      ],
      "metadata": {
        "id": "M6PrbaVgcng2"
      }
    },
    {
      "cell_type": "code",
      "source": [
        "import numpy as np\n",
        "import tensorflow as tf\n",
        "from sklearn.metrics import roc_auc_score\n",
        "from tensorflow import keras\n",
        "from keras.models import Sequential\n",
        "from keras.layers import Dense, Dropout, Activation\n",
        "from keras.optimizers import SGD\n",
        "from sklearn.metrics import confusion_matrix , classification_report\n",
        "\n",
        "results = []\n",
        "seeds = [0, 42, 123, 456, 789, 1024]\n",
        "\n",
        "for seed in range(0,50):\n",
        "    np.random.seed(seed)\n",
        "    tf.random.set_seed(seed)\n",
        "    \n",
        "    model_test = Sequential()\n",
        "    # define first hidden layer and visible layer\n",
        "    model_test.add(Dense(n_inputs, input_dim=n_inputs, activation='relu', kernel_initializer='he_uniform'))\n",
        "    model_test.add(Dense(30, input_dim=n_inputs, activation='relu', kernel_initializer='he_uniform'))\n",
        "    model_test.add(Dense(10, input_dim=n_inputs, activation='relu', kernel_initializer='he_uniform'))\n",
        "    # define output layer\n",
        "    model_test.add(Dense(1, activation='sigmoid'))\n",
        "    # define loss and optimizer\n",
        "    model_test.compile(loss='binary_crossentropy', optimizer='adam')\n",
        "    model_test.fit(X_train,y_train,class_weight=weights_assigned,epochs=50)\n",
        "    \n",
        "    # Make predictions on the validation set\n",
        "    y_pred_temp=model_test.predict(X_test)\n",
        "    \n",
        "    # # Calculate the ROC AUC score\n",
        "    # fpr, tpr, thresholds = roc_curve(y_test, y_pred_temp)\n",
        "\n",
        "    # # Compute the area under the curve (AUC)\n",
        "    # roc_auc = auc(fpr, tpr)\n",
        "\n",
        "    # # Find the index of the threshold that minimizes the Euclidean distance from (0,1)\n",
        "    # idx = np.argmin((1-tpr)**2 + fpr**2)\n",
        "\n",
        "    # # Retrieve the optimal threshold\n",
        "    # optimal_threshold1 = thresholds[idx]\n",
        "\n",
        "    # y_pred_rounded_test = np.where(y_pred_temp > optimal_threshold1, 1, 0)\n",
        "\n",
        "    score = roc_auc_score(y_test, y_pred_temp)\n",
        "    print(score)\n",
        "    print(seed)\n",
        "    results.append(score)\n",
        "\n",
        "# Find the seed that results in the highest ROC AUC score\n",
        "max_value = max(results)\n",
        "max_index = results.index(max_value)\n",
        "print(\"best seed = \", max_value)\n",
        "print(\"best seed index = \", max_index)\n",
        "\n",
        "# best_seed = seeds[np.argmax(results)]\n",
        "# print(\"Best seed:\", best_seed)\n",
        "print(results)"
      ],
      "metadata": {
        "colab": {
          "base_uri": "https://localhost:8080/"
        },
        "id": "qtkstl-hCh7I",
        "outputId": "87c677a6-097a-490b-f6a9-e6a59c5c73b8"
      },
      "execution_count": 23,
      "outputs": [
        {
          "output_type": "stream",
          "name": "stdout",
          "text": [
            "Epoch 1/50\n",
            "1036/1036 [==============================] - 7s 5ms/step - loss: 13.4941\n",
            "Epoch 2/50\n",
            "1036/1036 [==============================] - 5s 5ms/step - loss: 2.5298\n",
            "Epoch 3/50\n",
            "1036/1036 [==============================] - 2s 2ms/step - loss: 2.6170\n",
            "Epoch 4/50\n",
            "1036/1036 [==============================] - 2s 2ms/step - loss: 5.9217\n",
            "Epoch 5/50\n",
            "1036/1036 [==============================] - 2s 2ms/step - loss: 2.5560\n",
            "Epoch 6/50\n",
            "1036/1036 [==============================] - 3s 3ms/step - loss: 2.2295\n",
            "Epoch 7/50\n",
            "1036/1036 [==============================] - 3s 3ms/step - loss: 2.4299\n",
            "Epoch 8/50\n",
            "1036/1036 [==============================] - 2s 2ms/step - loss: 2.2203\n",
            "Epoch 9/50\n",
            "1036/1036 [==============================] - 2s 2ms/step - loss: 2.4425\n",
            "Epoch 10/50\n",
            "1036/1036 [==============================] - 2s 2ms/step - loss: 2.5766\n",
            "Epoch 11/50\n",
            "1036/1036 [==============================] - 2s 2ms/step - loss: 2.4239\n",
            "Epoch 12/50\n",
            "1036/1036 [==============================] - 3s 3ms/step - loss: 2.1002\n",
            "Epoch 13/50\n",
            "1036/1036 [==============================] - 2s 2ms/step - loss: 4.3021\n",
            "Epoch 14/50\n",
            "1036/1036 [==============================] - 2s 2ms/step - loss: 2.0743\n",
            "Epoch 15/50\n",
            "1036/1036 [==============================] - 2s 2ms/step - loss: 1.9757\n",
            "Epoch 16/50\n",
            "1036/1036 [==============================] - 2s 2ms/step - loss: 1.9896\n",
            "Epoch 17/50\n",
            "1036/1036 [==============================] - 3s 3ms/step - loss: 1.9258\n",
            "Epoch 18/50\n",
            "1036/1036 [==============================] - 2s 2ms/step - loss: 3.9713\n",
            "Epoch 19/50\n",
            "1036/1036 [==============================] - 2s 2ms/step - loss: 3.3549\n",
            "Epoch 20/50\n",
            "1036/1036 [==============================] - 2s 2ms/step - loss: 2.1553\n",
            "Epoch 21/50\n",
            "1036/1036 [==============================] - 2s 2ms/step - loss: 2.0611\n",
            "Epoch 22/50\n",
            "1036/1036 [==============================] - 3s 3ms/step - loss: 2.1343\n",
            "Epoch 23/50\n",
            "1036/1036 [==============================] - 2s 2ms/step - loss: 2.1036\n",
            "Epoch 24/50\n",
            "1036/1036 [==============================] - 2s 2ms/step - loss: 2.3304\n",
            "Epoch 25/50\n",
            "1036/1036 [==============================] - 2s 2ms/step - loss: 1.9958\n",
            "Epoch 26/50\n",
            "1036/1036 [==============================] - 2s 2ms/step - loss: 1.9444\n",
            "Epoch 27/50\n",
            "1036/1036 [==============================] - 3s 3ms/step - loss: 2.0768\n",
            "Epoch 28/50\n",
            "1036/1036 [==============================] - 3s 3ms/step - loss: 4.0776\n",
            "Epoch 29/50\n",
            "1036/1036 [==============================] - 2s 2ms/step - loss: 2.2536\n",
            "Epoch 30/50\n",
            "1036/1036 [==============================] - 2s 2ms/step - loss: 1.9915\n",
            "Epoch 31/50\n",
            "1036/1036 [==============================] - 2s 2ms/step - loss: 2.4664\n",
            "Epoch 32/50\n",
            "1036/1036 [==============================] - 3s 3ms/step - loss: 1.9444\n",
            "Epoch 33/50\n",
            "1036/1036 [==============================] - 3s 3ms/step - loss: 1.9031\n",
            "Epoch 34/50\n",
            "1036/1036 [==============================] - 2s 2ms/step - loss: 1.9151\n",
            "Epoch 35/50\n",
            "1036/1036 [==============================] - 2s 2ms/step - loss: 2.5273\n",
            "Epoch 36/50\n",
            "1036/1036 [==============================] - 2s 2ms/step - loss: 2.1279\n",
            "Epoch 37/50\n",
            "1036/1036 [==============================] - 3s 3ms/step - loss: 1.9824\n",
            "Epoch 38/50\n",
            "1036/1036 [==============================] - 3s 3ms/step - loss: 2.1060\n",
            "Epoch 39/50\n",
            "1036/1036 [==============================] - 2s 2ms/step - loss: 1.9582\n",
            "Epoch 40/50\n",
            "1036/1036 [==============================] - 2s 2ms/step - loss: 1.9674\n",
            "Epoch 41/50\n",
            "1036/1036 [==============================] - 2s 2ms/step - loss: 1.9378\n",
            "Epoch 42/50\n",
            "1036/1036 [==============================] - 3s 3ms/step - loss: 2.1651\n",
            "Epoch 43/50\n",
            "1036/1036 [==============================] - 3s 3ms/step - loss: 1.8926\n",
            "Epoch 44/50\n",
            "1036/1036 [==============================] - 2s 2ms/step - loss: 1.8876\n",
            "Epoch 45/50\n",
            "1036/1036 [==============================] - 2s 2ms/step - loss: 2.0202\n",
            "Epoch 46/50\n",
            "1036/1036 [==============================] - 2s 2ms/step - loss: 2.3160\n",
            "Epoch 47/50\n",
            "1036/1036 [==============================] - 2s 2ms/step - loss: 2.8922\n",
            "Epoch 48/50\n",
            "1036/1036 [==============================] - 3s 3ms/step - loss: 2.0496\n",
            "Epoch 49/50\n",
            "1036/1036 [==============================] - 2s 2ms/step - loss: 1.9747\n",
            "Epoch 50/50\n",
            "1036/1036 [==============================] - 2s 2ms/step - loss: 8.1193\n",
            "691/691 [==============================] - 1s 1ms/step\n",
            "0.6060792217777979\n",
            "70\n",
            "Epoch 1/50\n",
            "1036/1036 [==============================] - 3s 2ms/step - loss: 31.6497\n",
            "Epoch 2/50\n",
            "1036/1036 [==============================] - 4s 3ms/step - loss: 15.6131\n",
            "Epoch 3/50\n",
            "1036/1036 [==============================] - 2s 2ms/step - loss: 7.8001\n",
            "Epoch 4/50\n",
            "1036/1036 [==============================] - 2s 2ms/step - loss: 4.3869\n",
            "Epoch 5/50\n",
            "1036/1036 [==============================] - 2s 2ms/step - loss: 9.6369\n",
            "Epoch 6/50\n",
            "1036/1036 [==============================] - 2s 2ms/step - loss: 7.7242\n",
            "Epoch 7/50\n",
            "1036/1036 [==============================] - 4s 3ms/step - loss: 5.0150\n",
            "Epoch 8/50\n",
            "1036/1036 [==============================] - 2s 2ms/step - loss: 5.4655\n",
            "Epoch 9/50\n",
            "1036/1036 [==============================] - 2s 2ms/step - loss: 5.4079\n",
            "Epoch 10/50\n",
            "1036/1036 [==============================] - 2s 2ms/step - loss: 7.3298\n",
            "Epoch 11/50\n",
            "1036/1036 [==============================] - 2s 2ms/step - loss: 2.5495\n",
            "Epoch 12/50\n",
            "1036/1036 [==============================] - 4s 3ms/step - loss: 2.8872\n",
            "Epoch 13/50\n",
            "1036/1036 [==============================] - 2s 2ms/step - loss: 2.8308\n",
            "Epoch 14/50\n",
            "1036/1036 [==============================] - 2s 2ms/step - loss: 2.8143\n",
            "Epoch 15/50\n",
            "1036/1036 [==============================] - 2s 2ms/step - loss: 6.1354\n",
            "Epoch 16/50\n",
            "1036/1036 [==============================] - 2s 2ms/step - loss: 3.3734\n",
            "Epoch 17/50\n",
            "1036/1036 [==============================] - 4s 3ms/step - loss: 3.0820\n",
            "Epoch 18/50\n",
            "1036/1036 [==============================] - 2s 2ms/step - loss: 1.8963\n",
            "Epoch 19/50\n",
            "1036/1036 [==============================] - 2s 2ms/step - loss: 2.8684\n",
            "Epoch 20/50\n",
            "1036/1036 [==============================] - 2s 2ms/step - loss: 2.6691\n",
            "Epoch 21/50\n",
            "1036/1036 [==============================] - 2s 2ms/step - loss: 1.8812\n",
            "Epoch 22/50\n",
            "1036/1036 [==============================] - 4s 3ms/step - loss: 2.1179\n",
            "Epoch 23/50\n",
            "1036/1036 [==============================] - 2s 2ms/step - loss: 1.9623\n",
            "Epoch 24/50\n",
            "1036/1036 [==============================] - 2s 2ms/step - loss: 2.4727\n",
            "Epoch 25/50\n",
            "1036/1036 [==============================] - 2s 2ms/step - loss: 1.7932\n",
            "Epoch 26/50\n",
            "1036/1036 [==============================] - 2s 2ms/step - loss: 2.4530\n",
            "Epoch 27/50\n",
            "1036/1036 [==============================] - 3s 3ms/step - loss: 2.3146\n",
            "Epoch 28/50\n",
            "1036/1036 [==============================] - 2s 2ms/step - loss: 1.9514\n",
            "Epoch 29/50\n",
            "1036/1036 [==============================] - 2s 2ms/step - loss: 3.6887\n",
            "Epoch 30/50\n",
            "1036/1036 [==============================] - 2s 2ms/step - loss: 1.8944\n",
            "Epoch 31/50\n",
            "1036/1036 [==============================] - 2s 2ms/step - loss: 1.7728\n",
            "Epoch 32/50\n",
            "1036/1036 [==============================] - 3s 3ms/step - loss: 1.8442\n",
            "Epoch 33/50\n",
            "1036/1036 [==============================] - 2s 2ms/step - loss: 2.5568\n",
            "Epoch 34/50\n",
            "1036/1036 [==============================] - 2s 2ms/step - loss: 1.7783\n",
            "Epoch 35/50\n",
            "1036/1036 [==============================] - 3s 3ms/step - loss: 1.8487\n",
            "Epoch 36/50\n",
            "1036/1036 [==============================] - 3s 3ms/step - loss: 1.8074\n",
            "Epoch 37/50\n",
            "1036/1036 [==============================] - 3s 3ms/step - loss: 1.5697\n",
            "Epoch 38/50\n",
            "1036/1036 [==============================] - 2s 2ms/step - loss: 2.0178\n",
            "Epoch 39/50\n",
            "1036/1036 [==============================] - 2s 2ms/step - loss: 1.8418\n",
            "Epoch 40/50\n",
            "1036/1036 [==============================] - 2s 2ms/step - loss: 1.6415\n",
            "Epoch 41/50\n",
            "1036/1036 [==============================] - 3s 3ms/step - loss: 1.7181\n",
            "Epoch 42/50\n",
            "1036/1036 [==============================] - 3s 3ms/step - loss: 1.8068\n",
            "Epoch 43/50\n",
            "1036/1036 [==============================] - 2s 2ms/step - loss: 1.8876\n",
            "Epoch 44/50\n",
            "1036/1036 [==============================] - 2s 2ms/step - loss: 2.0245\n",
            "Epoch 45/50\n",
            "1036/1036 [==============================] - 2s 2ms/step - loss: 1.7110\n",
            "Epoch 46/50\n",
            "1036/1036 [==============================] - 3s 3ms/step - loss: 1.9248\n",
            "Epoch 47/50\n",
            "1036/1036 [==============================] - 3s 3ms/step - loss: 1.7199\n",
            "Epoch 48/50\n",
            "1036/1036 [==============================] - 2s 2ms/step - loss: 1.9965\n",
            "Epoch 49/50\n",
            "1036/1036 [==============================] - 2s 2ms/step - loss: 1.7383\n",
            "Epoch 50/50\n",
            "1036/1036 [==============================] - 2s 2ms/step - loss: 2.0109\n",
            "691/691 [==============================] - 1s 1ms/step\n",
            "0.7829861900216657\n",
            "71\n",
            "Epoch 1/50\n",
            "1036/1036 [==============================] - 4s 3ms/step - loss: 62.8604\n",
            "Epoch 2/50\n",
            "1036/1036 [==============================] - 2s 2ms/step - loss: 11.7487\n",
            "Epoch 3/50\n",
            "1036/1036 [==============================] - 2s 2ms/step - loss: 14.0252\n",
            "Epoch 4/50\n",
            "1036/1036 [==============================] - 2s 2ms/step - loss: 4.2311\n",
            "Epoch 5/50\n",
            "1036/1036 [==============================] - 3s 3ms/step - loss: 2.7098\n",
            "Epoch 6/50\n",
            "1036/1036 [==============================] - 3s 3ms/step - loss: 2.4229\n",
            "Epoch 7/50\n",
            "1036/1036 [==============================] - 2s 2ms/step - loss: 2.3210\n",
            "Epoch 8/50\n",
            "1036/1036 [==============================] - 2s 2ms/step - loss: 3.0152\n",
            "Epoch 9/50\n",
            "1036/1036 [==============================] - 2s 2ms/step - loss: 2.2880\n",
            "Epoch 10/50\n",
            "1036/1036 [==============================] - 2s 2ms/step - loss: 2.2890\n",
            "Epoch 11/50\n",
            "1036/1036 [==============================] - 3s 3ms/step - loss: 2.1287\n",
            "Epoch 12/50\n",
            "1036/1036 [==============================] - 2s 2ms/step - loss: 2.1814\n",
            "Epoch 13/50\n",
            "1036/1036 [==============================] - 2s 2ms/step - loss: 2.2292\n",
            "Epoch 14/50\n",
            "1036/1036 [==============================] - 2s 2ms/step - loss: 2.1133\n",
            "Epoch 15/50\n",
            "1036/1036 [==============================] - 2s 2ms/step - loss: 2.1720\n",
            "Epoch 16/50\n",
            "1036/1036 [==============================] - 3s 3ms/step - loss: 3.8384\n",
            "Epoch 17/50\n",
            "1036/1036 [==============================] - 2s 2ms/step - loss: 2.0991\n",
            "Epoch 18/50\n",
            "1036/1036 [==============================] - 2s 2ms/step - loss: 2.2281\n",
            "Epoch 19/50\n",
            "1036/1036 [==============================] - 2s 2ms/step - loss: 2.2501\n",
            "Epoch 20/50\n",
            "1036/1036 [==============================] - 2s 2ms/step - loss: 2.1313\n",
            "Epoch 21/50\n",
            "1036/1036 [==============================] - 3s 3ms/step - loss: 2.1217\n",
            "Epoch 22/50\n",
            "1036/1036 [==============================] - 2s 2ms/step - loss: 2.9935\n",
            "Epoch 23/50\n",
            "1036/1036 [==============================] - 2s 2ms/step - loss: 2.0107\n",
            "Epoch 24/50\n",
            "1036/1036 [==============================] - 2s 2ms/step - loss: 2.2929\n",
            "Epoch 25/50\n",
            "1036/1036 [==============================] - 2s 2ms/step - loss: 2.1438\n",
            "Epoch 26/50\n",
            "1036/1036 [==============================] - 4s 3ms/step - loss: 2.0138\n",
            "Epoch 27/50\n",
            "1036/1036 [==============================] - 2s 2ms/step - loss: 1.9623\n",
            "Epoch 28/50\n",
            "1036/1036 [==============================] - 2s 2ms/step - loss: 1.9955\n",
            "Epoch 29/50\n",
            "1036/1036 [==============================] - 2s 2ms/step - loss: 1.9724\n",
            "Epoch 30/50\n",
            "1036/1036 [==============================] - 2s 2ms/step - loss: 3.0773\n",
            "Epoch 31/50\n",
            "1036/1036 [==============================] - 3s 3ms/step - loss: 1.9039\n",
            "Epoch 32/50\n",
            "1036/1036 [==============================] - 3s 2ms/step - loss: 2.4431\n",
            "Epoch 33/50\n",
            "1036/1036 [==============================] - 2s 2ms/step - loss: 1.9639\n",
            "Epoch 34/50\n",
            "1036/1036 [==============================] - 2s 2ms/step - loss: 2.1113\n",
            "Epoch 35/50\n",
            "1036/1036 [==============================] - 2s 2ms/step - loss: 2.2827\n",
            "Epoch 36/50\n",
            "1036/1036 [==============================] - 3s 3ms/step - loss: 2.0387\n",
            "Epoch 37/50\n",
            "1036/1036 [==============================] - 3s 3ms/step - loss: 1.8544\n",
            "Epoch 38/50\n",
            "1036/1036 [==============================] - 2s 2ms/step - loss: 1.8629\n",
            "Epoch 39/50\n",
            "1036/1036 [==============================] - 2s 2ms/step - loss: 1.9518\n",
            "Epoch 40/50\n",
            "1036/1036 [==============================] - 2s 2ms/step - loss: 2.3878\n",
            "Epoch 41/50\n",
            "1036/1036 [==============================] - 3s 3ms/step - loss: 1.8876\n",
            "Epoch 42/50\n",
            "1036/1036 [==============================] - 3s 3ms/step - loss: 2.4189\n",
            "Epoch 43/50\n",
            "1036/1036 [==============================] - 2s 2ms/step - loss: 2.2073\n",
            "Epoch 44/50\n",
            "1036/1036 [==============================] - 2s 2ms/step - loss: 2.3229\n",
            "Epoch 45/50\n",
            "1036/1036 [==============================] - 2s 2ms/step - loss: 3.0074\n",
            "Epoch 46/50\n",
            "1036/1036 [==============================] - 2s 2ms/step - loss: 1.8569\n",
            "Epoch 47/50\n",
            "1036/1036 [==============================] - 3s 3ms/step - loss: 2.1506\n",
            "Epoch 48/50\n",
            "1036/1036 [==============================] - 2s 2ms/step - loss: 1.9075\n",
            "Epoch 49/50\n",
            "1036/1036 [==============================] - 2s 2ms/step - loss: 2.0107\n",
            "Epoch 50/50\n",
            "1036/1036 [==============================] - 2s 2ms/step - loss: 1.8931\n",
            "691/691 [==============================] - 1s 1ms/step\n",
            "0.6266145099465176\n",
            "72\n",
            "Epoch 1/50\n",
            "1036/1036 [==============================] - 3s 2ms/step - loss: 56.9661\n",
            "Epoch 2/50\n",
            "1036/1036 [==============================] - 2s 2ms/step - loss: 25.2948\n",
            "Epoch 3/50\n",
            "1036/1036 [==============================] - 2s 2ms/step - loss: 33.0800\n",
            "Epoch 4/50\n",
            "1036/1036 [==============================] - 4s 3ms/step - loss: 16.2882\n",
            "Epoch 5/50\n",
            "1036/1036 [==============================] - 2s 2ms/step - loss: 14.7429\n",
            "Epoch 6/50\n",
            "1036/1036 [==============================] - 2s 2ms/step - loss: 12.1161\n",
            "Epoch 7/50\n",
            "1036/1036 [==============================] - 2s 2ms/step - loss: 10.3968\n",
            "Epoch 8/50\n",
            "1036/1036 [==============================] - 2s 2ms/step - loss: 3.3254\n",
            "Epoch 9/50\n",
            "1036/1036 [==============================] - 4s 3ms/step - loss: 7.4063\n",
            "Epoch 10/50\n",
            "1036/1036 [==============================] - 2s 2ms/step - loss: 3.8663\n",
            "Epoch 11/50\n",
            "1036/1036 [==============================] - 2s 2ms/step - loss: 3.1615\n",
            "Epoch 12/50\n",
            "1036/1036 [==============================] - 2s 2ms/step - loss: 3.1008\n",
            "Epoch 13/50\n",
            "1036/1036 [==============================] - 2s 2ms/step - loss: 2.6881\n",
            "Epoch 14/50\n",
            "1036/1036 [==============================] - 3s 3ms/step - loss: 2.0693\n",
            "Epoch 15/50\n",
            "1036/1036 [==============================] - 2s 2ms/step - loss: 10.5964\n",
            "Epoch 16/50\n",
            "1036/1036 [==============================] - 2s 2ms/step - loss: 2.1057\n",
            "Epoch 17/50\n",
            "1036/1036 [==============================] - 2s 2ms/step - loss: 2.6057\n",
            "Epoch 18/50\n",
            "1036/1036 [==============================] - 2s 2ms/step - loss: 2.3650\n",
            "Epoch 19/50\n",
            "1036/1036 [==============================] - 3s 3ms/step - loss: 2.0030\n",
            "Epoch 20/50\n",
            "1036/1036 [==============================] - 2s 2ms/step - loss: 2.7844\n",
            "Epoch 21/50\n",
            "1036/1036 [==============================] - 2s 2ms/step - loss: 4.4052\n",
            "Epoch 22/50\n",
            "1036/1036 [==============================] - 2s 2ms/step - loss: 2.0136\n",
            "Epoch 23/50\n",
            "1036/1036 [==============================] - 2s 2ms/step - loss: 2.4093\n",
            "Epoch 24/50\n",
            "1036/1036 [==============================] - 3s 3ms/step - loss: 1.7604\n",
            "Epoch 25/50\n",
            "1036/1036 [==============================] - 3s 2ms/step - loss: 2.3130\n",
            "Epoch 26/50\n",
            "1036/1036 [==============================] - 2s 2ms/step - loss: 1.9293\n",
            "Epoch 27/50\n",
            "1036/1036 [==============================] - 2s 2ms/step - loss: 3.0537\n",
            "Epoch 28/50\n",
            "1036/1036 [==============================] - 2s 2ms/step - loss: 1.8223\n",
            "Epoch 29/50\n",
            "1036/1036 [==============================] - 3s 3ms/step - loss: 1.8252\n",
            "Epoch 30/50\n",
            "1036/1036 [==============================] - 3s 3ms/step - loss: 2.0041\n",
            "Epoch 31/50\n",
            "1036/1036 [==============================] - 2s 2ms/step - loss: 1.8460\n",
            "Epoch 32/50\n",
            "1036/1036 [==============================] - 2s 2ms/step - loss: 7.8635\n",
            "Epoch 33/50\n",
            "1036/1036 [==============================] - 2s 2ms/step - loss: 1.9484\n",
            "Epoch 34/50\n",
            "1036/1036 [==============================] - 3s 3ms/step - loss: 1.9083\n",
            "Epoch 35/50\n",
            "1036/1036 [==============================] - 4s 4ms/step - loss: 1.8740\n",
            "Epoch 36/50\n",
            "1036/1036 [==============================] - 3s 2ms/step - loss: 1.7131\n",
            "Epoch 37/50\n",
            "1036/1036 [==============================] - 2s 2ms/step - loss: 1.6835\n",
            "Epoch 38/50\n",
            "1036/1036 [==============================] - 2s 2ms/step - loss: 1.6312\n",
            "Epoch 39/50\n",
            "1036/1036 [==============================] - 3s 3ms/step - loss: 1.8332\n",
            "Epoch 40/50\n",
            "1036/1036 [==============================] - 3s 2ms/step - loss: 1.7072\n",
            "Epoch 41/50\n",
            "1036/1036 [==============================] - 2s 2ms/step - loss: 1.8884\n",
            "Epoch 42/50\n",
            "1036/1036 [==============================] - 2s 2ms/step - loss: 1.7092\n",
            "Epoch 43/50\n",
            "1036/1036 [==============================] - 2s 2ms/step - loss: 1.7129\n",
            "Epoch 44/50\n",
            "1036/1036 [==============================] - 3s 3ms/step - loss: 3.1200\n",
            "Epoch 45/50\n",
            "1036/1036 [==============================] - 3s 3ms/step - loss: 1.8772\n",
            "Epoch 46/50\n",
            "1036/1036 [==============================] - 2s 2ms/step - loss: 1.7813\n",
            "Epoch 47/50\n",
            "1036/1036 [==============================] - 2s 2ms/step - loss: 2.5201\n",
            "Epoch 48/50\n",
            "1036/1036 [==============================] - 2s 2ms/step - loss: 1.8800\n",
            "Epoch 49/50\n",
            "1036/1036 [==============================] - 3s 3ms/step - loss: 2.4800\n",
            "Epoch 50/50\n",
            "1036/1036 [==============================] - 3s 3ms/step - loss: 12.4760\n",
            "691/691 [==============================] - 1s 1ms/step\n",
            "0.7138113040316348\n",
            "73\n",
            "Epoch 1/50\n",
            "1036/1036 [==============================] - 3s 2ms/step - loss: 25.8061\n",
            "Epoch 2/50\n",
            "1036/1036 [==============================] - 2s 2ms/step - loss: 7.3128\n",
            "Epoch 3/50\n",
            "1036/1036 [==============================] - 2s 2ms/step - loss: 5.5068\n",
            "Epoch 4/50\n",
            "1036/1036 [==============================] - 3s 3ms/step - loss: 3.5258\n",
            "Epoch 5/50\n",
            "1036/1036 [==============================] - 2s 2ms/step - loss: 3.6724\n",
            "Epoch 6/50\n",
            "1036/1036 [==============================] - 2s 2ms/step - loss: 3.0742\n",
            "Epoch 7/50\n",
            "1036/1036 [==============================] - 2s 2ms/step - loss: 4.5332\n",
            "Epoch 8/50\n",
            "1036/1036 [==============================] - 2s 2ms/step - loss: 4.3207\n",
            "Epoch 9/50\n",
            "1036/1036 [==============================] - 3s 3ms/step - loss: 2.8100\n",
            "Epoch 10/50\n",
            "1036/1036 [==============================] - 2s 2ms/step - loss: 5.9916\n",
            "Epoch 11/50\n",
            "1036/1036 [==============================] - 2s 2ms/step - loss: 2.6432\n",
            "Epoch 12/50\n",
            "1036/1036 [==============================] - 2s 2ms/step - loss: 2.3089\n",
            "Epoch 13/50\n",
            "1036/1036 [==============================] - 2s 2ms/step - loss: 2.1492\n",
            "Epoch 14/50\n",
            "1036/1036 [==============================] - 3s 3ms/step - loss: 2.1025\n",
            "Epoch 15/50\n",
            "1036/1036 [==============================] - 3s 2ms/step - loss: 2.1200\n",
            "Epoch 16/50\n",
            "1036/1036 [==============================] - 2s 2ms/step - loss: 2.1042\n",
            "Epoch 17/50\n",
            "1036/1036 [==============================] - 2s 2ms/step - loss: 2.4302\n",
            "Epoch 18/50\n",
            "1036/1036 [==============================] - 2s 2ms/step - loss: 1.8929\n",
            "Epoch 19/50\n",
            "1036/1036 [==============================] - 3s 3ms/step - loss: 2.1541\n",
            "Epoch 20/50\n",
            "1036/1036 [==============================] - 3s 3ms/step - loss: 2.2629\n",
            "Epoch 21/50\n",
            "1036/1036 [==============================] - 2s 2ms/step - loss: 2.0389\n",
            "Epoch 22/50\n",
            "1036/1036 [==============================] - 2s 2ms/step - loss: 1.9393\n",
            "Epoch 23/50\n",
            "1036/1036 [==============================] - 2s 2ms/step - loss: 2.0959\n",
            "Epoch 24/50\n",
            "1036/1036 [==============================] - 3s 2ms/step - loss: 1.9261\n",
            "Epoch 25/50\n",
            "1036/1036 [==============================] - 3s 3ms/step - loss: 1.8779\n",
            "Epoch 26/50\n",
            "1036/1036 [==============================] - 2s 2ms/step - loss: 1.9151\n",
            "Epoch 27/50\n",
            "1036/1036 [==============================] - 2s 2ms/step - loss: 2.0433\n",
            "Epoch 28/50\n",
            "1036/1036 [==============================] - 2s 2ms/step - loss: 1.8223\n",
            "Epoch 29/50\n",
            "1036/1036 [==============================] - 2s 2ms/step - loss: 2.0264\n",
            "Epoch 30/50\n",
            "1036/1036 [==============================] - 3s 3ms/step - loss: 2.1697\n",
            "Epoch 31/50\n",
            "1036/1036 [==============================] - 2s 2ms/step - loss: 2.3168\n",
            "Epoch 32/50\n",
            "1036/1036 [==============================] - 2s 2ms/step - loss: 1.9381\n",
            "Epoch 33/50\n",
            "1036/1036 [==============================] - 2s 2ms/step - loss: 2.1832\n",
            "Epoch 34/50\n",
            "1036/1036 [==============================] - 2s 2ms/step - loss: 2.0384\n",
            "Epoch 35/50\n",
            "1036/1036 [==============================] - 3s 3ms/step - loss: 2.1180\n",
            "Epoch 36/50\n",
            "1036/1036 [==============================] - 2s 2ms/step - loss: 2.3562\n",
            "Epoch 37/50\n",
            "1036/1036 [==============================] - 2s 2ms/step - loss: 1.9934\n",
            "Epoch 38/50\n",
            "1036/1036 [==============================] - 2s 2ms/step - loss: 2.3756\n",
            "Epoch 39/50\n",
            "1036/1036 [==============================] - 2s 2ms/step - loss: 1.8758\n",
            "Epoch 40/50\n",
            "1036/1036 [==============================] - 3s 3ms/step - loss: 5.3001\n",
            "Epoch 41/50\n",
            "1036/1036 [==============================] - 3s 2ms/step - loss: 2.0839\n",
            "Epoch 42/50\n",
            "1036/1036 [==============================] - 2s 2ms/step - loss: 1.9783\n",
            "Epoch 43/50\n",
            "1036/1036 [==============================] - 2s 2ms/step - loss: 5.3166\n",
            "Epoch 44/50\n",
            "1036/1036 [==============================] - 2s 2ms/step - loss: 1.7461\n",
            "Epoch 45/50\n",
            "1036/1036 [==============================] - 3s 3ms/step - loss: 1.7541\n",
            "Epoch 46/50\n",
            "1036/1036 [==============================] - 3s 3ms/step - loss: 1.7162\n",
            "Epoch 47/50\n",
            "1036/1036 [==============================] - 2s 2ms/step - loss: 1.7075\n",
            "Epoch 48/50\n",
            "1036/1036 [==============================] - 2s 2ms/step - loss: 1.7467\n",
            "Epoch 49/50\n",
            "1036/1036 [==============================] - 2s 2ms/step - loss: 1.8512\n",
            "Epoch 50/50\n",
            "1036/1036 [==============================] - 3s 2ms/step - loss: 1.8580\n",
            "691/691 [==============================] - 1s 2ms/step\n",
            "0.7808489765616713\n",
            "74\n",
            "Epoch 1/50\n",
            "1036/1036 [==============================] - 3s 2ms/step - loss: 12.8886\n",
            "Epoch 2/50\n",
            "1036/1036 [==============================] - 2s 2ms/step - loss: 8.3089\n",
            "Epoch 3/50\n",
            "1036/1036 [==============================] - 2s 2ms/step - loss: 11.0552\n",
            "Epoch 4/50\n",
            "1036/1036 [==============================] - 2s 2ms/step - loss: 9.8403\n",
            "Epoch 5/50\n",
            "1036/1036 [==============================] - 3s 3ms/step - loss: 4.0683\n",
            "Epoch 6/50\n",
            "1036/1036 [==============================] - 2s 2ms/step - loss: 3.0442\n",
            "Epoch 7/50\n",
            "1036/1036 [==============================] - 2s 2ms/step - loss: 2.4608\n",
            "Epoch 8/50\n",
            "1036/1036 [==============================] - 2s 2ms/step - loss: 2.1944\n",
            "Epoch 9/50\n",
            "1036/1036 [==============================] - 2s 2ms/step - loss: 2.1733\n",
            "Epoch 10/50\n",
            "1036/1036 [==============================] - 3s 3ms/step - loss: 2.9351\n",
            "Epoch 11/50\n",
            "1036/1036 [==============================] - 2s 2ms/step - loss: 3.3055\n",
            "Epoch 12/50\n",
            "1036/1036 [==============================] - 2s 2ms/step - loss: 2.2839\n",
            "Epoch 13/50\n",
            "1036/1036 [==============================] - 2s 2ms/step - loss: 2.0787\n",
            "Epoch 14/50\n",
            "1036/1036 [==============================] - 2s 2ms/step - loss: 2.4605\n",
            "Epoch 15/50\n",
            "1036/1036 [==============================] - 3s 3ms/step - loss: 2.6213\n",
            "Epoch 16/50\n",
            "1036/1036 [==============================] - 3s 2ms/step - loss: 2.0338\n",
            "Epoch 17/50\n",
            "1036/1036 [==============================] - 2s 2ms/step - loss: 2.0099\n",
            "Epoch 18/50\n",
            "1036/1036 [==============================] - 2s 2ms/step - loss: 1.8453\n",
            "Epoch 19/50\n",
            "1036/1036 [==============================] - 2s 2ms/step - loss: 2.1301\n",
            "Epoch 20/50\n",
            "1036/1036 [==============================] - 3s 3ms/step - loss: 1.9688\n",
            "Epoch 21/50\n",
            "1036/1036 [==============================] - 3s 3ms/step - loss: 1.9298\n",
            "Epoch 22/50\n",
            "1036/1036 [==============================] - 2s 2ms/step - loss: 1.8527\n",
            "Epoch 23/50\n",
            "1036/1036 [==============================] - 2s 2ms/step - loss: 2.0552\n",
            "Epoch 24/50\n",
            "1036/1036 [==============================] - 2s 2ms/step - loss: 1.9893\n",
            "Epoch 25/50\n",
            "1036/1036 [==============================] - 3s 3ms/step - loss: 1.9739\n",
            "Epoch 26/50\n",
            "1036/1036 [==============================] - 3s 3ms/step - loss: 1.9234\n",
            "Epoch 27/50\n",
            "1036/1036 [==============================] - 2s 2ms/step - loss: 1.8037\n",
            "Epoch 28/50\n",
            "1036/1036 [==============================] - 2s 2ms/step - loss: 1.9577\n",
            "Epoch 29/50\n",
            "1036/1036 [==============================] - 2s 2ms/step - loss: 2.0030\n",
            "Epoch 30/50\n",
            "1036/1036 [==============================] - 3s 3ms/step - loss: 1.9835\n",
            "Epoch 31/50\n",
            "1036/1036 [==============================] - 3s 3ms/step - loss: 1.8563\n",
            "Epoch 32/50\n",
            "1036/1036 [==============================] - 2s 2ms/step - loss: 1.8876\n",
            "Epoch 33/50\n",
            "1036/1036 [==============================] - 2s 2ms/step - loss: 3.9114\n",
            "Epoch 34/50\n",
            "1036/1036 [==============================] - 2s 2ms/step - loss: 1.9073\n",
            "Epoch 35/50\n",
            "1036/1036 [==============================] - 3s 3ms/step - loss: 1.8006\n",
            "Epoch 36/50\n",
            "1036/1036 [==============================] - 3s 3ms/step - loss: 1.9005\n",
            "Epoch 37/50\n",
            "1036/1036 [==============================] - 2s 2ms/step - loss: 1.7926\n",
            "Epoch 38/50\n",
            "1036/1036 [==============================] - 2s 2ms/step - loss: 1.7217\n",
            "Epoch 39/50\n",
            "1036/1036 [==============================] - 3s 3ms/step - loss: 2.2677\n",
            "Epoch 40/50\n",
            "1036/1036 [==============================] - 3s 3ms/step - loss: 1.8117\n",
            "Epoch 41/50\n",
            "1036/1036 [==============================] - 2s 2ms/step - loss: 1.7909\n",
            "Epoch 42/50\n",
            "1036/1036 [==============================] - 2s 2ms/step - loss: 1.9051\n",
            "Epoch 43/50\n",
            "1036/1036 [==============================] - 2s 2ms/step - loss: 1.8163\n",
            "Epoch 44/50\n",
            "1036/1036 [==============================] - 2s 2ms/step - loss: 1.7133\n",
            "Epoch 45/50\n",
            "1036/1036 [==============================] - 3s 3ms/step - loss: 1.6571\n",
            "Epoch 46/50\n",
            "1036/1036 [==============================] - 2s 2ms/step - loss: 1.8367\n",
            "Epoch 47/50\n",
            "1036/1036 [==============================] - 2s 2ms/step - loss: 2.7129\n",
            "Epoch 48/50\n",
            "1036/1036 [==============================] - 2s 2ms/step - loss: 1.7260\n",
            "Epoch 49/50\n",
            "1036/1036 [==============================] - 2s 2ms/step - loss: 1.7012\n",
            "Epoch 50/50\n",
            "1036/1036 [==============================] - 3s 3ms/step - loss: 2.2056\n",
            "691/691 [==============================] - 1s 1ms/step\n",
            "0.7067919734709028\n",
            "75\n",
            "Epoch 1/50\n",
            "1036/1036 [==============================] - 3s 2ms/step - loss: 27.5953\n",
            "Epoch 2/50\n",
            "1036/1036 [==============================] - 2s 2ms/step - loss: 15.5920\n",
            "Epoch 3/50\n",
            "1036/1036 [==============================] - 2s 2ms/step - loss: 31.1805\n",
            "Epoch 4/50\n",
            "1036/1036 [==============================] - 4s 3ms/step - loss: 38.2225\n",
            "Epoch 5/50\n",
            "1036/1036 [==============================] - 2s 2ms/step - loss: 9.0357\n",
            "Epoch 6/50\n",
            "1036/1036 [==============================] - 2s 2ms/step - loss: 24.6648\n",
            "Epoch 7/50\n",
            "1036/1036 [==============================] - 2s 2ms/step - loss: 6.8693\n",
            "Epoch 8/50\n",
            "1036/1036 [==============================] - 2s 2ms/step - loss: 9.5044\n",
            "Epoch 9/50\n",
            "1036/1036 [==============================] - 3s 3ms/step - loss: 11.6889\n",
            "Epoch 10/50\n",
            "1036/1036 [==============================] - 2s 2ms/step - loss: 17.0564\n",
            "Epoch 11/50\n",
            "1036/1036 [==============================] - 2s 2ms/step - loss: 12.3405\n",
            "Epoch 12/50\n",
            "1036/1036 [==============================] - 2s 2ms/step - loss: 7.5254\n",
            "Epoch 13/50\n",
            "1036/1036 [==============================] - 2s 2ms/step - loss: 3.0242\n",
            "Epoch 14/50\n",
            "1036/1036 [==============================] - 4s 3ms/step - loss: 4.0462\n",
            "Epoch 15/50\n",
            "1036/1036 [==============================] - 2s 2ms/step - loss: 6.8955\n",
            "Epoch 16/50\n",
            "1036/1036 [==============================] - 2s 2ms/step - loss: 4.1513\n",
            "Epoch 17/50\n",
            "1036/1036 [==============================] - 2s 2ms/step - loss: 6.9292\n",
            "Epoch 18/50\n",
            "1036/1036 [==============================] - 2s 2ms/step - loss: 8.0328\n",
            "Epoch 19/50\n",
            "1036/1036 [==============================] - 3s 3ms/step - loss: 4.8490\n",
            "Epoch 20/50\n",
            "1036/1036 [==============================] - 2s 2ms/step - loss: 3.1966\n",
            "Epoch 21/50\n",
            "1036/1036 [==============================] - 2s 2ms/step - loss: 3.0114\n",
            "Epoch 22/50\n",
            "1036/1036 [==============================] - 2s 2ms/step - loss: 1.9884\n",
            "Epoch 23/50\n",
            "1036/1036 [==============================] - 2s 2ms/step - loss: 1.8571\n",
            "Epoch 24/50\n",
            "1036/1036 [==============================] - 3s 3ms/step - loss: 1.8097\n",
            "Epoch 25/50\n",
            "1036/1036 [==============================] - 3s 2ms/step - loss: 2.0428\n",
            "Epoch 26/50\n",
            "1036/1036 [==============================] - 2s 2ms/step - loss: 1.8019\n",
            "Epoch 27/50\n",
            "1036/1036 [==============================] - 2s 2ms/step - loss: 1.7990\n",
            "Epoch 28/50\n",
            "1036/1036 [==============================] - 2s 2ms/step - loss: 1.6432\n",
            "Epoch 29/50\n",
            "1036/1036 [==============================] - 3s 3ms/step - loss: 1.7505\n",
            "Epoch 30/50\n",
            "1036/1036 [==============================] - 3s 3ms/step - loss: 1.7056\n",
            "Epoch 31/50\n",
            "1036/1036 [==============================] - 2s 2ms/step - loss: 1.7434\n",
            "Epoch 32/50\n",
            "1036/1036 [==============================] - 2s 2ms/step - loss: 2.6081\n",
            "Epoch 33/50\n",
            "1036/1036 [==============================] - 2s 2ms/step - loss: 1.6886\n",
            "Epoch 34/50\n",
            "1036/1036 [==============================] - 3s 3ms/step - loss: 1.6229\n",
            "Epoch 35/50\n",
            "1036/1036 [==============================] - 3s 3ms/step - loss: 1.7039\n",
            "Epoch 36/50\n",
            "1036/1036 [==============================] - 2s 2ms/step - loss: 1.7788\n",
            "Epoch 37/50\n",
            "1036/1036 [==============================] - 2s 2ms/step - loss: 1.6085\n",
            "Epoch 38/50\n",
            "1036/1036 [==============================] - 2s 2ms/step - loss: 1.6007\n",
            "Epoch 39/50\n",
            "1036/1036 [==============================] - 3s 3ms/step - loss: 1.5966\n",
            "Epoch 40/50\n",
            "1036/1036 [==============================] - 3s 3ms/step - loss: 6.3979\n",
            "Epoch 41/50\n",
            "1036/1036 [==============================] - 2s 2ms/step - loss: 1.7014\n",
            "Epoch 42/50\n",
            "1036/1036 [==============================] - 2s 2ms/step - loss: 1.5400\n",
            "Epoch 43/50\n",
            "1036/1036 [==============================] - 2s 2ms/step - loss: 2.0307\n",
            "Epoch 44/50\n",
            "1036/1036 [==============================] - 3s 3ms/step - loss: 1.5793\n",
            "Epoch 45/50\n",
            "1036/1036 [==============================] - 3s 3ms/step - loss: 1.5814\n",
            "Epoch 46/50\n",
            "1036/1036 [==============================] - 2s 2ms/step - loss: 1.6765\n",
            "Epoch 47/50\n",
            "1036/1036 [==============================] - 2s 2ms/step - loss: 1.5708\n",
            "Epoch 48/50\n",
            "1036/1036 [==============================] - 2s 2ms/step - loss: 4.1688\n",
            "Epoch 49/50\n",
            "1036/1036 [==============================] - 3s 2ms/step - loss: 1.8315\n",
            "Epoch 50/50\n",
            "1036/1036 [==============================] - 3s 3ms/step - loss: 1.5656\n",
            "691/691 [==============================] - 1s 1ms/step\n",
            "0.779911519173371\n",
            "76\n",
            "Epoch 1/50\n",
            "1036/1036 [==============================] - 3s 2ms/step - loss: 15.6758\n",
            "Epoch 2/50\n",
            "1036/1036 [==============================] - 2s 2ms/step - loss: 6.8265\n",
            "Epoch 3/50\n",
            "1036/1036 [==============================] - 3s 3ms/step - loss: 9.7293\n",
            "Epoch 4/50\n",
            "1036/1036 [==============================] - 3s 3ms/step - loss: 7.9738\n",
            "Epoch 5/50\n",
            "1036/1036 [==============================] - 2s 2ms/step - loss: 2.3421\n",
            "Epoch 6/50\n",
            "1036/1036 [==============================] - 2s 2ms/step - loss: 2.2437\n",
            "Epoch 7/50\n",
            "1036/1036 [==============================] - 2s 2ms/step - loss: 2.1476\n",
            "Epoch 8/50\n",
            "1036/1036 [==============================] - 3s 3ms/step - loss: 2.1522\n",
            "Epoch 9/50\n",
            "1036/1036 [==============================] - 3s 3ms/step - loss: 1.9851\n",
            "Epoch 10/50\n",
            "1036/1036 [==============================] - 2s 2ms/step - loss: 2.0470\n",
            "Epoch 11/50\n",
            "1036/1036 [==============================] - 2s 2ms/step - loss: 2.2650\n",
            "Epoch 12/50\n",
            "1036/1036 [==============================] - 2s 2ms/step - loss: 2.0009\n",
            "Epoch 13/50\n",
            "1036/1036 [==============================] - 3s 3ms/step - loss: 2.1296\n",
            "Epoch 14/50\n",
            "1036/1036 [==============================] - 3s 3ms/step - loss: 2.3709\n",
            "Epoch 15/50\n",
            "1036/1036 [==============================] - 2s 2ms/step - loss: 2.0026\n",
            "Epoch 16/50\n",
            "1036/1036 [==============================] - 2s 2ms/step - loss: 2.0402\n",
            "Epoch 17/50\n",
            "1036/1036 [==============================] - 2s 2ms/step - loss: 2.1617\n",
            "Epoch 18/50\n",
            "1036/1036 [==============================] - 3s 3ms/step - loss: 1.9465\n",
            "Epoch 19/50\n",
            "1036/1036 [==============================] - 3s 3ms/step - loss: 2.1454\n",
            "Epoch 20/50\n",
            "1036/1036 [==============================] - 2s 2ms/step - loss: 1.9648\n",
            "Epoch 21/50\n",
            "1036/1036 [==============================] - 2s 2ms/step - loss: 2.6166\n",
            "Epoch 22/50\n",
            "1036/1036 [==============================] - 2s 2ms/step - loss: 2.0370\n",
            "Epoch 23/50\n",
            "1036/1036 [==============================] - 3s 3ms/step - loss: 2.0623\n",
            "Epoch 24/50\n",
            "1036/1036 [==============================] - 3s 3ms/step - loss: 2.1425\n",
            "Epoch 25/50\n",
            "1036/1036 [==============================] - 2s 2ms/step - loss: 1.9988\n",
            "Epoch 26/50\n",
            "1036/1036 [==============================] - 2s 2ms/step - loss: 2.0717\n",
            "Epoch 27/50\n",
            "1036/1036 [==============================] - 2s 2ms/step - loss: 2.2387\n",
            "Epoch 28/50\n",
            "1036/1036 [==============================] - 3s 3ms/step - loss: 2.3026\n",
            "Epoch 29/50\n",
            "1036/1036 [==============================] - 4s 4ms/step - loss: 2.0838\n",
            "Epoch 30/50\n",
            "1036/1036 [==============================] - 3s 3ms/step - loss: 2.0772\n",
            "Epoch 31/50\n",
            "1036/1036 [==============================] - 3s 3ms/step - loss: 2.2431\n",
            "Epoch 32/50\n",
            "1036/1036 [==============================] - 3s 3ms/step - loss: 2.0878\n",
            "Epoch 33/50\n",
            "1036/1036 [==============================] - 4s 4ms/step - loss: 2.9446\n",
            "Epoch 34/50\n",
            "1036/1036 [==============================] - 3s 3ms/step - loss: 4.4688\n",
            "Epoch 35/50\n",
            "1036/1036 [==============================] - 3s 3ms/step - loss: 2.5555\n",
            "Epoch 36/50\n",
            "1036/1036 [==============================] - 2s 2ms/step - loss: 1.9905\n",
            "Epoch 37/50\n",
            "1036/1036 [==============================] - 3s 3ms/step - loss: 1.9078\n",
            "Epoch 38/50\n",
            "1036/1036 [==============================] - 3s 3ms/step - loss: 1.9987\n",
            "Epoch 39/50\n",
            "1036/1036 [==============================] - 2s 2ms/step - loss: 3.3030\n",
            "Epoch 40/50\n",
            "1036/1036 [==============================] - 2s 2ms/step - loss: 1.9378\n",
            "Epoch 41/50\n",
            "1036/1036 [==============================] - 2s 2ms/step - loss: 2.0283\n",
            "Epoch 42/50\n",
            "1036/1036 [==============================] - 3s 3ms/step - loss: 2.2652\n",
            "Epoch 43/50\n",
            "1036/1036 [==============================] - 3s 3ms/step - loss: 1.9557\n",
            "Epoch 44/50\n",
            "1036/1036 [==============================] - 2s 2ms/step - loss: 2.0127\n",
            "Epoch 45/50\n",
            "1036/1036 [==============================] - 2s 2ms/step - loss: 1.9688\n",
            "Epoch 46/50\n",
            "1036/1036 [==============================] - 2s 2ms/step - loss: 2.1031\n",
            "Epoch 47/50\n",
            "1036/1036 [==============================] - 3s 3ms/step - loss: 1.9853\n",
            "Epoch 48/50\n",
            "1036/1036 [==============================] - 3s 3ms/step - loss: 1.9901\n",
            "Epoch 49/50\n",
            "1036/1036 [==============================] - 2s 2ms/step - loss: 3.2038\n",
            "Epoch 50/50\n",
            "1036/1036 [==============================] - 2s 2ms/step - loss: 2.0656\n",
            "691/691 [==============================] - 1s 1ms/step\n",
            "0.6040641618562792\n",
            "77\n",
            "Epoch 1/50\n",
            "1036/1036 [==============================] - 3s 2ms/step - loss: 56.8721\n",
            "Epoch 2/50\n",
            "1036/1036 [==============================] - 2s 2ms/step - loss: 7.7551\n",
            "Epoch 3/50\n",
            "1036/1036 [==============================] - 3s 3ms/step - loss: 3.5664\n",
            "Epoch 4/50\n",
            "1036/1036 [==============================] - 3s 2ms/step - loss: 6.6723\n",
            "Epoch 5/50\n",
            "1036/1036 [==============================] - 2s 2ms/step - loss: 8.7946\n",
            "Epoch 6/50\n",
            "1036/1036 [==============================] - 2s 2ms/step - loss: 3.2192\n",
            "Epoch 7/50\n",
            "1036/1036 [==============================] - 2s 2ms/step - loss: 3.8977\n",
            "Epoch 8/50\n",
            "1036/1036 [==============================] - 3s 3ms/step - loss: 3.0506\n",
            "Epoch 9/50\n",
            "1036/1036 [==============================] - 3s 3ms/step - loss: 2.7044\n",
            "Epoch 10/50\n",
            "1036/1036 [==============================] - 2s 2ms/step - loss: 4.1157\n",
            "Epoch 11/50\n",
            "1036/1036 [==============================] - 3s 2ms/step - loss: 5.2539\n",
            "Epoch 12/50\n",
            "1036/1036 [==============================] - 2s 2ms/step - loss: 3.5308\n",
            "Epoch 13/50\n",
            "1036/1036 [==============================] - 4s 4ms/step - loss: 2.2606\n",
            "Epoch 14/50\n",
            "1036/1036 [==============================] - 2s 2ms/step - loss: 2.8227\n",
            "Epoch 15/50\n",
            "1036/1036 [==============================] - 2s 2ms/step - loss: 2.5341\n",
            "Epoch 16/50\n",
            "1036/1036 [==============================] - 2s 2ms/step - loss: 4.3263\n",
            "Epoch 17/50\n",
            "1036/1036 [==============================] - 2s 2ms/step - loss: 5.7062\n",
            "Epoch 18/50\n",
            "1036/1036 [==============================] - 4s 3ms/step - loss: 4.5922\n",
            "Epoch 19/50\n",
            "1036/1036 [==============================] - 2s 2ms/step - loss: 3.7810\n",
            "Epoch 20/50\n",
            "1036/1036 [==============================] - 2s 2ms/step - loss: 1.9709\n",
            "Epoch 21/50\n",
            "1036/1036 [==============================] - 2s 2ms/step - loss: 2.7304\n",
            "Epoch 22/50\n",
            "1036/1036 [==============================] - 3s 2ms/step - loss: 1.9828\n",
            "Epoch 23/50\n",
            "1036/1036 [==============================] - 3s 3ms/step - loss: 2.2797\n",
            "Epoch 24/50\n",
            "1036/1036 [==============================] - 2s 2ms/step - loss: 2.0333\n",
            "Epoch 25/50\n",
            "1036/1036 [==============================] - 2s 2ms/step - loss: 1.9764\n",
            "Epoch 26/50\n",
            "1036/1036 [==============================] - 2s 2ms/step - loss: 1.7966\n",
            "Epoch 27/50\n",
            "1036/1036 [==============================] - 3s 3ms/step - loss: 1.7508\n",
            "Epoch 28/50\n",
            "1036/1036 [==============================] - 3s 3ms/step - loss: 1.7814\n",
            "Epoch 29/50\n",
            "1036/1036 [==============================] - 2s 2ms/step - loss: 2.0950\n",
            "Epoch 30/50\n",
            "1036/1036 [==============================] - 2s 2ms/step - loss: 1.7796\n",
            "Epoch 31/50\n",
            "1036/1036 [==============================] - 2s 2ms/step - loss: 2.0028\n",
            "Epoch 32/50\n",
            "1036/1036 [==============================] - 3s 3ms/step - loss: 1.7181\n",
            "Epoch 33/50\n",
            "1036/1036 [==============================] - 3s 3ms/step - loss: 1.9268\n",
            "Epoch 34/50\n",
            "1036/1036 [==============================] - 2s 2ms/step - loss: 2.5224\n",
            "Epoch 35/50\n",
            "1036/1036 [==============================] - 2s 2ms/step - loss: 1.8843\n",
            "Epoch 36/50\n",
            "1036/1036 [==============================] - 3s 2ms/step - loss: 1.6973\n",
            "Epoch 37/50\n",
            "1036/1036 [==============================] - 3s 3ms/step - loss: 1.7580\n",
            "Epoch 38/50\n",
            "1036/1036 [==============================] - 3s 3ms/step - loss: 1.6783\n",
            "Epoch 39/50\n",
            "1036/1036 [==============================] - 3s 2ms/step - loss: 1.7991\n",
            "Epoch 40/50\n",
            "1036/1036 [==============================] - 3s 2ms/step - loss: 1.7383\n",
            "Epoch 41/50\n",
            "1036/1036 [==============================] - 3s 2ms/step - loss: 1.7085\n",
            "Epoch 42/50\n",
            "1036/1036 [==============================] - 4s 3ms/step - loss: 1.7277\n",
            "Epoch 43/50\n",
            "1036/1036 [==============================] - 3s 3ms/step - loss: 1.6169\n",
            "Epoch 44/50\n",
            "1036/1036 [==============================] - 3s 3ms/step - loss: 1.5876\n",
            "Epoch 45/50\n",
            "1036/1036 [==============================] - 3s 2ms/step - loss: 1.7436\n",
            "Epoch 46/50\n",
            "1036/1036 [==============================] - 3s 2ms/step - loss: 2.2386\n",
            "Epoch 47/50\n",
            "1036/1036 [==============================] - 4s 4ms/step - loss: 1.5724\n",
            "Epoch 48/50\n",
            "1036/1036 [==============================] - 3s 2ms/step - loss: 1.6130\n",
            "Epoch 49/50\n",
            "1036/1036 [==============================] - 3s 3ms/step - loss: 1.5819\n",
            "Epoch 50/50\n",
            "1036/1036 [==============================] - 3s 2ms/step - loss: 1.7604\n",
            "691/691 [==============================] - 1s 1ms/step\n",
            "0.7847578897928882\n",
            "78\n",
            "Epoch 1/50\n",
            "1036/1036 [==============================] - 4s 4ms/step - loss: 78.9716\n",
            "Epoch 2/50\n",
            "1036/1036 [==============================] - 3s 3ms/step - loss: 23.0421\n",
            "Epoch 3/50\n",
            "1036/1036 [==============================] - 2s 2ms/step - loss: 20.2500\n",
            "Epoch 4/50\n",
            "1036/1036 [==============================] - 3s 2ms/step - loss: 25.6287\n",
            "Epoch 5/50\n",
            "1036/1036 [==============================] - 3s 3ms/step - loss: 15.9376\n",
            "Epoch 6/50\n",
            "1036/1036 [==============================] - 3s 3ms/step - loss: 16.7787\n",
            "Epoch 7/50\n",
            "1036/1036 [==============================] - 3s 2ms/step - loss: 8.6618\n",
            "Epoch 8/50\n",
            "1036/1036 [==============================] - 3s 3ms/step - loss: 3.2321\n",
            "Epoch 9/50\n",
            "1036/1036 [==============================] - 3s 3ms/step - loss: 2.3335\n",
            "Epoch 10/50\n",
            "1036/1036 [==============================] - 4s 4ms/step - loss: 2.1275\n",
            "Epoch 11/50\n",
            "1036/1036 [==============================] - 3s 2ms/step - loss: 2.1053\n",
            "Epoch 12/50\n",
            "1036/1036 [==============================] - 3s 2ms/step - loss: 2.2763\n",
            "Epoch 13/50\n",
            "1036/1036 [==============================] - 3s 3ms/step - loss: 2.9283\n",
            "Epoch 14/50\n",
            "1036/1036 [==============================] - 3s 3ms/step - loss: 1.9861\n",
            "Epoch 15/50\n",
            "1036/1036 [==============================] - 4s 4ms/step - loss: 2.1436\n",
            "Epoch 16/50\n",
            "1036/1036 [==============================] - 3s 2ms/step - loss: 2.0586\n",
            "Epoch 17/50\n",
            "1036/1036 [==============================] - 3s 2ms/step - loss: 3.3735\n",
            "Epoch 18/50\n",
            "1036/1036 [==============================] - 3s 2ms/step - loss: 1.9558\n",
            "Epoch 19/50\n",
            "1036/1036 [==============================] - 3s 3ms/step - loss: 1.9145\n",
            "Epoch 20/50\n",
            "1036/1036 [==============================] - 4s 4ms/step - loss: 4.3895\n",
            "Epoch 21/50\n",
            "1036/1036 [==============================] - 3s 3ms/step - loss: 2.9232\n",
            "Epoch 22/50\n",
            "1036/1036 [==============================] - 3s 2ms/step - loss: 1.9830\n",
            "Epoch 23/50\n",
            "1036/1036 [==============================] - 3s 2ms/step - loss: 2.0078\n",
            "Epoch 24/50\n",
            "1036/1036 [==============================] - 4s 3ms/step - loss: 2.0986\n",
            "Epoch 25/50\n",
            "1036/1036 [==============================] - 3s 3ms/step - loss: 1.8624\n",
            "Epoch 26/50\n",
            "1036/1036 [==============================] - 2s 2ms/step - loss: 2.0480\n",
            "Epoch 27/50\n",
            "1036/1036 [==============================] - 3s 2ms/step - loss: 2.3270\n",
            "Epoch 28/50\n",
            "1036/1036 [==============================] - 3s 2ms/step - loss: 2.0587\n",
            "Epoch 29/50\n",
            "1036/1036 [==============================] - 4s 4ms/step - loss: 2.0656\n",
            "Epoch 30/50\n",
            "1036/1036 [==============================] - 3s 2ms/step - loss: 4.0075\n",
            "Epoch 31/50\n",
            "1036/1036 [==============================] - 3s 2ms/step - loss: 1.7947\n",
            "Epoch 32/50\n",
            "1036/1036 [==============================] - 3s 2ms/step - loss: 1.8347\n",
            "Epoch 33/50\n",
            "1036/1036 [==============================] - 3s 3ms/step - loss: 1.8004\n",
            "Epoch 34/50\n",
            "1036/1036 [==============================] - 4s 3ms/step - loss: 1.7419\n",
            "Epoch 35/50\n",
            "1036/1036 [==============================] - 2s 2ms/step - loss: 1.9336\n",
            "Epoch 36/50\n",
            "1036/1036 [==============================] - 3s 3ms/step - loss: 2.0129\n",
            "Epoch 37/50\n",
            "1036/1036 [==============================] - 2s 2ms/step - loss: 1.8469\n",
            "Epoch 38/50\n",
            "1036/1036 [==============================] - 3s 3ms/step - loss: 5.2678\n",
            "Epoch 39/50\n",
            "1036/1036 [==============================] - 3s 3ms/step - loss: 1.7895\n",
            "Epoch 40/50\n",
            "1036/1036 [==============================] - 2s 2ms/step - loss: 2.0762\n",
            "Epoch 41/50\n",
            "1036/1036 [==============================] - 3s 2ms/step - loss: 1.8780\n",
            "Epoch 42/50\n",
            "1036/1036 [==============================] - 2s 2ms/step - loss: 1.9501\n",
            "Epoch 43/50\n",
            "1036/1036 [==============================] - 3s 3ms/step - loss: 1.8979\n",
            "Epoch 44/50\n",
            "1036/1036 [==============================] - 3s 3ms/step - loss: 2.5223\n",
            "Epoch 45/50\n",
            "1036/1036 [==============================] - 3s 2ms/step - loss: 1.7707\n",
            "Epoch 46/50\n",
            "1036/1036 [==============================] - 3s 2ms/step - loss: 1.9085\n",
            "Epoch 47/50\n",
            "1036/1036 [==============================] - 2s 2ms/step - loss: 2.0059\n",
            "Epoch 48/50\n",
            "1036/1036 [==============================] - 3s 3ms/step - loss: 2.6832\n",
            "Epoch 49/50\n",
            "1036/1036 [==============================] - 3s 3ms/step - loss: 1.7340\n",
            "Epoch 50/50\n",
            "1036/1036 [==============================] - 3s 3ms/step - loss: 2.0350\n",
            "691/691 [==============================] - 1s 1ms/step\n",
            "0.7493319432450041\n",
            "79\n",
            "best seed =  0.7847578897928882\n",
            "best seed index =  8\n",
            "[0.6060792217777979, 0.7829861900216657, 0.6266145099465176, 0.7138113040316348, 0.7808489765616713, 0.7067919734709028, 0.779911519173371, 0.6040641618562792, 0.7847578897928882, 0.7493319432450041]\n"
          ]
        }
      ]
    },
    {
      "cell_type": "code",
      "source": [
        "results"
      ],
      "metadata": {
        "colab": {
          "base_uri": "https://localhost:8080/"
        },
        "id": "uVgV26PR0b1E",
        "outputId": "c5fb8644-c33b-491f-a6e7-dd2e6eb878c4"
      },
      "execution_count": 20,
      "outputs": [
        {
          "output_type": "execute_result",
          "data": {
            "text/plain": [
              "[0.7027384171931579,\n",
              " 0.6433244511613108,\n",
              " 0.6017174408738997,\n",
              " 0.6997858998833385,\n",
              " 0.6002250844658577,\n",
              " 0.6355061512355499,\n",
              " 0.7393650667393906,\n",
              " 0.6127578954744481,\n",
              " 0.7118097378149478,\n",
              " 0.7850164007696621,\n",
              " 0.6922360536642274,\n",
              " 0.7272600298471282,\n",
              " 0.6034550512855477,\n",
              " 0.7255228928988077,\n",
              " 0.7346517393148796,\n",
              " 0.7940529218368861,\n",
              " 0.7169910837386179,\n",
              " 0.6929209183673469,\n",
              " 0.5672516779540324,\n",
              " 0.6724836371074042,\n",
              " 0.6781616460615426,\n",
              " 0.5520901985515809,\n",
              " 0.6494018264321318,\n",
              " 0.687553501355999,\n",
              " 0.7324442165507629,\n",
              " 0.7108940597397088,\n",
              " 0.7085454449040196,\n",
              " 0.7442978444161628,\n",
              " 0.6149067087859642,\n",
              " 0.7146654318743088,\n",
              " 0.4999545475205673,\n",
              " 0.7155008579155493,\n",
              " 0.6980909011711588,\n",
              " 0.6973167886308198,\n",
              " 0.7866787305122495,\n",
              " 0.6348532453070315,\n",
              " 0.5964679162310804,\n",
              " 0.5887369702892293,\n",
              " 0.7666711172219445,\n",
              " 0.711869630925867,\n",
              " 0.7280528441889004,\n",
              " 0.8007888845961546,\n",
              " 0.748199892429132,\n",
              " 0.7586828439616381,\n",
              " 0.7361514344044969,\n",
              " 0.735818826416981,\n",
              " 0.6003150424980681,\n",
              " 0.7878077038164932,\n",
              " 0.7435298868990803,\n",
              " 0.5891682953805129]"
            ]
          },
          "metadata": {},
          "execution_count": 20
        }
      ]
    },
    {
      "cell_type": "markdown",
      "source": [
        "# XGBoost"
      ],
      "metadata": {
        "id": "Tk4ZOzw-O7oS"
      }
    },
    {
      "cell_type": "code",
      "source": [
        "# estimate a value for the scale_pos_weight xgboost hyperparameter\n",
        "from sklearn.datasets import make_classification\n",
        "from collections import Counter\n",
        "# count examples in each class\n",
        "counter = Counter(y_train)\n",
        "# estimate scale_pos_weight value\n",
        "estimate = counter[0] / counter[1]\n",
        "print('Estimate: %.3f' % estimate)\n",
        "print(counter)"
      ],
      "metadata": {
        "colab": {
          "base_uri": "https://localhost:8080/"
        },
        "id": "sMDSLJckPDj6",
        "outputId": "aea537c4-68ef-4460-a99a-51dc448b828b"
      },
      "execution_count": 27,
      "outputs": [
        {
          "output_type": "stream",
          "name": "stdout",
          "text": [
            "Estimate: 230.776\n",
            "Counter({0: 33001, 1: 143})\n"
          ]
        }
      ]
    },
    {
      "cell_type": "code",
      "source": [
        "# fit balanced xgboost on an imbalanced classification dataset\n",
        "from numpy import mean\n",
        "from sklearn.datasets import make_classification\n",
        "from sklearn.model_selection import cross_val_score\n",
        "from sklearn.model_selection import RepeatedStratifiedKFold\n",
        "from xgboost import XGBClassifier\n",
        "# define model\n",
        "xgb = XGBClassifier(scale_pos_weight=1000)\n",
        "# define evaluation procedure\n",
        "cv = RepeatedStratifiedKFold(n_splits=10, n_repeats=3, random_state=1)\n",
        "# evaluate model\n",
        "scores = cross_val_score(xgb, X_train, y_train, scoring='roc_auc', cv=cv, n_jobs=-1)\n",
        "# summarize performance\n",
        "print('Mean ROC AUC: %.5f' % mean(scores))"
      ],
      "metadata": {
        "colab": {
          "base_uri": "https://localhost:8080/"
        },
        "id": "MYdXi-HzO-GZ",
        "outputId": "fca34686-3896-4a4f-a691-63a6d3e01023"
      },
      "execution_count": 28,
      "outputs": [
        {
          "output_type": "stream",
          "name": "stdout",
          "text": [
            "Mean ROC AUC: 0.87897\n"
          ]
        }
      ]
    },
    {
      "cell_type": "code",
      "source": [
        "# Fitting the classifier on training data\n",
        "xgb.fit(X_train, y_train)\n",
        "\n",
        "# Making predictions on test data\n",
        "y_pred_xgb = xgb.predict(X_test)\n",
        "\n",
        "from sklearn.metrics import classification_report\n",
        "\n",
        "print(classification_report(y_test, y_pred_xgb))\n",
        "\n",
        "from sklearn.metrics import confusion_matrix\n",
        "\n",
        "# Print the confusion matrix\n",
        "cm = confusion_matrix(y_test, y_pred_xgb)\n",
        "print(cm)"
      ],
      "metadata": {
        "colab": {
          "base_uri": "https://localhost:8080/"
        },
        "id": "3bOMRyfjPb0e",
        "outputId": "9a7661b6-c3da-440e-af19-76c8c56deb3a"
      },
      "execution_count": 29,
      "outputs": [
        {
          "output_type": "stream",
          "name": "stdout",
          "text": [
            "              precision    recall  f1-score   support\n",
            "\n",
            "           0       1.00      0.76      0.86     22001\n",
            "           1       0.01      0.79      0.03        96\n",
            "\n",
            "    accuracy                           0.76     22097\n",
            "   macro avg       0.51      0.77      0.44     22097\n",
            "weighted avg       0.99      0.76      0.86     22097\n",
            "\n",
            "[[16656  5345]\n",
            " [   20    76]]\n"
          ]
        }
      ]
    },
    {
      "cell_type": "code",
      "source": [
        "# grid search positive class weights with xgboost for imbalance classification\n",
        "from numpy import mean\n",
        "from sklearn.datasets import make_classification\n",
        "from sklearn.model_selection import GridSearchCV\n",
        "from sklearn.model_selection import RepeatedStratifiedKFold\n",
        "from xgboost import XGBClassifier\n",
        "\n",
        "# define model\n",
        "model_temp = XGBClassifier()\n",
        "# define grid\n",
        "weights = [1, 10, 25, 50, 75, 100, 230, 250, 500, 750, 1000]\n",
        "param_grid = dict(scale_pos_weight=weights)\n",
        "# define evaluation procedure\n",
        "cv = RepeatedStratifiedKFold(n_splits=10, n_repeats=3, random_state=1)\n",
        "# define grid search\n",
        "grid = GridSearchCV(estimator=model_temp, param_grid=param_grid, n_jobs=-1, cv=cv, scoring='recall')\n",
        "# execute the grid search\n",
        "grid_result = grid.fit(X_train, y_train)\n",
        "# report the best configuration\n",
        "print(\"Best: %f using %s\" % (grid_result.best_score_, grid_result.best_params_))\n",
        "# report all configurations\n",
        "means = grid_result.cv_results_['mean_test_score']\n",
        "stds = grid_result.cv_results_['std_test_score']\n",
        "params = grid_result.cv_results_['params']\n",
        "for mean, stdev, param in zip(means, stds, params):\n",
        "    print(\"%f (%f) with: %r\" % (mean, stdev, param))"
      ],
      "metadata": {
        "colab": {
          "base_uri": "https://localhost:8080/"
        },
        "id": "fyZvOE0Mcvw3",
        "outputId": "faba7f2e-6d02-4016-e636-186c8e20ccae"
      },
      "execution_count": null,
      "outputs": [
        {
          "output_type": "stream",
          "name": "stdout",
          "text": [
            "Best: 0.827778 using {'scale_pos_weight': 1000}\n",
            "0.000000 (0.000000) with: {'scale_pos_weight': 1}\n",
            "0.009365 (0.023888) with: {'scale_pos_weight': 10}\n",
            "0.144762 (0.106214) with: {'scale_pos_weight': 25}\n",
            "0.405714 (0.113578) with: {'scale_pos_weight': 50}\n",
            "0.465556 (0.130043) with: {'scale_pos_weight': 75}\n",
            "0.542857 (0.144064) with: {'scale_pos_weight': 100}\n",
            "0.687143 (0.138162) with: {'scale_pos_weight': 230}\n",
            "0.713175 (0.121478) with: {'scale_pos_weight': 250}\n",
            "0.790317 (0.103648) with: {'scale_pos_weight': 500}\n",
            "0.806667 (0.093989) with: {'scale_pos_weight': 750}\n",
            "0.827778 (0.092329) with: {'scale_pos_weight': 1000}\n"
          ]
        }
      ]
    },
    {
      "cell_type": "markdown",
      "source": [
        "# Logistic Regression"
      ],
      "metadata": {
        "id": "F9UmHIQvf6YG"
      }
    },
    {
      "cell_type": "code",
      "source": [
        "# weighted logistic regression for class imbalance with heuristic weights\n",
        "from numpy import mean\n",
        "from sklearn.datasets import make_classification\n",
        "from sklearn.model_selection import cross_val_score\n",
        "from sklearn.model_selection import RepeatedStratifiedKFold\n",
        "from sklearn.linear_model import LogisticRegression\n",
        "# define model\n",
        "weights_assigned_lr={0:1,1:230}\n",
        "model_lr = LogisticRegression(solver='lbfgs', class_weight=weights_assigned_lr)\n",
        "# define evaluation procedure\n",
        "cv = RepeatedStratifiedKFold(n_splits=10, n_repeats=3, random_state=1)\n",
        "# evaluate model\n",
        "scores = cross_val_score(model_lr, X_train, y_train, scoring='roc_auc', cv=cv, n_jobs=-1)\n",
        "# summarize performance\n",
        "print('Mean ROC AUC: %.3f' % mean(scores))"
      ],
      "metadata": {
        "colab": {
          "base_uri": "https://localhost:8080/"
        },
        "id": "3Ks15oGSf9Oo",
        "outputId": "c6158857-1bad-41c0-81d1-b56bdb8f85f4"
      },
      "execution_count": 30,
      "outputs": [
        {
          "output_type": "stream",
          "name": "stdout",
          "text": [
            "Mean ROC AUC: 0.837\n"
          ]
        }
      ]
    },
    {
      "cell_type": "code",
      "source": [
        "# Fitting the classifier on training data\n",
        "model_lr.fit(X_train, y_train)\n",
        "\n",
        "# Making predictions on test data\n",
        "y_pred_lr = model_lr.predict(X_test)\n",
        "\n",
        "from sklearn.metrics import classification_report\n",
        "\n",
        "print(classification_report(y_test, y_pred_lr))\n",
        "\n",
        "from sklearn.metrics import confusion_matrix\n",
        "\n",
        "# Print the confusion matrix\n",
        "cm = confusion_matrix(y_test, y_pred_lr)\n",
        "print(cm)"
      ],
      "metadata": {
        "colab": {
          "base_uri": "https://localhost:8080/"
        },
        "id": "hJouARTIgCuz",
        "outputId": "8b5f5fff-659f-4747-d00b-b5987588d463"
      },
      "execution_count": 31,
      "outputs": [
        {
          "output_type": "stream",
          "name": "stdout",
          "text": [
            "              precision    recall  f1-score   support\n",
            "\n",
            "           0       1.00      0.74      0.85     22001\n",
            "           1       0.01      0.74      0.02        96\n",
            "\n",
            "    accuracy                           0.74     22097\n",
            "   macro avg       0.51      0.74      0.44     22097\n",
            "weighted avg       0.99      0.74      0.85     22097\n",
            "\n",
            "[[16355  5646]\n",
            " [   25    71]]\n"
          ]
        },
        {
          "output_type": "stream",
          "name": "stderr",
          "text": [
            "/usr/local/lib/python3.8/dist-packages/sklearn/linear_model/_logistic.py:814: ConvergenceWarning: lbfgs failed to converge (status=1):\n",
            "STOP: TOTAL NO. of ITERATIONS REACHED LIMIT.\n",
            "\n",
            "Increase the number of iterations (max_iter) or scale the data as shown in:\n",
            "    https://scikit-learn.org/stable/modules/preprocessing.html\n",
            "Please also refer to the documentation for alternative solver options:\n",
            "    https://scikit-learn.org/stable/modules/linear_model.html#logistic-regression\n",
            "  n_iter_i = _check_optimize_result(\n"
          ]
        }
      ]
    },
    {
      "cell_type": "code",
      "source": [
        "# grid search class weights with logistic regression for imbalance classification\n",
        "from numpy import mean\n",
        "from sklearn.datasets import make_classification\n",
        "from sklearn.model_selection import GridSearchCV\n",
        "from sklearn.model_selection import RepeatedStratifiedKFold\n",
        "from sklearn.linear_model import LogisticRegression\n",
        "# define model\n",
        "model_lr_gs = LogisticRegression(solver='lbfgs')\n",
        "# define grid\n",
        "balance = [{0:1,1:2}, {0:1,1:10}, {0:1,1:100}, {0:1,1:200}, {0:1,1:230}, {0:1,1:250}, {0:1,1:500}, {0:1,1:750}, {0:1,1:1000}]\n",
        "param_grid = dict(class_weight=balance)\n",
        "# define evaluation procedure\n",
        "cv = RepeatedStratifiedKFold(n_splits=10, n_repeats=3, random_state=1)\n",
        "# define grid search\n",
        "grid = GridSearchCV(estimator=model_lr_gs, param_grid=param_grid, n_jobs=-1, cv=cv, scoring='recall')\n",
        "# execute the grid search\n",
        "grid_result = grid.fit(X_train, y_train)\n",
        "# report the best configuration\n",
        "print(\"Best: %f using %s\" % (grid_result.best_score_, grid_result.best_params_))\n",
        "# report all configurations\n",
        "means = grid_result.cv_results_['mean_test_score']\n",
        "stds = grid_result.cv_results_['std_test_score']\n",
        "params = grid_result.cv_results_['params']\n",
        "for mean, stdev, param in zip(means, stds, params):\n",
        "    print(\"%f (%f) with: %r\" % (mean, stdev, param))"
      ],
      "metadata": {
        "colab": {
          "base_uri": "https://localhost:8080/"
        },
        "id": "M0TS56onggbS",
        "outputId": "4c12f9a3-ad3d-4355-c3ae-18be4f8043a8"
      },
      "execution_count": null,
      "outputs": [
        {
          "output_type": "stream",
          "name": "stdout",
          "text": [
            "Best: 0.927937 using {'class_weight': {0: 1, 1: 1000}}\n",
            "0.000000 (0.000000) with: {'class_weight': {0: 1, 1: 2}}\n",
            "0.011905 (0.026620) with: {'class_weight': {0: 1, 1: 10}}\n",
            "0.638413 (0.129438) with: {'class_weight': {0: 1, 1: 100}}\n",
            "0.750476 (0.117125) with: {'class_weight': {0: 1, 1: 200}}\n",
            "0.775873 (0.115842) with: {'class_weight': {0: 1, 1: 230}}\n",
            "0.791429 (0.115027) with: {'class_weight': {0: 1, 1: 250}}\n",
            "0.864127 (0.095228) with: {'class_weight': {0: 1, 1: 500}}\n",
            "0.911429 (0.067809) with: {'class_weight': {0: 1, 1: 750}}\n",
            "0.927937 (0.057967) with: {'class_weight': {0: 1, 1: 1000}}\n"
          ]
        },
        {
          "output_type": "stream",
          "name": "stderr",
          "text": [
            "/usr/local/lib/python3.8/dist-packages/sklearn/linear_model/_logistic.py:814: ConvergenceWarning: lbfgs failed to converge (status=1):\n",
            "STOP: TOTAL NO. of ITERATIONS REACHED LIMIT.\n",
            "\n",
            "Increase the number of iterations (max_iter) or scale the data as shown in:\n",
            "    https://scikit-learn.org/stable/modules/preprocessing.html\n",
            "Please also refer to the documentation for alternative solver options:\n",
            "    https://scikit-learn.org/stable/modules/linear_model.html#logistic-regression\n",
            "  n_iter_i = _check_optimize_result(\n"
          ]
        }
      ]
    },
    {
      "cell_type": "code",
      "source": [
        "# grid search class weights with logistic regression for imbalance classification\n",
        "from numpy import mean\n",
        "from sklearn.datasets import make_classification\n",
        "from sklearn.model_selection import GridSearchCV\n",
        "from sklearn.model_selection import RepeatedStratifiedKFold\n",
        "from sklearn.linear_model import LogisticRegression\n",
        "# define model\n",
        "model_lr_gs = LogisticRegression(solver='lbfgs')\n",
        "# define grid\n",
        "balance = [{0:1,1:2}, {0:1,1:10}, {0:1,1:100}, {0:1,1:200}, {0:1,1:230}, {0:1,1:250}, {0:1,1:500}, {0:1,1:750}, {0:1,1:1000}]\n",
        "param_grid = dict(class_weight=balance)\n",
        "# define evaluation procedure\n",
        "cv = RepeatedStratifiedKFold(n_splits=10, n_repeats=3, random_state=1)\n",
        "# define grid search\n",
        "grid = GridSearchCV(estimator=model_lr_gs, param_grid=param_grid, n_jobs=-1, cv=cv, scoring='roc_auc')\n",
        "# execute the grid search\n",
        "grid_result = grid.fit(X_train, y_train)\n",
        "# report the best configuration\n",
        "print(\"Best: %f using %s\" % (grid_result.best_score_, grid_result.best_params_))\n",
        "# report all configurations\n",
        "means = grid_result.cv_results_['mean_test_score']\n",
        "stds = grid_result.cv_results_['std_test_score']\n",
        "params = grid_result.cv_results_['params']\n",
        "for mean, stdev, param in zip(means, stds, params):\n",
        "    print(\"%f (%f) with: %r\" % (mean, stdev, param))"
      ],
      "metadata": {
        "colab": {
          "base_uri": "https://localhost:8080/"
        },
        "id": "zfCKHzU_iQOM",
        "outputId": "86887d72-b8ee-4f4c-aed2-5a9ac5bd9c3d"
      },
      "execution_count": null,
      "outputs": [
        {
          "output_type": "stream",
          "name": "stdout",
          "text": [
            "Best: 0.836852 using {'class_weight': {0: 1, 1: 230}}\n",
            "0.828657 (0.059543) with: {'class_weight': {0: 1, 1: 2}}\n",
            "0.832004 (0.058225) with: {'class_weight': {0: 1, 1: 10}}\n",
            "0.835330 (0.055008) with: {'class_weight': {0: 1, 1: 100}}\n",
            "0.835868 (0.051855) with: {'class_weight': {0: 1, 1: 200}}\n",
            "0.836852 (0.051562) with: {'class_weight': {0: 1, 1: 230}}\n",
            "0.834642 (0.051406) with: {'class_weight': {0: 1, 1: 250}}\n",
            "0.836213 (0.047974) with: {'class_weight': {0: 1, 1: 500}}\n",
            "0.831653 (0.048348) with: {'class_weight': {0: 1, 1: 750}}\n",
            "0.827474 (0.047409) with: {'class_weight': {0: 1, 1: 1000}}\n"
          ]
        },
        {
          "output_type": "stream",
          "name": "stderr",
          "text": [
            "/usr/local/lib/python3.8/dist-packages/sklearn/linear_model/_logistic.py:814: ConvergenceWarning: lbfgs failed to converge (status=1):\n",
            "STOP: TOTAL NO. of ITERATIONS REACHED LIMIT.\n",
            "\n",
            "Increase the number of iterations (max_iter) or scale the data as shown in:\n",
            "    https://scikit-learn.org/stable/modules/preprocessing.html\n",
            "Please also refer to the documentation for alternative solver options:\n",
            "    https://scikit-learn.org/stable/modules/linear_model.html#logistic-regression\n",
            "  n_iter_i = _check_optimize_result(\n"
          ]
        }
      ]
    },
    {
      "cell_type": "markdown",
      "source": [
        "# Ensemble with LR and XGboost"
      ],
      "metadata": {
        "id": "aSzzkMktlI7r"
      }
    },
    {
      "cell_type": "code",
      "source": [
        "from sklearn.ensemble import VotingClassifier\n",
        "from xgboost import XGBClassifier\n",
        "from sklearn.ensemble import RandomForestClassifier\n",
        "\n",
        "# Define the ensemble model\n",
        "ensemble = VotingClassifier(estimators=[('xgb', xgb), ('lr', model_lr)], voting='soft')\n",
        "\n",
        "# Fit the ensemble model on the training data\n",
        "ensemble.fit(X_train, y_train)\n",
        "\n",
        "# Making predictions on test data\n",
        "y_pred_ensemble = ensemble.predict(X_test)\n",
        "\n",
        "from sklearn.metrics import classification_report\n",
        "\n",
        "print(classification_report(y_test, y_pred_ensemble))\n",
        "\n",
        "from sklearn.metrics import confusion_matrix\n",
        "\n",
        "# Print the confusion matrix\n",
        "cm = confusion_matrix(y_test, y_pred_ensemble)\n",
        "print(cm)"
      ],
      "metadata": {
        "colab": {
          "base_uri": "https://localhost:8080/"
        },
        "id": "kFC57SQ_lHxf",
        "outputId": "102e4ddb-3437-4a93-9523-ebd3b23b7068"
      },
      "execution_count": null,
      "outputs": [
        {
          "output_type": "stream",
          "name": "stdout",
          "text": [
            "              precision    recall  f1-score   support\n",
            "\n",
            "           0       1.00      0.79      0.88     22001\n",
            "           1       0.02      0.76      0.03        96\n",
            "\n",
            "    accuracy                           0.79     22097\n",
            "   macro avg       0.51      0.77      0.46     22097\n",
            "weighted avg       0.99      0.79      0.88     22097\n",
            "\n",
            "[[17328  4673]\n",
            " [   23    73]]\n"
          ]
        },
        {
          "output_type": "stream",
          "name": "stderr",
          "text": [
            "/usr/local/lib/python3.8/dist-packages/sklearn/linear_model/_logistic.py:814: ConvergenceWarning: lbfgs failed to converge (status=1):\n",
            "STOP: TOTAL NO. of ITERATIONS REACHED LIMIT.\n",
            "\n",
            "Increase the number of iterations (max_iter) or scale the data as shown in:\n",
            "    https://scikit-learn.org/stable/modules/preprocessing.html\n",
            "Please also refer to the documentation for alternative solver options:\n",
            "    https://scikit-learn.org/stable/modules/linear_model.html#logistic-regression\n",
            "  n_iter_i = _check_optimize_result(\n"
          ]
        }
      ]
    },
    {
      "cell_type": "markdown",
      "source": [
        "# Stacking base models - cost ANN, LR ; meta model - XGBoost"
      ],
      "metadata": {
        "id": "6P--HzJX4cNY"
      }
    },
    {
      "cell_type": "markdown",
      "source": [
        "#### Prepare the dataset for the meta model"
      ],
      "metadata": {
        "id": "zcd0N_w5dOso"
      }
    },
    {
      "cell_type": "markdown",
      "source": [
        "First we find the predicted values for X_train and X_test of the base models Cost sensitive ANN and LR. After that, we add them as atttributes to the X_train and X_test datasets which will then be used to train the meta model XGBoost"
      ],
      "metadata": {
        "id": "IYxIgWXfdV_4"
      }
    },
    {
      "cell_type": "code",
      "source": [
        "y_pred_ann_stacking=model.predict(X_train)\n",
        "y_pred_ann_stacking_rounded = np.where(y_pred_ann_stacking > optimal_threshold, 1, 0)\n",
        "\n",
        "y_pred_lr_stacking = model_lr.predict(X_train)"
      ],
      "metadata": {
        "colab": {
          "base_uri": "https://localhost:8080/"
        },
        "id": "hkMDMhYP4eER",
        "outputId": "d37fa1c7-fe20-441d-f474-7d9c9f193f46"
      },
      "execution_count": 35,
      "outputs": [
        {
          "output_type": "stream",
          "name": "stdout",
          "text": [
            "1036/1036 [==============================] - 1s 1ms/step\n"
          ]
        }
      ]
    },
    {
      "cell_type": "code",
      "source": [
        "print(y_pred_ann_stacking_rounded)\n",
        "import numpy as np\n",
        "\n",
        "y_pred_ann_stacking_rounded = y_pred_ann_stacking_rounded.flatten()\n",
        "print(y_pred_ann_stacking_rounded)\n",
        "\n",
        "print(y_pred_lr_stacking)"
      ],
      "metadata": {
        "colab": {
          "base_uri": "https://localhost:8080/"
        },
        "id": "F7r87vKtTc_2",
        "outputId": "0096f3d7-24fc-414c-fdf0-51f0915dd7b2"
      },
      "execution_count": 36,
      "outputs": [
        {
          "output_type": "stream",
          "name": "stdout",
          "text": [
            "[[1]\n",
            " [1]\n",
            " [1]\n",
            " ...\n",
            " [0]\n",
            " [0]\n",
            " [0]]\n",
            "[1 1 1 ... 0 0 0]\n",
            "[1 1 1 ... 0 0 0]\n"
          ]
        }
      ]
    },
    {
      "cell_type": "code",
      "source": [
        "X_train_stacking = X_train.copy()\n",
        "\n",
        "X_train_stacking['ann_train'] = y_pred_ann_stacking_rounded.tolist()\n",
        "X_train_stacking['lr_train'] = y_pred_lr_stacking.tolist()\n",
        "\n",
        "print(X_train_stacking)"
      ],
      "metadata": {
        "colab": {
          "base_uri": "https://localhost:8080/"
        },
        "id": "J1QkJ1OFT5OM",
        "outputId": "21e1a514-10bd-4f05-e32e-725d7fa6d42a"
      },
      "execution_count": 40,
      "outputs": [
        {
          "output_type": "stream",
          "name": "stdout",
          "text": [
            "        gap_hours  spherical_distances  eez_check     speed  \\\n",
            "33867  461.750000           308.923179          1  0.669027   \n",
            "10276   13.716667             2.480992          0  0.180874   \n",
            "30490   98.700000           783.791911          0  7.941154   \n",
            "24216   12.850000            28.226168          0  2.196589   \n",
            "39910   12.983333            58.975136          1  4.542372   \n",
            "...           ...                  ...        ...       ...   \n",
            "32089  489.183333           708.782853          1  1.448910   \n",
            "48562   13.133333            43.714577          0  3.328521   \n",
            "20299   12.616667            60.341627          0  4.782692   \n",
            "21047   16.100000            59.259190          0  3.680695   \n",
            "51550   23.033333           123.774836          0  5.373727   \n",
            "\n",
            "       gear type_dredge_fishing  gear type_drifting_longlines  \\\n",
            "33867                         0                             0   \n",
            "10276                         0                             0   \n",
            "30490                         0                             0   \n",
            "24216                         0                             0   \n",
            "39910                         0                             1   \n",
            "...                         ...                           ...   \n",
            "32089                         0                             0   \n",
            "48562                         0                             1   \n",
            "20299                         0                             0   \n",
            "21047                         0                             0   \n",
            "51550                         0                             1   \n",
            "\n",
            "       gear type_fishing  gear type_fixed_gear  gear type_other  \\\n",
            "33867                  0                     0                0   \n",
            "10276                  0                     0                0   \n",
            "30490                  0                     0                0   \n",
            "24216                  0                     0                0   \n",
            "39910                  0                     0                0   \n",
            "...                  ...                   ...              ...   \n",
            "32089                  0                     0                0   \n",
            "48562                  0                     0                0   \n",
            "20299                  0                     0                0   \n",
            "21047                  0                     0                0   \n",
            "51550                  0                     0                0   \n",
            "\n",
            "       gear type_other_purse_seines  ...  \\\n",
            "33867                             0  ...   \n",
            "10276                             0  ...   \n",
            "30490                             0  ...   \n",
            "24216                             0  ...   \n",
            "39910                             0  ...   \n",
            "...                             ...  ...   \n",
            "32089                             0  ...   \n",
            "48562                             0  ...   \n",
            "20299                             0  ...   \n",
            "21047                             0  ...   \n",
            "51550                             0  ...   \n",
            "\n",
            "       exact _name new from diff Oceans_Tasman Sea  \\\n",
            "33867                                            0   \n",
            "10276                                            0   \n",
            "30490                                            0   \n",
            "24216                                            0   \n",
            "39910                                            0   \n",
            "...                                            ...   \n",
            "32089                                            0   \n",
            "48562                                            0   \n",
            "20299                                            0   \n",
            "21047                                            0   \n",
            "51550                                            0   \n",
            "\n",
            "       exact _name new from diff Oceans_Timor Sea  \\\n",
            "33867                                           0   \n",
            "10276                                           0   \n",
            "30490                                           0   \n",
            "24216                                           0   \n",
            "39910                                           0   \n",
            "...                                           ...   \n",
            "32089                                           0   \n",
            "48562                                           0   \n",
            "20299                                           0   \n",
            "21047                                           0   \n",
            "51550                                           0   \n",
            "\n",
            "       ais_disable_time_division_Afternoon  ais_disable_time_division_Dawn  \\\n",
            "33867                                    1                               0   \n",
            "10276                                    0                               1   \n",
            "30490                                    0                               0   \n",
            "24216                                    0                               1   \n",
            "39910                                    1                               0   \n",
            "...                                    ...                             ...   \n",
            "32089                                    0                               1   \n",
            "48562                                    0                               0   \n",
            "20299                                    1                               0   \n",
            "21047                                    0                               0   \n",
            "51550                                    0                               1   \n",
            "\n",
            "       ais_disable_time_division_Evening  ais_disable_time_division_Morning  \\\n",
            "33867                                  0                                  0   \n",
            "10276                                  0                                  0   \n",
            "30490                                  0                                  1   \n",
            "24216                                  0                                  0   \n",
            "39910                                  0                                  0   \n",
            "...                                  ...                                ...   \n",
            "32089                                  0                                  0   \n",
            "48562                                  0                                  1   \n",
            "20299                                  0                                  0   \n",
            "21047                                  0                                  0   \n",
            "51550                                  0                                  0   \n",
            "\n",
            "       ais_disable_time_division_Night  ais_disable_time_division_Twilight  \\\n",
            "33867                                0                                   0   \n",
            "10276                                0                                   0   \n",
            "30490                                0                                   0   \n",
            "24216                                0                                   0   \n",
            "39910                                0                                   0   \n",
            "...                                ...                                 ...   \n",
            "32089                                0                                   0   \n",
            "48562                                0                                   0   \n",
            "20299                                0                                   0   \n",
            "21047                                0                                   1   \n",
            "51550                                0                                   0   \n",
            "\n",
            "       ann_train  lr_train  \n",
            "33867          1         1  \n",
            "10276          1         1  \n",
            "30490          1         1  \n",
            "24216          0         0  \n",
            "39910          0         0  \n",
            "...          ...       ...  \n",
            "32089          1         0  \n",
            "48562          0         0  \n",
            "20299          0         0  \n",
            "21047          0         0  \n",
            "51550          0         0  \n",
            "\n",
            "[33144 rows x 65 columns]\n"
          ]
        }
      ]
    },
    {
      "cell_type": "code",
      "source": [
        "y_pred_ann_stacking_test=model.predict(X_test)\n",
        "y_pred_ann_stacking_rounded_test = np.where(y_pred_ann_stacking_test > optimal_threshold, 1, 0)\n",
        "\n",
        "y_pred_lr_stacking_test = model_lr.predict(X_test)\n",
        "\n",
        "print(y_pred_ann_stacking_rounded_test)\n",
        "import numpy as np\n",
        "\n",
        "y_pred_ann_stacking_rounded_test = y_pred_ann_stacking_rounded_test.flatten()\n",
        "print(y_pred_ann_stacking_rounded_test)\n",
        "\n",
        "print(y_pred_lr_stacking_test)\n",
        "\n",
        "X_test_stacking = X_test.copy()\n",
        "\n",
        "X_test_stacking['ann_train'] = y_pred_ann_stacking_rounded_test.tolist()\n",
        "X_test_stacking['lr_train'] = y_pred_lr_stacking_test.tolist()\n",
        "\n",
        "print(X_test_stacking)"
      ],
      "metadata": {
        "colab": {
          "base_uri": "https://localhost:8080/"
        },
        "id": "6gyzY65AV9Gq",
        "outputId": "0fcb2c73-8d2d-498b-fad3-912a1dd80b44"
      },
      "execution_count": 43,
      "outputs": [
        {
          "output_type": "stream",
          "name": "stdout",
          "text": [
            "691/691 [==============================] - 1s 2ms/step\n",
            "[[0]\n",
            " [1]\n",
            " [0]\n",
            " ...\n",
            " [0]\n",
            " [1]\n",
            " [0]]\n",
            "[0 1 0 ... 0 1 0]\n",
            "[1 1 0 ... 0 1 0]\n",
            "         gap_hours  spherical_distances  eez_check      speed  \\\n",
            "33203   203.266667           509.004605          1   2.504122   \n",
            "35764  1316.066667          2494.276343          0   1.895251   \n",
            "15886    21.433333           135.912913          0   6.341193   \n",
            "32832    49.850000           649.387351          1  13.026828   \n",
            "51070    21.400000            55.797219          0   2.607347   \n",
            "...            ...                  ...        ...        ...   \n",
            "54470    13.283333             6.685679          0   0.503313   \n",
            "47139    12.850000            16.522841          0   1.285824   \n",
            "45884    67.566667           381.437143          0   5.645345   \n",
            "31057   498.350000          1500.626299          1   3.011190   \n",
            "18760    43.266667           499.088933          0  11.535183   \n",
            "\n",
            "       gear type_dredge_fishing  gear type_drifting_longlines  \\\n",
            "33203                         0                             0   \n",
            "35764                         0                             0   \n",
            "15886                         0                             0   \n",
            "32832                         0                             0   \n",
            "51070                         0                             1   \n",
            "...                         ...                           ...   \n",
            "54470                         0                             1   \n",
            "47139                         0                             1   \n",
            "45884                         0                             1   \n",
            "31057                         0                             0   \n",
            "18760                         0                             0   \n",
            "\n",
            "       gear type_fishing  gear type_fixed_gear  gear type_other  \\\n",
            "33203                  0                     0                0   \n",
            "35764                  0                     0                0   \n",
            "15886                  0                     0                0   \n",
            "32832                  0                     0                0   \n",
            "51070                  0                     0                0   \n",
            "...                  ...                   ...              ...   \n",
            "54470                  0                     0                0   \n",
            "47139                  0                     0                0   \n",
            "45884                  0                     0                0   \n",
            "31057                  0                     0                0   \n",
            "18760                  0                     0                0   \n",
            "\n",
            "       gear type_other_purse_seines  ...  \\\n",
            "33203                             0  ...   \n",
            "35764                             0  ...   \n",
            "15886                             0  ...   \n",
            "32832                             0  ...   \n",
            "51070                             0  ...   \n",
            "...                             ...  ...   \n",
            "54470                             0  ...   \n",
            "47139                             0  ...   \n",
            "45884                             0  ...   \n",
            "31057                             0  ...   \n",
            "18760                             0  ...   \n",
            "\n",
            "       exact _name new from diff Oceans_Tasman Sea  \\\n",
            "33203                                            0   \n",
            "35764                                            0   \n",
            "15886                                            0   \n",
            "32832                                            0   \n",
            "51070                                            0   \n",
            "...                                            ...   \n",
            "54470                                            0   \n",
            "47139                                            0   \n",
            "45884                                            0   \n",
            "31057                                            0   \n",
            "18760                                            0   \n",
            "\n",
            "       exact _name new from diff Oceans_Timor Sea  \\\n",
            "33203                                           0   \n",
            "35764                                           0   \n",
            "15886                                           0   \n",
            "32832                                           0   \n",
            "51070                                           0   \n",
            "...                                           ...   \n",
            "54470                                           0   \n",
            "47139                                           0   \n",
            "45884                                           0   \n",
            "31057                                           0   \n",
            "18760                                           0   \n",
            "\n",
            "       ais_disable_time_division_Afternoon  ais_disable_time_division_Dawn  \\\n",
            "33203                                    0                               0   \n",
            "35764                                    0                               0   \n",
            "15886                                    0                               1   \n",
            "32832                                    0                               0   \n",
            "51070                                    0                               0   \n",
            "...                                    ...                             ...   \n",
            "54470                                    0                               0   \n",
            "47139                                    0                               0   \n",
            "45884                                    0                               0   \n",
            "31057                                    1                               0   \n",
            "18760                                    0                               1   \n",
            "\n",
            "       ais_disable_time_division_Evening  ais_disable_time_division_Morning  \\\n",
            "33203                                  0                                  0   \n",
            "35764                                  1                                  0   \n",
            "15886                                  0                                  0   \n",
            "32832                                  0                                  0   \n",
            "51070                                  0                                  1   \n",
            "...                                  ...                                ...   \n",
            "54470                                  0                                  0   \n",
            "47139                                  0                                  0   \n",
            "45884                                  0                                  0   \n",
            "31057                                  0                                  0   \n",
            "18760                                  0                                  0   \n",
            "\n",
            "       ais_disable_time_division_Night  ais_disable_time_division_Twilight  \\\n",
            "33203                                0                                   1   \n",
            "35764                                0                                   0   \n",
            "15886                                0                                   0   \n",
            "32832                                1                                   0   \n",
            "51070                                0                                   0   \n",
            "...                                ...                                 ...   \n",
            "54470                                1                                   0   \n",
            "47139                                0                                   1   \n",
            "45884                                0                                   1   \n",
            "31057                                0                                   0   \n",
            "18760                                0                                   0   \n",
            "\n",
            "       ann_train  lr_train  \n",
            "33203          0         1  \n",
            "35764          1         1  \n",
            "15886          0         0  \n",
            "32832          0         0  \n",
            "51070          0         1  \n",
            "...          ...       ...  \n",
            "54470          0         0  \n",
            "47139          0         0  \n",
            "45884          0         0  \n",
            "31057          1         1  \n",
            "18760          0         0  \n",
            "\n",
            "[22097 rows x 65 columns]\n"
          ]
        }
      ]
    },
    {
      "cell_type": "markdown",
      "source": [
        "#### Train the meta model"
      ],
      "metadata": {
        "id": "HiQInmURduNY"
      }
    },
    {
      "cell_type": "code",
      "source": [
        "# fit balanced xgboost on an imbalanced classification dataset\n",
        "from numpy import mean\n",
        "from sklearn.datasets import make_classification\n",
        "from sklearn.model_selection import cross_val_score\n",
        "from sklearn.model_selection import RepeatedStratifiedKFold\n",
        "from xgboost import XGBClassifier\n",
        "# define model\n",
        "xgb_stacking = XGBClassifier(scale_pos_weight=1000)\n",
        "# define evaluation procedure\n",
        "cv_stacking = RepeatedStratifiedKFold(n_splits=10, n_repeats=3, random_state=1)\n",
        "# evaluate model\n",
        "scores_stacking = cross_val_score(xgb_stacking, X_train_stacking, y_train, scoring='roc_auc', cv=cv_stacking, n_jobs=-1)\n",
        "# summarize performance\n",
        "print('Mean ROC AUC: %.5f' % mean(scores_stacking))"
      ],
      "metadata": {
        "colab": {
          "base_uri": "https://localhost:8080/"
        },
        "id": "TAVs_CZXU1jj",
        "outputId": "a8f6567b-cc3e-4d5c-d53d-3dc7788d1380"
      },
      "execution_count": 41,
      "outputs": [
        {
          "output_type": "stream",
          "name": "stdout",
          "text": [
            "Mean ROC AUC: 0.86728\n"
          ]
        }
      ]
    },
    {
      "cell_type": "code",
      "source": [
        "# Fitting the classifier on training data\n",
        "xgb_stacking.fit(X_train_stacking, y_train)\n",
        "\n",
        "# Making predictions on test data\n",
        "y_pred_xgb_stacking = xgb_stacking.predict(X_test_stacking)\n",
        "\n",
        "from sklearn.metrics import classification_report\n",
        "\n",
        "print(classification_report(y_test, y_pred_xgb_stacking))\n",
        "\n",
        "from sklearn.metrics import confusion_matrix\n",
        "\n",
        "# Print the confusion matrix\n",
        "cm = confusion_matrix(y_test, y_pred_xgb_stacking)\n",
        "print(cm)"
      ],
      "metadata": {
        "colab": {
          "base_uri": "https://localhost:8080/"
        },
        "id": "_WJuKZPUU41e",
        "outputId": "8377e95d-3560-4535-f371-70bd7eeec223"
      },
      "execution_count": 45,
      "outputs": [
        {
          "output_type": "stream",
          "name": "stdout",
          "text": [
            "              precision    recall  f1-score   support\n",
            "\n",
            "           0       1.00      0.78      0.88     22001\n",
            "           1       0.01      0.71      0.03        96\n",
            "\n",
            "    accuracy                           0.78     22097\n",
            "   macro avg       0.51      0.74      0.45     22097\n",
            "weighted avg       0.99      0.78      0.87     22097\n",
            "\n",
            "[[17156  4845]\n",
            " [   28    68]]\n"
          ]
        }
      ]
    },
    {
      "cell_type": "markdown",
      "source": [
        "# Random Forest very bad"
      ],
      "metadata": {
        "id": "_z59aOcTAEhK"
      }
    },
    {
      "cell_type": "code",
      "source": [
        "from sklearn.ensemble import RandomForestClassifier\n",
        "from sklearn.datasets import make_classification\n",
        "from sklearn.model_selection import train_test_split\n",
        "\n",
        "weights_assigned1={0:1,1:2}\n",
        "# Initializing Random Forest classifier with class weights\n",
        "clf = RandomForestClassifier(class_weight='balanced')\n",
        "\n",
        "# Fitting the classifier on training data\n",
        "clf.fit(X_train, y_train)\n",
        "\n",
        "# Making predictions on test data\n",
        "y_pred_clf = clf.predict(X_test)\n",
        "\n",
        "from sklearn.metrics import classification_report\n",
        "\n",
        "print(classification_report(y_test, y_pred_clf))\n",
        "\n",
        "from sklearn.metrics import confusion_matrix\n",
        "\n",
        "# Print the confusion matrix\n",
        "cm = confusion_matrix(y_test, y_pred_clf)\n",
        "print(cm)\n"
      ],
      "metadata": {
        "colab": {
          "base_uri": "https://localhost:8080/"
        },
        "id": "I_Ig7hCRC_ez",
        "outputId": "2c32bca9-73c9-4bfe-b8c1-f996ffce8d9a"
      },
      "execution_count": null,
      "outputs": [
        {
          "output_type": "stream",
          "name": "stdout",
          "text": [
            "              precision    recall  f1-score   support\n",
            "\n",
            "           0       1.00      1.00      1.00     22001\n",
            "           1       0.00      0.00      0.00        96\n",
            "\n",
            "    accuracy                           1.00     22097\n",
            "   macro avg       0.50      0.50      0.50     22097\n",
            "weighted avg       0.99      1.00      0.99     22097\n",
            "\n",
            "[[21998     3]\n",
            " [   96     0]]\n"
          ]
        }
      ]
    },
    {
      "cell_type": "markdown",
      "source": [
        "# Weighted SVM very bad"
      ],
      "metadata": {
        "id": "6pbIG57lOYmm"
      }
    },
    {
      "cell_type": "code",
      "source": [
        "# svm with class weight on an imbalanced classification dataset\n",
        "from numpy import mean\n",
        "from sklearn.datasets import make_classification\n",
        "from sklearn.model_selection import cross_val_score\n",
        "from sklearn.model_selection import RepeatedStratifiedKFold\n",
        "from sklearn.svm import SVC\n",
        "# define model\n",
        "model_svm = SVC(gamma='scale', class_weight='balanced')\n",
        "# define evaluation procedure\n",
        "cv = RepeatedStratifiedKFold(n_splits=10, n_repeats=3, random_state=1)\n",
        "# evaluate model\n",
        "scores = cross_val_score(model_svm, X_train, y_train, scoring='roc_auc', cv=cv, n_jobs=-1)\n",
        "# summarize performance\n",
        "print('Mean ROC AUC: %.3f' % mean(scores))"
      ],
      "metadata": {
        "colab": {
          "base_uri": "https://localhost:8080/",
          "height": 381
        },
        "id": "oknnNcb_ObG1",
        "outputId": "3c0013ce-500c-41c8-e62d-e14d2afced59"
      },
      "execution_count": null,
      "outputs": [
        {
          "output_type": "error",
          "ename": "KeyboardInterrupt",
          "evalue": "ignored",
          "traceback": [
            "\u001b[0;31m---------------------------------------------------------------------------\u001b[0m",
            "\u001b[0;31mKeyboardInterrupt\u001b[0m                         Traceback (most recent call last)",
            "\u001b[0;32m<ipython-input-35-785811abb30e>\u001b[0m in \u001b[0;36m<module>\u001b[0;34m\u001b[0m\n\u001b[1;32m     10\u001b[0m \u001b[0mcv\u001b[0m \u001b[0;34m=\u001b[0m \u001b[0mRepeatedStratifiedKFold\u001b[0m\u001b[0;34m(\u001b[0m\u001b[0mn_splits\u001b[0m\u001b[0;34m=\u001b[0m\u001b[0;36m10\u001b[0m\u001b[0;34m,\u001b[0m \u001b[0mn_repeats\u001b[0m\u001b[0;34m=\u001b[0m\u001b[0;36m3\u001b[0m\u001b[0;34m,\u001b[0m \u001b[0mrandom_state\u001b[0m\u001b[0;34m=\u001b[0m\u001b[0;36m1\u001b[0m\u001b[0;34m)\u001b[0m\u001b[0;34m\u001b[0m\u001b[0;34m\u001b[0m\u001b[0m\n\u001b[1;32m     11\u001b[0m \u001b[0;31m# evaluate model\u001b[0m\u001b[0;34m\u001b[0m\u001b[0;34m\u001b[0m\u001b[0;34m\u001b[0m\u001b[0m\n\u001b[0;32m---> 12\u001b[0;31m \u001b[0mscores\u001b[0m \u001b[0;34m=\u001b[0m \u001b[0mcross_val_score\u001b[0m\u001b[0;34m(\u001b[0m\u001b[0mmodel_svm\u001b[0m\u001b[0;34m,\u001b[0m \u001b[0mX_train\u001b[0m\u001b[0;34m,\u001b[0m \u001b[0my_train\u001b[0m\u001b[0;34m,\u001b[0m \u001b[0mscoring\u001b[0m\u001b[0;34m=\u001b[0m\u001b[0;34m'roc_auc'\u001b[0m\u001b[0;34m,\u001b[0m \u001b[0mcv\u001b[0m\u001b[0;34m=\u001b[0m\u001b[0mcv\u001b[0m\u001b[0;34m,\u001b[0m \u001b[0mn_jobs\u001b[0m\u001b[0;34m=\u001b[0m\u001b[0;34m-\u001b[0m\u001b[0;36m1\u001b[0m\u001b[0;34m)\u001b[0m\u001b[0;34m\u001b[0m\u001b[0;34m\u001b[0m\u001b[0m\n\u001b[0m\u001b[1;32m     13\u001b[0m \u001b[0;31m# summarize performance\u001b[0m\u001b[0;34m\u001b[0m\u001b[0;34m\u001b[0m\u001b[0;34m\u001b[0m\u001b[0m\n\u001b[1;32m     14\u001b[0m \u001b[0mprint\u001b[0m\u001b[0;34m(\u001b[0m\u001b[0;34m'Mean ROC AUC: %.3f'\u001b[0m \u001b[0;34m%\u001b[0m \u001b[0mmean\u001b[0m\u001b[0;34m(\u001b[0m\u001b[0mscores\u001b[0m\u001b[0;34m)\u001b[0m\u001b[0;34m)\u001b[0m\u001b[0;34m\u001b[0m\u001b[0;34m\u001b[0m\u001b[0m\n",
            "\u001b[0;32m/usr/local/lib/python3.8/dist-packages/sklearn/model_selection/_validation.py\u001b[0m in \u001b[0;36mcross_val_score\u001b[0;34m(estimator, X, y, groups, scoring, cv, n_jobs, verbose, fit_params, pre_dispatch, error_score)\u001b[0m\n\u001b[1;32m    507\u001b[0m     \u001b[0mscorer\u001b[0m \u001b[0;34m=\u001b[0m \u001b[0mcheck_scoring\u001b[0m\u001b[0;34m(\u001b[0m\u001b[0mestimator\u001b[0m\u001b[0;34m,\u001b[0m \u001b[0mscoring\u001b[0m\u001b[0;34m=\u001b[0m\u001b[0mscoring\u001b[0m\u001b[0;34m)\u001b[0m\u001b[0;34m\u001b[0m\u001b[0;34m\u001b[0m\u001b[0m\n\u001b[1;32m    508\u001b[0m \u001b[0;34m\u001b[0m\u001b[0m\n\u001b[0;32m--> 509\u001b[0;31m     cv_results = cross_validate(\n\u001b[0m\u001b[1;32m    510\u001b[0m         \u001b[0mestimator\u001b[0m\u001b[0;34m=\u001b[0m\u001b[0mestimator\u001b[0m\u001b[0;34m,\u001b[0m\u001b[0;34m\u001b[0m\u001b[0;34m\u001b[0m\u001b[0m\n\u001b[1;32m    511\u001b[0m         \u001b[0mX\u001b[0m\u001b[0;34m=\u001b[0m\u001b[0mX\u001b[0m\u001b[0;34m,\u001b[0m\u001b[0;34m\u001b[0m\u001b[0;34m\u001b[0m\u001b[0m\n",
            "\u001b[0;32m/usr/local/lib/python3.8/dist-packages/sklearn/model_selection/_validation.py\u001b[0m in \u001b[0;36mcross_validate\u001b[0;34m(estimator, X, y, groups, scoring, cv, n_jobs, verbose, fit_params, pre_dispatch, return_train_score, return_estimator, error_score)\u001b[0m\n\u001b[1;32m    265\u001b[0m     \u001b[0;31m# independent, and that it is pickle-able.\u001b[0m\u001b[0;34m\u001b[0m\u001b[0;34m\u001b[0m\u001b[0;34m\u001b[0m\u001b[0m\n\u001b[1;32m    266\u001b[0m     \u001b[0mparallel\u001b[0m \u001b[0;34m=\u001b[0m \u001b[0mParallel\u001b[0m\u001b[0;34m(\u001b[0m\u001b[0mn_jobs\u001b[0m\u001b[0;34m=\u001b[0m\u001b[0mn_jobs\u001b[0m\u001b[0;34m,\u001b[0m \u001b[0mverbose\u001b[0m\u001b[0;34m=\u001b[0m\u001b[0mverbose\u001b[0m\u001b[0;34m,\u001b[0m \u001b[0mpre_dispatch\u001b[0m\u001b[0;34m=\u001b[0m\u001b[0mpre_dispatch\u001b[0m\u001b[0;34m)\u001b[0m\u001b[0;34m\u001b[0m\u001b[0;34m\u001b[0m\u001b[0m\n\u001b[0;32m--> 267\u001b[0;31m     results = parallel(\n\u001b[0m\u001b[1;32m    268\u001b[0m         delayed(_fit_and_score)(\n\u001b[1;32m    269\u001b[0m             \u001b[0mclone\u001b[0m\u001b[0;34m(\u001b[0m\u001b[0mestimator\u001b[0m\u001b[0;34m)\u001b[0m\u001b[0;34m,\u001b[0m\u001b[0;34m\u001b[0m\u001b[0;34m\u001b[0m\u001b[0m\n",
            "\u001b[0;32m/usr/local/lib/python3.8/dist-packages/joblib/parallel.py\u001b[0m in \u001b[0;36m__call__\u001b[0;34m(self, iterable)\u001b[0m\n\u001b[1;32m   1096\u001b[0m \u001b[0;34m\u001b[0m\u001b[0m\n\u001b[1;32m   1097\u001b[0m             \u001b[0;32mwith\u001b[0m \u001b[0mself\u001b[0m\u001b[0;34m.\u001b[0m\u001b[0m_backend\u001b[0m\u001b[0;34m.\u001b[0m\u001b[0mretrieval_context\u001b[0m\u001b[0;34m(\u001b[0m\u001b[0;34m)\u001b[0m\u001b[0;34m:\u001b[0m\u001b[0;34m\u001b[0m\u001b[0;34m\u001b[0m\u001b[0m\n\u001b[0;32m-> 1098\u001b[0;31m                 \u001b[0mself\u001b[0m\u001b[0;34m.\u001b[0m\u001b[0mretrieve\u001b[0m\u001b[0;34m(\u001b[0m\u001b[0;34m)\u001b[0m\u001b[0;34m\u001b[0m\u001b[0;34m\u001b[0m\u001b[0m\n\u001b[0m\u001b[1;32m   1099\u001b[0m             \u001b[0;31m# Make sure that we get a last message telling us we are done\u001b[0m\u001b[0;34m\u001b[0m\u001b[0;34m\u001b[0m\u001b[0;34m\u001b[0m\u001b[0m\n\u001b[1;32m   1100\u001b[0m             \u001b[0melapsed_time\u001b[0m \u001b[0;34m=\u001b[0m \u001b[0mtime\u001b[0m\u001b[0;34m.\u001b[0m\u001b[0mtime\u001b[0m\u001b[0;34m(\u001b[0m\u001b[0;34m)\u001b[0m \u001b[0;34m-\u001b[0m \u001b[0mself\u001b[0m\u001b[0;34m.\u001b[0m\u001b[0m_start_time\u001b[0m\u001b[0;34m\u001b[0m\u001b[0;34m\u001b[0m\u001b[0m\n",
            "\u001b[0;32m/usr/local/lib/python3.8/dist-packages/joblib/parallel.py\u001b[0m in \u001b[0;36mretrieve\u001b[0;34m(self)\u001b[0m\n\u001b[1;32m    973\u001b[0m             \u001b[0;32mtry\u001b[0m\u001b[0;34m:\u001b[0m\u001b[0;34m\u001b[0m\u001b[0;34m\u001b[0m\u001b[0m\n\u001b[1;32m    974\u001b[0m                 \u001b[0;32mif\u001b[0m \u001b[0mgetattr\u001b[0m\u001b[0;34m(\u001b[0m\u001b[0mself\u001b[0m\u001b[0;34m.\u001b[0m\u001b[0m_backend\u001b[0m\u001b[0;34m,\u001b[0m \u001b[0;34m'supports_timeout'\u001b[0m\u001b[0;34m,\u001b[0m \u001b[0;32mFalse\u001b[0m\u001b[0;34m)\u001b[0m\u001b[0;34m:\u001b[0m\u001b[0;34m\u001b[0m\u001b[0;34m\u001b[0m\u001b[0m\n\u001b[0;32m--> 975\u001b[0;31m                     \u001b[0mself\u001b[0m\u001b[0;34m.\u001b[0m\u001b[0m_output\u001b[0m\u001b[0;34m.\u001b[0m\u001b[0mextend\u001b[0m\u001b[0;34m(\u001b[0m\u001b[0mjob\u001b[0m\u001b[0;34m.\u001b[0m\u001b[0mget\u001b[0m\u001b[0;34m(\u001b[0m\u001b[0mtimeout\u001b[0m\u001b[0;34m=\u001b[0m\u001b[0mself\u001b[0m\u001b[0;34m.\u001b[0m\u001b[0mtimeout\u001b[0m\u001b[0;34m)\u001b[0m\u001b[0;34m)\u001b[0m\u001b[0;34m\u001b[0m\u001b[0;34m\u001b[0m\u001b[0m\n\u001b[0m\u001b[1;32m    976\u001b[0m                 \u001b[0;32melse\u001b[0m\u001b[0;34m:\u001b[0m\u001b[0;34m\u001b[0m\u001b[0;34m\u001b[0m\u001b[0m\n\u001b[1;32m    977\u001b[0m                     \u001b[0mself\u001b[0m\u001b[0;34m.\u001b[0m\u001b[0m_output\u001b[0m\u001b[0;34m.\u001b[0m\u001b[0mextend\u001b[0m\u001b[0;34m(\u001b[0m\u001b[0mjob\u001b[0m\u001b[0;34m.\u001b[0m\u001b[0mget\u001b[0m\u001b[0;34m(\u001b[0m\u001b[0;34m)\u001b[0m\u001b[0;34m)\u001b[0m\u001b[0;34m\u001b[0m\u001b[0;34m\u001b[0m\u001b[0m\n",
            "\u001b[0;32m/usr/local/lib/python3.8/dist-packages/joblib/_parallel_backends.py\u001b[0m in \u001b[0;36mwrap_future_result\u001b[0;34m(future, timeout)\u001b[0m\n\u001b[1;32m    565\u001b[0m         AsyncResults.get from multiprocessing.\"\"\"\n\u001b[1;32m    566\u001b[0m         \u001b[0;32mtry\u001b[0m\u001b[0;34m:\u001b[0m\u001b[0;34m\u001b[0m\u001b[0;34m\u001b[0m\u001b[0m\n\u001b[0;32m--> 567\u001b[0;31m             \u001b[0;32mreturn\u001b[0m \u001b[0mfuture\u001b[0m\u001b[0;34m.\u001b[0m\u001b[0mresult\u001b[0m\u001b[0;34m(\u001b[0m\u001b[0mtimeout\u001b[0m\u001b[0;34m=\u001b[0m\u001b[0mtimeout\u001b[0m\u001b[0;34m)\u001b[0m\u001b[0;34m\u001b[0m\u001b[0;34m\u001b[0m\u001b[0m\n\u001b[0m\u001b[1;32m    568\u001b[0m         \u001b[0;32mexcept\u001b[0m \u001b[0mCfTimeoutError\u001b[0m \u001b[0;32mas\u001b[0m \u001b[0me\u001b[0m\u001b[0;34m:\u001b[0m\u001b[0;34m\u001b[0m\u001b[0;34m\u001b[0m\u001b[0m\n\u001b[1;32m    569\u001b[0m             \u001b[0;32mraise\u001b[0m \u001b[0mTimeoutError\u001b[0m \u001b[0;32mfrom\u001b[0m \u001b[0me\u001b[0m\u001b[0;34m\u001b[0m\u001b[0;34m\u001b[0m\u001b[0m\n",
            "\u001b[0;32m/usr/lib/python3.8/concurrent/futures/_base.py\u001b[0m in \u001b[0;36mresult\u001b[0;34m(self, timeout)\u001b[0m\n\u001b[1;32m    437\u001b[0m                     \u001b[0;32mreturn\u001b[0m \u001b[0mself\u001b[0m\u001b[0;34m.\u001b[0m\u001b[0m__get_result\u001b[0m\u001b[0;34m(\u001b[0m\u001b[0;34m)\u001b[0m\u001b[0;34m\u001b[0m\u001b[0;34m\u001b[0m\u001b[0m\n\u001b[1;32m    438\u001b[0m \u001b[0;34m\u001b[0m\u001b[0m\n\u001b[0;32m--> 439\u001b[0;31m                 \u001b[0mself\u001b[0m\u001b[0;34m.\u001b[0m\u001b[0m_condition\u001b[0m\u001b[0;34m.\u001b[0m\u001b[0mwait\u001b[0m\u001b[0;34m(\u001b[0m\u001b[0mtimeout\u001b[0m\u001b[0;34m)\u001b[0m\u001b[0;34m\u001b[0m\u001b[0;34m\u001b[0m\u001b[0m\n\u001b[0m\u001b[1;32m    440\u001b[0m \u001b[0;34m\u001b[0m\u001b[0m\n\u001b[1;32m    441\u001b[0m                 \u001b[0;32mif\u001b[0m \u001b[0mself\u001b[0m\u001b[0;34m.\u001b[0m\u001b[0m_state\u001b[0m \u001b[0;32min\u001b[0m \u001b[0;34m[\u001b[0m\u001b[0mCANCELLED\u001b[0m\u001b[0;34m,\u001b[0m \u001b[0mCANCELLED_AND_NOTIFIED\u001b[0m\u001b[0;34m]\u001b[0m\u001b[0;34m:\u001b[0m\u001b[0;34m\u001b[0m\u001b[0;34m\u001b[0m\u001b[0m\n",
            "\u001b[0;32m/usr/lib/python3.8/threading.py\u001b[0m in \u001b[0;36mwait\u001b[0;34m(self, timeout)\u001b[0m\n\u001b[1;32m    300\u001b[0m         \u001b[0;32mtry\u001b[0m\u001b[0;34m:\u001b[0m    \u001b[0;31m# restore state no matter what (e.g., KeyboardInterrupt)\u001b[0m\u001b[0;34m\u001b[0m\u001b[0;34m\u001b[0m\u001b[0m\n\u001b[1;32m    301\u001b[0m             \u001b[0;32mif\u001b[0m \u001b[0mtimeout\u001b[0m \u001b[0;32mis\u001b[0m \u001b[0;32mNone\u001b[0m\u001b[0;34m:\u001b[0m\u001b[0;34m\u001b[0m\u001b[0;34m\u001b[0m\u001b[0m\n\u001b[0;32m--> 302\u001b[0;31m                 \u001b[0mwaiter\u001b[0m\u001b[0;34m.\u001b[0m\u001b[0macquire\u001b[0m\u001b[0;34m(\u001b[0m\u001b[0;34m)\u001b[0m\u001b[0;34m\u001b[0m\u001b[0;34m\u001b[0m\u001b[0m\n\u001b[0m\u001b[1;32m    303\u001b[0m                 \u001b[0mgotit\u001b[0m \u001b[0;34m=\u001b[0m \u001b[0;32mTrue\u001b[0m\u001b[0;34m\u001b[0m\u001b[0;34m\u001b[0m\u001b[0m\n\u001b[1;32m    304\u001b[0m             \u001b[0;32melse\u001b[0m\u001b[0;34m:\u001b[0m\u001b[0;34m\u001b[0m\u001b[0;34m\u001b[0m\u001b[0m\n",
            "\u001b[0;31mKeyboardInterrupt\u001b[0m: "
          ]
        }
      ]
    },
    {
      "cell_type": "code",
      "source": [
        "# svm with class weight on an imbalanced classification dataset\n",
        "from numpy import mean\n",
        "from sklearn.datasets import make_classification\n",
        "from sklearn.model_selection import cross_val_score\n",
        "from sklearn.model_selection import RepeatedStratifiedKFold\n",
        "from sklearn.svm import SVC\n",
        "# define model\n",
        "weights_assigned_svm={0:1,1:230}\n",
        "model_svm = SVC(gamma='scale', class_weight=weights_assigned_svm)\n",
        "\n",
        "# Fitting the classifier on training data\n",
        "model_svm.fit(X_train, y_train)\n",
        "\n",
        "# Making predictions on test data\n",
        "y_pred_svm = model_svm.predict(X_test)\n",
        "\n",
        "from sklearn.metrics import classification_report\n",
        "\n",
        "print(classification_report(y_test, y_pred_svm))\n",
        "\n",
        "from sklearn.metrics import confusion_matrix\n",
        "\n",
        "# Print the confusion matrix\n",
        "cm = confusion_matrix(y_test, y_pred_svm)\n",
        "print(cm)"
      ],
      "metadata": {
        "colab": {
          "base_uri": "https://localhost:8080/"
        },
        "id": "BQubmk0WOlq2",
        "outputId": "974aa4f8-1d34-4b25-d752-f5ee9f393a02"
      },
      "execution_count": null,
      "outputs": [
        {
          "output_type": "stream",
          "name": "stdout",
          "text": [
            "              precision    recall  f1-score   support\n",
            "\n",
            "           0       1.00      0.81      0.89     22001\n",
            "           1       0.01      0.32      0.01        96\n",
            "\n",
            "    accuracy                           0.80     22097\n",
            "   macro avg       0.50      0.56      0.45     22097\n",
            "weighted avg       0.99      0.80      0.89     22097\n",
            "\n",
            "[[17713  4288]\n",
            " [   65    31]]\n"
          ]
        }
      ]
    },
    {
      "cell_type": "markdown",
      "source": [
        "# Decision Trees very bad"
      ],
      "metadata": {
        "id": "8iB41mW-dNvN"
      }
    },
    {
      "cell_type": "code",
      "source": [
        "# decision tree with class weight on an imbalanced classification dataset\n",
        "from numpy import mean\n",
        "from sklearn.datasets import make_classification\n",
        "from sklearn.model_selection import cross_val_score\n",
        "from sklearn.model_selection import RepeatedStratifiedKFold\n",
        "from sklearn.tree import DecisionTreeClassifier\n",
        "# define model\n",
        "weights_assigned_dt={0:1,1:300}\n",
        "model_dt = DecisionTreeClassifier(class_weight=weights_assigned_dt)\n",
        "# define evaluation procedure\n",
        "cv = RepeatedStratifiedKFold(n_splits=10, n_repeats=3, random_state=1)\n",
        "# evaluate model\n",
        "scores = cross_val_score(model_dt, X_train, y_train, scoring='roc_auc', cv=cv, n_jobs=-1)\n",
        "# summarize performance\n",
        "print('Mean ROC AUC: %.3f' % mean(scores))"
      ],
      "metadata": {
        "colab": {
          "base_uri": "https://localhost:8080/"
        },
        "id": "p_i3PJm3dTFd",
        "outputId": "0a51fd95-b018-44cf-83cf-99ff068664e0"
      },
      "execution_count": null,
      "outputs": [
        {
          "output_type": "stream",
          "name": "stdout",
          "text": [
            "Mean ROC AUC: 0.516\n"
          ]
        }
      ]
    },
    {
      "cell_type": "code",
      "source": [
        "# Fitting the classifier on training data\n",
        "model_dt.fit(X_train, y_train)\n",
        "\n",
        "# Making predictions on test data\n",
        "y_pred_dt = model_dt.predict(X_test)\n",
        "\n",
        "from sklearn.metrics import classification_report\n",
        "\n",
        "print(classification_report(y_test, y_pred_dt))\n",
        "\n",
        "from sklearn.metrics import confusion_matrix\n",
        "\n",
        "# Print the confusion matrix\n",
        "cm = confusion_matrix(y_test, y_pred_dt)\n",
        "print(cm)"
      ],
      "metadata": {
        "colab": {
          "base_uri": "https://localhost:8080/"
        },
        "id": "MGVPz2o7dZOU",
        "outputId": "7536a445-9d34-47c3-afe3-3bfe7af97155"
      },
      "execution_count": null,
      "outputs": [
        {
          "output_type": "stream",
          "name": "stdout",
          "text": [
            "              precision    recall  f1-score   support\n",
            "\n",
            "           0       1.00      1.00      1.00     22001\n",
            "           1       0.01      0.01      0.01        96\n",
            "\n",
            "    accuracy                           0.99     22097\n",
            "   macro avg       0.50      0.50      0.50     22097\n",
            "weighted avg       0.99      0.99      0.99     22097\n",
            "\n",
            "[[21897   104]\n",
            " [   95     1]]\n"
          ]
        }
      ]
    }
  ],
  "metadata": {
    "kernelspec": {
      "display_name": "Python 3",
      "language": "python",
      "name": "python3"
    },
    "language_info": {
      "codemirror_mode": {
        "name": "ipython",
        "version": 3
      },
      "file_extension": ".py",
      "mimetype": "text/x-python",
      "name": "python",
      "nbconvert_exporter": "python",
      "pygments_lexer": "ipython3",
      "version": "3.7.7"
    },
    "colab": {
      "provenance": [],
      "collapsed_sections": [
        "j3dKmFb1fDL-",
        "UgjboMmxy12d",
        "Tk4ZOzw-O7oS",
        "F9UmHIQvf6YG",
        "aSzzkMktlI7r",
        "6P--HzJX4cNY",
        "_z59aOcTAEhK",
        "6pbIG57lOYmm",
        "8iB41mW-dNvN",
        "uYLkAobc1_QZ",
        "h_evFk86tfqX",
        "BnYQoQCa5q0T",
        "kJovV2Ux7RWZ"
      ]
    },
    "gpuClass": "standard"
  },
  "nbformat": 4,
  "nbformat_minor": 0
}
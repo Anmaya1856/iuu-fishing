{
  "cells": [
    {
      "cell_type": "markdown",
      "metadata": {
        "id": "j3dKmFb1fDL-"
      },
      "source": [
        "#### Handling Imbalanced Dataset with Machine Learning"
      ]
    },
    {
      "cell_type": "code",
      "execution_count": null,
      "metadata": {
        "colab": {
          "base_uri": "https://localhost:8080/",
          "height": 250
        },
        "id": "W0XR2-q8fDMD",
        "outputId": "4c8cef04-67b8-496c-b4b5-6a784e03b0a6"
      },
      "outputs": [
        {
          "output_type": "execute_result",
          "data": {
            "text/plain": [
              "   gap_hours  iuu_caught  spherical_distances  eez_check  \\\n",
              "0  13.016667           0           207.942845          0   \n",
              "1  13.850000           0             9.704232          0   \n",
              "2  33.733333           0            10.789069          1   \n",
              "3  30.650000           0            11.695860          1   \n",
              "4  50.283333           0            93.113335          1   \n",
              "\n",
              "  exact _name new from diff Oceans  gap_x_distance  score      gear type  \n",
              "0             North Atlantic Ocean     2706.722700     98  pole_and_line  \n",
              "1             South Atlantic Ocean      134.403613     86        fishing  \n",
              "2             North Atlantic Ocean      363.951273     94  pole_and_line  \n",
              "3             North Atlantic Ocean      358.478097     91  pole_and_line  \n",
              "4             North Atlantic Ocean     4682.048839     98  pole_and_line  "
            ],
            "text/html": [
              "\n",
              "  <div id=\"df-83e9ea19-de0f-4460-9e00-5a95e96da0d7\">\n",
              "    <div class=\"colab-df-container\">\n",
              "      <div>\n",
              "<style scoped>\n",
              "    .dataframe tbody tr th:only-of-type {\n",
              "        vertical-align: middle;\n",
              "    }\n",
              "\n",
              "    .dataframe tbody tr th {\n",
              "        vertical-align: top;\n",
              "    }\n",
              "\n",
              "    .dataframe thead th {\n",
              "        text-align: right;\n",
              "    }\n",
              "</style>\n",
              "<table border=\"1\" class=\"dataframe\">\n",
              "  <thead>\n",
              "    <tr style=\"text-align: right;\">\n",
              "      <th></th>\n",
              "      <th>gap_hours</th>\n",
              "      <th>iuu_caught</th>\n",
              "      <th>spherical_distances</th>\n",
              "      <th>eez_check</th>\n",
              "      <th>exact _name new from diff Oceans</th>\n",
              "      <th>gap_x_distance</th>\n",
              "      <th>score</th>\n",
              "      <th>gear type</th>\n",
              "    </tr>\n",
              "  </thead>\n",
              "  <tbody>\n",
              "    <tr>\n",
              "      <th>0</th>\n",
              "      <td>13.016667</td>\n",
              "      <td>0</td>\n",
              "      <td>207.942845</td>\n",
              "      <td>0</td>\n",
              "      <td>North Atlantic Ocean</td>\n",
              "      <td>2706.722700</td>\n",
              "      <td>98</td>\n",
              "      <td>pole_and_line</td>\n",
              "    </tr>\n",
              "    <tr>\n",
              "      <th>1</th>\n",
              "      <td>13.850000</td>\n",
              "      <td>0</td>\n",
              "      <td>9.704232</td>\n",
              "      <td>0</td>\n",
              "      <td>South Atlantic Ocean</td>\n",
              "      <td>134.403613</td>\n",
              "      <td>86</td>\n",
              "      <td>fishing</td>\n",
              "    </tr>\n",
              "    <tr>\n",
              "      <th>2</th>\n",
              "      <td>33.733333</td>\n",
              "      <td>0</td>\n",
              "      <td>10.789069</td>\n",
              "      <td>1</td>\n",
              "      <td>North Atlantic Ocean</td>\n",
              "      <td>363.951273</td>\n",
              "      <td>94</td>\n",
              "      <td>pole_and_line</td>\n",
              "    </tr>\n",
              "    <tr>\n",
              "      <th>3</th>\n",
              "      <td>30.650000</td>\n",
              "      <td>0</td>\n",
              "      <td>11.695860</td>\n",
              "      <td>1</td>\n",
              "      <td>North Atlantic Ocean</td>\n",
              "      <td>358.478097</td>\n",
              "      <td>91</td>\n",
              "      <td>pole_and_line</td>\n",
              "    </tr>\n",
              "    <tr>\n",
              "      <th>4</th>\n",
              "      <td>50.283333</td>\n",
              "      <td>0</td>\n",
              "      <td>93.113335</td>\n",
              "      <td>1</td>\n",
              "      <td>North Atlantic Ocean</td>\n",
              "      <td>4682.048839</td>\n",
              "      <td>98</td>\n",
              "      <td>pole_and_line</td>\n",
              "    </tr>\n",
              "  </tbody>\n",
              "</table>\n",
              "</div>\n",
              "      <button class=\"colab-df-convert\" onclick=\"convertToInteractive('df-83e9ea19-de0f-4460-9e00-5a95e96da0d7')\"\n",
              "              title=\"Convert this dataframe to an interactive table.\"\n",
              "              style=\"display:none;\">\n",
              "        \n",
              "  <svg xmlns=\"http://www.w3.org/2000/svg\" height=\"24px\"viewBox=\"0 0 24 24\"\n",
              "       width=\"24px\">\n",
              "    <path d=\"M0 0h24v24H0V0z\" fill=\"none\"/>\n",
              "    <path d=\"M18.56 5.44l.94 2.06.94-2.06 2.06-.94-2.06-.94-.94-2.06-.94 2.06-2.06.94zm-11 1L8.5 8.5l.94-2.06 2.06-.94-2.06-.94L8.5 2.5l-.94 2.06-2.06.94zm10 10l.94 2.06.94-2.06 2.06-.94-2.06-.94-.94-2.06-.94 2.06-2.06.94z\"/><path d=\"M17.41 7.96l-1.37-1.37c-.4-.4-.92-.59-1.43-.59-.52 0-1.04.2-1.43.59L10.3 9.45l-7.72 7.72c-.78.78-.78 2.05 0 2.83L4 21.41c.39.39.9.59 1.41.59.51 0 1.02-.2 1.41-.59l7.78-7.78 2.81-2.81c.8-.78.8-2.07 0-2.86zM5.41 20L4 18.59l7.72-7.72 1.47 1.35L5.41 20z\"/>\n",
              "  </svg>\n",
              "      </button>\n",
              "      \n",
              "  <style>\n",
              "    .colab-df-container {\n",
              "      display:flex;\n",
              "      flex-wrap:wrap;\n",
              "      gap: 12px;\n",
              "    }\n",
              "\n",
              "    .colab-df-convert {\n",
              "      background-color: #E8F0FE;\n",
              "      border: none;\n",
              "      border-radius: 50%;\n",
              "      cursor: pointer;\n",
              "      display: none;\n",
              "      fill: #1967D2;\n",
              "      height: 32px;\n",
              "      padding: 0 0 0 0;\n",
              "      width: 32px;\n",
              "    }\n",
              "\n",
              "    .colab-df-convert:hover {\n",
              "      background-color: #E2EBFA;\n",
              "      box-shadow: 0px 1px 2px rgba(60, 64, 67, 0.3), 0px 1px 3px 1px rgba(60, 64, 67, 0.15);\n",
              "      fill: #174EA6;\n",
              "    }\n",
              "\n",
              "    [theme=dark] .colab-df-convert {\n",
              "      background-color: #3B4455;\n",
              "      fill: #D2E3FC;\n",
              "    }\n",
              "\n",
              "    [theme=dark] .colab-df-convert:hover {\n",
              "      background-color: #434B5C;\n",
              "      box-shadow: 0px 1px 3px 1px rgba(0, 0, 0, 0.15);\n",
              "      filter: drop-shadow(0px 1px 2px rgba(0, 0, 0, 0.3));\n",
              "      fill: #FFFFFF;\n",
              "    }\n",
              "  </style>\n",
              "\n",
              "      <script>\n",
              "        const buttonEl =\n",
              "          document.querySelector('#df-83e9ea19-de0f-4460-9e00-5a95e96da0d7 button.colab-df-convert');\n",
              "        buttonEl.style.display =\n",
              "          google.colab.kernel.accessAllowed ? 'block' : 'none';\n",
              "\n",
              "        async function convertToInteractive(key) {\n",
              "          const element = document.querySelector('#df-83e9ea19-de0f-4460-9e00-5a95e96da0d7');\n",
              "          const dataTable =\n",
              "            await google.colab.kernel.invokeFunction('convertToInteractive',\n",
              "                                                     [key], {});\n",
              "          if (!dataTable) return;\n",
              "\n",
              "          const docLinkHtml = 'Like what you see? Visit the ' +\n",
              "            '<a target=\"_blank\" href=https://colab.research.google.com/notebooks/data_table.ipynb>data table notebook</a>'\n",
              "            + ' to learn more about interactive tables.';\n",
              "          element.innerHTML = '';\n",
              "          dataTable['output_type'] = 'display_data';\n",
              "          await google.colab.output.renderOutput(dataTable, element);\n",
              "          const docLink = document.createElement('div');\n",
              "          docLink.innerHTML = docLinkHtml;\n",
              "          element.appendChild(docLink);\n",
              "        }\n",
              "      </script>\n",
              "    </div>\n",
              "  </div>\n",
              "  "
            ]
          },
          "metadata": {},
          "execution_count": 19
        }
      ],
      "source": [
        "import pandas as pd\n",
        "df=pd.read_csv('ais_disabling_events_main_only_imp_col_csv_exact_ocean_name.csv')\n",
        "df.head()"
      ]
    },
    {
      "cell_type": "code",
      "execution_count": null,
      "metadata": {
        "colab": {
          "base_uri": "https://localhost:8080/"
        },
        "id": "LV4xM8xNfDMF",
        "outputId": "fc17a544-4620-4655-bbc2-ec68e972a74c"
      },
      "outputs": [
        {
          "output_type": "execute_result",
          "data": {
            "text/plain": [
              "(55368, 8)"
            ]
          },
          "metadata": {},
          "execution_count": 2
        }
      ],
      "source": [
        "df.shape"
      ]
    },
    {
      "cell_type": "code",
      "execution_count": null,
      "metadata": {
        "colab": {
          "base_uri": "https://localhost:8080/"
        },
        "id": "u57ZoDMefDMG",
        "outputId": "6a82498b-3da2-4e6d-e3e1-8a005ac8a849"
      },
      "outputs": [
        {
          "output_type": "execute_result",
          "data": {
            "text/plain": [
              "0    55129\n",
              "1      239\n",
              "Name: iuu_caught, dtype: int64"
            ]
          },
          "metadata": {},
          "execution_count": 3
        }
      ],
      "source": [
        "df['iuu_caught'].value_counts()"
      ]
    },
    {
      "cell_type": "code",
      "execution_count": null,
      "metadata": {
        "id": "SpXDEikQfDMG"
      },
      "outputs": [],
      "source": [
        "#### Independent and Dependent Features\n",
        "X=df.drop(\"iuu_caught\",axis=1)\n",
        "y=df.iuu_caught"
      ]
    },
    {
      "cell_type": "markdown",
      "source": [
        "### One Hot Encoding"
      ],
      "metadata": {
        "id": "cKiFGKNWlH4S"
      }
    },
    {
      "cell_type": "code",
      "source": [
        "print(df['gear type'].unique())\n",
        "print(df['exact _name new from diff Oceans'].unique())"
      ],
      "metadata": {
        "colab": {
          "base_uri": "https://localhost:8080/"
        },
        "id": "yyMFweZYi5-T",
        "outputId": "30165b82-cd7d-45d3-cfe7-dbcd8866dc27"
      },
      "execution_count": null,
      "outputs": [
        {
          "output_type": "stream",
          "name": "stdout",
          "text": [
            "['pole_and_line' 'fishing' 'set_longlines' 'fixed_gear' 'set_gillnets'\n",
            " 'pots_and_traps' 'seiners' 'other_purse_seines' 'purse_seines' 'trollers'\n",
            " 'dredge_fishing' 'drifting_longlines' 'other' 'trawlers' 'other_seines'\n",
            " 'squid_jigger' 'tuna_purse_seines']\n",
            "['North Atlantic Ocean' 'South Atlantic Ocean' 'Celtic Sea'\n",
            " 'Southern Ocean' 'Mediterranean Sea - Eastern Basin' 'Norwegian Sea'\n",
            " 'Barentsz Sea' 'Sea of Okhotsk' 'Japan Sea' 'Bering Sea' 'Gulf of Alaska'\n",
            " 'Labrador Sea' 'Davis Strait' 'North Pacific Ocean' 'South Pacific Ocean'\n",
            " 'Arafura Sea' 'Arabian Sea' 'Indian Ocean' 'Tasman Sea' 'Bismarck Sea'\n",
            " 'Gulf of Guinea' 'Coral Sea' 'Bay of Bengal' 'Great Australian Bight'\n",
            " 'Mozambique Channel' 'Caribbean Sea' 'Philippine Sea' 'Timor Sea'\n",
            " 'Greenland Sea' 'North Sea' 'Laccadive Sea' 'Bass Strait'\n",
            " 'Gulf of St. Lawrence' 'Baffin Bay' 'Gulf of Mexico' 'Solomon Sea']\n"
          ]
        }
      ]
    },
    {
      "cell_type": "code",
      "source": [
        "print(df['gear type'].value_counts())\n",
        "print(df['exact _name new from diff Oceans'].value_counts())"
      ],
      "metadata": {
        "colab": {
          "base_uri": "https://localhost:8080/"
        },
        "id": "NMZkweLBkgix",
        "outputId": "eed1d1b9-8bc4-4745-e539-aa22d3be65ec"
      },
      "execution_count": null,
      "outputs": [
        {
          "output_type": "stream",
          "name": "stdout",
          "text": [
            "drifting_longlines    18654\n",
            "squid_jigger          15487\n",
            "tuna_purse_seines      8605\n",
            "trawlers               7896\n",
            "fishing                1916\n",
            "set_longlines          1326\n",
            "pole_and_line           597\n",
            "pots_and_traps          386\n",
            "fixed_gear              181\n",
            "set_gillnets             81\n",
            "purse_seines             75\n",
            "trollers                 72\n",
            "other                    34\n",
            "other_purse_seines       30\n",
            "dredge_fishing           24\n",
            "seiners                   2\n",
            "other_seines              2\n",
            "Name: gear type, dtype: int64\n",
            "North Pacific Ocean                  16094\n",
            "South Pacific Ocean                  13384\n",
            "South Atlantic Ocean                 11105\n",
            "Indian Ocean                          5757\n",
            "North Atlantic Ocean                  4750\n",
            "Bering Sea                            1169\n",
            "Coral Sea                              398\n",
            "Sea of Okhotsk                         374\n",
            "Barentsz Sea                           331\n",
            "Gulf of Guinea                         287\n",
            "Celtic Sea                             276\n",
            "Arabian Sea                            225\n",
            "Philippine Sea                         210\n",
            "Tasman Sea                             147\n",
            "Solomon Sea                            120\n",
            "Norwegian Sea                          119\n",
            "Southern Ocean                         116\n",
            "Gulf of Alaska                          95\n",
            "Great Australian Bight                  79\n",
            "Mozambique Channel                      78\n",
            "Japan Sea                               55\n",
            "Bismarck Sea                            48\n",
            "Davis Strait                            40\n",
            "Labrador Sea                            27\n",
            "Arafura Sea                             20\n",
            "Caribbean Sea                           16\n",
            "Timor Sea                               15\n",
            "Mediterranean Sea - Eastern Basin       11\n",
            "Greenland Sea                            8\n",
            "North Sea                                5\n",
            "Bass Strait                              3\n",
            "Gulf of Mexico                           2\n",
            "Bay of Bengal                            1\n",
            "Laccadive Sea                            1\n",
            "Gulf of St. Lawrence                     1\n",
            "Baffin Bay                               1\n",
            "Name: exact _name new from diff Oceans, dtype: int64\n"
          ]
        }
      ]
    },
    {
      "cell_type": "code",
      "source": [
        "one_hot_encoded_data = pd.get_dummies(df, columns = ['gear type', 'exact _name new from diff Oceans'])\n",
        "print(one_hot_encoded_data.head())"
      ],
      "metadata": {
        "colab": {
          "base_uri": "https://localhost:8080/"
        },
        "id": "-65OpmWAkvdY",
        "outputId": "b664c1d1-5103-42e7-b988-6c1032e47f71"
      },
      "execution_count": null,
      "outputs": [
        {
          "output_type": "stream",
          "name": "stdout",
          "text": [
            "   gap_hours  iuu_caught  spherical_distances  eez_check  gap_x_distance  \\\n",
            "0  13.016667           0           207.942845          0     2706.722700   \n",
            "1  13.850000           0             9.704232          0      134.403613   \n",
            "2  33.733333           0            10.789069          1      363.951273   \n",
            "3  30.650000           0            11.695860          1      358.478097   \n",
            "4  50.283333           0            93.113335          1     4682.048839   \n",
            "\n",
            "   score  gear type_dredge_fishing  gear type_drifting_longlines  \\\n",
            "0     98                         0                             0   \n",
            "1     86                         0                             0   \n",
            "2     94                         0                             0   \n",
            "3     91                         0                             0   \n",
            "4     98                         0                             0   \n",
            "\n",
            "   gear type_fishing  gear type_fixed_gear  ...  \\\n",
            "0                  0                     0  ...   \n",
            "1                  1                     0  ...   \n",
            "2                  0                     0  ...   \n",
            "3                  0                     0  ...   \n",
            "4                  0                     0  ...   \n",
            "\n",
            "   exact _name new from diff Oceans_North Sea  \\\n",
            "0                                           0   \n",
            "1                                           0   \n",
            "2                                           0   \n",
            "3                                           0   \n",
            "4                                           0   \n",
            "\n",
            "   exact _name new from diff Oceans_Norwegian Sea  \\\n",
            "0                                               0   \n",
            "1                                               0   \n",
            "2                                               0   \n",
            "3                                               0   \n",
            "4                                               0   \n",
            "\n",
            "   exact _name new from diff Oceans_Philippine Sea  \\\n",
            "0                                                0   \n",
            "1                                                0   \n",
            "2                                                0   \n",
            "3                                                0   \n",
            "4                                                0   \n",
            "\n",
            "   exact _name new from diff Oceans_Sea of Okhotsk  \\\n",
            "0                                                0   \n",
            "1                                                0   \n",
            "2                                                0   \n",
            "3                                                0   \n",
            "4                                                0   \n",
            "\n",
            "   exact _name new from diff Oceans_Solomon Sea  \\\n",
            "0                                             0   \n",
            "1                                             0   \n",
            "2                                             0   \n",
            "3                                             0   \n",
            "4                                             0   \n",
            "\n",
            "   exact _name new from diff Oceans_South Atlantic Ocean  \\\n",
            "0                                                  0       \n",
            "1                                                  1       \n",
            "2                                                  0       \n",
            "3                                                  0       \n",
            "4                                                  0       \n",
            "\n",
            "   exact _name new from diff Oceans_South Pacific Ocean  \\\n",
            "0                                                  0      \n",
            "1                                                  0      \n",
            "2                                                  0      \n",
            "3                                                  0      \n",
            "4                                                  0      \n",
            "\n",
            "   exact _name new from diff Oceans_Southern Ocean  \\\n",
            "0                                                0   \n",
            "1                                                0   \n",
            "2                                                0   \n",
            "3                                                0   \n",
            "4                                                0   \n",
            "\n",
            "   exact _name new from diff Oceans_Tasman Sea  \\\n",
            "0                                            0   \n",
            "1                                            0   \n",
            "2                                            0   \n",
            "3                                            0   \n",
            "4                                            0   \n",
            "\n",
            "   exact _name new from diff Oceans_Timor Sea  \n",
            "0                                           0  \n",
            "1                                           0  \n",
            "2                                           0  \n",
            "3                                           0  \n",
            "4                                           0  \n",
            "\n",
            "[5 rows x 59 columns]\n"
          ]
        }
      ]
    },
    {
      "cell_type": "code",
      "source": [
        "#### Independent and Dependent Features\n",
        "X=one_hot_encoded_data.drop(\"iuu_caught\",axis=1)\n",
        "y=one_hot_encoded_data.iuu_caught"
      ],
      "metadata": {
        "id": "pMpzCAHKlyKv"
      },
      "execution_count": null,
      "outputs": []
    },
    {
      "cell_type": "markdown",
      "metadata": {
        "id": "2rsoJLeffDMQ"
      },
      "source": [
        "#### SMOTETomek"
      ]
    },
    {
      "cell_type": "code",
      "source": [
        "y.value_counts()"
      ],
      "metadata": {
        "colab": {
          "base_uri": "https://localhost:8080/"
        },
        "id": "e32GaVFs_J3v",
        "outputId": "b18fb11d-309c-4aa6-870e-8ce584dbff5b"
      },
      "execution_count": null,
      "outputs": [
        {
          "output_type": "execute_result",
          "data": {
            "text/plain": [
              "0    55129\n",
              "1      239\n",
              "Name: iuu_caught, dtype: int64"
            ]
          },
          "metadata": {},
          "execution_count": 9
        }
      ]
    },
    {
      "cell_type": "code",
      "source": [
        "from sklearn.model_selection import train_test_split\n",
        "X_train, X_test, y_train, y_test = train_test_split(X, y, test_size=0.4, random_state=15, stratify=y)"
      ],
      "metadata": {
        "id": "6PZ4DCX2_xTw"
      },
      "execution_count": null,
      "outputs": []
    },
    {
      "cell_type": "code",
      "source": [
        "from imblearn.over_sampling import SMOTE, ADASYN\n",
        "\n",
        "# smote = SMOTE(sampling_strategy='minority')\n",
        "adasyn = ADASYN(sampling_strategy='minority')\n",
        "X_train, y_train = adasyn.fit_resample(X_train,y_train)\n",
        "\n",
        "# y_sm.value_counts()"
      ],
      "metadata": {
        "id": "Gqu6qN0y_VN1"
      },
      "execution_count": null,
      "outputs": []
    },
    {
      "cell_type": "code",
      "source": [
        "y_train.value_counts()"
      ],
      "metadata": {
        "colab": {
          "base_uri": "https://localhost:8080/"
        },
        "id": "nHfQWq0XAB_o",
        "outputId": "847fa5a3-6267-480c-daad-991061845e0a"
      },
      "execution_count": null,
      "outputs": [
        {
          "output_type": "execute_result",
          "data": {
            "text/plain": [
              "1    33089\n",
              "0    33077\n",
              "Name: iuu_caught, dtype: int64"
            ]
          },
          "metadata": {},
          "execution_count": 12
        }
      ]
    },
    {
      "cell_type": "code",
      "source": [
        "y_test.value_counts()"
      ],
      "metadata": {
        "colab": {
          "base_uri": "https://localhost:8080/"
        },
        "id": "HaLO_xD1AE79",
        "outputId": "0498b741-01e9-4567-fa90-3f263003b70d"
      },
      "execution_count": null,
      "outputs": [
        {
          "output_type": "execute_result",
          "data": {
            "text/plain": [
              "0    22052\n",
              "1       96\n",
              "Name: iuu_caught, dtype: int64"
            ]
          },
          "metadata": {},
          "execution_count": 13
        }
      ]
    },
    {
      "cell_type": "code",
      "source": [
        "#Importing essential libraries\n",
        "import matplotlib.pyplot as plt\n",
        "from statistics import mean\n",
        "from matplotlib import pyplot\n",
        "from sklearn.model_selection import train_test_split\n",
        "from sklearn.model_selection import cross_validate\n",
        "from sklearn.model_selection import RepeatedStratifiedKFold\n",
        "from sklearn.metrics import plot_confusion_matrix\n",
        "from sklearn.ensemble import RandomForestClassifier\n",
        "from imblearn.over_sampling import SMOTE\n",
        "\n",
        "#Build SMOTE SRF model\n",
        "SMOTE_SRF = RandomForestClassifier(n_estimators=150, random_state=0)\n",
        "#Create Stratified K-fold cross validation\n",
        "cv = RepeatedStratifiedKFold(n_splits=10, n_repeats=3, random_state=1)\n",
        "scoring = ('f1', 'recall', 'precision')\n",
        "#Evaluate SMOTE SRF model\n",
        "scores = cross_validate(SMOTE_SRF, X, y, scoring=scoring, cv=cv)\n",
        "#Get average evaluation metrics\n",
        "print('Mean f1: %.3f' % mean(scores['test_f1']))\n",
        "print('Mean recall: %.3f' % mean(scores['test_recall']))\n",
        "print('Mean precision: %.3f' % mean(scores['test_precision']))\n",
        "\n",
        "#Randomly spilt dataset to test and train set\n",
        "# X_train, X_test, y_train, y_test = train_test_split(X, y, test_size=0.1, stratify=y)\n",
        "#Train SMOTE SRF\n",
        "SMOTE_SRF.fit(X_train, y_train)\n",
        "#SMOTE SRF prediction result\n",
        "y_pred = SMOTE_SRF.predict(X_test)\n",
        "#Create confusion matrix\n",
        "fig = plot_confusion_matrix(SMOTE_SRF, X_test, y_test, display_labels=['No IUU', 'IUU'], cmap='Greens')\n",
        "plt.title('SMOTE + Standard Random Forest Confusion Matrix')\n",
        "plt.show()"
      ],
      "metadata": {
        "colab": {
          "base_uri": "https://localhost:8080/",
          "height": 402
        },
        "id": "mXE48stLMEZs",
        "outputId": "3af02d32-547d-4fc6-f44f-bfe4b29af8b5"
      },
      "execution_count": null,
      "outputs": [
        {
          "output_type": "stream",
          "name": "stdout",
          "text": [
            "Mean f1: 0.236\n",
            "Mean recall: 0.148\n",
            "Mean precision: 0.661\n"
          ]
        },
        {
          "output_type": "stream",
          "name": "stderr",
          "text": [
            "/usr/local/lib/python3.8/dist-packages/sklearn/utils/deprecation.py:87: FutureWarning: Function plot_confusion_matrix is deprecated; Function `plot_confusion_matrix` is deprecated in 1.0 and will be removed in 1.2. Use one of the class methods: ConfusionMatrixDisplay.from_predictions or ConfusionMatrixDisplay.from_estimator.\n",
            "  warnings.warn(msg, category=FutureWarning)\n"
          ]
        },
        {
          "output_type": "display_data",
          "data": {
            "text/plain": [
              "<Figure size 432x288 with 2 Axes>"
            ],
            "image/png": "[encoded data removed]"
          },
          "metadata": {
            "needs_background": "light"
          }
        }
      ]
    },
    {
      "cell_type": "code",
      "source": [
        "from sklearn.metrics import confusion_matrix , classification_report\n",
        "\n",
        "print(\"Classification Report: \\n\", classification_report(y_test, y_pred))"
      ],
      "metadata": {
        "colab": {
          "base_uri": "https://localhost:8080/"
        },
        "id": "JW0olpCVi32j",
        "outputId": "b9ed2ab1-0ac1-4873-a8c8-11100742da36"
      },
      "execution_count": null,
      "outputs": [
        {
          "output_type": "stream",
          "name": "stdout",
          "text": [
            "Classification Report: \n",
            "               precision    recall  f1-score   support\n",
            "\n",
            "           0       1.00      0.99      0.99     22052\n",
            "           1       0.15      0.36      0.22        96\n",
            "\n",
            "    accuracy                           0.99     22148\n",
            "   macro avg       0.58      0.68      0.61     22148\n",
            "weighted avg       0.99      0.99      0.99     22148\n",
            "\n"
          ]
        }
      ]
    },
    {
      "cell_type": "code",
      "source": [
        "from sklearn.ensemble import VotingClassifier\n",
        "from xgboost import XGBClassifier\n",
        "from sklearn.ensemble import RandomForestClassifier\n",
        "\n",
        "# Define the models\n",
        "xgb = XGBClassifier(random_state=42)\n",
        "rf = RandomForestClassifier(random_state=42)\n",
        "\n",
        "# Define the ensemble model\n",
        "ensemble = VotingClassifier(estimators=[('xgb', xgb), ('rf', rf)], voting='soft')\n",
        "\n",
        "# Fit the ensemble model on the training data\n",
        "ensemble.fit(X_train, y_train)\n",
        "\n",
        "# Evaluate the ensemble model on the test data\n",
        "score = ensemble.score(X_test, y_test)\n",
        "\n",
        "print(score)"
      ],
      "metadata": {
        "colab": {
          "base_uri": "https://localhost:8080/"
        },
        "id": "FsABZD7FCnrF",
        "outputId": "7f16f0ba-4001-4a96-94bc-e1e97ac6abbf"
      },
      "execution_count": null,
      "outputs": [
        {
          "output_type": "stream",
          "name": "stdout",
          "text": [
            "0.980946360845223\n"
          ]
        }
      ]
    },
    {
      "cell_type": "code",
      "source": [
        "from sklearn.metrics import classification_report\n",
        "\n",
        "# Get the predictions for the test set\n",
        "y_pred = ensemble.predict(X_test)\n",
        "\n",
        "# Print the classification report\n",
        "print(classification_report(y_test, y_pred))"
      ],
      "metadata": {
        "colab": {
          "base_uri": "https://localhost:8080/"
        },
        "id": "cIQKma-mC_M_",
        "outputId": "b1a60661-f2a1-46ed-ee69-a90b6e4a9a21"
      },
      "execution_count": null,
      "outputs": [
        {
          "output_type": "stream",
          "name": "stdout",
          "text": [
            "              precision    recall  f1-score   support\n",
            "\n",
            "           0       1.00      0.98      0.99     22052\n",
            "           1       0.12      0.53      0.19        96\n",
            "\n",
            "    accuracy                           0.98     22148\n",
            "   macro avg       0.56      0.76      0.59     22148\n",
            "weighted avg       0.99      0.98      0.99     22148\n",
            "\n"
          ]
        }
      ]
    },
    {
      "cell_type": "code",
      "source": [
        "from sklearn.ensemble import RandomForestClassifier, StackingClassifier\n",
        "from sklearn.neural_network import MLPClassifier\n",
        "import xgboost as xgb\n",
        "from sklearn.metrics import classification_report\n",
        "\n",
        "# Create the base models\n",
        "rf = RandomForestClassifier(n_estimators=100)\n",
        "xgb_clf = xgb.XGBClassifier(n_estimators=200)\n",
        "ann = MLPClassifier(hidden_layer_sizes=(50,50))\n",
        "\n",
        "# Create the meta-model\n",
        "meta_model = MLPClassifier(hidden_layer_sizes=(50,50))\n",
        "\n",
        "# Create the stacking classifier\n",
        "stacking_clf = StackingClassifier(estimators=[('rf', rf), ('xgb', xgb_clf), ('ann', ann)], final_estimator=meta_model)\n",
        "\n",
        "# Train the classifier\n",
        "stacking_clf.fit(X_train, y_train)\n",
        "\n",
        "# Make predictions\n",
        "y_pred = stacking_clf.predict(X_test)\n",
        "\n",
        "print(classification_report(y_test, y_pred))"
      ],
      "metadata": {
        "colab": {
          "base_uri": "https://localhost:8080/"
        },
        "id": "DZJi_gX1OH_D",
        "outputId": "9363514c-28d9-4711-b645-47ba550686a0"
      },
      "execution_count": null,
      "outputs": [
        {
          "output_type": "stream",
          "name": "stdout",
          "text": [
            "              precision    recall  f1-score   support\n",
            "\n",
            "           0       1.00      0.98      0.99     22052\n",
            "           1       0.11      0.57      0.19        96\n",
            "\n",
            "    accuracy                           0.98     22148\n",
            "   macro avg       0.56      0.78      0.59     22148\n",
            "weighted avg       0.99      0.98      0.99     22148\n",
            "\n"
          ]
        }
      ]
    },
    {
      "cell_type": "code",
      "source": [
        "from sklearn.metrics import confusion_matrix\n",
        "\n",
        "# Print the confusion matrix\n",
        "cm = confusion_matrix(y_test, y_pred)\n",
        "print(cm)\n"
      ],
      "metadata": {
        "colab": {
          "base_uri": "https://localhost:8080/"
        },
        "id": "j2MUF5pBSNkQ",
        "outputId": "f68128d8-1a0c-4db0-a601-c92b32eb3e10"
      },
      "execution_count": null,
      "outputs": [
        {
          "output_type": "stream",
          "name": "stdout",
          "text": [
            "[[21396   621]\n",
            " [   23    17]]\n"
          ]
        }
      ]
    },
    {
      "cell_type": "code",
      "source": [
        "import pandas as pd\n",
        "from numpy import mean\n",
        "from sklearn.datasets import make_classification\n",
        "from sklearn.model_selection import cross_val_score\n",
        "from sklearn.model_selection import RepeatedStratifiedKFold\n",
        "from sklearn.linear_model import LogisticRegression\n",
        "from sklearn.model_selection import train_test_split\n",
        "from sklearn.pipeline import Pipeline\n",
        "from imblearn.pipeline import Pipeline\n",
        "from imblearn.over_sampling import SMOTE\n",
        "\n",
        "# define pipeline\n",
        "steps = [('over', SMOTE()), ('model', LogisticRegression())]\n",
        "pipeline = Pipeline(steps=steps)\n",
        "# evaluate pipeline\n",
        "for scoring in[\"accuracy\", \"roc_auc\", \"precision\"]:\n",
        "    cv = RepeatedStratifiedKFold(n_splits=10, n_repeats=3, random_state=0)\n",
        "    scores = cross_val_score(pipeline, X, y, scoring=scoring, cv=cv, n_jobs=-1)\n",
        "    print(\"Model\", scoring, \" mean=\", scores.mean() , \"stddev=\", scores.std())"
      ],
      "metadata": {
        "colab": {
          "base_uri": "https://localhost:8080/"
        },
        "id": "Xbf0-3VCcL7J",
        "outputId": "dcb34d7b-bd15-4e14-bd18-c171d8ded8be"
      },
      "execution_count": null,
      "outputs": [
        {
          "output_type": "stream",
          "name": "stdout",
          "text": [
            "Model accuracy  mean= 0.4239920659424443 stddev= 0.3449167526764049\n",
            "Model roc_auc  mean= 0.6120986390798796 stddev= 0.04914228023397403\n",
            "Model precision  mean= 0.006365830573053692 stddev= 0.002017062919734714\n"
          ]
        }
      ]
    }
  ],
  "metadata": {
    "kernelspec": {
      "display_name": "Python 3",
      "language": "python",
      "name": "python3"
    },
    "language_info": {
      "codemirror_mode": {
        "name": "ipython",
        "version": 3
      },
      "file_extension": ".py",
      "mimetype": "text/x-python",
      "name": "python",
      "nbconvert_exporter": "python",
      "pygments_lexer": "ipython3",
      "version": "3.7.7"
    },
    "colab": {
      "provenance": [],
      "collapsed_sections": [
        "eGenfGWMfDMH",
        "ln9p6XFgfDMO"
      ]
    },
    "gpuClass": "standard"
  },
  "nbformat": 4,
  "nbformat_minor": 0
}
{
  "cells": [
    {
      "cell_type": "markdown",
      "metadata": {
        "id": "j3dKmFb1fDL-"
      },
      "source": [
        "#### Handling Imbalanced Dataset with Machine Learning"
      ]
    },
    {
      "cell_type": "code",
      "execution_count": 1,
      "metadata": {
        "colab": {
          "base_uri": "https://localhost:8080/",
          "height": 206
        },
        "id": "W0XR2-q8fDMD",
        "outputId": "b2b4b849-a8b3-4eff-9c98-c648d5644184"
      },
      "outputs": [
        {
          "output_type": "execute_result",
          "data": {
            "text/plain": [
              "  vessel_class  gap_hours  iuu_caught  spherical_distances  eez_check  \\\n",
              "0        other  13.016667           0           207.942845          0   \n",
              "1        other  13.850000           0             9.704232          0   \n",
              "2        other  33.733333           0            10.789069          1   \n",
              "3        other  30.650000           0            11.695860          1   \n",
              "4        other  50.283333           0            93.113335          1   \n",
              "\n",
              "  Ocean List New whose false were in OG  \n",
              "0                              atlantic  \n",
              "1                              atlantic  \n",
              "2                              atlantic  \n",
              "3                              atlantic  \n",
              "4                              atlantic  "
            ],
            "text/html": [
              "\n",
              "  <div id=\"df-cd30c532-a1e0-406e-b17c-b3dbc1dfccaa\">\n",
              "    <div class=\"colab-df-container\">\n",
              "      <div>\n",
              "<style scoped>\n",
              "    .dataframe tbody tr th:only-of-type {\n",
              "        vertical-align: middle;\n",
              "    }\n",
              "\n",
              "    .dataframe tbody tr th {\n",
              "        vertical-align: top;\n",
              "    }\n",
              "\n",
              "    .dataframe thead th {\n",
              "        text-align: right;\n",
              "    }\n",
              "</style>\n",
              "<table border=\"1\" class=\"dataframe\">\n",
              "  <thead>\n",
              "    <tr style=\"text-align: right;\">\n",
              "      <th></th>\n",
              "      <th>vessel_class</th>\n",
              "      <th>gap_hours</th>\n",
              "      <th>iuu_caught</th>\n",
              "      <th>spherical_distances</th>\n",
              "      <th>eez_check</th>\n",
              "      <th>Ocean List New whose false were in OG</th>\n",
              "    </tr>\n",
              "  </thead>\n",
              "  <tbody>\n",
              "    <tr>\n",
              "      <th>0</th>\n",
              "      <td>other</td>\n",
              "      <td>13.016667</td>\n",
              "      <td>0</td>\n",
              "      <td>207.942845</td>\n",
              "      <td>0</td>\n",
              "      <td>atlantic</td>\n",
              "    </tr>\n",
              "    <tr>\n",
              "      <th>1</th>\n",
              "      <td>other</td>\n",
              "      <td>13.850000</td>\n",
              "      <td>0</td>\n",
              "      <td>9.704232</td>\n",
              "      <td>0</td>\n",
              "      <td>atlantic</td>\n",
              "    </tr>\n",
              "    <tr>\n",
              "      <th>2</th>\n",
              "      <td>other</td>\n",
              "      <td>33.733333</td>\n",
              "      <td>0</td>\n",
              "      <td>10.789069</td>\n",
              "      <td>1</td>\n",
              "      <td>atlantic</td>\n",
              "    </tr>\n",
              "    <tr>\n",
              "      <th>3</th>\n",
              "      <td>other</td>\n",
              "      <td>30.650000</td>\n",
              "      <td>0</td>\n",
              "      <td>11.695860</td>\n",
              "      <td>1</td>\n",
              "      <td>atlantic</td>\n",
              "    </tr>\n",
              "    <tr>\n",
              "      <th>4</th>\n",
              "      <td>other</td>\n",
              "      <td>50.283333</td>\n",
              "      <td>0</td>\n",
              "      <td>93.113335</td>\n",
              "      <td>1</td>\n",
              "      <td>atlantic</td>\n",
              "    </tr>\n",
              "  </tbody>\n",
              "</table>\n",
              "</div>\n",
              "      <button class=\"colab-df-convert\" onclick=\"convertToInteractive('df-cd30c532-a1e0-406e-b17c-b3dbc1dfccaa')\"\n",
              "              title=\"Convert this dataframe to an interactive table.\"\n",
              "              style=\"display:none;\">\n",
              "        \n",
              "  <svg xmlns=\"http://www.w3.org/2000/svg\" height=\"24px\"viewBox=\"0 0 24 24\"\n",
              "       width=\"24px\">\n",
              "    <path d=\"M0 0h24v24H0V0z\" fill=\"none\"/>\n",
              "    <path d=\"M18.56 5.44l.94 2.06.94-2.06 2.06-.94-2.06-.94-.94-2.06-.94 2.06-2.06.94zm-11 1L8.5 8.5l.94-2.06 2.06-.94-2.06-.94L8.5 2.5l-.94 2.06-2.06.94zm10 10l.94 2.06.94-2.06 2.06-.94-2.06-.94-.94-2.06-.94 2.06-2.06.94z\"/><path d=\"M17.41 7.96l-1.37-1.37c-.4-.4-.92-.59-1.43-.59-.52 0-1.04.2-1.43.59L10.3 9.45l-7.72 7.72c-.78.78-.78 2.05 0 2.83L4 21.41c.39.39.9.59 1.41.59.51 0 1.02-.2 1.41-.59l7.78-7.78 2.81-2.81c.8-.78.8-2.07 0-2.86zM5.41 20L4 18.59l7.72-7.72 1.47 1.35L5.41 20z\"/>\n",
              "  </svg>\n",
              "      </button>\n",
              "      \n",
              "  <style>\n",
              "    .colab-df-container {\n",
              "      display:flex;\n",
              "      flex-wrap:wrap;\n",
              "      gap: 12px;\n",
              "    }\n",
              "\n",
              "    .colab-df-convert {\n",
              "      background-color: #E8F0FE;\n",
              "      border: none;\n",
              "      border-radius: 50%;\n",
              "      cursor: pointer;\n",
              "      display: none;\n",
              "      fill: #1967D2;\n",
              "      height: 32px;\n",
              "      padding: 0 0 0 0;\n",
              "      width: 32px;\n",
              "    }\n",
              "\n",
              "    .colab-df-convert:hover {\n",
              "      background-color: #E2EBFA;\n",
              "      box-shadow: 0px 1px 2px rgba(60, 64, 67, 0.3), 0px 1px 3px 1px rgba(60, 64, 67, 0.15);\n",
              "      fill: #174EA6;\n",
              "    }\n",
              "\n",
              "    [theme=dark] .colab-df-convert {\n",
              "      background-color: #3B4455;\n",
              "      fill: #D2E3FC;\n",
              "    }\n",
              "\n",
              "    [theme=dark] .colab-df-convert:hover {\n",
              "      background-color: #434B5C;\n",
              "      box-shadow: 0px 1px 3px 1px rgba(0, 0, 0, 0.15);\n",
              "      filter: drop-shadow(0px 1px 2px rgba(0, 0, 0, 0.3));\n",
              "      fill: #FFFFFF;\n",
              "    }\n",
              "  </style>\n",
              "\n",
              "      <script>\n",
              "        const buttonEl =\n",
              "          document.querySelector('#df-cd30c532-a1e0-406e-b17c-b3dbc1dfccaa button.colab-df-convert');\n",
              "        buttonEl.style.display =\n",
              "          google.colab.kernel.accessAllowed ? 'block' : 'none';\n",
              "\n",
              "        async function convertToInteractive(key) {\n",
              "          const element = document.querySelector('#df-cd30c532-a1e0-406e-b17c-b3dbc1dfccaa');\n",
              "          const dataTable =\n",
              "            await google.colab.kernel.invokeFunction('convertToInteractive',\n",
              "                                                     [key], {});\n",
              "          if (!dataTable) return;\n",
              "\n",
              "          const docLinkHtml = 'Like what you see? Visit the ' +\n",
              "            '<a target=\"_blank\" href=https://colab.research.google.com/notebooks/data_table.ipynb>data table notebook</a>'\n",
              "            + ' to learn more about interactive tables.';\n",
              "          element.innerHTML = '';\n",
              "          dataTable['output_type'] = 'display_data';\n",
              "          await google.colab.output.renderOutput(dataTable, element);\n",
              "          const docLink = document.createElement('div');\n",
              "          docLink.innerHTML = docLinkHtml;\n",
              "          element.appendChild(docLink);\n",
              "        }\n",
              "      </script>\n",
              "    </div>\n",
              "  </div>\n",
              "  "
            ]
          },
          "metadata": {},
          "execution_count": 1
        }
      ],
      "source": [
        "import pandas as pd\n",
        "df=pd.read_csv('ais_disabling_events_main_only_imp_col_csv.csv')\n",
        "df.head()"
      ]
    },
    {
      "cell_type": "code",
      "execution_count": 2,
      "metadata": {
        "colab": {
          "base_uri": "https://localhost:8080/"
        },
        "id": "LV4xM8xNfDMF",
        "outputId": "6bb4756c-4ba6-4ef3-ca30-17098bb8aeac"
      },
      "outputs": [
        {
          "output_type": "execute_result",
          "data": {
            "text/plain": [
              "(55368, 6)"
            ]
          },
          "metadata": {},
          "execution_count": 2
        }
      ],
      "source": [
        "df.shape"
      ]
    },
    {
      "cell_type": "code",
      "execution_count": 3,
      "metadata": {
        "colab": {
          "base_uri": "https://localhost:8080/"
        },
        "id": "u57ZoDMefDMG",
        "outputId": "e524af74-2502-480a-ce07-34e96593ca5a"
      },
      "outputs": [
        {
          "output_type": "execute_result",
          "data": {
            "text/plain": [
              "0    55268\n",
              "1      100\n",
              "Name: iuu_caught, dtype: int64"
            ]
          },
          "metadata": {},
          "execution_count": 3
        }
      ],
      "source": [
        "df['iuu_caught'].value_counts()"
      ]
    },
    {
      "cell_type": "code",
      "execution_count": 4,
      "metadata": {
        "id": "SpXDEikQfDMG"
      },
      "outputs": [],
      "source": [
        "#### Independent and Dependent Features\n",
        "X=df.drop(\"iuu_caught\",axis=1)\n",
        "y=df.iuu_caught"
      ]
    },
    {
      "cell_type": "markdown",
      "source": [
        "### One Hot Encoding"
      ],
      "metadata": {
        "id": "cKiFGKNWlH4S"
      }
    },
    {
      "cell_type": "code",
      "source": [
        "print(df['vessel_class'].unique())\n",
        "print(df['Ocean List New whose false were in OG'].unique())"
      ],
      "metadata": {
        "colab": {
          "base_uri": "https://localhost:8080/"
        },
        "id": "yyMFweZYi5-T",
        "outputId": "64220e8a-a8b7-4bc5-dc17-7c2ffceee2b7"
      },
      "execution_count": 5,
      "outputs": [
        {
          "output_type": "stream",
          "name": "stdout",
          "text": [
            "['other' 'trawlers' 'squid_jigger' 'tuna_purse_seines'\n",
            " 'drifting_longlines']\n",
            "['atlantic' 'southern' 'mediterranean' 'arctic' 'pacific' 'Pacific'\n",
            " 'FALSE' 'indian']\n"
          ]
        }
      ]
    },
    {
      "cell_type": "code",
      "source": [
        "print(df['vessel_class'].value_counts())\n",
        "print(df['Ocean List New whose false were in OG'].value_counts())"
      ],
      "metadata": {
        "colab": {
          "base_uri": "https://localhost:8080/"
        },
        "id": "NMZkweLBkgix",
        "outputId": "60db14f9-ff7a-4ea1-c458-4a3007588683"
      },
      "execution_count": 6,
      "outputs": [
        {
          "output_type": "stream",
          "name": "stdout",
          "text": [
            "drifting_longlines    18641\n",
            "squid_jigger          16021\n",
            "tuna_purse_seines      8620\n",
            "trawlers               7913\n",
            "other                  4173\n",
            "Name: vessel_class, dtype: int64\n",
            "pacific          17108\n",
            "atlantic         16469\n",
            "Pacific          14762\n",
            "indian            6176\n",
            "arctic             499\n",
            "FALSE              227\n",
            "southern           116\n",
            "mediterranean       11\n",
            "Name: Ocean List New whose false were in OG, dtype: int64\n"
          ]
        }
      ]
    },
    {
      "cell_type": "code",
      "source": [
        "one_hot_encoded_data = pd.get_dummies(df, columns = ['vessel_class', 'Ocean List New whose false were in OG'])\n",
        "print(one_hot_encoded_data.head())"
      ],
      "metadata": {
        "colab": {
          "base_uri": "https://localhost:8080/"
        },
        "id": "-65OpmWAkvdY",
        "outputId": "0384687f-4cc7-4963-c761-16ef02407a34"
      },
      "execution_count": 7,
      "outputs": [
        {
          "output_type": "stream",
          "name": "stdout",
          "text": [
            "   gap_hours  iuu_caught  spherical_distances  eez_check  \\\n",
            "0  13.016667           0           207.942845          0   \n",
            "1  13.850000           0             9.704232          0   \n",
            "2  33.733333           0            10.789069          1   \n",
            "3  30.650000           0            11.695860          1   \n",
            "4  50.283333           0            93.113335          1   \n",
            "\n",
            "   vessel_class_drifting_longlines  vessel_class_other  \\\n",
            "0                                0                   1   \n",
            "1                                0                   1   \n",
            "2                                0                   1   \n",
            "3                                0                   1   \n",
            "4                                0                   1   \n",
            "\n",
            "   vessel_class_squid_jigger  vessel_class_trawlers  \\\n",
            "0                          0                      0   \n",
            "1                          0                      0   \n",
            "2                          0                      0   \n",
            "3                          0                      0   \n",
            "4                          0                      0   \n",
            "\n",
            "   vessel_class_tuna_purse_seines  \\\n",
            "0                               0   \n",
            "1                               0   \n",
            "2                               0   \n",
            "3                               0   \n",
            "4                               0   \n",
            "\n",
            "   Ocean List New whose false were in OG_FALSE  \\\n",
            "0                                            0   \n",
            "1                                            0   \n",
            "2                                            0   \n",
            "3                                            0   \n",
            "4                                            0   \n",
            "\n",
            "   Ocean List New whose false were in OG_Pacific  \\\n",
            "0                                              0   \n",
            "1                                              0   \n",
            "2                                              0   \n",
            "3                                              0   \n",
            "4                                              0   \n",
            "\n",
            "   Ocean List New whose false were in OG_arctic  \\\n",
            "0                                             0   \n",
            "1                                             0   \n",
            "2                                             0   \n",
            "3                                             0   \n",
            "4                                             0   \n",
            "\n",
            "   Ocean List New whose false were in OG_atlantic  \\\n",
            "0                                               1   \n",
            "1                                               1   \n",
            "2                                               1   \n",
            "3                                               1   \n",
            "4                                               1   \n",
            "\n",
            "   Ocean List New whose false were in OG_indian  \\\n",
            "0                                             0   \n",
            "1                                             0   \n",
            "2                                             0   \n",
            "3                                             0   \n",
            "4                                             0   \n",
            "\n",
            "   Ocean List New whose false were in OG_mediterranean  \\\n",
            "0                                                  0     \n",
            "1                                                  0     \n",
            "2                                                  0     \n",
            "3                                                  0     \n",
            "4                                                  0     \n",
            "\n",
            "   Ocean List New whose false were in OG_pacific  \\\n",
            "0                                              0   \n",
            "1                                              0   \n",
            "2                                              0   \n",
            "3                                              0   \n",
            "4                                              0   \n",
            "\n",
            "   Ocean List New whose false were in OG_southern  \n",
            "0                                               0  \n",
            "1                                               0  \n",
            "2                                               0  \n",
            "3                                               0  \n",
            "4                                               0  \n"
          ]
        }
      ]
    },
    {
      "cell_type": "code",
      "source": [
        "#### Independent and Dependent Features\n",
        "X=one_hot_encoded_data.drop(\"iuu_caught\",axis=1)\n",
        "y=one_hot_encoded_data.iuu_caught"
      ],
      "metadata": {
        "id": "pMpzCAHKlyKv"
      },
      "execution_count": 8,
      "outputs": []
    },
    {
      "cell_type": "markdown",
      "metadata": {
        "id": "2rsoJLeffDMQ"
      },
      "source": [
        "#### SMOTETomek"
      ]
    },
    {
      "cell_type": "code",
      "source": [
        "y.value_counts()"
      ],
      "metadata": {
        "colab": {
          "base_uri": "https://localhost:8080/"
        },
        "id": "e32GaVFs_J3v",
        "outputId": "14c1f7b8-29bb-4bdf-92a9-7c3691e18f01"
      },
      "execution_count": 9,
      "outputs": [
        {
          "output_type": "execute_result",
          "data": {
            "text/plain": [
              "0    55268\n",
              "1      100\n",
              "Name: iuu_caught, dtype: int64"
            ]
          },
          "metadata": {},
          "execution_count": 9
        }
      ]
    },
    {
      "cell_type": "code",
      "source": [
        "from imblearn.over_sampling import SMOTE\n",
        "\n",
        "smote = SMOTE(sampling_strategy='minority')\n",
        "X_sm, y_sm = smote.fit_resample(X,y)\n",
        "\n",
        "y_sm.value_counts()"
      ],
      "metadata": {
        "colab": {
          "base_uri": "https://localhost:8080/"
        },
        "id": "Gqu6qN0y_VN1",
        "outputId": "d8449b41-7e50-40c1-f1bd-a7f11af43426"
      },
      "execution_count": 10,
      "outputs": [
        {
          "output_type": "execute_result",
          "data": {
            "text/plain": [
              "0    55268\n",
              "1    55268\n",
              "Name: iuu_caught, dtype: int64"
            ]
          },
          "metadata": {},
          "execution_count": 10
        }
      ]
    },
    {
      "cell_type": "code",
      "source": [
        "from sklearn.model_selection import train_test_split\n",
        "X_train, X_test, y_train, y_test = train_test_split(X_sm, y_sm, test_size=0.2, random_state=15, stratify=y_sm)"
      ],
      "metadata": {
        "id": "6PZ4DCX2_xTw"
      },
      "execution_count": 11,
      "outputs": []
    },
    {
      "cell_type": "code",
      "source": [
        "y_train.value_counts()"
      ],
      "metadata": {
        "colab": {
          "base_uri": "https://localhost:8080/"
        },
        "id": "nHfQWq0XAB_o",
        "outputId": "b7bb23f6-d9dc-4b61-8628-7e1cd73e76e5"
      },
      "execution_count": 12,
      "outputs": [
        {
          "output_type": "execute_result",
          "data": {
            "text/plain": [
              "0    44214\n",
              "1    44214\n",
              "Name: iuu_caught, dtype: int64"
            ]
          },
          "metadata": {},
          "execution_count": 12
        }
      ]
    },
    {
      "cell_type": "code",
      "source": [
        "y_test.value_counts()"
      ],
      "metadata": {
        "colab": {
          "base_uri": "https://localhost:8080/"
        },
        "id": "HaLO_xD1AE79",
        "outputId": "4edae444-60b8-48ac-8232-1369e57887bb"
      },
      "execution_count": 13,
      "outputs": [
        {
          "output_type": "execute_result",
          "data": {
            "text/plain": [
              "0    11054\n",
              "1    11054\n",
              "Name: iuu_caught, dtype: int64"
            ]
          },
          "metadata": {},
          "execution_count": 13
        }
      ]
    },
    {
      "cell_type": "code",
      "source": [
        "import tensorflow as tf\n",
        "import numpy as np\n",
        "from tensorflow import keras\n",
        "from sklearn.metrics import confusion_matrix , classification_report\n",
        "# from tensorflow_addons import losses\n",
        "\n",
        "\n",
        "def ANN(X_train, y_train, X_test, y_test, loss, weights):\n",
        "    model = keras.Sequential([\n",
        "        keras.layers.Dense(26, input_dim=16, activation='relu'),\n",
        "        keras.layers.Dense(15, activation='relu'),\n",
        "        keras.layers.Dense(1, activation='sigmoid')\n",
        "    ])\n",
        "\n",
        "    model.compile(optimizer='adam', loss=loss, metrics=['accuracy'])\n",
        "    \n",
        "    if weights == -1:\n",
        "        model.fit(X_train, y_train, epochs=50)\n",
        "    else:\n",
        "        model.fit(X_train, y_train, epochs=10, class_weight = weights)\n",
        "    \n",
        "    print(model.evaluate(X_test, y_test))\n",
        "    \n",
        "    y_preds = model.predict(X_test)\n",
        "    y_preds = np.round(y_preds)\n",
        "    \n",
        "    print(\"Classification Report: \\n\", classification_report(y_test, y_preds))\n",
        "    \n",
        "    return y_preds\n",
        "\n",
        "y_preds = ANN(X_train, y_train, X_test, y_test, 'binary_crossentropy', -1)"
      ],
      "metadata": {
        "colab": {
          "base_uri": "https://localhost:8080/"
        },
        "id": "8o0FPi_mAKOK",
        "outputId": "d8a73fc2-7f14-4cf5-cab1-ca2cca57d3be"
      },
      "execution_count": 14,
      "outputs": [
        {
          "output_type": "stream",
          "name": "stdout",
          "text": [
            "Epoch 1/50\n",
            "2764/2764 [==============================] - 10s 3ms/step - loss: 1.1827 - accuracy: 0.7951\n",
            "Epoch 2/50\n",
            "2764/2764 [==============================] - 7s 3ms/step - loss: 0.3273 - accuracy: 0.8949\n",
            "Epoch 3/50\n",
            "2764/2764 [==============================] - 7s 3ms/step - loss: 0.2867 - accuracy: 0.9126\n",
            "Epoch 4/50\n",
            "2764/2764 [==============================] - 7s 3ms/step - loss: 0.2379 - accuracy: 0.9219\n",
            "Epoch 5/50\n",
            "2764/2764 [==============================] - 7s 3ms/step - loss: 0.2470 - accuracy: 0.9212\n",
            "Epoch 6/50\n",
            "2764/2764 [==============================] - 7s 3ms/step - loss: 0.2284 - accuracy: 0.9241\n",
            "Epoch 7/50\n",
            "2764/2764 [==============================] - 7s 3ms/step - loss: 0.2016 - accuracy: 0.9285\n",
            "Epoch 8/50\n",
            "2764/2764 [==============================] - 8s 3ms/step - loss: 0.2047 - accuracy: 0.9306\n",
            "Epoch 9/50\n",
            "2764/2764 [==============================] - 7s 3ms/step - loss: 0.1847 - accuracy: 0.9363\n",
            "Epoch 10/50\n",
            "2764/2764 [==============================] - 7s 3ms/step - loss: 0.1659 - accuracy: 0.9414\n",
            "Epoch 11/50\n",
            "2764/2764 [==============================] - 7s 3ms/step - loss: 0.1614 - accuracy: 0.9430\n",
            "Epoch 12/50\n",
            "2764/2764 [==============================] - 7s 3ms/step - loss: 0.1618 - accuracy: 0.9444\n",
            "Epoch 13/50\n",
            "2764/2764 [==============================] - 7s 3ms/step - loss: 0.1583 - accuracy: 0.9454\n",
            "Epoch 14/50\n",
            "2764/2764 [==============================] - 7s 3ms/step - loss: 0.1508 - accuracy: 0.9497\n",
            "Epoch 15/50\n",
            "2764/2764 [==============================] - 7s 3ms/step - loss: 0.1406 - accuracy: 0.9524\n",
            "Epoch 16/50\n",
            "2764/2764 [==============================] - 7s 3ms/step - loss: 0.1379 - accuracy: 0.9545\n",
            "Epoch 17/50\n",
            "2764/2764 [==============================] - 7s 3ms/step - loss: 0.1331 - accuracy: 0.9557\n",
            "Epoch 18/50\n",
            "2764/2764 [==============================] - 7s 3ms/step - loss: 0.1302 - accuracy: 0.9567\n",
            "Epoch 19/50\n",
            "2764/2764 [==============================] - 7s 3ms/step - loss: 0.1292 - accuracy: 0.9569\n",
            "Epoch 20/50\n",
            "2764/2764 [==============================] - 7s 3ms/step - loss: 0.1249 - accuracy: 0.9579\n",
            "Epoch 21/50\n",
            "2764/2764 [==============================] - 7s 3ms/step - loss: 0.1218 - accuracy: 0.9596\n",
            "Epoch 22/50\n",
            "2764/2764 [==============================] - 7s 3ms/step - loss: 0.1177 - accuracy: 0.9599\n",
            "Epoch 23/50\n",
            "2764/2764 [==============================] - 7s 3ms/step - loss: 0.1192 - accuracy: 0.9605\n",
            "Epoch 24/50\n",
            "2764/2764 [==============================] - 7s 3ms/step - loss: 0.1124 - accuracy: 0.9625\n",
            "Epoch 25/50\n",
            "2764/2764 [==============================] - 7s 3ms/step - loss: 0.1110 - accuracy: 0.9627\n",
            "Epoch 26/50\n",
            "2764/2764 [==============================] - 7s 3ms/step - loss: 0.1089 - accuracy: 0.9631\n",
            "Epoch 27/50\n",
            "2764/2764 [==============================] - 7s 3ms/step - loss: 0.1068 - accuracy: 0.9646\n",
            "Epoch 28/50\n",
            "2764/2764 [==============================] - 8s 3ms/step - loss: 0.1092 - accuracy: 0.9640\n",
            "Epoch 29/50\n",
            "2764/2764 [==============================] - 8s 3ms/step - loss: 0.1071 - accuracy: 0.9644\n",
            "Epoch 30/50\n",
            "2764/2764 [==============================] - 7s 3ms/step - loss: 0.1032 - accuracy: 0.9665\n",
            "Epoch 31/50\n",
            "2764/2764 [==============================] - 7s 3ms/step - loss: 0.1027 - accuracy: 0.9661\n",
            "Epoch 32/50\n",
            "2764/2764 [==============================] - 9s 3ms/step - loss: 0.1042 - accuracy: 0.9660\n",
            "Epoch 33/50\n",
            "2764/2764 [==============================] - 9s 3ms/step - loss: 0.1003 - accuracy: 0.9665\n",
            "Epoch 34/50\n",
            "2764/2764 [==============================] - 7s 3ms/step - loss: 0.0988 - accuracy: 0.9678\n",
            "Epoch 35/50\n",
            "2764/2764 [==============================] - 7s 3ms/step - loss: 0.0971 - accuracy: 0.9685\n",
            "Epoch 36/50\n",
            "2764/2764 [==============================] - 8s 3ms/step - loss: 0.0992 - accuracy: 0.9675\n",
            "Epoch 37/50\n",
            "2764/2764 [==============================] - 8s 3ms/step - loss: 0.0947 - accuracy: 0.9690\n",
            "Epoch 38/50\n",
            "2764/2764 [==============================] - 7s 3ms/step - loss: 0.0977 - accuracy: 0.9685\n",
            "Epoch 39/50\n",
            "2764/2764 [==============================] - 7s 3ms/step - loss: 0.0962 - accuracy: 0.9683\n",
            "Epoch 40/50\n",
            "2764/2764 [==============================] - 7s 3ms/step - loss: 0.0944 - accuracy: 0.9694\n",
            "Epoch 41/50\n",
            "2764/2764 [==============================] - 7s 3ms/step - loss: 0.0931 - accuracy: 0.9696\n",
            "Epoch 42/50\n",
            "2764/2764 [==============================] - 7s 3ms/step - loss: 0.0929 - accuracy: 0.9694\n",
            "Epoch 43/50\n",
            "2764/2764 [==============================] - 7s 3ms/step - loss: 0.0954 - accuracy: 0.9690\n",
            "Epoch 44/50\n",
            "2764/2764 [==============================] - 7s 3ms/step - loss: 0.0926 - accuracy: 0.9697\n",
            "Epoch 45/50\n",
            "2764/2764 [==============================] - 7s 3ms/step - loss: 0.0930 - accuracy: 0.9698\n",
            "Epoch 46/50\n",
            "2764/2764 [==============================] - 7s 3ms/step - loss: 0.0930 - accuracy: 0.9697\n",
            "Epoch 47/50\n",
            "2764/2764 [==============================] - 7s 3ms/step - loss: 0.0924 - accuracy: 0.9701\n",
            "Epoch 48/50\n",
            "2764/2764 [==============================] - 7s 3ms/step - loss: 0.0913 - accuracy: 0.9699\n",
            "Epoch 49/50\n",
            "2764/2764 [==============================] - 7s 3ms/step - loss: 0.0914 - accuracy: 0.9704\n",
            "Epoch 50/50\n",
            "2764/2764 [==============================] - 7s 3ms/step - loss: 0.0919 - accuracy: 0.9705\n",
            "691/691 [==============================] - 1s 2ms/step - loss: 0.0820 - accuracy: 0.9731\n",
            "[0.08204352855682373, 0.9731318950653076]\n",
            "691/691 [==============================] - 1s 1ms/step\n",
            "Classification Report: \n",
            "               precision    recall  f1-score   support\n",
            "\n",
            "           0       0.99      0.95      0.97     11054\n",
            "           1       0.96      0.99      0.97     11054\n",
            "\n",
            "    accuracy                           0.97     22108\n",
            "   macro avg       0.97      0.97      0.97     22108\n",
            "weighted avg       0.97      0.97      0.97     22108\n",
            "\n"
          ]
        }
      ]
    }
  ],
  "metadata": {
    "kernelspec": {
      "display_name": "Python 3",
      "language": "python",
      "name": "python3"
    },
    "language_info": {
      "codemirror_mode": {
        "name": "ipython",
        "version": 3
      },
      "file_extension": ".py",
      "mimetype": "text/x-python",
      "name": "python",
      "nbconvert_exporter": "python",
      "pygments_lexer": "ipython3",
      "version": "3.7.7"
    },
    "colab": {
      "provenance": [],
      "collapsed_sections": [
        "eGenfGWMfDMH",
        "ln9p6XFgfDMO"
      ]
    },
    "accelerator": "GPU",
    "gpuClass": "standard"
  },
  "nbformat": 4,
  "nbformat_minor": 0
}
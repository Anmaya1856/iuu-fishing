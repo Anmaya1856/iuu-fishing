{
  "cells": [
    {
      "cell_type": "markdown",
      "metadata": {
        "id": "j3dKmFb1fDL-"
      },
      "source": [
        "#### Handling Imbalanced Dataset with Machine Learning"
      ]
    },
    {
      "cell_type": "code",
      "execution_count": null,
      "metadata": {
        "colab": {
          "base_uri": "https://localhost:8080/",
          "height": 206
        },
        "id": "W0XR2-q8fDMD",
        "outputId": "7708a6f2-8332-4f90-e28a-77abd8751024"
      },
      "outputs": [
        {
          "output_type": "execute_result",
          "data": {
            "text/plain": [
              "  vessel_class  gap_hours  iuu_caught  spherical_distances  eez_check  \\\n",
              "0        other  13.016667           0           207.942845          0   \n",
              "1        other  13.850000           0             9.704232          0   \n",
              "2        other  33.733333           0            10.789069          1   \n",
              "3        other  30.650000           0            11.695860          1   \n",
              "4        other  50.283333           0            93.113335          1   \n",
              "\n",
              "  Ocean List New whose false were in OG  \n",
              "0                              atlantic  \n",
              "1                              atlantic  \n",
              "2                              atlantic  \n",
              "3                              atlantic  \n",
              "4                              atlantic  "
            ],
            "text/html": [
              "\n",
              "  <div id=\"df-4b89acce-4672-4ead-8b44-cf07af626887\">\n",
              "    <div class=\"colab-df-container\">\n",
              "      <div>\n",
              "<style scoped>\n",
              "    .dataframe tbody tr th:only-of-type {\n",
              "        vertical-align: middle;\n",
              "    }\n",
              "\n",
              "    .dataframe tbody tr th {\n",
              "        vertical-align: top;\n",
              "    }\n",
              "\n",
              "    .dataframe thead th {\n",
              "        text-align: right;\n",
              "    }\n",
              "</style>\n",
              "<table border=\"1\" class=\"dataframe\">\n",
              "  <thead>\n",
              "    <tr style=\"text-align: right;\">\n",
              "      <th></th>\n",
              "      <th>vessel_class</th>\n",
              "      <th>gap_hours</th>\n",
              "      <th>iuu_caught</th>\n",
              "      <th>spherical_distances</th>\n",
              "      <th>eez_check</th>\n",
              "      <th>Ocean List New whose false were in OG</th>\n",
              "    </tr>\n",
              "  </thead>\n",
              "  <tbody>\n",
              "    <tr>\n",
              "      <th>0</th>\n",
              "      <td>other</td>\n",
              "      <td>13.016667</td>\n",
              "      <td>0</td>\n",
              "      <td>207.942845</td>\n",
              "      <td>0</td>\n",
              "      <td>atlantic</td>\n",
              "    </tr>\n",
              "    <tr>\n",
              "      <th>1</th>\n",
              "      <td>other</td>\n",
              "      <td>13.850000</td>\n",
              "      <td>0</td>\n",
              "      <td>9.704232</td>\n",
              "      <td>0</td>\n",
              "      <td>atlantic</td>\n",
              "    </tr>\n",
              "    <tr>\n",
              "      <th>2</th>\n",
              "      <td>other</td>\n",
              "      <td>33.733333</td>\n",
              "      <td>0</td>\n",
              "      <td>10.789069</td>\n",
              "      <td>1</td>\n",
              "      <td>atlantic</td>\n",
              "    </tr>\n",
              "    <tr>\n",
              "      <th>3</th>\n",
              "      <td>other</td>\n",
              "      <td>30.650000</td>\n",
              "      <td>0</td>\n",
              "      <td>11.695860</td>\n",
              "      <td>1</td>\n",
              "      <td>atlantic</td>\n",
              "    </tr>\n",
              "    <tr>\n",
              "      <th>4</th>\n",
              "      <td>other</td>\n",
              "      <td>50.283333</td>\n",
              "      <td>0</td>\n",
              "      <td>93.113335</td>\n",
              "      <td>1</td>\n",
              "      <td>atlantic</td>\n",
              "    </tr>\n",
              "  </tbody>\n",
              "</table>\n",
              "</div>\n",
              "      <button class=\"colab-df-convert\" onclick=\"convertToInteractive('df-4b89acce-4672-4ead-8b44-cf07af626887')\"\n",
              "              title=\"Convert this dataframe to an interactive table.\"\n",
              "              style=\"display:none;\">\n",
              "        \n",
              "  <svg xmlns=\"http://www.w3.org/2000/svg\" height=\"24px\"viewBox=\"0 0 24 24\"\n",
              "       width=\"24px\">\n",
              "    <path d=\"M0 0h24v24H0V0z\" fill=\"none\"/>\n",
              "    <path d=\"M18.56 5.44l.94 2.06.94-2.06 2.06-.94-2.06-.94-.94-2.06-.94 2.06-2.06.94zm-11 1L8.5 8.5l.94-2.06 2.06-.94-2.06-.94L8.5 2.5l-.94 2.06-2.06.94zm10 10l.94 2.06.94-2.06 2.06-.94-2.06-.94-.94-2.06-.94 2.06-2.06.94z\"/><path d=\"M17.41 7.96l-1.37-1.37c-.4-.4-.92-.59-1.43-.59-.52 0-1.04.2-1.43.59L10.3 9.45l-7.72 7.72c-.78.78-.78 2.05 0 2.83L4 21.41c.39.39.9.59 1.41.59.51 0 1.02-.2 1.41-.59l7.78-7.78 2.81-2.81c.8-.78.8-2.07 0-2.86zM5.41 20L4 18.59l7.72-7.72 1.47 1.35L5.41 20z\"/>\n",
              "  </svg>\n",
              "      </button>\n",
              "      \n",
              "  <style>\n",
              "    .colab-df-container {\n",
              "      display:flex;\n",
              "      flex-wrap:wrap;\n",
              "      gap: 12px;\n",
              "    }\n",
              "\n",
              "    .colab-df-convert {\n",
              "      background-color: #E8F0FE;\n",
              "      border: none;\n",
              "      border-radius: 50%;\n",
              "      cursor: pointer;\n",
              "      display: none;\n",
              "      fill: #1967D2;\n",
              "      height: 32px;\n",
              "      padding: 0 0 0 0;\n",
              "      width: 32px;\n",
              "    }\n",
              "\n",
              "    .colab-df-convert:hover {\n",
              "      background-color: #E2EBFA;\n",
              "      box-shadow: 0px 1px 2px rgba(60, 64, 67, 0.3), 0px 1px 3px 1px rgba(60, 64, 67, 0.15);\n",
              "      fill: #174EA6;\n",
              "    }\n",
              "\n",
              "    [theme=dark] .colab-df-convert {\n",
              "      background-color: #3B4455;\n",
              "      fill: #D2E3FC;\n",
              "    }\n",
              "\n",
              "    [theme=dark] .colab-df-convert:hover {\n",
              "      background-color: #434B5C;\n",
              "      box-shadow: 0px 1px 3px 1px rgba(0, 0, 0, 0.15);\n",
              "      filter: drop-shadow(0px 1px 2px rgba(0, 0, 0, 0.3));\n",
              "      fill: #FFFFFF;\n",
              "    }\n",
              "  </style>\n",
              "\n",
              "      <script>\n",
              "        const buttonEl =\n",
              "          document.querySelector('#df-4b89acce-4672-4ead-8b44-cf07af626887 button.colab-df-convert');\n",
              "        buttonEl.style.display =\n",
              "          google.colab.kernel.accessAllowed ? 'block' : 'none';\n",
              "\n",
              "        async function convertToInteractive(key) {\n",
              "          const element = document.querySelector('#df-4b89acce-4672-4ead-8b44-cf07af626887');\n",
              "          const dataTable =\n",
              "            await google.colab.kernel.invokeFunction('convertToInteractive',\n",
              "                                                     [key], {});\n",
              "          if (!dataTable) return;\n",
              "\n",
              "          const docLinkHtml = 'Like what you see? Visit the ' +\n",
              "            '<a target=\"_blank\" href=https://colab.research.google.com/notebooks/data_table.ipynb>data table notebook</a>'\n",
              "            + ' to learn more about interactive tables.';\n",
              "          element.innerHTML = '';\n",
              "          dataTable['output_type'] = 'display_data';\n",
              "          await google.colab.output.renderOutput(dataTable, element);\n",
              "          const docLink = document.createElement('div');\n",
              "          docLink.innerHTML = docLinkHtml;\n",
              "          element.appendChild(docLink);\n",
              "        }\n",
              "      </script>\n",
              "    </div>\n",
              "  </div>\n",
              "  "
            ]
          },
          "metadata": {},
          "execution_count": 1
        }
      ],
      "source": [
        "import pandas as pd\n",
        "df=pd.read_csv('ais_disabling_events_main_only_imp_col_csv.csv')\n",
        "df.head()"
      ]
    },
    {
      "cell_type": "code",
      "execution_count": null,
      "metadata": {
        "colab": {
          "base_uri": "https://localhost:8080/"
        },
        "id": "LV4xM8xNfDMF",
        "outputId": "e4b30ef4-229a-42e7-ac21-11f2dddd13e8"
      },
      "outputs": [
        {
          "output_type": "execute_result",
          "data": {
            "text/plain": [
              "(55141, 6)"
            ]
          },
          "metadata": {},
          "execution_count": 2
        }
      ],
      "source": [
        "df.shape"
      ]
    },
    {
      "cell_type": "code",
      "execution_count": null,
      "metadata": {
        "colab": {
          "base_uri": "https://localhost:8080/"
        },
        "id": "u57ZoDMefDMG",
        "outputId": "f47e13f0-4b65-4e26-9aaf-e73f4bae310e"
      },
      "outputs": [
        {
          "output_type": "execute_result",
          "data": {
            "text/plain": [
              "0    55041\n",
              "1      100\n",
              "Name: iuu_caught, dtype: int64"
            ]
          },
          "metadata": {},
          "execution_count": 3
        }
      ],
      "source": [
        "df['iuu_caught'].value_counts()"
      ]
    },
    {
      "cell_type": "code",
      "execution_count": null,
      "metadata": {
        "id": "SpXDEikQfDMG"
      },
      "outputs": [],
      "source": [
        "#### Independent and Dependent Features\n",
        "X=df.drop(\"iuu_caught\",axis=1)\n",
        "y=df.iuu_caught"
      ]
    },
    {
      "cell_type": "markdown",
      "source": [
        "### One Hot Encoding"
      ],
      "metadata": {
        "id": "cKiFGKNWlH4S"
      }
    },
    {
      "cell_type": "code",
      "source": [
        "print(df['vessel_class'].unique())\n",
        "print(df['Ocean List New whose false were in OG'].unique())"
      ],
      "metadata": {
        "colab": {
          "base_uri": "https://localhost:8080/"
        },
        "id": "yyMFweZYi5-T",
        "outputId": "73e19520-30be-4d43-caf1-d34e3ac44af5"
      },
      "execution_count": null,
      "outputs": [
        {
          "output_type": "stream",
          "name": "stdout",
          "text": [
            "['other' 'trawlers' 'squid_jigger' 'tuna_purse_seines'\n",
            " 'drifting_longlines']\n",
            "['atlantic' 'southern' 'mediterranean' 'arctic' 'pacific' 'indian']\n"
          ]
        }
      ]
    },
    {
      "cell_type": "code",
      "source": [
        "print(df['vessel_class'].value_counts())\n",
        "print(df['Ocean List New whose false were in OG'].value_counts())"
      ],
      "metadata": {
        "colab": {
          "base_uri": "https://localhost:8080/"
        },
        "id": "NMZkweLBkgix",
        "outputId": "d7e20c07-44ed-4e69-d317-f2e8262f1747"
      },
      "execution_count": null,
      "outputs": [
        {
          "output_type": "stream",
          "name": "stdout",
          "text": [
            "drifting_longlines    18608\n",
            "squid_jigger          15965\n",
            "tuna_purse_seines      8620\n",
            "trawlers               7865\n",
            "other                  4083\n",
            "Name: vessel_class, dtype: int64\n",
            "pacific          31870\n",
            "atlantic         16469\n",
            "indian            6176\n",
            "arctic             499\n",
            "southern           116\n",
            "mediterranean       11\n",
            "Name: Ocean List New whose false were in OG, dtype: int64\n"
          ]
        }
      ]
    },
    {
      "cell_type": "code",
      "source": [
        "one_hot_encoded_data = pd.get_dummies(df, columns = ['vessel_class', 'Ocean List New whose false were in OG'])\n",
        "print(one_hot_encoded_data.head())"
      ],
      "metadata": {
        "colab": {
          "base_uri": "https://localhost:8080/"
        },
        "id": "-65OpmWAkvdY",
        "outputId": "d1be9f83-be7f-4d35-e242-55a63e61f6e2"
      },
      "execution_count": null,
      "outputs": [
        {
          "output_type": "stream",
          "name": "stdout",
          "text": [
            "   gap_hours  iuu_caught  spherical_distances  eez_check  \\\n",
            "0  13.016667           0           207.942845          0   \n",
            "1  13.850000           0             9.704232          0   \n",
            "2  33.733333           0            10.789069          1   \n",
            "3  30.650000           0            11.695860          1   \n",
            "4  50.283333           0            93.113335          1   \n",
            "\n",
            "   vessel_class_drifting_longlines  vessel_class_other  \\\n",
            "0                                0                   1   \n",
            "1                                0                   1   \n",
            "2                                0                   1   \n",
            "3                                0                   1   \n",
            "4                                0                   1   \n",
            "\n",
            "   vessel_class_squid_jigger  vessel_class_trawlers  \\\n",
            "0                          0                      0   \n",
            "1                          0                      0   \n",
            "2                          0                      0   \n",
            "3                          0                      0   \n",
            "4                          0                      0   \n",
            "\n",
            "   vessel_class_tuna_purse_seines  \\\n",
            "0                               0   \n",
            "1                               0   \n",
            "2                               0   \n",
            "3                               0   \n",
            "4                               0   \n",
            "\n",
            "   Ocean List New whose false were in OG_arctic  \\\n",
            "0                                             0   \n",
            "1                                             0   \n",
            "2                                             0   \n",
            "3                                             0   \n",
            "4                                             0   \n",
            "\n",
            "   Ocean List New whose false were in OG_atlantic  \\\n",
            "0                                               1   \n",
            "1                                               1   \n",
            "2                                               1   \n",
            "3                                               1   \n",
            "4                                               1   \n",
            "\n",
            "   Ocean List New whose false were in OG_indian  \\\n",
            "0                                             0   \n",
            "1                                             0   \n",
            "2                                             0   \n",
            "3                                             0   \n",
            "4                                             0   \n",
            "\n",
            "   Ocean List New whose false were in OG_mediterranean  \\\n",
            "0                                                  0     \n",
            "1                                                  0     \n",
            "2                                                  0     \n",
            "3                                                  0     \n",
            "4                                                  0     \n",
            "\n",
            "   Ocean List New whose false were in OG_pacific  \\\n",
            "0                                              0   \n",
            "1                                              0   \n",
            "2                                              0   \n",
            "3                                              0   \n",
            "4                                              0   \n",
            "\n",
            "   Ocean List New whose false were in OG_southern  \n",
            "0                                               0  \n",
            "1                                               0  \n",
            "2                                               0  \n",
            "3                                               0  \n",
            "4                                               0  \n"
          ]
        }
      ]
    },
    {
      "cell_type": "code",
      "source": [
        "#### Independent and Dependent Features\n",
        "X=one_hot_encoded_data.drop(\"iuu_caught\",axis=1)\n",
        "y=one_hot_encoded_data.iuu_caught"
      ],
      "metadata": {
        "id": "pMpzCAHKlyKv"
      },
      "execution_count": null,
      "outputs": []
    },
    {
      "cell_type": "markdown",
      "metadata": {
        "id": "2rsoJLeffDMQ"
      },
      "source": [
        "#### SMOTETomek"
      ]
    },
    {
      "cell_type": "code",
      "source": [
        "y.value_counts()"
      ],
      "metadata": {
        "colab": {
          "base_uri": "https://localhost:8080/"
        },
        "id": "e32GaVFs_J3v",
        "outputId": "a68dc09c-89a7-4547-88c6-89080c4b98b5"
      },
      "execution_count": null,
      "outputs": [
        {
          "output_type": "execute_result",
          "data": {
            "text/plain": [
              "0    55041\n",
              "1      100\n",
              "Name: iuu_caught, dtype: int64"
            ]
          },
          "metadata": {},
          "execution_count": 9
        }
      ]
    },
    {
      "cell_type": "code",
      "source": [
        "# data wrangling\n",
        "import pandas as pd\n",
        "import numpy as np\n",
        "# inputs data preparation\n",
        "from sklearn.preprocessing import RobustScaler\n",
        "from sklearn.model_selection import train_test_split\n",
        "# modeling\n",
        "from sklearn.linear_model import LogisticRegression\n",
        "# model validation\n",
        "from sklearn.metrics import classification_report\n",
        "from sklearn.metrics import confusion_matrix"
      ],
      "metadata": {
        "id": "8inuhHhIuHTN"
      },
      "execution_count": null,
      "outputs": []
    },
    {
      "cell_type": "code",
      "source": [
        "# number of fraud cases\n",
        "frauds = len(df[df.iuu_caught == 1])\n",
        "# selecting the indices of the non-fraud classes\n",
        "fraud_indices = df[df.iuu_caught == 1].index\n",
        "nonfraud_indices = df[df.iuu_caught == 0].index\n",
        "# from all non-fraud observations, randomly select observations equal to number of fraud observations\n",
        "random_nonfraud_indices = np.random.choice(nonfraud_indices, frauds, replace = False)\n",
        "random_nonfraud_indices = np.array(random_nonfraud_indices)\n",
        "# appending the 2 indices\n",
        "under_sample_indices = np.concatenate([fraud_indices,random_nonfraud_indices])\n",
        "# undersample dataset\n",
        "under_sample_data = one_hot_encoded_data.iloc[under_sample_indices,:]\n",
        "# now split X, y variables from the under sample data\n",
        "X_undersample = under_sample_data.loc[:, under_sample_data.columns != 'iuu_caught']\n",
        "y_undersample = under_sample_data.loc[:, under_sample_data.columns == 'iuu_caught']\n",
        "print(X_undersample.value_counts())"
      ],
      "metadata": {
        "colab": {
          "base_uri": "https://localhost:8080/"
        },
        "id": "WlB9mAvxuOzx",
        "outputId": "7affa01d-d92b-4deb-a1f7-875318c0a2b4"
      },
      "execution_count": null,
      "outputs": [
        {
          "output_type": "stream",
          "name": "stdout",
          "text": [
            "gap_hours    spherical_distances  eez_check  vessel_class_drifting_longlines  vessel_class_other  vessel_class_squid_jigger  vessel_class_trawlers  vessel_class_tuna_purse_seines  Ocean List New whose false were in OG_arctic  Ocean List New whose false were in OG_atlantic  Ocean List New whose false were in OG_indian  Ocean List New whose false were in OG_mediterranean  Ocean List New whose false were in OG_pacific  Ocean List New whose false were in OG_southern\n",
            "12.083333    67.277665            0          0                                1                   0                          0                      0                               0                                             1                                               0                                             0                                                    0                                              0                                                 1\n",
            "123.066667   29.078697            0          0                                0                   0                          1                      0                               0                                             1                                               0                                             0                                                    0                                              0                                                 1\n",
            "93.516667    2106.119883          1          0                                0                   0                          0                      1                               0                                             1                                               0                                             0                                                    0                                              0                                                 1\n",
            "94.450000    1447.496336          1          0                                0                   0                          0                      1                               0                                             1                                               0                                             0                                                    0                                              0                                                 1\n",
            "97.683333    867.689974           0          0                                0                   0                          0                      1                               0                                             1                                               0                                             0                                                    0                                              0                                                 1\n",
            "                                                                                                                                                                                                                                                                                                                                                                                                                                                                                     ..\n",
            "27.683333    59.358505            1          0                                1                   0                          0                      0                               0                                             0                                               0                                             0                                                    1                                              0                                                 1\n",
            "27.816667    72.740514            0          1                                0                   0                          0                      0                               0                                             0                                               0                                             0                                                    1                                              0                                                 1\n",
            "28.650000    130.458805           0          0                                0                   0                          0                      1                               0                                             0                                               1                                             0                                                    0                                              0                                                 1\n",
            "28.850000    156.507204           0          0                                0                   0                          0                      1                               0                                             1                                               0                                             0                                                    0                                              0                                                 1\n",
            "4034.783333  2051.092341          0          0                                0                   0                          0                      1                               0                                             0                                               0                                             0                                                    1                                              0                                                 1\n",
            "Length: 200, dtype: int64\n"
          ]
        }
      ]
    },
    {
      "cell_type": "code",
      "source": [
        "# split dataset\n",
        "X_train_undersample, X_test_undersample, y_train_undersample, y_test_undersample = train_test_split(X_undersample, y_undersample, test_size = 0.3, random_state = 0)"
      ],
      "metadata": {
        "id": "fUz9KL3iudFb"
      },
      "execution_count": null,
      "outputs": []
    },
    {
      "cell_type": "code",
      "source": [
        "print(X_train_undersample.value_counts())\n",
        "print(y_train_undersample.value_counts())\n",
        "print(X_test_undersample.value_counts())\n",
        "print(y_test_undersample.value_counts())"
      ],
      "metadata": {
        "colab": {
          "base_uri": "https://localhost:8080/"
        },
        "id": "YnzANbrywBOU",
        "outputId": "3064555f-2fa9-4de3-fb98-1eb37dc47a90"
      },
      "execution_count": null,
      "outputs": [
        {
          "output_type": "stream",
          "name": "stdout",
          "text": [
            "gap_hours    spherical_distances  eez_check  vessel_class_drifting_longlines  vessel_class_other  vessel_class_squid_jigger  vessel_class_trawlers  vessel_class_tuna_purse_seines  Ocean List New whose false were in OG_arctic  Ocean List New whose false were in OG_atlantic  Ocean List New whose false were in OG_indian  Ocean List New whose false were in OG_mediterranean  Ocean List New whose false were in OG_pacific  Ocean List New whose false were in OG_southern\n",
            "12.083333    67.277665            0          0                                1                   0                          0                      0                               0                                             1                                               0                                             0                                                    0                                              0                                                 1\n",
            "117.850000   78.834114            1          0                                0                   0                          1                      0                               0                                             1                                               0                                             0                                                    0                                              0                                                 1\n",
            "98.966667    5.447418             1          0                                0                   0                          0                      1                               0                                             1                                               0                                             0                                                    0                                              0                                                 1\n",
            "106.316667   454.621996           1          0                                0                   0                          0                      1                               0                                             0                                               0                                             0                                                    1                                              0                                                 1\n",
            "109.716667   851.295972           0          0                                0                   0                          0                      1                               0                                             1                                               0                                             0                                                    0                                              0                                                 1\n",
            "                                                                                                                                                                                                                                                                                                                                                                                                                                                                                     ..\n",
            "19.616667    57.860311            0          1                                0                   0                          0                      0                               0                                             0                                               0                                             0                                                    1                                              0                                                 1\n",
            "19.083333    17.734044            0          0                                0                   1                          0                      0                               0                                             0                                               0                                             0                                                    1                                              0                                                 1\n",
            "18.933333    62.506510            0          0                                1                   0                          0                      0                               0                                             1                                               0                                             0                                                    0                                              0                                                 1\n",
            "18.566667    26.728720            0          0                                0                   0                          1                      0                               0                                             1                                               0                                             0                                                    0                                              0                                                 1\n",
            "4034.783333  2051.092341          0          0                                0                   0                          0                      1                               0                                             0                                               0                                             0                                                    1                                              0                                                 1\n",
            "Length: 140, dtype: int64\n",
            "iuu_caught\n",
            "1             71\n",
            "0             69\n",
            "dtype: int64\n",
            "gap_hours    spherical_distances  eez_check  vessel_class_drifting_longlines  vessel_class_other  vessel_class_squid_jigger  vessel_class_trawlers  vessel_class_tuna_purse_seines  Ocean List New whose false were in OG_arctic  Ocean List New whose false were in OG_atlantic  Ocean List New whose false were in OG_indian  Ocean List New whose false were in OG_mediterranean  Ocean List New whose false were in OG_pacific  Ocean List New whose false were in OG_southern\n",
            "12.750000    94.559860            1          1                                0                   0                          0                      0                               0                                             0                                               0                                             0                                                    1                                              0                                                 1\n",
            "12.800000    17.861144            1          0                                1                   0                          0                      0                               0                                             0                                               0                                             0                                                    1                                              0                                                 1\n",
            "55.916667    116.057526           1          0                                1                   0                          0                      0                               0                                             0                                               0                                             0                                                    1                                              0                                                 1\n",
            "59.300000    929.490253           0          0                                0                   0                          0                      1                               0                                             1                                               0                                             0                                                    0                                              0                                                 1\n",
            "59.700000    89.762286            0          0                                0                   0                          0                      1                               0                                             1                                               0                                             0                                                    0                                              0                                                 1\n",
            "60.650000    46.005609            1          0                                1                   0                          0                      0                               0                                             0                                               0                                             0                                                    1                                              0                                                 1\n",
            "60.850000    153.876588           1          1                                0                   0                          0                      0                               0                                             0                                               1                                             0                                                    0                                              0                                                 1\n",
            "69.333333    798.813434           0          0                                0                   0                          0                      1                               0                                             1                                               0                                             0                                                    0                                              0                                                 1\n",
            "73.950000    340.809202           1          0                                0                   0                          0                      1                               0                                             1                                               0                                             0                                                    0                                              0                                                 1\n",
            "84.283333    49.767920            0          0                                0                   0                          1                      0                               0                                             1                                               0                                             0                                                    0                                              0                                                 1\n",
            "123.066667   29.078697            0          0                                0                   0                          1                      0                               0                                             1                                               0                                             0                                                    0                                              0                                                 1\n",
            "125.100000   2218.321768          1          0                                0                   0                          0                      1                               0                                             1                                               0                                             0                                                    0                                              0                                                 1\n",
            "127.083333   145.403251           1          0                                0                   0                          0                      1                               0                                             0                                               0                                             0                                                    1                                              0                                                 1\n",
            "141.866667   261.646373           0          0                                0                   1                          0                      0                               0                                             0                                               0                                             0                                                    1                                              0                                                 1\n",
            "151.366667   1525.038289          0          0                                0                   0                          0                      1                               0                                             1                                               0                                             0                                                    0                                              0                                                 1\n",
            "201.050000   96.162976            1          0                                1                   0                          0                      0                               0                                             0                                               0                                             0                                                    1                                              0                                                 1\n",
            "217.583333   2566.011847          1          0                                0                   0                          0                      1                               0                                             1                                               0                                             0                                                    0                                              0                                                 1\n",
            "228.666667   374.824849           1          1                                0                   0                          0                      0                               0                                             0                                               1                                             0                                                    0                                              0                                                 1\n",
            "241.466667   852.266258           1          0                                1                   0                          0                      0                               0                                             0                                               1                                             0                                                    0                                              0                                                 1\n",
            "251.283333   1650.007968          0          0                                0                   0                          0                      1                               0                                             0                                               1                                             0                                                    0                                              0                                                 1\n",
            "270.850000   2002.040496          0          0                                0                   0                          0                      1                               0                                             1                                               0                                             0                                                    0                                              0                                                 1\n",
            "286.150000   1674.021088          1          0                                0                   0                          0                      1                               0                                             1                                               0                                             0                                                    0                                              0                                                 1\n",
            "323.983333   656.115765           1          0                                0                   0                          0                      1                               0                                             0                                               1                                             0                                                    0                                              0                                                 1\n",
            "381.050000   401.568281           0          0                                0                   0                          0                      1                               0                                             0                                               0                                             0                                                    1                                              0                                                 1\n",
            "428.050000   723.312843           0          0                                0                   0                          0                      1                               0                                             1                                               0                                             0                                                    0                                              0                                                 1\n",
            "495.016667   136.298161           1          0                                0                   0                          0                      1                               0                                             1                                               0                                             0                                                    0                                              0                                                 1\n",
            "498.066667   2589.449424          1          0                                0                   0                          0                      1                               0                                             1                                               0                                             0                                                    0                                              0                                                 1\n",
            "589.033333   2681.648624          1          0                                0                   0                          0                      1                               0                                             1                                               0                                             0                                                    0                                              0                                                 1\n",
            "672.033333   209.924257           1          0                                0                   0                          0                      1                               0                                             1                                               0                                             0                                                    0                                              0                                                 1\n",
            "50.900000    159.993579           1          0                                0                   0                          0                      1                               0                                             1                                               0                                             0                                                    0                                              0                                                 1\n",
            "49.833333    831.251853           0          0                                0                   0                          0                      1                               0                                             0                                               0                                             0                                                    1                                              0                                                 1\n",
            "48.066667    220.631239           0          1                                0                   0                          0                      0                               0                                             0                                               1                                             0                                                    0                                              0                                                 1\n",
            "21.816667    104.401513           1          0                                0                   0                          0                      1                               0                                             1                                               0                                             0                                                    0                                              0                                                 1\n",
            "12.850000    25.044842            1          0                                1                   0                          0                      0                               0                                             1                                               0                                             0                                                    0                                              0                                                 1\n",
            "12.916667    225.154094           0          0                                0                   1                          0                      0                               0                                             0                                               0                                             0                                                    1                                              0                                                 1\n",
            "12.933333    204.722161           0          1                                0                   0                          0                      0                               0                                             1                                               0                                             0                                                    0                                              0                                                 1\n",
            "13.500000    115.305513           1          0                                0                   0                          0                      1                               0                                             1                                               0                                             0                                                    0                                              0                                                 1\n",
            "13.850000    83.306293            1          0                                1                   0                          0                      0                               0                                             0                                               0                                             0                                                    1                                              0                                                 1\n",
            "15.816667    8.838587             0          0                                0                   0                          1                      0                               0                                             1                                               0                                             0                                                    0                                              0                                                 1\n",
            "15.916667    58.672787            1          1                                0                   0                          0                      0                               0                                             0                                               0                                             0                                                    1                                              0                                                 1\n",
            "17.150000    30.928693            1          1                                0                   0                          0                      0                               0                                             0                                               0                                             0                                                    1                                              0                                                 1\n",
            "17.466667    40.770114            1          0                                1                   0                          0                      0                               0                                             0                                               0                                             0                                                    1                                              0                                                 1\n",
            "18.100000    16.799182            0          1                                0                   0                          0                      0                               0                                             0                                               1                                             0                                                    0                                              0                                                 1\n",
            "19.166667    156.216532           1          0                                0                   0                          1                      0                               0                                             1                                               0                                             0                                                    0                                              0                                                 1\n",
            "19.733333    33.312873            1          1                                0                   0                          0                      0                               0                                             0                                               0                                             0                                                    1                                              0                                                 1\n",
            "22.566667    86.993584            0          1                                0                   0                          0                      0                               0                                             1                                               0                                             0                                                    0                                              0                                                 1\n",
            "46.666667    30.421253            0          0                                0                   0                          1                      0                               0                                             1                                               0                                             0                                                    0                                              0                                                 1\n",
            "25.816667    145.149440           0          0                                0                   0                          0                      1                               0                                             1                                               0                                             0                                                    0                                              0                                                 1\n",
            "27.816667    72.740514            0          1                                0                   0                          0                      0                               0                                             0                                               0                                             0                                                    1                                              0                                                 1\n",
            "29.766667    43.108204            0          0                                0                   0                          0                      1                               0                                             0                                               0                                             0                                                    1                                              0                                                 1\n",
            "31.200000    136.705592           1          0                                0                   0                          0                      1                               0                                             1                                               0                                             0                                                    0                                              0                                                 1\n",
            "33.233333    223.731631           0          0                                0                   0                          0                      1                               0                                             1                                               0                                             0                                                    0                                              0                                                 1\n",
            "33.416667    28.729123            0          0                                0                   0                          1                      0                               0                                             1                                               0                                             0                                                    0                                              0                                                 1\n",
            "35.383333    583.431474           0          0                                0                   0                          1                      0                               0                                             0                                               0                                             0                                                    1                                              0                                                 1\n",
            "35.816667    120.847241           1          0                                0                   0                          0                      1                               0                                             0                                               1                                             0                                                    0                                              0                                                 1\n",
            "39.083333    760.837250           1          0                                0                   0                          0                      1                               0                                             1                                               0                                             0                                                    0                                              0                                                 1\n",
            "39.633333    19.720549            0          0                                0                   0                          0                      1                               0                                             0                                               0                                             0                                                    1                                              0                                                 1\n",
            "40.933333    29.998003            0          1                                0                   0                          0                      0                               0                                             0                                               1                                             0                                                    0                                              0                                                 1\n",
            "41.150000    897.813914           0          0                                0                   0                          0                      1                               0                                             1                                               0                                             0                                                    0                                              0                                                 1\n",
            "2547.083333  1483.242493          0          0                                0                   0                          0                      1                               0                                             0                                               0                                             0                                                    1                                              0                                                 1\n",
            "dtype: int64\n",
            "iuu_caught\n",
            "0             31\n",
            "1             29\n",
            "dtype: int64\n"
          ]
        }
      ]
    },
    {
      "cell_type": "code",
      "source": [
        "# instantiate model\n",
        "model = LogisticRegression()\n",
        "# fit \n",
        "model.fit(X_train_undersample, y_train_undersample)\n",
        "# predict\n",
        "y_pred = model.predict(X_test_undersample)"
      ],
      "metadata": {
        "colab": {
          "base_uri": "https://localhost:8080/"
        },
        "id": "FMqnu3xNujI2",
        "outputId": "5e5c5039-0c25-429b-96ff-7a0293e7455b"
      },
      "execution_count": null,
      "outputs": [
        {
          "output_type": "stream",
          "name": "stderr",
          "text": [
            "/usr/local/lib/python3.8/dist-packages/sklearn/utils/validation.py:993: DataConversionWarning: A column-vector y was passed when a 1d array was expected. Please change the shape of y to (n_samples, ), for example using ravel().\n",
            "  y = column_or_1d(y, warn=True)\n",
            "/usr/local/lib/python3.8/dist-packages/sklearn/linear_model/_logistic.py:814: ConvergenceWarning: lbfgs failed to converge (status=1):\n",
            "STOP: TOTAL NO. of ITERATIONS REACHED LIMIT.\n",
            "\n",
            "Increase the number of iterations (max_iter) or scale the data as shown in:\n",
            "    https://scikit-learn.org/stable/modules/preprocessing.html\n",
            "Please also refer to the documentation for alternative solver options:\n",
            "    https://scikit-learn.org/stable/modules/linear_model.html#logistic-regression\n",
            "  n_iter_i = _check_optimize_result(\n"
          ]
        }
      ]
    },
    {
      "cell_type": "code",
      "source": [
        "classification_report = classification_report(y_test_undersample, y_pred)\n",
        "confusion_matrix = confusion_matrix(y_test_undersample, y_pred)\n",
        "print(\"CLASSIFICATION REPORT\")\n",
        "print(classification_report)\n",
        "print(\"CONFUSION MATRIX\") \n",
        "print(confusion_matrix)"
      ],
      "metadata": {
        "colab": {
          "base_uri": "https://localhost:8080/"
        },
        "id": "VVyYUN_ov1Fb",
        "outputId": "f6f92796-5523-4f9c-b7d5-477cec0a697c"
      },
      "execution_count": null,
      "outputs": [
        {
          "output_type": "stream",
          "name": "stdout",
          "text": [
            "CLASSIFICATION REPORT\n",
            "              precision    recall  f1-score   support\n",
            "\n",
            "           0       0.87      0.65      0.74        31\n",
            "           1       0.70      0.90      0.79        29\n",
            "\n",
            "    accuracy                           0.77        60\n",
            "   macro avg       0.79      0.77      0.76        60\n",
            "weighted avg       0.79      0.77      0.76        60\n",
            "\n",
            "CONFUSION MATRIX\n",
            "[[20 11]\n",
            " [ 3 26]]\n"
          ]
        }
      ]
    }
  ],
  "metadata": {
    "kernelspec": {
      "display_name": "Python 3",
      "language": "python",
      "name": "python3"
    },
    "language_info": {
      "codemirror_mode": {
        "name": "ipython",
        "version": 3
      },
      "file_extension": ".py",
      "mimetype": "text/x-python",
      "name": "python",
      "nbconvert_exporter": "python",
      "pygments_lexer": "ipython3",
      "version": "3.7.7"
    },
    "colab": {
      "provenance": [],
      "collapsed_sections": [
        "eGenfGWMfDMH",
        "ln9p6XFgfDMO"
      ]
    },
    "accelerator": "GPU",
    "gpuClass": "standard"
  },
  "nbformat": 4,
  "nbformat_minor": 0
}
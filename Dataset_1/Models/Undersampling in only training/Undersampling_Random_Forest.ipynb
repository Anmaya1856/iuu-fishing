{
  "cells": [
    {
      "cell_type": "markdown",
      "metadata": {
        "id": "j3dKmFb1fDL-"
      },
      "source": [
        "#### Handling Imbalanced Dataset with Machine Learning"
      ]
    },
    {
      "cell_type": "code",
      "execution_count": null,
      "metadata": {
        "colab": {
          "base_uri": "https://localhost:8080/",
          "height": 206
        },
        "id": "W0XR2-q8fDMD",
        "outputId": "b35cf7cf-6801-438f-c398-46d5058c11cd"
      },
      "outputs": [
        {
          "output_type": "execute_result",
          "data": {
            "text/plain": [
              "  vessel_class  gap_hours  iuu_caught  spherical_distances  eez_check  \\\n",
              "0        other  13.016667           0           207.942845          0   \n",
              "1        other  13.850000           0             9.704232          0   \n",
              "2        other  33.733333           0            10.789069          1   \n",
              "3        other  30.650000           0            11.695860          1   \n",
              "4        other  50.283333           0            93.113335          1   \n",
              "\n",
              "  Ocean List New whose false were in OG  \n",
              "0                              atlantic  \n",
              "1                              atlantic  \n",
              "2                              atlantic  \n",
              "3                              atlantic  \n",
              "4                              atlantic  "
            ],
            "text/html": [
              "\n",
              "  <div id=\"df-e05d6f0a-afb6-461a-be01-b1356ac6e9b1\">\n",
              "    <div class=\"colab-df-container\">\n",
              "      <div>\n",
              "<style scoped>\n",
              "    .dataframe tbody tr th:only-of-type {\n",
              "        vertical-align: middle;\n",
              "    }\n",
              "\n",
              "    .dataframe tbody tr th {\n",
              "        vertical-align: top;\n",
              "    }\n",
              "\n",
              "    .dataframe thead th {\n",
              "        text-align: right;\n",
              "    }\n",
              "</style>\n",
              "<table border=\"1\" class=\"dataframe\">\n",
              "  <thead>\n",
              "    <tr style=\"text-align: right;\">\n",
              "      <th></th>\n",
              "      <th>vessel_class</th>\n",
              "      <th>gap_hours</th>\n",
              "      <th>iuu_caught</th>\n",
              "      <th>spherical_distances</th>\n",
              "      <th>eez_check</th>\n",
              "      <th>Ocean List New whose false were in OG</th>\n",
              "    </tr>\n",
              "  </thead>\n",
              "  <tbody>\n",
              "    <tr>\n",
              "      <th>0</th>\n",
              "      <td>other</td>\n",
              "      <td>13.016667</td>\n",
              "      <td>0</td>\n",
              "      <td>207.942845</td>\n",
              "      <td>0</td>\n",
              "      <td>atlantic</td>\n",
              "    </tr>\n",
              "    <tr>\n",
              "      <th>1</th>\n",
              "      <td>other</td>\n",
              "      <td>13.850000</td>\n",
              "      <td>0</td>\n",
              "      <td>9.704232</td>\n",
              "      <td>0</td>\n",
              "      <td>atlantic</td>\n",
              "    </tr>\n",
              "    <tr>\n",
              "      <th>2</th>\n",
              "      <td>other</td>\n",
              "      <td>33.733333</td>\n",
              "      <td>0</td>\n",
              "      <td>10.789069</td>\n",
              "      <td>1</td>\n",
              "      <td>atlantic</td>\n",
              "    </tr>\n",
              "    <tr>\n",
              "      <th>3</th>\n",
              "      <td>other</td>\n",
              "      <td>30.650000</td>\n",
              "      <td>0</td>\n",
              "      <td>11.695860</td>\n",
              "      <td>1</td>\n",
              "      <td>atlantic</td>\n",
              "    </tr>\n",
              "    <tr>\n",
              "      <th>4</th>\n",
              "      <td>other</td>\n",
              "      <td>50.283333</td>\n",
              "      <td>0</td>\n",
              "      <td>93.113335</td>\n",
              "      <td>1</td>\n",
              "      <td>atlantic</td>\n",
              "    </tr>\n",
              "  </tbody>\n",
              "</table>\n",
              "</div>\n",
              "      <button class=\"colab-df-convert\" onclick=\"convertToInteractive('df-e05d6f0a-afb6-461a-be01-b1356ac6e9b1')\"\n",
              "              title=\"Convert this dataframe to an interactive table.\"\n",
              "              style=\"display:none;\">\n",
              "        \n",
              "  <svg xmlns=\"http://www.w3.org/2000/svg\" height=\"24px\"viewBox=\"0 0 24 24\"\n",
              "       width=\"24px\">\n",
              "    <path d=\"M0 0h24v24H0V0z\" fill=\"none\"/>\n",
              "    <path d=\"M18.56 5.44l.94 2.06.94-2.06 2.06-.94-2.06-.94-.94-2.06-.94 2.06-2.06.94zm-11 1L8.5 8.5l.94-2.06 2.06-.94-2.06-.94L8.5 2.5l-.94 2.06-2.06.94zm10 10l.94 2.06.94-2.06 2.06-.94-2.06-.94-.94-2.06-.94 2.06-2.06.94z\"/><path d=\"M17.41 7.96l-1.37-1.37c-.4-.4-.92-.59-1.43-.59-.52 0-1.04.2-1.43.59L10.3 9.45l-7.72 7.72c-.78.78-.78 2.05 0 2.83L4 21.41c.39.39.9.59 1.41.59.51 0 1.02-.2 1.41-.59l7.78-7.78 2.81-2.81c.8-.78.8-2.07 0-2.86zM5.41 20L4 18.59l7.72-7.72 1.47 1.35L5.41 20z\"/>\n",
              "  </svg>\n",
              "      </button>\n",
              "      \n",
              "  <style>\n",
              "    .colab-df-container {\n",
              "      display:flex;\n",
              "      flex-wrap:wrap;\n",
              "      gap: 12px;\n",
              "    }\n",
              "\n",
              "    .colab-df-convert {\n",
              "      background-color: #E8F0FE;\n",
              "      border: none;\n",
              "      border-radius: 50%;\n",
              "      cursor: pointer;\n",
              "      display: none;\n",
              "      fill: #1967D2;\n",
              "      height: 32px;\n",
              "      padding: 0 0 0 0;\n",
              "      width: 32px;\n",
              "    }\n",
              "\n",
              "    .colab-df-convert:hover {\n",
              "      background-color: #E2EBFA;\n",
              "      box-shadow: 0px 1px 2px rgba(60, 64, 67, 0.3), 0px 1px 3px 1px rgba(60, 64, 67, 0.15);\n",
              "      fill: #174EA6;\n",
              "    }\n",
              "\n",
              "    [theme=dark] .colab-df-convert {\n",
              "      background-color: #3B4455;\n",
              "      fill: #D2E3FC;\n",
              "    }\n",
              "\n",
              "    [theme=dark] .colab-df-convert:hover {\n",
              "      background-color: #434B5C;\n",
              "      box-shadow: 0px 1px 3px 1px rgba(0, 0, 0, 0.15);\n",
              "      filter: drop-shadow(0px 1px 2px rgba(0, 0, 0, 0.3));\n",
              "      fill: #FFFFFF;\n",
              "    }\n",
              "  </style>\n",
              "\n",
              "      <script>\n",
              "        const buttonEl =\n",
              "          document.querySelector('#df-e05d6f0a-afb6-461a-be01-b1356ac6e9b1 button.colab-df-convert');\n",
              "        buttonEl.style.display =\n",
              "          google.colab.kernel.accessAllowed ? 'block' : 'none';\n",
              "\n",
              "        async function convertToInteractive(key) {\n",
              "          const element = document.querySelector('#df-e05d6f0a-afb6-461a-be01-b1356ac6e9b1');\n",
              "          const dataTable =\n",
              "            await google.colab.kernel.invokeFunction('convertToInteractive',\n",
              "                                                     [key], {});\n",
              "          if (!dataTable) return;\n",
              "\n",
              "          const docLinkHtml = 'Like what you see? Visit the ' +\n",
              "            '<a target=\"_blank\" href=https://colab.research.google.com/notebooks/data_table.ipynb>data table notebook</a>'\n",
              "            + ' to learn more about interactive tables.';\n",
              "          element.innerHTML = '';\n",
              "          dataTable['output_type'] = 'display_data';\n",
              "          await google.colab.output.renderOutput(dataTable, element);\n",
              "          const docLink = document.createElement('div');\n",
              "          docLink.innerHTML = docLinkHtml;\n",
              "          element.appendChild(docLink);\n",
              "        }\n",
              "      </script>\n",
              "    </div>\n",
              "  </div>\n",
              "  "
            ]
          },
          "metadata": {},
          "execution_count": 1
        }
      ],
      "source": [
        "import pandas as pd\n",
        "df=pd.read_csv('ais_disabling_events_main_only_imp_col_csv.csv')\n",
        "df.head()"
      ]
    },
    {
      "cell_type": "code",
      "execution_count": null,
      "metadata": {
        "colab": {
          "base_uri": "https://localhost:8080/"
        },
        "id": "LV4xM8xNfDMF",
        "outputId": "f0338fcf-42e0-43a0-fd2a-5ef4edf7e227"
      },
      "outputs": [
        {
          "output_type": "execute_result",
          "data": {
            "text/plain": [
              "(55141, 6)"
            ]
          },
          "metadata": {},
          "execution_count": 2
        }
      ],
      "source": [
        "df.shape"
      ]
    },
    {
      "cell_type": "code",
      "execution_count": null,
      "metadata": {
        "colab": {
          "base_uri": "https://localhost:8080/"
        },
        "id": "u57ZoDMefDMG",
        "outputId": "d7789acb-2493-4a35-f848-0947d6907581"
      },
      "outputs": [
        {
          "output_type": "execute_result",
          "data": {
            "text/plain": [
              "0    55041\n",
              "1      100\n",
              "Name: iuu_caught, dtype: int64"
            ]
          },
          "metadata": {},
          "execution_count": 3
        }
      ],
      "source": [
        "df['iuu_caught'].value_counts()"
      ]
    },
    {
      "cell_type": "code",
      "execution_count": null,
      "metadata": {
        "id": "SpXDEikQfDMG"
      },
      "outputs": [],
      "source": [
        "#### Independent and Dependent Features\n",
        "X=df.drop(\"iuu_caught\",axis=1)\n",
        "y=df.iuu_caught"
      ]
    },
    {
      "cell_type": "markdown",
      "source": [
        "### One Hot Encoding"
      ],
      "metadata": {
        "id": "cKiFGKNWlH4S"
      }
    },
    {
      "cell_type": "code",
      "source": [
        "print(df['vessel_class'].unique())\n",
        "print(df['Ocean List New whose false were in OG'].unique())"
      ],
      "metadata": {
        "colab": {
          "base_uri": "https://localhost:8080/"
        },
        "id": "yyMFweZYi5-T",
        "outputId": "ba54c5fb-2eb6-449c-8266-bb861c836fcb"
      },
      "execution_count": null,
      "outputs": [
        {
          "output_type": "stream",
          "name": "stdout",
          "text": [
            "['other' 'trawlers' 'squid_jigger' 'tuna_purse_seines'\n",
            " 'drifting_longlines']\n",
            "['atlantic' 'southern' 'mediterranean' 'arctic' 'pacific' 'indian']\n"
          ]
        }
      ]
    },
    {
      "cell_type": "code",
      "source": [
        "print(df['vessel_class'].value_counts())\n",
        "print(df['Ocean List New whose false were in OG'].value_counts())"
      ],
      "metadata": {
        "colab": {
          "base_uri": "https://localhost:8080/"
        },
        "id": "NMZkweLBkgix",
        "outputId": "e77ec8f6-8408-454f-ed6a-31da79574907"
      },
      "execution_count": null,
      "outputs": [
        {
          "output_type": "stream",
          "name": "stdout",
          "text": [
            "drifting_longlines    18608\n",
            "squid_jigger          15965\n",
            "tuna_purse_seines      8620\n",
            "trawlers               7865\n",
            "other                  4083\n",
            "Name: vessel_class, dtype: int64\n",
            "pacific          31870\n",
            "atlantic         16469\n",
            "indian            6176\n",
            "arctic             499\n",
            "southern           116\n",
            "mediterranean       11\n",
            "Name: Ocean List New whose false were in OG, dtype: int64\n"
          ]
        }
      ]
    },
    {
      "cell_type": "code",
      "source": [
        "one_hot_encoded_data = pd.get_dummies(df, columns = ['vessel_class', 'Ocean List New whose false were in OG'])\n",
        "print(one_hot_encoded_data.head())"
      ],
      "metadata": {
        "colab": {
          "base_uri": "https://localhost:8080/"
        },
        "id": "-65OpmWAkvdY",
        "outputId": "ca69ddf4-ecd7-4a7b-a942-adb189782f64"
      },
      "execution_count": null,
      "outputs": [
        {
          "output_type": "stream",
          "name": "stdout",
          "text": [
            "   gap_hours  iuu_caught  spherical_distances  eez_check  \\\n",
            "0  13.016667           0           207.942845          0   \n",
            "1  13.850000           0             9.704232          0   \n",
            "2  33.733333           0            10.789069          1   \n",
            "3  30.650000           0            11.695860          1   \n",
            "4  50.283333           0            93.113335          1   \n",
            "\n",
            "   vessel_class_drifting_longlines  vessel_class_other  \\\n",
            "0                                0                   1   \n",
            "1                                0                   1   \n",
            "2                                0                   1   \n",
            "3                                0                   1   \n",
            "4                                0                   1   \n",
            "\n",
            "   vessel_class_squid_jigger  vessel_class_trawlers  \\\n",
            "0                          0                      0   \n",
            "1                          0                      0   \n",
            "2                          0                      0   \n",
            "3                          0                      0   \n",
            "4                          0                      0   \n",
            "\n",
            "   vessel_class_tuna_purse_seines  \\\n",
            "0                               0   \n",
            "1                               0   \n",
            "2                               0   \n",
            "3                               0   \n",
            "4                               0   \n",
            "\n",
            "   Ocean List New whose false were in OG_arctic  \\\n",
            "0                                             0   \n",
            "1                                             0   \n",
            "2                                             0   \n",
            "3                                             0   \n",
            "4                                             0   \n",
            "\n",
            "   Ocean List New whose false were in OG_atlantic  \\\n",
            "0                                               1   \n",
            "1                                               1   \n",
            "2                                               1   \n",
            "3                                               1   \n",
            "4                                               1   \n",
            "\n",
            "   Ocean List New whose false were in OG_indian  \\\n",
            "0                                             0   \n",
            "1                                             0   \n",
            "2                                             0   \n",
            "3                                             0   \n",
            "4                                             0   \n",
            "\n",
            "   Ocean List New whose false were in OG_mediterranean  \\\n",
            "0                                                  0     \n",
            "1                                                  0     \n",
            "2                                                  0     \n",
            "3                                                  0     \n",
            "4                                                  0     \n",
            "\n",
            "   Ocean List New whose false were in OG_pacific  \\\n",
            "0                                              0   \n",
            "1                                              0   \n",
            "2                                              0   \n",
            "3                                              0   \n",
            "4                                              0   \n",
            "\n",
            "   Ocean List New whose false were in OG_southern  \n",
            "0                                               0  \n",
            "1                                               0  \n",
            "2                                               0  \n",
            "3                                               0  \n",
            "4                                               0  \n"
          ]
        }
      ]
    },
    {
      "cell_type": "code",
      "source": [
        "#### Independent and Dependent Features\n",
        "X=one_hot_encoded_data.drop(\"iuu_caught\",axis=1)\n",
        "y=one_hot_encoded_data.iuu_caught"
      ],
      "metadata": {
        "id": "pMpzCAHKlyKv"
      },
      "execution_count": null,
      "outputs": []
    },
    {
      "cell_type": "markdown",
      "metadata": {
        "id": "2rsoJLeffDMQ"
      },
      "source": [
        "#### SMOTETomek"
      ]
    },
    {
      "cell_type": "code",
      "source": [
        "y.value_counts()"
      ],
      "metadata": {
        "colab": {
          "base_uri": "https://localhost:8080/"
        },
        "id": "e32GaVFs_J3v",
        "outputId": "25fdfff4-2a57-4bab-eb51-8453f1495be3"
      },
      "execution_count": null,
      "outputs": [
        {
          "output_type": "execute_result",
          "data": {
            "text/plain": [
              "0    55041\n",
              "1      100\n",
              "Name: iuu_caught, dtype: int64"
            ]
          },
          "metadata": {},
          "execution_count": 9
        }
      ]
    },
    {
      "cell_type": "code",
      "source": [
        "# data wrangling\n",
        "import pandas as pd\n",
        "import numpy as np\n",
        "# inputs data preparation\n",
        "from sklearn.preprocessing import RobustScaler\n",
        "from sklearn.model_selection import train_test_split\n",
        "# modeling\n",
        "from sklearn.linear_model import LogisticRegression\n",
        "# model validation\n",
        "from sklearn.metrics import classification_report\n",
        "from sklearn.metrics import confusion_matrix"
      ],
      "metadata": {
        "id": "8inuhHhIuHTN"
      },
      "execution_count": null,
      "outputs": []
    },
    {
      "cell_type": "code",
      "source": [
        "# split dataset\n",
        "X_train, X_test, y_train, y_test = train_test_split(X, y, test_size = 0.3, random_state = 0)"
      ],
      "metadata": {
        "id": "fUz9KL3iudFb"
      },
      "execution_count": null,
      "outputs": []
    },
    {
      "cell_type": "code",
      "source": [
        "from imblearn.under_sampling import RandomUnderSampler\n",
        "\n",
        "# Instantiate the undersampler\n",
        "under_sampler = RandomUnderSampler()\n",
        "\n",
        "# Fit and transform the training data\n",
        "X_train_undersampled, y_train_undersampled = under_sampler.fit_resample(X_train, y_train)"
      ],
      "metadata": {
        "id": "pgdYmAam0M4i"
      },
      "execution_count": null,
      "outputs": []
    },
    {
      "cell_type": "code",
      "source": [
        "# number of fraud cases\n",
        "frauds = len(df[df.iuu_caught == 1])\n",
        "# selecting the indices of the non-fraud classes\n",
        "fraud_indices = df[df.iuu_caught == 1].index\n",
        "nonfraud_indices = df[df.iuu_caught == 0].index\n",
        "# from all non-fraud observations, randomly select observations equal to number of fraud observations\n",
        "random_nonfraud_indices = np.random.choice(nonfraud_indices, frauds, replace = False)\n",
        "random_nonfraud_indices = np.array(random_nonfraud_indices)\n",
        "# appending the 2 indices\n",
        "under_sample_indices = np.concatenate([fraud_indices,random_nonfraud_indices])\n",
        "# undersample dataset\n",
        "under_sample_data = one_hot_encoded_data.iloc[under_sample_indices,:]\n",
        "# now split X, y variables from the under sample data\n",
        "X_undersample = under_sample_data.loc[:, under_sample_data.columns != 'iuu_caught']\n",
        "y_undersample = under_sample_data.loc[:, under_sample_data.columns == 'iuu_caught']\n",
        "print(X_undersample.value_counts())"
      ],
      "metadata": {
        "colab": {
          "base_uri": "https://localhost:8080/"
        },
        "id": "WlB9mAvxuOzx",
        "outputId": "7e550d82-d1db-4be6-b440-19338bc919a9"
      },
      "execution_count": null,
      "outputs": [
        {
          "output_type": "stream",
          "name": "stdout",
          "text": [
            "gap_hours    spherical_distances  eez_check  vessel_class_drifting_longlines  vessel_class_other  vessel_class_squid_jigger  vessel_class_trawlers  vessel_class_tuna_purse_seines  Ocean List New whose false were in OG_arctic  Ocean List New whose false were in OG_atlantic  Ocean List New whose false were in OG_indian  Ocean List New whose false were in OG_mediterranean  Ocean List New whose false were in OG_pacific  Ocean List New whose false were in OG_southern\n",
            "12.050000    70.627288            0          1                                0                   0                          0                      0                               0                                             1                                               0                                             0                                                    0                                              0                                                 1\n",
            "88.316667    1933.567089          0          0                                0                   0                          0                      1                               0                                             1                                               0                                             0                                                    0                                              0                                                 1\n",
            "74.183333    1296.709528          0          1                                0                   0                          0                      0                               0                                             0                                               0                                             0                                                    1                                              0                                                 1\n",
            "75.700000    624.212964           1          0                                0                   0                          0                      1                               0                                             1                                               0                                             0                                                    0                                              0                                                 1\n",
            "79.516667    173.936606           0          0                                0                   1                          0                      0                               0                                             0                                               0                                             0                                                    1                                              0                                                 1\n",
            "                                                                                                                                                                                                                                                                                                                                                                                                                                                                                     ..\n",
            "23.766667    18.451776            0          0                                0                   1                          0                      0                               0                                             0                                               0                                             0                                                    1                                              0                                                 1\n",
            "24.150000    9.128016             1          0                                0                   0                          0                      1                               0                                             0                                               0                                             0                                                    1                                              0                                                 1\n",
            "             412.550132           1          0                                0                   1                          0                      0                               0                                             0                                               0                                             0                                                    1                                              0                                                 1\n",
            "24.250000    26.881880            0          0                                0                   1                          0                      0                               0                                             0                                               0                                             0                                                    1                                              0                                                 1\n",
            "4034.783333  2051.092341          0          0                                0                   0                          0                      1                               0                                             0                                               0                                             0                                                    1                                              0                                                 1\n",
            "Length: 200, dtype: int64\n"
          ]
        }
      ]
    },
    {
      "cell_type": "code",
      "source": [
        "print(X_train_undersampled.value_counts())\n",
        "print(y_train_undersampled.value_counts())\n",
        "print(X_test.value_counts())\n",
        "print(y_test.value_counts())"
      ],
      "metadata": {
        "colab": {
          "base_uri": "https://localhost:8080/"
        },
        "id": "YnzANbrywBOU",
        "outputId": "4bdf6f2f-498e-4eb7-9aee-ed7fb25df2da"
      },
      "execution_count": null,
      "outputs": [
        {
          "output_type": "stream",
          "name": "stdout",
          "text": [
            "gap_hours    spherical_distances  eez_check  vessel_class_drifting_longlines  vessel_class_other  vessel_class_squid_jigger  vessel_class_trawlers  vessel_class_tuna_purse_seines  Ocean List New whose false were in OG_arctic  Ocean List New whose false were in OG_atlantic  Ocean List New whose false were in OG_indian  Ocean List New whose false were in OG_mediterranean  Ocean List New whose false were in OG_pacific  Ocean List New whose false were in OG_southern\n",
            "12.083333    67.277665            0          0                                1                   0                          0                      0                               0                                             1                                               0                                             0                                                    0                                              0                                                 1\n",
            "98.966667    5.447418             1          0                                0                   0                          0                      1                               0                                             1                                               0                                             0                                                    0                                              0                                                 1\n",
            "76.233333    159.735183           1          0                                0                   1                          0                      0                               0                                             0                                               0                                             0                                                    1                                              0                                                 1\n",
            "82.433333    474.284139           1          1                                0                   0                          0                      0                               0                                             0                                               1                                             0                                                    0                                              0                                                 1\n",
            "88.316667    1933.567089          0          0                                0                   0                          0                      1                               0                                             1                                               0                                             0                                                    0                                              0                                                 1\n",
            "                                                                                                                                                                                                                                                                                                                                                                                                                                                                                     ..\n",
            "21.400000    12.984309            0          0                                0                   1                          0                      0                               0                                             0                                               0                                             0                                                    1                                              0                                                 1\n",
            "21.816667    104.401513           1          0                                0                   0                          0                      1                               0                                             1                                               0                                             0                                                    0                                              0                                                 1\n",
            "21.900000    36.634462            0          1                                0                   0                          0                      0                               0                                             0                                               0                                             0                                                    1                                              0                                                 1\n",
            "22.866667    183.042046           1          1                                0                   0                          0                      0                               0                                             0                                               0                                             0                                                    1                                              0                                                 1\n",
            "4034.783333  2051.092341          0          0                                0                   0                          0                      1                               0                                             0                                               0                                             0                                                    1                                              0                                                 1\n",
            "Length: 156, dtype: int64\n",
            "0    78\n",
            "1    78\n",
            "Name: iuu_caught, dtype: int64\n",
            "gap_hours     spherical_distances  eez_check  vessel_class_drifting_longlines  vessel_class_other  vessel_class_squid_jigger  vessel_class_trawlers  vessel_class_tuna_purse_seines  Ocean List New whose false were in OG_arctic  Ocean List New whose false were in OG_atlantic  Ocean List New whose false were in OG_indian  Ocean List New whose false were in OG_mediterranean  Ocean List New whose false were in OG_pacific  Ocean List New whose false were in OG_southern\n",
            "12.000000     5.194889             0          0                                0                   1                          0                      0                               0                                             0                                               0                                             0                                                    1                                              0                                                 1\n",
            "44.316667     47.025758            1          0                                1                   0                          0                      0                               0                                             0                                               0                                             0                                                    1                                              0                                                 1\n",
            "43.966667     198.823893           1          0                                0                   0                          0                      1                               0                                             0                                               0                                             0                                                    1                                              0                                                 1\n",
            "43.983333     207.143989           1          0                                0                   0                          0                      1                               0                                             0                                               0                                             0                                                    1                                              0                                                 1\n",
            "              554.017340           0          0                                0                   0                          0                      1                               0                                             0                                               0                                             0                                                    1                                              0                                                 1\n",
            "                                                                                                                                                                                                                                                                                                                                                                                                                                                                                      ..\n",
            "17.333333     24.671073            0          1                                0                   0                          0                      0                               0                                             0                                               0                                             0                                                    1                                              0                                                 1\n",
            "              30.422217            0          0                                0                   1                          0                      0                               0                                             0                                               0                                             0                                                    1                                              0                                                 1\n",
            "              35.773085            0          0                                0                   1                          0                      0                               0                                             0                                               0                                             0                                                    1                                              0                                                 1\n",
            "              40.145280            0          1                                0                   0                          0                      0                               0                                             0                                               0                                             0                                                    1                                              0                                                 1\n",
            "17215.933330  2559.161937          1          1                                0                   0                          0                      0                               0                                             0                                               1                                             0                                                    0                                              0                                                 1\n",
            "Length: 16543, dtype: int64\n",
            "0    16521\n",
            "1       22\n",
            "Name: iuu_caught, dtype: int64\n"
          ]
        }
      ]
    },
    {
      "cell_type": "code",
      "source": [
        "#Importing essential libraries\n",
        "import matplotlib.pyplot as plt\n",
        "from statistics import mean\n",
        "from matplotlib import pyplot\n",
        "from sklearn.model_selection import train_test_split\n",
        "from sklearn.model_selection import cross_validate\n",
        "from sklearn.model_selection import RepeatedStratifiedKFold\n",
        "from sklearn.metrics import plot_confusion_matrix\n",
        "from sklearn.ensemble import RandomForestClassifier\n",
        "from imblearn.over_sampling import SMOTE\n",
        "\n",
        "#Build SMOTE SRF model\n",
        "SMOTE_SRF = RandomForestClassifier(n_estimators=150, random_state=0)\n",
        "#Create Stratified K-fold cross validation\n",
        "# cv = RepeatedStratifiedKFold(n_splits=10, n_repeats=3, random_state=1)\n",
        "# scoring = ('f1', 'recall', 'precision')\n",
        "#Evaluate SMOTE SRF model\n",
        "# scores = cross_validate(SMOTE_SRF, X_sm, y_sm, scoring=scoring, cv=cv)\n",
        "#Get average evaluation metrics\n",
        "# print('Mean f1: %.3f' % mean(scores['test_f1']))\n",
        "# print('Mean recall: %.3f' % mean(scores['test_recall']))\n",
        "# print('Mean precision: %.3f' % mean(scores['test_precision']))\n",
        "\n",
        "#Randomly spilt dataset to test and train set\n",
        "# X_train, X_test, y_train, y_test = train_test_split(X, y, test_size=0.1, stratify=y)\n",
        "#Train SMOTE SRF\n",
        "SMOTE_SRF.fit(X_train_undersampled, y_train_undersampled)\n",
        "#SMOTE SRF prediction result\n",
        "y_pred = SMOTE_SRF.predict(X_test)\n",
        "#Create confusion matrix\n",
        "fig = plot_confusion_matrix(SMOTE_SRF, X_test, y_test, display_labels=['No IUU', 'IUU'], cmap='Greens')\n",
        "plt.title('SMOTE + Standard Random Forest Confusion Matrix')\n",
        "plt.show()"
      ],
      "metadata": {
        "colab": {
          "base_uri": "https://localhost:8080/",
          "height": 350
        },
        "id": "Q8V7g1Joc34n",
        "outputId": "9a25b855-0c82-461f-9a66-07c98fa73bdd"
      },
      "execution_count": null,
      "outputs": [
        {
          "output_type": "stream",
          "name": "stderr",
          "text": [
            "/usr/local/lib/python3.8/dist-packages/sklearn/utils/deprecation.py:87: FutureWarning: Function plot_confusion_matrix is deprecated; Function `plot_confusion_matrix` is deprecated in 1.0 and will be removed in 1.2. Use one of the class methods: ConfusionMatrixDisplay.from_predictions or ConfusionMatrixDisplay.from_estimator.\n",
            "  warnings.warn(msg, category=FutureWarning)\n"
          ]
        },
        {
          "output_type": "display_data",
          "data": {
            "text/plain": [
              "<Figure size 432x288 with 2 Axes>"
            ],
            "image/png": "[encoded data removed]"
          },
          "metadata": {
            "needs_background": "light"
          }
        }
      ]
    },
    {
      "cell_type": "code",
      "source": [
        "from sklearn.metrics import confusion_matrix , classification_report\n",
        "\n",
        "classification_report = classification_report(y_test, y_pred)\n",
        "confusion_matrix = confusion_matrix(y_test, y_pred)\n",
        "print(\"CLASSIFICATION REPORT\")\n",
        "print(classification_report)\n",
        "print(\"CONFUSION MATRIX\") \n",
        "print(confusion_matrix)"
      ],
      "metadata": {
        "colab": {
          "base_uri": "https://localhost:8080/"
        },
        "id": "VVyYUN_ov1Fb",
        "outputId": "ba8939c8-1c4d-41c6-f2f8-5d6c43e51349"
      },
      "execution_count": null,
      "outputs": [
        {
          "output_type": "stream",
          "name": "stdout",
          "text": [
            "CLASSIFICATION REPORT\n",
            "              precision    recall  f1-score   support\n",
            "\n",
            "           0       1.00      0.82      0.90     16521\n",
            "           1       0.01      0.82      0.01        22\n",
            "\n",
            "    accuracy                           0.82     16543\n",
            "   macro avg       0.50      0.82      0.46     16543\n",
            "weighted avg       1.00      0.82      0.90     16543\n",
            "\n",
            "CONFUSION MATRIX\n",
            "[[13580  2941]\n",
            " [    4    18]]\n"
          ]
        }
      ]
    }
  ],
  "metadata": {
    "kernelspec": {
      "display_name": "Python 3",
      "language": "python",
      "name": "python3"
    },
    "language_info": {
      "codemirror_mode": {
        "name": "ipython",
        "version": 3
      },
      "file_extension": ".py",
      "mimetype": "text/x-python",
      "name": "python",
      "nbconvert_exporter": "python",
      "pygments_lexer": "ipython3",
      "version": "3.7.7"
    },
    "colab": {
      "provenance": [],
      "collapsed_sections": [
        "eGenfGWMfDMH",
        "ln9p6XFgfDMO"
      ]
    },
    "accelerator": "GPU",
    "gpuClass": "standard"
  },
  "nbformat": 4,
  "nbformat_minor": 0
}
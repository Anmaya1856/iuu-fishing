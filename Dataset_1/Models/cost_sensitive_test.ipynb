{
  "cells": [
    {
      "cell_type": "markdown",
      "metadata": {
        "id": "j3dKmFb1fDL-"
      },
      "source": [
        "#### Handling Imbalanced Dataset with Machine Learning"
      ]
    },
    {
      "cell_type": "code",
      "execution_count": null,
      "metadata": {
        "colab": {
          "base_uri": "https://localhost:8080/",
          "height": 206
        },
        "id": "W0XR2-q8fDMD",
        "outputId": "7353b030-a5a0-4a5a-ba70-67f1fb40b308"
      },
      "outputs": [
        {
          "output_type": "execute_result",
          "data": {
            "text/plain": [
              "  vessel_class  gap_hours  iuu_caught  spherical_distances  eez_check  \\\n",
              "0        other  13.016667           0           207.942845          0   \n",
              "1        other  13.850000           0             9.704232          0   \n",
              "2        other  33.733333           0            10.789069          1   \n",
              "3        other  30.650000           0            11.695860          1   \n",
              "4        other  50.283333           0            93.113335          1   \n",
              "\n",
              "  Ocean List New whose false were in OG  \n",
              "0                              atlantic  \n",
              "1                              atlantic  \n",
              "2                              atlantic  \n",
              "3                              atlantic  \n",
              "4                              atlantic  "
            ],
            "text/html": [
              "\n",
              "  <div id=\"df-4cec60fd-fe46-4a03-b7ba-115d58e5c2a7\">\n",
              "    <div class=\"colab-df-container\">\n",
              "      <div>\n",
              "<style scoped>\n",
              "    .dataframe tbody tr th:only-of-type {\n",
              "        vertical-align: middle;\n",
              "    }\n",
              "\n",
              "    .dataframe tbody tr th {\n",
              "        vertical-align: top;\n",
              "    }\n",
              "\n",
              "    .dataframe thead th {\n",
              "        text-align: right;\n",
              "    }\n",
              "</style>\n",
              "<table border=\"1\" class=\"dataframe\">\n",
              "  <thead>\n",
              "    <tr style=\"text-align: right;\">\n",
              "      <th></th>\n",
              "      <th>vessel_class</th>\n",
              "      <th>gap_hours</th>\n",
              "      <th>iuu_caught</th>\n",
              "      <th>spherical_distances</th>\n",
              "      <th>eez_check</th>\n",
              "      <th>Ocean List New whose false were in OG</th>\n",
              "    </tr>\n",
              "  </thead>\n",
              "  <tbody>\n",
              "    <tr>\n",
              "      <th>0</th>\n",
              "      <td>other</td>\n",
              "      <td>13.016667</td>\n",
              "      <td>0</td>\n",
              "      <td>207.942845</td>\n",
              "      <td>0</td>\n",
              "      <td>atlantic</td>\n",
              "    </tr>\n",
              "    <tr>\n",
              "      <th>1</th>\n",
              "      <td>other</td>\n",
              "      <td>13.850000</td>\n",
              "      <td>0</td>\n",
              "      <td>9.704232</td>\n",
              "      <td>0</td>\n",
              "      <td>atlantic</td>\n",
              "    </tr>\n",
              "    <tr>\n",
              "      <th>2</th>\n",
              "      <td>other</td>\n",
              "      <td>33.733333</td>\n",
              "      <td>0</td>\n",
              "      <td>10.789069</td>\n",
              "      <td>1</td>\n",
              "      <td>atlantic</td>\n",
              "    </tr>\n",
              "    <tr>\n",
              "      <th>3</th>\n",
              "      <td>other</td>\n",
              "      <td>30.650000</td>\n",
              "      <td>0</td>\n",
              "      <td>11.695860</td>\n",
              "      <td>1</td>\n",
              "      <td>atlantic</td>\n",
              "    </tr>\n",
              "    <tr>\n",
              "      <th>4</th>\n",
              "      <td>other</td>\n",
              "      <td>50.283333</td>\n",
              "      <td>0</td>\n",
              "      <td>93.113335</td>\n",
              "      <td>1</td>\n",
              "      <td>atlantic</td>\n",
              "    </tr>\n",
              "  </tbody>\n",
              "</table>\n",
              "</div>\n",
              "      <button class=\"colab-df-convert\" onclick=\"convertToInteractive('df-4cec60fd-fe46-4a03-b7ba-115d58e5c2a7')\"\n",
              "              title=\"Convert this dataframe to an interactive table.\"\n",
              "              style=\"display:none;\">\n",
              "        \n",
              "  <svg xmlns=\"http://www.w3.org/2000/svg\" height=\"24px\"viewBox=\"0 0 24 24\"\n",
              "       width=\"24px\">\n",
              "    <path d=\"M0 0h24v24H0V0z\" fill=\"none\"/>\n",
              "    <path d=\"M18.56 5.44l.94 2.06.94-2.06 2.06-.94-2.06-.94-.94-2.06-.94 2.06-2.06.94zm-11 1L8.5 8.5l.94-2.06 2.06-.94-2.06-.94L8.5 2.5l-.94 2.06-2.06.94zm10 10l.94 2.06.94-2.06 2.06-.94-2.06-.94-.94-2.06-.94 2.06-2.06.94z\"/><path d=\"M17.41 7.96l-1.37-1.37c-.4-.4-.92-.59-1.43-.59-.52 0-1.04.2-1.43.59L10.3 9.45l-7.72 7.72c-.78.78-.78 2.05 0 2.83L4 21.41c.39.39.9.59 1.41.59.51 0 1.02-.2 1.41-.59l7.78-7.78 2.81-2.81c.8-.78.8-2.07 0-2.86zM5.41 20L4 18.59l7.72-7.72 1.47 1.35L5.41 20z\"/>\n",
              "  </svg>\n",
              "      </button>\n",
              "      \n",
              "  <style>\n",
              "    .colab-df-container {\n",
              "      display:flex;\n",
              "      flex-wrap:wrap;\n",
              "      gap: 12px;\n",
              "    }\n",
              "\n",
              "    .colab-df-convert {\n",
              "      background-color: #E8F0FE;\n",
              "      border: none;\n",
              "      border-radius: 50%;\n",
              "      cursor: pointer;\n",
              "      display: none;\n",
              "      fill: #1967D2;\n",
              "      height: 32px;\n",
              "      padding: 0 0 0 0;\n",
              "      width: 32px;\n",
              "    }\n",
              "\n",
              "    .colab-df-convert:hover {\n",
              "      background-color: #E2EBFA;\n",
              "      box-shadow: 0px 1px 2px rgba(60, 64, 67, 0.3), 0px 1px 3px 1px rgba(60, 64, 67, 0.15);\n",
              "      fill: #174EA6;\n",
              "    }\n",
              "\n",
              "    [theme=dark] .colab-df-convert {\n",
              "      background-color: #3B4455;\n",
              "      fill: #D2E3FC;\n",
              "    }\n",
              "\n",
              "    [theme=dark] .colab-df-convert:hover {\n",
              "      background-color: #434B5C;\n",
              "      box-shadow: 0px 1px 3px 1px rgba(0, 0, 0, 0.15);\n",
              "      filter: drop-shadow(0px 1px 2px rgba(0, 0, 0, 0.3));\n",
              "      fill: #FFFFFF;\n",
              "    }\n",
              "  </style>\n",
              "\n",
              "      <script>\n",
              "        const buttonEl =\n",
              "          document.querySelector('#df-4cec60fd-fe46-4a03-b7ba-115d58e5c2a7 button.colab-df-convert');\n",
              "        buttonEl.style.display =\n",
              "          google.colab.kernel.accessAllowed ? 'block' : 'none';\n",
              "\n",
              "        async function convertToInteractive(key) {\n",
              "          const element = document.querySelector('#df-4cec60fd-fe46-4a03-b7ba-115d58e5c2a7');\n",
              "          const dataTable =\n",
              "            await google.colab.kernel.invokeFunction('convertToInteractive',\n",
              "                                                     [key], {});\n",
              "          if (!dataTable) return;\n",
              "\n",
              "          const docLinkHtml = 'Like what you see? Visit the ' +\n",
              "            '<a target=\"_blank\" href=https://colab.research.google.com/notebooks/data_table.ipynb>data table notebook</a>'\n",
              "            + ' to learn more about interactive tables.';\n",
              "          element.innerHTML = '';\n",
              "          dataTable['output_type'] = 'display_data';\n",
              "          await google.colab.output.renderOutput(dataTable, element);\n",
              "          const docLink = document.createElement('div');\n",
              "          docLink.innerHTML = docLinkHtml;\n",
              "          element.appendChild(docLink);\n",
              "        }\n",
              "      </script>\n",
              "    </div>\n",
              "  </div>\n",
              "  "
            ]
          },
          "metadata": {},
          "execution_count": 66
        }
      ],
      "source": [
        "import pandas as pd\n",
        "df=pd.read_csv('ais_disabling_events_main_only_imp_col_csv.csv')\n",
        "df.head()"
      ]
    },
    {
      "cell_type": "code",
      "execution_count": null,
      "metadata": {
        "colab": {
          "base_uri": "https://localhost:8080/"
        },
        "id": "LV4xM8xNfDMF",
        "outputId": "913ea7d4-1e0a-47e5-9d8d-7d4c1c1840ee"
      },
      "outputs": [
        {
          "output_type": "execute_result",
          "data": {
            "text/plain": [
              "(55141, 6)"
            ]
          },
          "metadata": {},
          "execution_count": 67
        }
      ],
      "source": [
        "df.shape"
      ]
    },
    {
      "cell_type": "code",
      "execution_count": null,
      "metadata": {
        "colab": {
          "base_uri": "https://localhost:8080/"
        },
        "id": "u57ZoDMefDMG",
        "outputId": "64b28ed8-ad2e-4d6c-ed19-0ba8ae70dfb0"
      },
      "outputs": [
        {
          "output_type": "execute_result",
          "data": {
            "text/plain": [
              "0    55041\n",
              "1      100\n",
              "Name: iuu_caught, dtype: int64"
            ]
          },
          "metadata": {},
          "execution_count": 68
        }
      ],
      "source": [
        "df['iuu_caught'].value_counts()"
      ]
    },
    {
      "cell_type": "code",
      "execution_count": null,
      "metadata": {
        "id": "SpXDEikQfDMG"
      },
      "outputs": [],
      "source": [
        "#### Independent and Dependent Features\n",
        "X=df.drop(\"iuu_caught\",axis=1)\n",
        "y=df.iuu_caught"
      ]
    },
    {
      "cell_type": "code",
      "source": [
        "import seaborn as sns\n",
        "\n",
        "sns.lmplot(x='gap_hours', y='spherical_distances', hue='iuu_caught', \n",
        "           markers=['x', 'o'],\n",
        "           fit_reg=False, data=df)"
      ],
      "metadata": {
        "colab": {
          "base_uri": "https://localhost:8080/",
          "height": 386
        },
        "id": "AIugNCCN1Zxz",
        "outputId": "d272e207-b98d-4db6-d4cd-5b0e200cf4bf"
      },
      "execution_count": null,
      "outputs": [
        {
          "output_type": "execute_result",
          "data": {
            "text/plain": [
              "<seaborn.axisgrid.FacetGrid at 0x7f75e67b1670>"
            ]
          },
          "metadata": {},
          "execution_count": 70
        },
        {
          "output_type": "display_data",
          "data": {
            "text/plain": [
              "<Figure size 423.25x360 with 1 Axes>"
            ],
            "image/png": "[encoded data removed]"
          },
          "metadata": {
            "needs_background": "light"
          }
        }
      ]
    },
    {
      "cell_type": "markdown",
      "source": [
        "### One Hot Encoding"
      ],
      "metadata": {
        "id": "cKiFGKNWlH4S"
      }
    },
    {
      "cell_type": "code",
      "source": [
        "print(df['vessel_class'].unique())\n",
        "print(df['Ocean List New whose false were in OG'].unique())"
      ],
      "metadata": {
        "colab": {
          "base_uri": "https://localhost:8080/"
        },
        "id": "yyMFweZYi5-T",
        "outputId": "71f86630-a95c-41e8-d50b-201fe0462e2c"
      },
      "execution_count": null,
      "outputs": [
        {
          "output_type": "stream",
          "name": "stdout",
          "text": [
            "['other' 'trawlers' 'squid_jigger' 'tuna_purse_seines'\n",
            " 'drifting_longlines']\n",
            "['atlantic' 'southern' 'mediterranean' 'arctic' 'pacific' 'indian']\n"
          ]
        }
      ]
    },
    {
      "cell_type": "code",
      "source": [
        "print(df['vessel_class'].value_counts())\n",
        "print(df['Ocean List New whose false were in OG'].value_counts())"
      ],
      "metadata": {
        "colab": {
          "base_uri": "https://localhost:8080/"
        },
        "id": "NMZkweLBkgix",
        "outputId": "a9f1e434-58fc-46c7-c482-51d17640dc4f"
      },
      "execution_count": null,
      "outputs": [
        {
          "output_type": "stream",
          "name": "stdout",
          "text": [
            "drifting_longlines    18608\n",
            "squid_jigger          15965\n",
            "tuna_purse_seines      8620\n",
            "trawlers               7865\n",
            "other                  4083\n",
            "Name: vessel_class, dtype: int64\n",
            "pacific          31870\n",
            "atlantic         16469\n",
            "indian            6176\n",
            "arctic             499\n",
            "southern           116\n",
            "mediterranean       11\n",
            "Name: Ocean List New whose false were in OG, dtype: int64\n"
          ]
        }
      ]
    },
    {
      "cell_type": "code",
      "source": [
        "one_hot_encoded_data = pd.get_dummies(df, columns = ['vessel_class', 'Ocean List New whose false were in OG'])\n",
        "print(one_hot_encoded_data.head())"
      ],
      "metadata": {
        "colab": {
          "base_uri": "https://localhost:8080/"
        },
        "id": "-65OpmWAkvdY",
        "outputId": "562c3212-8131-4a96-9f89-31924c3e571c"
      },
      "execution_count": null,
      "outputs": [
        {
          "output_type": "stream",
          "name": "stdout",
          "text": [
            "   gap_hours  iuu_caught  spherical_distances  eez_check  \\\n",
            "0  13.016667           0           207.942845          0   \n",
            "1  13.850000           0             9.704232          0   \n",
            "2  33.733333           0            10.789069          1   \n",
            "3  30.650000           0            11.695860          1   \n",
            "4  50.283333           0            93.113335          1   \n",
            "\n",
            "   vessel_class_drifting_longlines  vessel_class_other  \\\n",
            "0                                0                   1   \n",
            "1                                0                   1   \n",
            "2                                0                   1   \n",
            "3                                0                   1   \n",
            "4                                0                   1   \n",
            "\n",
            "   vessel_class_squid_jigger  vessel_class_trawlers  \\\n",
            "0                          0                      0   \n",
            "1                          0                      0   \n",
            "2                          0                      0   \n",
            "3                          0                      0   \n",
            "4                          0                      0   \n",
            "\n",
            "   vessel_class_tuna_purse_seines  \\\n",
            "0                               0   \n",
            "1                               0   \n",
            "2                               0   \n",
            "3                               0   \n",
            "4                               0   \n",
            "\n",
            "   Ocean List New whose false were in OG_arctic  \\\n",
            "0                                             0   \n",
            "1                                             0   \n",
            "2                                             0   \n",
            "3                                             0   \n",
            "4                                             0   \n",
            "\n",
            "   Ocean List New whose false were in OG_atlantic  \\\n",
            "0                                               1   \n",
            "1                                               1   \n",
            "2                                               1   \n",
            "3                                               1   \n",
            "4                                               1   \n",
            "\n",
            "   Ocean List New whose false were in OG_indian  \\\n",
            "0                                             0   \n",
            "1                                             0   \n",
            "2                                             0   \n",
            "3                                             0   \n",
            "4                                             0   \n",
            "\n",
            "   Ocean List New whose false were in OG_mediterranean  \\\n",
            "0                                                  0     \n",
            "1                                                  0     \n",
            "2                                                  0     \n",
            "3                                                  0     \n",
            "4                                                  0     \n",
            "\n",
            "   Ocean List New whose false were in OG_pacific  \\\n",
            "0                                              0   \n",
            "1                                              0   \n",
            "2                                              0   \n",
            "3                                              0   \n",
            "4                                              0   \n",
            "\n",
            "   Ocean List New whose false were in OG_southern  \n",
            "0                                               0  \n",
            "1                                               0  \n",
            "2                                               0  \n",
            "3                                               0  \n",
            "4                                               0  \n"
          ]
        }
      ]
    },
    {
      "cell_type": "code",
      "source": [
        "import seaborn as sns\n",
        "\n",
        "sns.lmplot(x='gap_hours', y='Ocean List New whose false were in OG_pacific', hue='iuu_caught', \n",
        "           markers=['x', 'o'],\n",
        "           fit_reg=False, data=one_hot_encoded_data)"
      ],
      "metadata": {
        "colab": {
          "base_uri": "https://localhost:8080/",
          "height": 386
        },
        "id": "GzxkG9jM11UG",
        "outputId": "190e9a5e-6d1a-4970-fb54-de4d536ee573"
      },
      "execution_count": null,
      "outputs": [
        {
          "output_type": "execute_result",
          "data": {
            "text/plain": [
              "<seaborn.axisgrid.FacetGrid at 0x7f75e6721790>"
            ]
          },
          "metadata": {},
          "execution_count": 74
        },
        {
          "output_type": "display_data",
          "data": {
            "text/plain": [
              "<Figure size 423.25x360 with 1 Axes>"
            ],
            "image/png": "[encoded data removed]"
          },
          "metadata": {
            "needs_background": "light"
          }
        }
      ]
    },
    {
      "cell_type": "code",
      "source": [
        "import pandas as pd\n",
        "import numpy as np\n",
        "import matplotlib.pyplot as plt\n",
        "import seaborn as sns\n",
        "\n",
        "# run correlation matrix and plot\n",
        "f, ax = plt.subplots(figsize=(10, 8))\n",
        "corr = df.corr()\n",
        "sns.heatmap(corr, mask=np.zeros_like(corr, dtype=np.bool),\n",
        "            cmap=sns.diverging_palette(220, 10, as_cmap=True),\n",
        "            square=True, ax=ax)\n",
        "\n",
        "\n",
        "matrix = df.corr()\n",
        "print(\"Correlation matrix is : \")\n",
        "print(matrix)"
      ],
      "metadata": {
        "colab": {
          "base_uri": "https://localhost:8080/",
          "height": 664
        },
        "id": "xWst-loT9bUO",
        "outputId": "80d19abb-03a9-4c87-e601-1938760091e3"
      },
      "execution_count": null,
      "outputs": [
        {
          "output_type": "stream",
          "name": "stderr",
          "text": [
            "<ipython-input-75-d755c1f20fae>:9: DeprecationWarning: `np.bool` is a deprecated alias for the builtin `bool`. To silence this warning, use `bool` by itself. Doing this will not modify any behavior and is safe. If you specifically wanted the numpy scalar type, use `np.bool_` here.\n",
            "Deprecated in NumPy 1.20; for more details and guidance: https://numpy.org/devdocs/release/1.20.0-notes.html#deprecations\n",
            "  sns.heatmap(corr, mask=np.zeros_like(corr, dtype=np.bool),\n"
          ]
        },
        {
          "output_type": "stream",
          "name": "stdout",
          "text": [
            "Correlation matrix is : \n",
            "                     gap_hours  iuu_caught  spherical_distances  eez_check\n",
            "gap_hours             1.000000    0.026583             0.382565   0.017742\n",
            "iuu_caught            0.026583    1.000000             0.031159   0.018025\n",
            "spherical_distances   0.382565    0.031159             1.000000   0.031658\n",
            "eez_check             0.017742    0.018025             0.031658   1.000000\n"
          ]
        },
        {
          "output_type": "display_data",
          "data": {
            "text/plain": [
              "<Figure size 720x576 with 2 Axes>"
            ],
            "image/png": "[encoded data removed]"
          },
          "metadata": {
            "needs_background": "light"
          }
        }
      ]
    },
    {
      "cell_type": "code",
      "source": [
        "#### Independent and Dependent Features\n",
        "X=one_hot_encoded_data.drop(\"iuu_caught\",axis=1)\n",
        "y=one_hot_encoded_data.iuu_caught"
      ],
      "metadata": {
        "id": "pMpzCAHKlyKv"
      },
      "execution_count": null,
      "outputs": []
    },
    {
      "cell_type": "code",
      "source": [
        "from sklearn.model_selection import train_test_split\n",
        "X_train, X_test, y_train, y_test = train_test_split(X, y, test_size=0.4, random_state=15, stratify=y)"
      ],
      "metadata": {
        "id": "B0ezzV76WDHT"
      },
      "execution_count": null,
      "outputs": []
    },
    {
      "cell_type": "code",
      "source": [
        "y_train.value_counts()"
      ],
      "metadata": {
        "colab": {
          "base_uri": "https://localhost:8080/"
        },
        "id": "HVfhw2PdWIa9",
        "outputId": "6c5bb173-56cb-4801-fdad-0f00d65d7672"
      },
      "execution_count": null,
      "outputs": [
        {
          "output_type": "execute_result",
          "data": {
            "text/plain": [
              "0    33024\n",
              "1       60\n",
              "Name: iuu_caught, dtype: int64"
            ]
          },
          "metadata": {},
          "execution_count": 78
        }
      ]
    },
    {
      "cell_type": "code",
      "source": [
        "print(len(X.columns))\n",
        "n_inputs=14"
      ],
      "metadata": {
        "colab": {
          "base_uri": "https://localhost:8080/"
        },
        "id": "Fdsdny-FWiPD",
        "outputId": "e28f921b-4729-4ce7-8745-f58616dcc61b"
      },
      "execution_count": null,
      "outputs": [
        {
          "output_type": "stream",
          "name": "stdout",
          "text": [
            "14\n"
          ]
        }
      ]
    },
    {
      "cell_type": "code",
      "source": [
        "import tensorflow as tf\n",
        "import numpy as np\n",
        "from tensorflow import keras\n",
        "from sklearn.metrics import confusion_matrix , classification_report\n",
        "# define model\n",
        "\n",
        "model = keras.Sequential([\n",
        "        keras.layers.Dense(50, input_dim=n_inputs, activation='relu', kernel_initializer='he_uniform'),\n",
        "        keras.layers.Dense(15, activation='relu'),\n",
        "        keras.layers.Dense(1, activation='sigmoid')\n",
        "    ])\n",
        "\n",
        "# model = Sequential()\n",
        "# # define first hidden layer and visible layer\n",
        "# model.add(Dense(50, input_dim=n_inputs, activation='relu', kernel_initializer='he_uniform'))\n",
        "# # define output layer\n",
        "# model.add(Dense(1, activation='sigmoid'))\n",
        "# define loss and optimizer\n",
        "model.compile(loss='binary_crossentropy', optimizer='adam')\n",
        "model.fit(X_train,y_train,epochs=10)"
      ],
      "metadata": {
        "colab": {
          "base_uri": "https://localhost:8080/"
        },
        "id": "j9CEcXWhWkr4",
        "outputId": "ca2d0c5e-2da1-4199-adaf-eb0a1a1e1f97"
      },
      "execution_count": null,
      "outputs": [
        {
          "output_type": "stream",
          "name": "stdout",
          "text": [
            "Epoch 1/10\n",
            "1034/1034 [==============================] - 3s 3ms/step - loss: 0.8169\n",
            "Epoch 2/10\n",
            "1034/1034 [==============================] - 2s 2ms/step - loss: 0.2032\n",
            "Epoch 3/10\n",
            "1034/1034 [==============================] - 2s 2ms/step - loss: 0.1808\n",
            "Epoch 4/10\n",
            "1034/1034 [==============================] - 3s 3ms/step - loss: 0.2031\n",
            "Epoch 5/10\n",
            "1034/1034 [==============================] - 2s 2ms/step - loss: 0.1878\n",
            "Epoch 6/10\n",
            "1034/1034 [==============================] - 3s 2ms/step - loss: 0.0658\n",
            "Epoch 7/10\n",
            "1034/1034 [==============================] - 3s 2ms/step - loss: 0.1205\n",
            "Epoch 8/10\n",
            "1034/1034 [==============================] - 2s 2ms/step - loss: 0.1358\n",
            "Epoch 9/10\n",
            "1034/1034 [==============================] - 2s 2ms/step - loss: 0.0552\n",
            "Epoch 10/10\n",
            "1034/1034 [==============================] - 2s 2ms/step - loss: 0.0471\n"
          ]
        },
        {
          "output_type": "execute_result",
          "data": {
            "text/plain": [
              "<keras.callbacks.History at 0x7f75e68a1790>"
            ]
          },
          "metadata": {},
          "execution_count": 80
        }
      ]
    },
    {
      "cell_type": "code",
      "source": [
        "from sklearn.metrics import roc_auc_score\n",
        "y_pred1=model.predict(X_test)\n",
        "\n",
        "print(roc_auc_score(y_test,y_pred1))"
      ],
      "metadata": {
        "colab": {
          "base_uri": "https://localhost:8080/"
        },
        "id": "wYVyaTSFWr75",
        "outputId": "235fd195-b4b1-41c2-e13a-3a4ba68e3f57"
      },
      "execution_count": null,
      "outputs": [
        {
          "output_type": "stream",
          "name": "stdout",
          "text": [
            "690/690 [==============================] - 1s 2ms/step\n",
            "0.5460053594949357\n"
          ]
        }
      ]
    },
    {
      "cell_type": "code",
      "source": [
        "y_pred1"
      ],
      "metadata": {
        "colab": {
          "base_uri": "https://localhost:8080/"
        },
        "id": "oKJUvxklcE9d",
        "outputId": "fcab0fea-507e-497a-da79-d29cbc56a233"
      },
      "execution_count": null,
      "outputs": [
        {
          "output_type": "execute_result",
          "data": {
            "text/plain": [
              "array([[2.0537255e-02],\n",
              "       [2.3913993e-13],\n",
              "       [3.1068514e-04],\n",
              "       ...,\n",
              "       [1.9144217e-03],\n",
              "       [3.3253599e-02],\n",
              "       [1.2760095e-03]], dtype=float32)"
            ]
          },
          "metadata": {},
          "execution_count": 82
        }
      ]
    },
    {
      "cell_type": "markdown",
      "source": [],
      "metadata": {
        "id": "v6R_6hPIXQSm"
      }
    },
    {
      "cell_type": "code",
      "source": [
        "weights_assigned={0:1,1:550}"
      ],
      "metadata": {
        "id": "tujfYHLBXQoo"
      },
      "execution_count": null,
      "outputs": []
    },
    {
      "cell_type": "code",
      "source": [
        "# define model\n",
        "model = Sequential()\n",
        "# define first hidden layer and visible layer\n",
        "model.add(Dense(50, input_dim=n_inputs, activation='relu', kernel_initializer='he_uniform'))\n",
        "# define output layer\n",
        "model.add(Dense(1, activation='sigmoid'))\n",
        "# define loss and optimizer\n",
        "model.compile(loss='binary_crossentropy', optimizer='adam')\n",
        "model.fit(X_train,y_train,class_weight=weights_assigned,epochs=10)"
      ],
      "metadata": {
        "colab": {
          "base_uri": "https://localhost:8080/"
        },
        "id": "_jbHM0lmXVWJ",
        "outputId": "35e8dd02-8b6d-4808-c899-b18d6e9201e9"
      },
      "execution_count": null,
      "outputs": [
        {
          "output_type": "stream",
          "name": "stdout",
          "text": [
            "Epoch 1/10\n",
            "1034/1034 [==============================] - 3s 2ms/step - loss: 37.4886\n",
            "Epoch 2/10\n",
            "1034/1034 [==============================] - 2s 2ms/step - loss: 15.8369\n",
            "Epoch 3/10\n",
            "1034/1034 [==============================] - 2s 2ms/step - loss: 16.9952\n",
            "Epoch 4/10\n",
            "1034/1034 [==============================] - 2s 2ms/step - loss: 19.4063\n",
            "Epoch 5/10\n",
            "1034/1034 [==============================] - 2s 2ms/step - loss: 14.6230\n",
            "Epoch 6/10\n",
            "1034/1034 [==============================] - 2s 2ms/step - loss: 20.8670\n",
            "Epoch 7/10\n",
            "1034/1034 [==============================] - 2s 2ms/step - loss: 8.1093\n",
            "Epoch 8/10\n",
            "1034/1034 [==============================] - 2s 2ms/step - loss: 20.9339\n",
            "Epoch 9/10\n",
            "1034/1034 [==============================] - 3s 2ms/step - loss: 8.3225\n",
            "Epoch 10/10\n",
            "1034/1034 [==============================] - 3s 2ms/step - loss: 12.9097\n"
          ]
        },
        {
          "output_type": "execute_result",
          "data": {
            "text/plain": [
              "<keras.callbacks.History at 0x7f75e6e2f670>"
            ]
          },
          "metadata": {},
          "execution_count": 39
        }
      ]
    },
    {
      "cell_type": "code",
      "source": [
        "y_pred=model.predict(X_test)"
      ],
      "metadata": {
        "colab": {
          "base_uri": "https://localhost:8080/"
        },
        "id": "zI-IHreEXWv-",
        "outputId": "0e84a98f-2913-4735-aadf-9bff6c8db3c6"
      },
      "execution_count": null,
      "outputs": [
        {
          "output_type": "stream",
          "name": "stdout",
          "text": [
            "690/690 [==============================] - 1s 2ms/step\n"
          ]
        }
      ]
    },
    {
      "cell_type": "code",
      "source": [
        "from sklearn.metrics import roc_auc_score\n",
        "\n",
        "roc_auc_score(y_test,y_pred)"
      ],
      "metadata": {
        "colab": {
          "base_uri": "https://localhost:8080/"
        },
        "id": "dBJS-_LjXXfA",
        "outputId": "1e336c6c-538d-418d-e07a-cccd10aee9ee"
      },
      "execution_count": null,
      "outputs": [
        {
          "output_type": "execute_result",
          "data": {
            "text/plain": [
              "0.7615456238361267"
            ]
          },
          "metadata": {},
          "execution_count": 41
        }
      ]
    }
  ],
  "metadata": {
    "kernelspec": {
      "display_name": "Python 3",
      "language": "python",
      "name": "python3"
    },
    "language_info": {
      "codemirror_mode": {
        "name": "ipython",
        "version": 3
      },
      "file_extension": ".py",
      "mimetype": "text/x-python",
      "name": "python",
      "nbconvert_exporter": "python",
      "pygments_lexer": "ipython3",
      "version": "3.7.7"
    },
    "colab": {
      "provenance": []
    },
    "gpuClass": "standard"
  },
  "nbformat": 4,
  "nbformat_minor": 0
}
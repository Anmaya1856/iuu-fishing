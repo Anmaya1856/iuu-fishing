{
  "nbformat": 4,
  "nbformat_minor": 0,
  "metadata": {
    "colab": {
      "provenance": []
    },
    "kernelspec": {
      "name": "python3",
      "display_name": "Python 3"
    },
    "language_info": {
      "name": "python"
    }
  },
  "cells": [
    {
      "cell_type": "code",
      "execution_count": null,
      "metadata": {
        "colab": {
          "base_uri": "https://localhost:8080/"
        },
        "id": "Yu2iYiXSdjbx",
        "outputId": "5643450d-595f-42c9-dfc4-a6bee4dbd8a8"
      },
      "outputs": [
        {
          "output_type": "stream",
          "name": "stdout",
          "text": [
            "                             gap_id       mmsi vessel_class flag  \\\n",
            "0  40072d9edfca0cfd28872cbf9e382e0c  111112726        other  NaN   \n",
            "1  52dcbd77bbdad9ee2642f574acf45190  150402949        other  CHN   \n",
            "2  22b6d49ed4bb4d017884b6299ed185f4  204201370        other  PRT   \n",
            "3  1abe463d7f61b110c44f1d1b4654a213  204206740        other  PRT   \n",
            "4  72d047a15e33f67c3c5b91c78ff612be  204209840        other  PRT   \n",
            "\n",
            "   vessel_length_m  vessel_tonnage_gt        gap_start_timestamp  \\\n",
            "0        32.064056         139.583282  2018-03-22 08:59:22+00:00   \n",
            "1        54.994278         904.204044  2019-01-31 04:09:19+00:00   \n",
            "2        15.350000          40.940000  2018-05-27 04:47:20+00:00   \n",
            "3        20.000000          77.263333  2019-06-21 12:17:01+00:00   \n",
            "4        20.000000          87.435000  2017-07-02 13:13:08+00:00   \n",
            "\n",
            "   gap_start_lat  gap_start_lon  gap_start_distance_from_shore_m  ...  \\\n",
            "0      11.847433     -21.832185                           384000  ...   \n",
            "1     -45.895618     -60.642950                           396000  ...   \n",
            "2      37.836315     -29.405573                            95000  ...   \n",
            "3      32.190453     -18.031552                            98000  ...   \n",
            "4      39.388467     -29.215400                            93000  ...   \n",
            "\n",
            "  gap_end_distance_from_shore_m  gap_hours  iuu_caught  spherical_distances  \\\n",
            "0                        384000  13.016667           0           207.942845   \n",
            "1                        392000  13.850000           0             9.704232   \n",
            "2                         87000  33.733333           0            10.789069   \n",
            "3                        109000  30.650000           0            11.695860   \n",
            "4                         17000  50.283333           0            93.113335   \n",
            "\n",
            "   eez_check  oceans_list OG from FAO Zones  ocean_list new from diff Oceans  \\\n",
            "0          0                       Atlantic                         atlantic   \n",
            "1          0                       Atlantic                         atlantic   \n",
            "2          1                       Atlantic                         atlantic   \n",
            "3          1                       Atlantic                         atlantic   \n",
            "4          1                       Atlantic                         atlantic   \n",
            "\n",
            "   exact _name new from diff Oceans Ocean List New whose false were in OG  \\\n",
            "0              North Atlantic Ocean                              atlantic   \n",
            "1              South Atlantic Ocean                              atlantic   \n",
            "2              North Atlantic Ocean                              atlantic   \n",
            "3              North Atlantic Ocean                              atlantic   \n",
            "4              North Atlantic Ocean                              atlantic   \n",
            "\n",
            "  Count of False in OG and New list both  \n",
            "0                                  227.0  \n",
            "1                                  227.0  \n",
            "2                                    NaN  \n",
            "3                                    NaN  \n",
            "4                                    NaN  \n",
            "\n",
            "[5 rows x 23 columns]\n",
            "   Unnamed: 0  exact_name\n",
            "0           0  Bering Sea\n",
            "1           1  Bering Sea\n",
            "2           2  Bering Sea\n",
            "3           3  Bering Sea\n",
            "4           4  Bering Sea\n",
            "   Unnamed: 0    ocean\n",
            "0           0  pacific\n",
            "1           1  pacific\n",
            "2           2  pacific\n",
            "3           3  pacific\n",
            "4           4  pacific\n"
          ]
        }
      ],
      "source": [
        "import pandas as pd\n",
        "\n",
        "df = pd.read_csv(\"ais_disabling_events_MAIN_False_values_updated_CSV.csv\")\n",
        "print(df.head())\n",
        "\n",
        "df1 = pd.read_csv(\"exact_name_false_ones.csv\")\n",
        "print(df1.head())\n",
        "\n",
        "df2 = pd.read_csv(\"ocean_list_false_ones.csv\")\n",
        "print(df2.head())"
      ]
    },
    {
      "cell_type": "code",
      "source": [
        "len(df2['ocean'])"
      ],
      "metadata": {
        "colab": {
          "base_uri": "https://localhost:8080/"
        },
        "id": "gQ1Fgbkdd8_6",
        "outputId": "185d484e-b211-43be-f607-1fd2c0d3be1a"
      },
      "execution_count": null,
      "outputs": [
        {
          "output_type": "execute_result",
          "data": {
            "text/plain": [
              "14989"
            ]
          },
          "metadata": {},
          "execution_count": 12
        }
      ]
    },
    {
      "cell_type": "code",
      "source": [
        "count = 0\n",
        "\n",
        "for i in range(len(df['exact _name new from diff Oceans'].tolist())):\n",
        "  if df['exact _name new from diff Oceans'][i] == 'FALSE':\n",
        "    df['exact _name new from diff Oceans'][i] = df1['exact_name'][count]\n",
        "    count = count + 1\n"
      ],
      "metadata": {
        "colab": {
          "base_uri": "https://localhost:8080/"
        },
        "id": "88HqP70xd61w",
        "outputId": "f1c61619-3068-4ebf-f12a-e0d722d8d53d"
      },
      "execution_count": null,
      "outputs": [
        {
          "output_type": "stream",
          "name": "stderr",
          "text": [
            "<ipython-input-13-744181b46493>:5: SettingWithCopyWarning: \n",
            "A value is trying to be set on a copy of a slice from a DataFrame\n",
            "\n",
            "See the caveats in the documentation: https://pandas.pydata.org/pandas-docs/stable/user_guide/indexing.html#returning-a-view-versus-a-copy\n",
            "  df['exact _name new from diff Oceans'][i] = df1['exact_name'][count]\n"
          ]
        }
      ]
    },
    {
      "cell_type": "code",
      "source": [
        "count = 0\n",
        "\n",
        "for i in range(len(df['ocean_list new from diff Oceans'].tolist())):\n",
        "  if df['ocean_list new from diff Oceans'][i] == 'FALSE':\n",
        "    df['ocean_list new from diff Oceans'][i] = df2['ocean'][count]\n",
        "    count = count + 1\n"
      ],
      "metadata": {
        "colab": {
          "base_uri": "https://localhost:8080/"
        },
        "id": "NByH9Zlhf3w_",
        "outputId": "d4971b00-ea62-49c2-ccbe-e0d328d83ede"
      },
      "execution_count": null,
      "outputs": [
        {
          "output_type": "stream",
          "name": "stderr",
          "text": [
            "<ipython-input-14-352cb77950ee>:5: SettingWithCopyWarning: \n",
            "A value is trying to be set on a copy of a slice from a DataFrame\n",
            "\n",
            "See the caveats in the documentation: https://pandas.pydata.org/pandas-docs/stable/user_guide/indexing.html#returning-a-view-versus-a-copy\n",
            "  df['ocean_list new from diff Oceans'][i] = df2['ocean'][count]\n"
          ]
        }
      ]
    },
    {
      "cell_type": "code",
      "source": [
        "df.to_csv(\"testing.csv\")\n",
        "from google.colab import files\n",
        "files.download(\"testing.csv\")"
      ],
      "metadata": {
        "colab": {
          "base_uri": "https://localhost:8080/",
          "height": 17
        },
        "id": "wGkUZCiSgFKw",
        "outputId": "c41b9c36-7eb7-4854-84c3-87ef1aa0e373"
      },
      "execution_count": null,
      "outputs": [
        {
          "output_type": "display_data",
          "data": {
            "text/plain": [
              "<IPython.core.display.Javascript object>"
            ],
            "application/javascript": [
              "\n",
              "    async function download(id, filename, size) {\n",
              "      if (!google.colab.kernel.accessAllowed) {\n",
              "        return;\n",
              "      }\n",
              "      const div = document.createElement('div');\n",
              "      const label = document.createElement('label');\n",
              "      label.textContent = `Downloading \"${filename}\": `;\n",
              "      div.appendChild(label);\n",
              "      const progress = document.createElement('progress');\n",
              "      progress.max = size;\n",
              "      div.appendChild(progress);\n",
              "      document.body.appendChild(div);\n",
              "\n",
              "      const buffers = [];\n",
              "      let downloaded = 0;\n",
              "\n",
              "      const channel = await google.colab.kernel.comms.open(id);\n",
              "      // Send a message to notify the kernel that we're ready.\n",
              "      channel.send({})\n",
              "\n",
              "      for await (const message of channel.messages) {\n",
              "        // Send a message to notify the kernel that we're ready.\n",
              "        channel.send({})\n",
              "        if (message.buffers) {\n",
              "          for (const buffer of message.buffers) {\n",
              "            buffers.push(buffer);\n",
              "            downloaded += buffer.byteLength;\n",
              "            progress.value = downloaded;\n",
              "          }\n",
              "        }\n",
              "      }\n",
              "      const blob = new Blob(buffers, {type: 'application/binary'});\n",
              "      const a = document.createElement('a');\n",
              "      a.href = window.URL.createObjectURL(blob);\n",
              "      a.download = filename;\n",
              "      div.appendChild(a);\n",
              "      a.click();\n",
              "      div.remove();\n",
              "    }\n",
              "  "
            ]
          },
          "metadata": {}
        },
        {
          "output_type": "display_data",
          "data": {
            "text/plain": [
              "<IPython.core.display.Javascript object>"
            ],
            "application/javascript": [
              "download(\"download_e9b51f8e-ecfa-433b-897b-98682384d368\", \"testing.csv\", 14630441)"
            ]
          },
          "metadata": {}
        }
      ]
    }
  ]
}